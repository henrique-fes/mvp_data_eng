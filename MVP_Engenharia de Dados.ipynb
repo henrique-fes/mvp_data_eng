{
 "cells": [
  {
   "cell_type": "code",
   "execution_count": 0,
   "metadata": {
    "application/vnd.databricks.v1+cell": {
     "cellMetadata": {
      "byteLimit": 2048000,
      "rowLimit": 10000
     },
     "inputWidgets": {},
     "nuid": "93db522a-3fb9-41e5-a4de-63b9be546e82",
     "showTitle": false,
     "tableResultSettingsMap": {},
     "title": ""
    }
   },
   "outputs": [
    {
     "output_type": "stream",
     "name": "stdout",
     "output_type": "stream",
     "text": [
      "Collecting summarytools\r\n  Downloading summarytools-0.3.0-py3-none-any.whl (12 kB)\r\nRequirement already satisfied: pandas>=1.4.0 in /databricks/python3/lib/python3.9/site-packages (from summarytools) (1.4.2)\r\nRequirement already satisfied: ipython>=7.20.0 in /databricks/python3/lib/python3.9/site-packages (from summarytools) (8.5.0)\r\nRequirement already satisfied: matplotlib>=3.3.0 in /databricks/python3/lib/python3.9/site-packages (from summarytools) (3.5.1)\r\nRequirement already satisfied: numpy>=1.18.5 in /databricks/python3/lib/python3.9/site-packages (from summarytools) (1.21.5)\r\nRequirement already satisfied: jedi>=0.16 in /databricks/python3/lib/python3.9/site-packages (from ipython>=7.20.0->summarytools) (0.18.1)\r\nRequirement already satisfied: backcall in /databricks/python3/lib/python3.9/site-packages (from ipython>=7.20.0->summarytools) (0.2.0)\r\nRequirement already satisfied: matplotlib-inline in /databricks/python3/lib/python3.9/site-packages (from ipython>=7.20.0->summarytools) (0.1.2)\r\nRequirement already satisfied: pygments>=2.4.0 in /databricks/python3/lib/python3.9/site-packages (from ipython>=7.20.0->summarytools) (2.11.2)\r\nRequirement already satisfied: decorator in /databricks/python3/lib/python3.9/site-packages (from ipython>=7.20.0->summarytools) (5.1.1)\r\nRequirement already satisfied: traitlets>=5 in /databricks/python3/lib/python3.9/site-packages (from ipython>=7.20.0->summarytools) (5.1.1)\r\nRequirement already satisfied: prompt-toolkit<3.1.0,>3.0.1 in /databricks/python3/lib/python3.9/site-packages (from ipython>=7.20.0->summarytools) (3.0.20)\r\nRequirement already satisfied: stack-data in /databricks/python3/lib/python3.9/site-packages (from ipython>=7.20.0->summarytools) (0.2.0)\r\nRequirement already satisfied: pickleshare in /databricks/python3/lib/python3.9/site-packages (from ipython>=7.20.0->summarytools) (0.7.5)\r\nRequirement already satisfied: pexpect>4.3 in /databricks/python3/lib/python3.9/site-packages (from ipython>=7.20.0->summarytools) (4.8.0)\r\nRequirement already satisfied: parso<0.9.0,>=0.8.0 in /databricks/python3/lib/python3.9/site-packages (from jedi>=0.16->ipython>=7.20.0->summarytools) (0.8.3)\r\nRequirement already satisfied: pyparsing>=2.2.1 in /databricks/python3/lib/python3.9/site-packages (from matplotlib>=3.3.0->summarytools) (3.0.4)\r\nRequirement already satisfied: packaging>=20.0 in /databricks/python3/lib/python3.9/site-packages (from matplotlib>=3.3.0->summarytools) (21.3)\r\nRequirement already satisfied: cycler>=0.10 in /databricks/python3/lib/python3.9/site-packages (from matplotlib>=3.3.0->summarytools) (0.11.0)\r\nRequirement already satisfied: kiwisolver>=1.0.1 in /databricks/python3/lib/python3.9/site-packages (from matplotlib>=3.3.0->summarytools) (1.3.2)\r\nRequirement already satisfied: pillow>=6.2.0 in /databricks/python3/lib/python3.9/site-packages (from matplotlib>=3.3.0->summarytools) (9.0.1)\r\nRequirement already satisfied: python-dateutil>=2.7 in /databricks/python3/lib/python3.9/site-packages (from matplotlib>=3.3.0->summarytools) (2.8.2)\r\nRequirement already satisfied: fonttools>=4.22.0 in /databricks/python3/lib/python3.9/site-packages (from matplotlib>=3.3.0->summarytools) (4.25.0)\r\nRequirement already satisfied: pytz>=2020.1 in /databricks/python3/lib/python3.9/site-packages (from pandas>=1.4.0->summarytools) (2021.3)\r\nRequirement already satisfied: ptyprocess>=0.5 in /databricks/python3/lib/python3.9/site-packages (from pexpect>4.3->ipython>=7.20.0->summarytools) (0.7.0)\r\nRequirement already satisfied: wcwidth in /databricks/python3/lib/python3.9/site-packages (from prompt-toolkit<3.1.0,>3.0.1->ipython>=7.20.0->summarytools) (0.2.5)\r\nRequirement already satisfied: six>=1.5 in /databricks/python3/lib/python3.9/site-packages (from python-dateutil>=2.7->matplotlib>=3.3.0->summarytools) (1.16.0)\r\nRequirement already satisfied: executing in /databricks/python3/lib/python3.9/site-packages (from stack-data->ipython>=7.20.0->summarytools) (0.8.3)\r\nRequirement already satisfied: pure-eval in /databricks/python3/lib/python3.9/site-packages (from stack-data->ipython>=7.20.0->summarytools) (0.2.2)\r\nRequirement already satisfied: asttokens in /databricks/python3/lib/python3.9/site-packages (from stack-data->ipython>=7.20.0->summarytools) (2.0.5)\r\nInstalling collected packages: summarytools\r\nSuccessfully installed summarytools-0.3.0\r\n\u001B[33mWARNING: You are using pip version 21.2.4; however, version 25.0.1 is available.\r\nYou should consider upgrading via the '/local_disk0/.ephemeral_nfs/envs/pythonEnv-dfe47396-f401-4086-be07-df862c6606af/bin/python -m pip install --upgrade pip' command.\u001B[0m\r\n"
     ]
    },
    {
     "output_type": "display_data",
     "data": {
      "application/vnd.databricks.v1+bamboolib_hint": "{\"pd.DataFrames\": [], \"version\": \"0.0.1\"}",
      "text/plain": []
     },
     "metadata": {},
     "output_type": "display_data"
    }
   ],
   "source": [
    "!pip install summarytools\n",
    "from summarytools import dfSummary\n",
    "from IPython.display import display, HTML\n",
    "import pandas as pd\n",
    "import io\n",
    "import requests\n"
   ]
  },
  {
   "cell_type": "code",
   "execution_count": 0,
   "metadata": {
    "application/vnd.databricks.v1+cell": {
     "cellMetadata": {
      "byteLimit": 2048000,
      "rowLimit": 10000
     },
     "inputWidgets": {},
     "nuid": "df70fda0-e465-48c2-9767-db444100d507",
     "showTitle": false,
     "tableResultSettingsMap": {},
     "title": ""
    }
   },
   "outputs": [],
   "source": [
    "url_races = \"https://raw.githubusercontent.com/henrique-fes/mvp_data_eng/refs/heads/main/races.csv\"\n",
    "url_drivers = \"https://raw.githubusercontent.com/henrique-fes/mvp_data_eng/refs/heads/main/drivers.csv\"\n",
    "url_results = \"https://raw.githubusercontent.com/henrique-fes/mvp_data_eng/refs/heads/main/results.csv\"\n",
    "\n",
    "results = pd.read_csv(url_results,delimiter=',')\n",
    "drivers = pd.read_csv(url_drivers,delimiter=',')\n",
    "races = pd.read_csv(url_races,delimiter=',')\n",
    "\n"
   ]
  },
  {
   "cell_type": "code",
   "execution_count": 0,
   "metadata": {
    "application/vnd.databricks.v1+cell": {
     "cellMetadata": {
      "byteLimit": 2048000,
      "rowLimit": 10000
     },
     "inputWidgets": {},
     "nuid": "8ee49d10-6e73-4c2a-a3b6-5cb575903905",
     "showTitle": false,
     "tableResultSettingsMap": {},
     "title": ""
    }
   },
   "outputs": [
    {
     "output_type": "display_data",
     "data": {
      "text/html": [
       "<h2 style='color: #007bff;'>Dataset Info</h2>"
      ]
     },
     "metadata": {
      "application/vnd.databricks.v1+output": {
       "addedWidgets": {},
       "arguments": {},
       "data": "<h2 style='color: #007bff;'>Dataset Info</h2>",
       "datasetInfos": [],
       "metadata": {},
       "removedWidgets": [],
       "textData": null,
       "type": "htmlSandbox"
      }
     },
     "output_type": "display_data"
    },
    {
     "output_type": "display_data",
     "data": {
      "text/html": [
       "<h4 style='color: #6c757d;'>Shape: (26759, 18)</h4>"
      ]
     },
     "metadata": {
      "application/vnd.databricks.v1+output": {
       "addedWidgets": {},
       "arguments": {},
       "data": "<h4 style='color: #6c757d;'>Shape: (26759, 18)</h4>",
       "datasetInfos": [],
       "metadata": {},
       "removedWidgets": [],
       "textData": null,
       "type": "htmlSandbox"
      }
     },
     "output_type": "display_data"
    },
    {
     "output_type": "display_data",
     "data": {
      "text/html": [
       "<h4 style='color: #6c757d;'>Numero de Colunas: 18</h4>"
      ]
     },
     "metadata": {
      "application/vnd.databricks.v1+output": {
       "addedWidgets": {},
       "arguments": {},
       "data": "<h4 style='color: #6c757d;'>Numero de Colunas: 18</h4>",
       "datasetInfos": [],
       "metadata": {},
       "removedWidgets": [],
       "textData": null,
       "type": "htmlSandbox"
      }
     },
     "output_type": "display_data"
    },
    {
     "output_type": "display_data",
     "data": {
      "text/html": [
       "<h4 style='color: #6c757d;'>Numero de Linhas: 26759</h4>"
      ]
     },
     "metadata": {
      "application/vnd.databricks.v1+output": {
       "addedWidgets": {},
       "arguments": {},
       "data": "<h4 style='color: #6c757d;'>Numero de Linhas: 26759</h4>",
       "datasetInfos": [],
       "metadata": {},
       "removedWidgets": [],
       "textData": null,
       "type": "htmlSandbox"
      }
     },
     "output_type": "display_data"
    },
    {
     "output_type": "display_data",
     "data": {
      "text/html": [
       "<hr>"
      ]
     },
     "metadata": {
      "application/vnd.databricks.v1+output": {
       "addedWidgets": {},
       "arguments": {},
       "data": "<hr>",
       "datasetInfos": [],
       "metadata": {},
       "removedWidgets": [],
       "textData": null,
       "type": "htmlSandbox"
      }
     },
     "output_type": "display_data"
    },
    {
     "output_type": "display_data",
     "data": {
      "text/html": [
       "<h2 style='color: #28a745;'>Dataset Info </h2>"
      ]
     },
     "metadata": {
      "application/vnd.databricks.v1+output": {
       "addedWidgets": {},
       "arguments": {},
       "data": "<h2 style='color: #28a745;'>Dataset Info </h2>",
       "datasetInfos": [],
       "metadata": {},
       "removedWidgets": [],
       "textData": null,
       "type": "htmlSandbox"
      }
     },
     "output_type": "display_data"
    },
    {
     "output_type": "display_data",
     "data": {
      "text/html": [
       "<h4 style='color: #6c757d;'>Column types and missing data</h4>"
      ]
     },
     "metadata": {
      "application/vnd.databricks.v1+output": {
       "addedWidgets": {},
       "arguments": {},
       "data": "<h4 style='color: #6c757d;'>Column types and missing data</h4>",
       "datasetInfos": [],
       "metadata": {},
       "removedWidgets": [],
       "textData": null,
       "type": "htmlSandbox"
      }
     },
     "output_type": "display_data"
    },
    {
     "output_type": "stream",
     "name": "stdout",
     "output_type": "stream",
     "text": [
      "<class 'pandas.core.frame.DataFrame'>\nRangeIndex: 26759 entries, 0 to 26758\nData columns (total 18 columns):\n #   Column           Non-Null Count  Dtype  \n---  ------           --------------  -----  \n 0   resultId         26759 non-null  int64  \n 1   raceId           26759 non-null  int64  \n 2   driverId         26759 non-null  int64  \n 3   constructorId    26759 non-null  int64  \n 4   number           26759 non-null  object \n 5   grid             26759 non-null  int64  \n 6   position         26759 non-null  object \n 7   positionText     26759 non-null  object \n 8   positionOrder    26759 non-null  int64  \n 9   points           26759 non-null  float64\n 10  laps             26759 non-null  int64  \n 11  time             26759 non-null  object \n 12  milliseconds     26759 non-null  object \n 13  fastestLap       26759 non-null  object \n 14  rank             26759 non-null  object \n 15  fastestLapTime   26759 non-null  object \n 16  fastestLapSpeed  26759 non-null  object \n 17  statusId         26759 non-null  int64  \ndtypes: float64(1), int64(8), object(9)\nmemory usage: 3.7+ MB\nNone"
     ]
    },
    {
     "output_type": "display_data",
     "data": {
      "text/html": [
       "<hr>"
      ]
     },
     "metadata": {
      "application/vnd.databricks.v1+output": {
       "addedWidgets": {},
       "arguments": {},
       "data": "<hr>",
       "datasetInfos": [],
       "metadata": {},
       "removedWidgets": [],
       "textData": null,
       "type": "htmlSandbox"
      }
     },
     "output_type": "display_data"
    },
    {
     "output_type": "display_data",
     "data": {
      "text/html": [
       "<h2 style='color: #17a2b8;'>Sumario de dados</h2>"
      ]
     },
     "metadata": {
      "application/vnd.databricks.v1+output": {
       "addedWidgets": {},
       "arguments": {},
       "data": "<h2 style='color: #17a2b8;'>Sumario de dados</h2>",
       "datasetInfos": [],
       "metadata": {},
       "removedWidgets": [],
       "textData": null,
       "type": "htmlSandbox"
      }
     },
     "output_type": "display_data"
    },
    {
     "output_type": "display_data",
     "data": {
      "text/html": [
       "<style type=\"text/css\">\n",
       "#T_e524f thead>tr>th {\n",
       "  text-align: left;\n",
       "}\n",
       "#T_e524f_row0_col0, #T_e524f_row1_col0, #T_e524f_row2_col0, #T_e524f_row3_col0, #T_e524f_row4_col0, #T_e524f_row5_col0, #T_e524f_row6_col0, #T_e524f_row7_col0, #T_e524f_row8_col0, #T_e524f_row9_col0, #T_e524f_row10_col0, #T_e524f_row11_col0, #T_e524f_row12_col0, #T_e524f_row13_col0, #T_e524f_row14_col0, #T_e524f_row15_col0, #T_e524f_row16_col0, #T_e524f_row17_col0 {\n",
       "  text-align: left;\n",
       "  font-size: 12px;\n",
       "  vertical-align: middle;\n",
       "  width: 5%;\n",
       "  max-width: 50px;\n",
       "  min-width: 20px;\n",
       "}\n",
       "#T_e524f_row0_col1, #T_e524f_row1_col1, #T_e524f_row2_col1, #T_e524f_row3_col1, #T_e524f_row4_col1, #T_e524f_row5_col1, #T_e524f_row6_col1, #T_e524f_row7_col1, #T_e524f_row8_col1, #T_e524f_row9_col1, #T_e524f_row10_col1, #T_e524f_row11_col1, #T_e524f_row12_col1, #T_e524f_row13_col1, #T_e524f_row14_col1, #T_e524f_row15_col1, #T_e524f_row16_col1, #T_e524f_row17_col1 {\n",
       "  text-align: left;\n",
       "  font-size: 12px;\n",
       "  vertical-align: middle;\n",
       "  width: 15%;\n",
       "  max-width: 200px;\n",
       "  min-width: 100px;\n",
       "  word-break: break-word;\n",
       "}\n",
       "#T_e524f_row0_col2, #T_e524f_row1_col2, #T_e524f_row2_col2, #T_e524f_row3_col2, #T_e524f_row4_col2, #T_e524f_row5_col2, #T_e524f_row6_col2, #T_e524f_row7_col2, #T_e524f_row8_col2, #T_e524f_row9_col2, #T_e524f_row10_col2, #T_e524f_row11_col2, #T_e524f_row12_col2, #T_e524f_row13_col2, #T_e524f_row14_col2, #T_e524f_row15_col2, #T_e524f_row16_col2, #T_e524f_row17_col2 {\n",
       "  text-align: left;\n",
       "  font-size: 12px;\n",
       "  vertical-align: middle;\n",
       "  width: 30%;\n",
       "  min-width: 100px;\n",
       "}\n",
       "#T_e524f_row0_col3, #T_e524f_row1_col3, #T_e524f_row2_col3, #T_e524f_row3_col3, #T_e524f_row4_col3, #T_e524f_row5_col3, #T_e524f_row6_col3, #T_e524f_row7_col3, #T_e524f_row8_col3, #T_e524f_row9_col3, #T_e524f_row10_col3, #T_e524f_row11_col3, #T_e524f_row12_col3, #T_e524f_row13_col3, #T_e524f_row14_col3, #T_e524f_row15_col3, #T_e524f_row16_col3, #T_e524f_row17_col3 {\n",
       "  text-align: left;\n",
       "  font-size: 12px;\n",
       "  vertical-align: middle;\n",
       "  width: 25%;\n",
       "  min-width: 100px;\n",
       "}\n",
       "#T_e524f_row0_col4, #T_e524f_row1_col4, #T_e524f_row2_col4, #T_e524f_row3_col4, #T_e524f_row4_col4, #T_e524f_row5_col4, #T_e524f_row6_col4, #T_e524f_row7_col4, #T_e524f_row8_col4, #T_e524f_row9_col4, #T_e524f_row10_col4, #T_e524f_row11_col4, #T_e524f_row12_col4, #T_e524f_row13_col4, #T_e524f_row14_col4, #T_e524f_row15_col4, #T_e524f_row16_col4, #T_e524f_row17_col4 {\n",
       "  text-align: left;\n",
       "  font-size: 12px;\n",
       "  vertical-align: middle;\n",
       "  width: 20%;\n",
       "  min-width: 150px;\n",
       "}\n",
       "#T_e524f_row0_col5, #T_e524f_row1_col5, #T_e524f_row2_col5, #T_e524f_row3_col5, #T_e524f_row4_col5, #T_e524f_row5_col5, #T_e524f_row6_col5, #T_e524f_row7_col5, #T_e524f_row8_col5, #T_e524f_row9_col5, #T_e524f_row10_col5, #T_e524f_row11_col5, #T_e524f_row12_col5, #T_e524f_row13_col5, #T_e524f_row14_col5, #T_e524f_row15_col5, #T_e524f_row16_col5, #T_e524f_row17_col5 {\n",
       "  text-align: left;\n",
       "  font-size: 12px;\n",
       "  vertical-align: middle;\n",
       "  width: 10%;\n",
       "}\n",
       "</style>\n",
       "<table id=\"T_e524f\">\n",
       "  <caption><strong>Data Frame Summary</strong><br>df<br>Dimensions: 26,759 x 18<br>Duplicates: 0</caption>\n",
       "  <thead>\n",
       "    <tr>\n",
       "      <th id=\"T_e524f_level0_col0\" class=\"col_heading level0 col0\" >No</th>\n",
       "      <th id=\"T_e524f_level0_col1\" class=\"col_heading level0 col1\" >Variable</th>\n",
       "      <th id=\"T_e524f_level0_col2\" class=\"col_heading level0 col2\" >Stats / Values</th>\n",
       "      <th id=\"T_e524f_level0_col3\" class=\"col_heading level0 col3\" >Freqs / (% of Valid)</th>\n",
       "      <th id=\"T_e524f_level0_col4\" class=\"col_heading level0 col4\" >Graph</th>\n",
       "      <th id=\"T_e524f_level0_col5\" class=\"col_heading level0 col5\" >Missing</th>\n",
       "    </tr>\n",
       "  </thead>\n",
       "  <tbody>\n",
       "    <tr>\n",
       "      <td id=\"T_e524f_row0_col0\" class=\"data row0 col0\" >1</td>\n",
       "      <td id=\"T_e524f_row0_col1\" class=\"data row0 col1\" ><strong>resultId</strong><br>[int64]</td>\n",
       "      <td id=\"T_e524f_row0_col2\" class=\"data row0 col2\" >Mean (sd) : 13381.0 (7726.1)<br>min < med < max:<br>1.0 < 13380.0 < 26764.0<br>IQR (CV) : 13379.0 (1.7)</td>\n",
       "      <td id=\"T_e524f_row0_col3\" class=\"data row0 col3\" >26,759 distinct values</td>\n",
       "      <td id=\"T_e524f_row0_col4\" class=\"data row0 col4\" ><img src = \"data:image/png;base64, iVBORw0KGgoAAAANSUhEUgAAAHoAAAAyCAYAAACTUs/lAAAAOXRFWHRTb2Z0d2FyZQBNYXRwbG90bGliIHZlcnNpb24zLjUuMSwgaHR0cHM6Ly9tYXRwbG90bGliLm9yZy/YYfK9AAAACXBIWXMAAAsTAAALEwEAmpwYAAAA30lEQVR4nO3UMQoCMRBAURXLqbOFjRfxEJ5gzpYTeArvsY2FqdOvrQgLaVbB/1+ZDGHgQ/bLsuz0/w6/XkDfcVy7KKVcI2IaeaT3fo6I2dnx2Y33eLbWbu9nq6EjYsrMx8jDtdZLZt6dHZ/deI/T55lfN4ShIQwNYWgIQ0MYGsLQEIaGMDSEoSEMDWFoCENDGBrC0BCGhjA0hKEhDA1haAhDQxgawtAQhoYwNIShIQwNYWgIQ0MYGsLQEIaGMDSEoSEMDWFoCENDGBrC0BCGhjA0hKEhDA1haAhDQxga4gWhg1ey46OS8wAAAABJRU5ErkJggg==\"></img></td>\n",
       "      <td id=\"T_e524f_row0_col5\" class=\"data row0 col5\" >0<br>(0.0%)</td>\n",
       "    </tr>\n",
       "    <tr>\n",
       "      <td id=\"T_e524f_row1_col0\" class=\"data row1 col0\" >2</td>\n",
       "      <td id=\"T_e524f_row1_col1\" class=\"data row1 col1\" ><strong>raceId</strong><br>[int64]</td>\n",
       "      <td id=\"T_e524f_row1_col2\" class=\"data row1 col2\" >Mean (sd) : 551.7 (313.3)<br>min < med < max:<br>1.0 < 531.0 < 1144.0<br>IQR (CV) : 511.0 (1.8)</td>\n",
       "      <td id=\"T_e524f_row1_col3\" class=\"data row1 col3\" >1,125 distinct values</td>\n",
       "      <td id=\"T_e524f_row1_col4\" class=\"data row1 col4\" ><img src = \"data:image/png;base64, iVBORw0KGgoAAAANSUhEUgAAAHoAAAAyCAYAAACTUs/lAAAAOXRFWHRTb2Z0d2FyZQBNYXRwbG90bGliIHZlcnNpb24zLjUuMSwgaHR0cHM6Ly9tYXRwbG90bGliLm9yZy/YYfK9AAAACXBIWXMAAAsTAAALEwEAmpwYAAABZUlEQVR4nO3ZMU7DMBiGYRchOYNZ04HNFygX4ASdOIGHLJzJW07Axjm4BAOZs0SqFA6AivyrjdPme5/ZsqK+bZLf3c3z7LB9D2tfAOp4XPsC/tO27VsIYV+ydhzHn2EYPpa+pnu1q33rtsQ7nU6Hrus+S9bmnI/e+6+StYpfiuq/6BDCPqX0XbK27/vX0n2990+GfZ9L990KntEiCC2C0CIILYLQIggt4qYPTJYyTdNLjPG9ZK1l5racEVj3vpRkaMvMnXM+xhiL4jVNc0gpFR3wOFd3npcMbWE8iCk+4KntKqGtx5rOuaIPDtdzNrQlnuWWdcvf+i07G3qpM2msg/FKBC9jd+LS/+YJvSLLPG98D/ozthF6RTVHN57RIggtgtAiCC2C0CIILYLQIggtgtAiCC2C0CIILYLQIggtgtAiCC2C0CIILYLQIggtgtAiCC2C0CIILYLQIggtgtAiCC2C0CJ+AV7haaM2m858AAAAAElFTkSuQmCC\"></img></td>\n",
       "      <td id=\"T_e524f_row1_col5\" class=\"data row1 col5\" >0<br>(0.0%)</td>\n",
       "    </tr>\n",
       "    <tr>\n",
       "      <td id=\"T_e524f_row2_col0\" class=\"data row2 col0\" >3</td>\n",
       "      <td id=\"T_e524f_row2_col1\" class=\"data row2 col1\" ><strong>driverId</strong><br>[int64]</td>\n",
       "      <td id=\"T_e524f_row2_col2\" class=\"data row2 col2\" >Mean (sd) : 278.7 (282.7)<br>min < med < max:<br>1.0 < 172.0 < 862.0<br>IQR (CV) : 342.5 (1.0)</td>\n",
       "      <td id=\"T_e524f_row2_col3\" class=\"data row2 col3\" >861 distinct values</td>\n",
       "      <td id=\"T_e524f_row2_col4\" class=\"data row2 col4\" ><img src = \"data:image/png;base64, iVBORw0KGgoAAAANSUhEUgAAAHoAAAAyCAYAAACTUs/lAAAAOXRFWHRTb2Z0d2FyZQBNYXRwbG90bGliIHZlcnNpb24zLjUuMSwgaHR0cHM6Ly9tYXRwbG90bGliLm9yZy/YYfK9AAAACXBIWXMAAAsTAAALEwEAmpwYAAABX0lEQVR4nO3asU3EMBiG4YCQksLX5goa5AWOBZiA6iZwy0zpMgEdG7AHDQWp00SKFBYgkn9ix4HvfdqLLEvvnWP5fLMsS4X/77b0BLCPu7UP2ra9OufOMYOM4/g1DMNrumkhtdXQzrlzCOEzZpC+7+/TTQk5sHSLILQIQosgtAhCiyC0CEKLILQIQosgtAhCiyC0CEKLILQIQosgtIjViwcW0zQ9eu9fYp7lNkoZSULXdX3iNsqxsXSLILQIQosgtIgkmzHkt/WePaH/iK337Fm6Rez+i+ZwpYzdQ3O4UgZLtwhCiyC0CEKLILQIQosgtAhCiyC0CEKLOPS/V8Zz8Qfn3Efks3Jn6IcObTwXfwohvEc+K3eGztItgtAiCC3i0O/oXHJdfrDc67KOvZVkaMsmr+u6Z+99VLymaS4hhLfYeey5KZQMbWHd+eeez28RuiDLK2Se50tVVVFfuJ98AyRIec6TWfA8AAAAAElFTkSuQmCC\"></img></td>\n",
       "      <td id=\"T_e524f_row2_col5\" class=\"data row2 col5\" >0<br>(0.0%)</td>\n",
       "    </tr>\n",
       "    <tr>\n",
       "      <td id=\"T_e524f_row3_col0\" class=\"data row3 col0\" >4</td>\n",
       "      <td id=\"T_e524f_row3_col1\" class=\"data row3 col1\" ><strong>constructorId</strong><br>[int64]</td>\n",
       "      <td id=\"T_e524f_row3_col2\" class=\"data row3 col2\" >Mean (sd) : 50.2 (61.6)<br>min < med < max:<br>1.0 < 25.0 < 215.0<br>IQR (CV) : 57.0 (0.8)</td>\n",
       "      <td id=\"T_e524f_row3_col3\" class=\"data row3 col3\" >211 distinct values</td>\n",
       "      <td id=\"T_e524f_row3_col4\" class=\"data row3 col4\" ><img src = \"data:image/png;base64, iVBORw0KGgoAAAANSUhEUgAAAHoAAAAyCAYAAACTUs/lAAAAOXRFWHRTb2Z0d2FyZQBNYXRwbG90bGliIHZlcnNpb24zLjUuMSwgaHR0cHM6Ly9tYXRwbG90bGliLm9yZy/YYfK9AAAACXBIWXMAAAsTAAALEwEAmpwYAAABS0lEQVR4nO3cMU6EQBiG4dGYQPHbsoWN4QLrBTyEJ/hbr8UJ7LyB97CxkJqGhAQrO0lmZJzB/d6n3Qk72RcmsyRwta5rwOW7rj0BlHGz9UHXdU9mdoo5yDRNn+M4vuSbFnLbDG1mJ3f/iDnIMAx3+aaEv8DSLYLQIggtgtAiCC2C0CIILYLQIggtgtAiCC2C0CIILYLQIggtgtAiCC2C0CIILYLQIggtgtAiCC2C0CIILYLQIggtgtAiNh+ySzHP80Pf988xY3nyso4soZumueXJy2Nj6RZBaBGEFkFoEYQWQWgRhBaR5X90Cm6u1FE8NDdX6mDpFlH8isbv7H2TI6H/ib1vciR0RilXXQhlN5uHDp24Q783s/eaY9u2Pbv7a8zYEMpuNg8dOnGH/ujub7XHxoz7lnIiL8tyDiFE/RY/OXToS5d6Iu/5ri9VWXLpcGaLmgAAAABJRU5ErkJggg==\"></img></td>\n",
       "      <td id=\"T_e524f_row3_col5\" class=\"data row3 col5\" >0<br>(0.0%)</td>\n",
       "    </tr>\n",
       "    <tr>\n",
       "      <td id=\"T_e524f_row4_col0\" class=\"data row4 col0\" >5</td>\n",
       "      <td id=\"T_e524f_row4_col1\" class=\"data row4 col1\" ><strong>number</strong><br>[object]</td>\n",
       "      <td id=\"T_e524f_row4_col2\" class=\"data row4 col2\" >1. 4<br>2. 16<br>3. 11<br>4. 3<br>5. 6<br>6. 8<br>7. 14<br>8. 10<br>9. 20<br>10. 2<br>11. other</td>\n",
       "      <td id=\"T_e524f_row4_col3\" class=\"data row4 col3\" >1,019 (3.8%)<br>1,005 (3.8%)<br>1,001 (3.7%)<br>994 (3.7%)<br>994 (3.7%)<br>993 (3.7%)<br>982 (3.7%)<br>976 (3.6%)<br>972 (3.6%)<br>959 (3.6%)<br>16,864 (63.0%)</td>\n",
       "      <td id=\"T_e524f_row4_col4\" class=\"data row4 col4\" ><img src = \"data:image/png;base64, iVBORw0KGgoAAAANSUhEUgAAAG8AAACzCAYAAACHOUI0AAAAOXRFWHRTb2Z0d2FyZQBNYXRwbG90bGliIHZlcnNpb24zLjUuMSwgaHR0cHM6Ly9tYXRwbG90bGliLm9yZy/YYfK9AAAACXBIWXMAAAsTAAALEwEAmpwYAAACHUlEQVR4nO3asWnDUBhG0Si4fK1w4akygWbTBJkqRVSrVwrjyhhMGnHhnNKV4MIXeH+m4zg+aPo8+wP4P/HCxAsTL0y8MPHCxAub5nn+GmNcHz/s+/67bdv3mR/Fey5jjOuyLD+PH9Z1vZ35QbzPbIaJFyZemHhh4oWJFyZemHhh4oWJF+ZtM2zyD0hdZjPMbIY5CYWZzTDxwsQLEy9MvDDxwsQLEy9MvDDxwrxthjkJhZnNMLMZ5iQUZjbDxAsTL0y8MPHCxAsTL0y8MPHCxAvzthnmJBRmNsPMZpiTUJjZDBMvTLww8cLECxMvTLww8cLECxMvzNtmmJNQmNkMM5thTkJhZjNMvDDxwsQLEy9MvDDxwsQLEy9MvDBvm2FOQmFmM8xshjkJhZnNMPHCxAsTL0y8MPHCxAsTL0y8MPHCvG2GOQmFmc0wsxnmJBRmNsPECxMvTLww8cLECxMvTLww8cLEC/O2GeYkFGY2w8xmmJNQmNkMEy9MvDDxwsQLEy9MvDDxwsQLEy9MvDAP02HueWFmM8xshrnnhZnNMPHCxAsTL0y8MPHCxAsTL0y8MPHCvG2GOQmFmc0wsxnmJBRmNsPECxMvTLww8cLECxMvTLww8cLEC/O2GeYkFGY2w55mk7vCn4+nkxB3hdOY2QwTL0y8MPHCxAsTL0y8MPHCxAsTL8zb5guFt00noTCzGSZemHhh4oWJFyZe2B+JdAONihahmQAAAABJRU5ErkJggg==\"></img></td>\n",
       "      <td id=\"T_e524f_row4_col5\" class=\"data row4 col5\" >0<br>(0.0%)</td>\n",
       "    </tr>\n",
       "    <tr>\n",
       "      <td id=\"T_e524f_row5_col0\" class=\"data row5 col0\" >6</td>\n",
       "      <td id=\"T_e524f_row5_col1\" class=\"data row5 col1\" ><strong>grid</strong><br>[int64]</td>\n",
       "      <td id=\"T_e524f_row5_col2\" class=\"data row5 col2\" >Mean (sd) : 11.1 (7.2)<br>min < med < max:<br>0.0 < 11.0 < 34.0<br>IQR (CV) : 12.0 (1.5)</td>\n",
       "      <td id=\"T_e524f_row5_col3\" class=\"data row5 col3\" >35 distinct values</td>\n",
       "      <td id=\"T_e524f_row5_col4\" class=\"data row5 col4\" ><img src = \"data:image/png;base64, iVBORw0KGgoAAAANSUhEUgAAAHoAAAAyCAYAAACTUs/lAAAAOXRFWHRTb2Z0d2FyZQBNYXRwbG90bGliIHZlcnNpb24zLjUuMSwgaHR0cHM6Ly9tYXRwbG90bGliLm9yZy/YYfK9AAAACXBIWXMAAAsTAAALEwEAmpwYAAABQ0lEQVR4nO3aMWqFMByA8bQUXNLVN3QpXqC9QA/RE2TttTxBT9F7dOlQZxdBsCeQGohR/L7f6iMEPl70j94tyxJ0ffdHb0B1PKxdaNv2PcZ427LIOI6/wzB8ltuWSlsNHWO8pZR+tizS9/1TuS1pDx7dEIaGMDTE6j16Lz7kHaN6aB/yjuHRDVH9H30GxNsHMjTx9uHRDWFoCENDGBrC0BCGhigyXk3T9Np13ceW387z/BJC2DTa5Kw7juNzjPG79B6uokjopmkeM+bSt73WTSl9ld7DVXh0QxgawtAQhoYwNIShIQwNYWgIQ0MYGsLQEIaGMDQE8ivQHJmvSk/7abCh/5H5qvS0nwZ7dEMYGsLQEIaGMDSET90F5YxiIdQdxwxdUM4oFkLdccyjG8LQEIaGMDSEoSEMDWFoCOfoA9V81/0HDAxyLe53Q74AAAAASUVORK5CYII=\"></img></td>\n",
       "      <td id=\"T_e524f_row5_col5\" class=\"data row5 col5\" >0<br>(0.0%)</td>\n",
       "    </tr>\n",
       "    <tr>\n",
       "      <td id=\"T_e524f_row6_col0\" class=\"data row6 col0\" >7</td>\n",
       "      <td id=\"T_e524f_row6_col1\" class=\"data row6 col1\" ><strong>position</strong><br>[object]</td>\n",
       "      <td id=\"T_e524f_row6_col2\" class=\"data row6 col2\" >1. \\N<br>2. 3<br>3. 4<br>4. 2<br>5. 5<br>6. 1<br>7. 6<br>8. 7<br>9. 8<br>10. 9<br>11. other</td>\n",
       "      <td id=\"T_e524f_row6_col3\" class=\"data row6 col3\" >10,953 (40.9%)<br>1,135 (4.2%)<br>1,135 (4.2%)<br>1,133 (4.2%)<br>1,131 (4.2%)<br>1,128 (4.2%)<br>1,124 (4.2%)<br>1,104 (4.1%)<br>1,076 (4.0%)<br>1,038 (3.9%)<br>5,802 (21.7%)</td>\n",
       "      <td id=\"T_e524f_row6_col4\" class=\"data row6 col4\" ><img src = \"data:image/png;base64, iVBORw0KGgoAAAANSUhEUgAAAG8AAACzCAYAAACHOUI0AAAAOXRFWHRTb2Z0d2FyZQBNYXRwbG90bGliIHZlcnNpb24zLjUuMSwgaHR0cHM6Ly9tYXRwbG90bGliLm9yZy/YYfK9AAAACXBIWXMAAAsTAAALEwEAmpwYAAACKklEQVR4nO3csU3DUBhGUYwo3VopmIoJPJsnYCoKXLs3A8RNUKKnK50zgaUrfcX7CdN5nm80vY/+AP5PvDDxwsQLEy9MvDDxwqZlWb7meb6N/pBHHcfxu+/79+jvGOljnufbuq4/oz/kUdu2fY7+htHMZph4YeKFiRcmXph4YeKFiRcmXph4Yd42wyZ/gNRlNsMuZ9MkNVyehJxbGsxmmHhh4oWJFyZemHhh4oWJFyZemHhh3jbDnITCzGaY2QxzEgozm2HihYkXJl6YeGHihYkXJl6YeGHihXnbDHMSCjObYWYzzEkozGyGiRcmXph4YeKFiRcmXph4YeKFiRfmbTPMSSjMbIaZzTAnoTCzGSZemHhh4oWJFyZemHhh4oWJFyZemLfNMCehMLMZZjbDnITCzGaYeGHihYkXJl6YeGHihYkXJl6YeGHeNsOchMLMZpjZDHMSCjObYeKFiRcmXph4YeKFiRcmXph4YeKFedsMcxIKM5thZjPMSSjMbIaJFyZemHhh4oWJFyZemHhh4oWJFyZemIfpMPe8MLMZdjebJrPj7p7nltdhNsPECxMvTLww8cLECxMvTLww8cLEC/O2GeYkFGY2w8xmmJNQmNkMEy9MvDDxwsQLEy9MvDDxwsQLEy/M22aYk1CY2Qy7/HHlM5nh17n8r3/P5MT0OmYzTLww8cLECxMvTLww8cLECxMvTLwwb5thTkJhZjNMvDDxwsQLEy9MvLA/xM0DjT/FLjwAAAAASUVORK5CYII=\"></img></td>\n",
       "      <td id=\"T_e524f_row6_col5\" class=\"data row6 col5\" >0<br>(0.0%)</td>\n",
       "    </tr>\n",
       "    <tr>\n",
       "      <td id=\"T_e524f_row7_col0\" class=\"data row7 col0\" >8</td>\n",
       "      <td id=\"T_e524f_row7_col1\" class=\"data row7 col1\" ><strong>positionText</strong><br>[object]</td>\n",
       "      <td id=\"T_e524f_row7_col2\" class=\"data row7 col2\" >1. R<br>2. F<br>3. 3<br>4. 4<br>5. 2<br>6. 5<br>7. 1<br>8. 6<br>9. 7<br>10. 8<br>11. other</td>\n",
       "      <td id=\"T_e524f_row7_col3\" class=\"data row7 col3\" >8,897 (33.2%)<br>1,368 (5.1%)<br>1,135 (4.2%)<br>1,135 (4.2%)<br>1,133 (4.2%)<br>1,131 (4.2%)<br>1,128 (4.2%)<br>1,124 (4.2%)<br>1,104 (4.1%)<br>1,076 (4.0%)<br>7,528 (28.1%)</td>\n",
       "      <td id=\"T_e524f_row7_col4\" class=\"data row7 col4\" ><img src = \"data:image/png;base64, iVBORw0KGgoAAAANSUhEUgAAAG8AAACzCAYAAACHOUI0AAAAOXRFWHRTb2Z0d2FyZQBNYXRwbG90bGliIHZlcnNpb24zLjUuMSwgaHR0cHM6Ly9tYXRwbG90bGliLm9yZy/YYfK9AAAACXBIWXMAAAsTAAALEwEAmpwYAAACMElEQVR4nO3bsWnDYBhF0SikVCtcZKpMoNk0QaZKEdfqldZguYnB0oVzJhBceMX/2cO2bW80vR/9AfyfeGHihYkXJl6YeGHihQ3TNH2N43g5+kNurev6e71ev4/+jrP7GMfxMs/zz9EfcmtZls+jv6HAbIaJFyZemHhh4oWJFyZemHhh4oWJF+ZtM2zwA6Qusxn2cDZN1/k9PAk5y5yf2QwTL0y8MPHCxAsTL0y8MPHCxAsTL8zbZpiTUJjZDNudTZPZsHsScg5qMJth4oWJFyZemHhh4oWJFyZemHhh4oV52wxzEgozm2FmM8xJKMxshokXJl6YeGHihYkXJl6YeGHihYkX5m0zzEkozGyGmc0wJ6EwsxkmXph4YeKFiRcmXph4YeKFiRcmXpi3zTAnoTCzGWY2w5yEwsxmmHhh4oWJFyZemHhh4oWJFyZemHhh3jbDnITCzGaY2QxzEgozm2HihYkXJl6YeGHihYkXJl6YeGHihXnbDHMSCjObYWYzzEkozGyGiRcmXph4YeKFiRcmXph4YeKFiRcmXpiH6TD3vDCzGWY2w9zzwsxmmHhh4oWJFyZemHhh4oWJFyZemHhh3jbDnITCzGbY3WyazI67k5BzUIfZDBMvTLww8cLECxMvTLww8cLECxMvzNtmmJNQmNkM272kv4qJfs7uv4RexfnpOWYzTLww8cLECxMvTLww8cLECxMvTLwwb5thTkJhZjNMvDDxwsQLEy9MvLA/xM0DjTBfa8MAAAAASUVORK5CYII=\"></img></td>\n",
       "      <td id=\"T_e524f_row7_col5\" class=\"data row7 col5\" >0<br>(0.0%)</td>\n",
       "    </tr>\n",
       "    <tr>\n",
       "      <td id=\"T_e524f_row8_col0\" class=\"data row8 col0\" >9</td>\n",
       "      <td id=\"T_e524f_row8_col1\" class=\"data row8 col1\" ><strong>positionOrder</strong><br>[int64]</td>\n",
       "      <td id=\"T_e524f_row8_col2\" class=\"data row8 col2\" >Mean (sd) : 12.8 (7.7)<br>min < med < max:<br>1.0 < 12.0 < 39.0<br>IQR (CV) : 12.0 (1.7)</td>\n",
       "      <td id=\"T_e524f_row8_col3\" class=\"data row8 col3\" >39 distinct values</td>\n",
       "      <td id=\"T_e524f_row8_col4\" class=\"data row8 col4\" ><img src = \"data:image/png;base64, iVBORw0KGgoAAAANSUhEUgAAAHoAAAAyCAYAAACTUs/lAAAAOXRFWHRTb2Z0d2FyZQBNYXRwbG90bGliIHZlcnNpb24zLjUuMSwgaHR0cHM6Ly9tYXRwbG90bGliLm9yZy/YYfK9AAAACXBIWXMAAAsTAAALEwEAmpwYAAABPklEQVR4nO3cvW2EMABAYRKdROO0XJEm8gRZIBOkygRuMxMdE9wU2SNNilDTUJEJILbCwYX3vhYLIT3zc7Z0d9M0VTq++70vQNs4zR1omuYthHDOOckwDE8hhM8rjP3u+/6SM1bLZkOHEM4ppa+ck3Rd95JS+lh7bNu2rzHG3MnmpFgwG/oW1HX9UDDZHq99Pf+Z72gIQ0MYGsLQEIaGMDSEoSEMDWFoCENDGBripte6S4zj+BxjfM8ZS9wAOUxoN0CWHSZ0CeLdjwxNvPv9GIMwNIShIQwNYWgIQ0MYGsLQEIaGMDSEoSEMDWFoCENDILcpSxxl79rQvzjK3rWPbghDQxgawtAQhoYwNIShIfwdvaKSxZWq2naBxdArKllcqaptF1h8dEMYGsLQEL6jd7Tlzpihd1Ty8fbXfzr+ASipf6EsIZGmAAAAAElFTkSuQmCC\"></img></td>\n",
       "      <td id=\"T_e524f_row8_col5\" class=\"data row8 col5\" >0<br>(0.0%)</td>\n",
       "    </tr>\n",
       "    <tr>\n",
       "      <td id=\"T_e524f_row9_col0\" class=\"data row9 col0\" >10</td>\n",
       "      <td id=\"T_e524f_row9_col1\" class=\"data row9 col1\" ><strong>points</strong><br>[float64]</td>\n",
       "      <td id=\"T_e524f_row9_col2\" class=\"data row9 col2\" >Mean (sd) : 2.0 (4.4)<br>min < med < max:<br>0.0 < 0.0 < 50.0<br>IQR (CV) : 2.0 (0.5)</td>\n",
       "      <td id=\"T_e524f_row9_col3\" class=\"data row9 col3\" >39 distinct values</td>\n",
       "      <td id=\"T_e524f_row9_col4\" class=\"data row9 col4\" ><img src = \"data:image/png;base64, iVBORw0KGgoAAAANSUhEUgAAAHoAAAAyCAYAAACTUs/lAAAAOXRFWHRTb2Z0d2FyZQBNYXRwbG90bGliIHZlcnNpb24zLjUuMSwgaHR0cHM6Ly9tYXRwbG90bGliLm9yZy/YYfK9AAAACXBIWXMAAAsTAAALEwEAmpwYAAAA/0lEQVR4nO3cMQ6CMBhAYTUmLHWFwa0n8B5OnoCVM3XjBJ7KQWYWJjxBE0gqGN/71pKmyQv/+B/neT7o/532foC2cc4d1HX9CCE0Sy4Zx/E9DMOz3LNUWjZ0CKFp2/a15JK+76/lnqRvcHRDGBrC0BCGhjA0hKEhDA1haAhDQxgawtAQhoYwNIShIQwNYWgIQ0MYGsLQEIaGMDSEoSEMDWFoCENDGBrC0BCGhjA0hKEhDA1haAhDQxgawtAQhoYwNIShIQwNYWgIQ0NkNweuMU3TLcbYLfnWdZL7KBK6qqqL6yR/m6MbosgfvYZjfh+bh14z5lNK9xhj8VXSxBXVH2ODPezER9soAAAAAElFTkSuQmCC\"></img></td>\n",
       "      <td id=\"T_e524f_row9_col5\" class=\"data row9 col5\" >0<br>(0.0%)</td>\n",
       "    </tr>\n",
       "    <tr>\n",
       "      <td id=\"T_e524f_row10_col0\" class=\"data row10 col0\" >11</td>\n",
       "      <td id=\"T_e524f_row10_col1\" class=\"data row10 col1\" ><strong>laps</strong><br>[int64]</td>\n",
       "      <td id=\"T_e524f_row10_col2\" class=\"data row10 col2\" >Mean (sd) : 46.3 (29.5)<br>min < med < max:<br>0.0 < 53.0 < 200.0<br>IQR (CV) : 43.0 (1.6)</td>\n",
       "      <td id=\"T_e524f_row10_col3\" class=\"data row10 col3\" >172 distinct values</td>\n",
       "      <td id=\"T_e524f_row10_col4\" class=\"data row10 col4\" ><img src = \"data:image/png;base64, iVBORw0KGgoAAAANSUhEUgAAAHoAAAAyCAYAAACTUs/lAAAAOXRFWHRTb2Z0d2FyZQBNYXRwbG90bGliIHZlcnNpb24zLjUuMSwgaHR0cHM6Ly9tYXRwbG90bGliLm9yZy/YYfK9AAAACXBIWXMAAAsTAAALEwEAmpwYAAABIUlEQVR4nO3csc2CQBxAcTQmNGeLhR0L+C3gEE5A61pM4FQWUtOQkPBNIOHiiXrv/epLuOTFP4kXbjNNU6H8bT+9Aa1jt/YDq6q6hBAOS9b2ff/ouu727j0RrB46hHBomua+ZG3btsd374fC0Q2x+i86xjAMf3VdX5esdczP++rQZVnuHfNpOLohDA1haAhDQxgawtAQhoYwNMTTP0w8fMjL09AePuTF0Q1haAhDQxgawtAQhoYwNIShIQwNYWgIQ0MYGsLQEIaGMDREki81Yj6dGcfxVBTFonNupZMkdOSnM+cUz1QcRzeEoSEMDWFoCENDGBrC0BCGhjA0hKEhDA3x1ddPxfBOsnnZhPZOsnmObghDQ2QzumP84vv81Rso/gFTjFm3MApiEgAAAABJRU5ErkJggg==\"></img></td>\n",
       "      <td id=\"T_e524f_row10_col5\" class=\"data row10 col5\" >0<br>(0.0%)</td>\n",
       "    </tr>\n",
       "    <tr>\n",
       "      <td id=\"T_e524f_row11_col0\" class=\"data row11 col0\" >12</td>\n",
       "      <td id=\"T_e524f_row11_col1\" class=\"data row11 col1\" ><strong>time</strong><br>[object]</td>\n",
       "      <td id=\"T_e524f_row11_col2\" class=\"data row11 col2\" >1. \\N<br>2. +8:22.19<br>3. +46.2<br>4. +5.7<br>5. +0.7<br>6. +1:29.6<br>7. +24.2<br>8. +12.8<br>9. +6.1<br>10. +58.2<br>11. other</td>\n",
       "      <td id=\"T_e524f_row11_col3\" class=\"data row11 col3\" >19,079 (71.3%)<br>5 (0.0%)<br>4 (0.0%)<br>4 (0.0%)<br>4 (0.0%)<br>4 (0.0%)<br>3 (0.0%)<br>3 (0.0%)<br>3 (0.0%)<br>3 (0.0%)<br>7,647 (28.6%)</td>\n",
       "      <td id=\"T_e524f_row11_col4\" class=\"data row11 col4\" ><img src = \"data:image/png;base64, iVBORw0KGgoAAAANSUhEUgAAAG8AAACzCAYAAACHOUI0AAAAOXRFWHRTb2Z0d2FyZQBNYXRwbG90bGliIHZlcnNpb24zLjUuMSwgaHR0cHM6Ly9tYXRwbG90bGliLm9yZy/YYfK9AAAACXBIWXMAAAsTAAALEwEAmpwYAAACQ0lEQVR4nO3asU3DUBhGUTuifK2Vgh7mYQLP5gnYh54C1+7DDqF4uuicBfykK/1FvqyPx2Oh6Tb7ATxPvDDxwsQLEy9MvDDxwtZt2z7GGPfZD6m6ruvnPM/PGd9+GWPc933/nvHx/+A4jtdZ33Y2w8QLEy9MvDDxwsQLEy9MvDDxwsQL89vmH838bXP1B6QuZzPstq7r++xH8Jzbsixvsx/Bc5zNMPHCxAsTL0y8MPHCxAsTL0y8MPHCbsuyfM1+BM8xCYU5m2EmoTCTUJizGSZemHhh4oWJFyZemHhh4oWJFyZemEkozCQU5myGmYTCTEJhzmaYeGHihYkXJl6YeGHihYkXJl6YeGEmoTCTUJizGWYSCjMJhTmbYeKFiRcmXph4YeKFiRcmXph4YeKFmYTCTEJhzmaYSSjMJBTmbIaJFyZemHhh4oWJFyZemHhh4oWJF2YSCjMJhTmbYSahMJNQmLMZJl6YeGHihYkXJl6YeGHihYkXJl6YSSjMJBTmbIaZhMJMQmHOZph4YeKFiRcmXph4YeKFiRcmXph4YeKF2fPC7HlhzmaYPS/MnhfmbIaJFyZemHhh4oWJFyZemHhh4oWJF2YSCjMJhTmbYSahMJNQmLMZJl6YeGHihYkXJl6YeGHihYkXJl6YSSjMJBTmbIat27Z9jDHusx5wXdfPeZ6fs75f9jLGuO/7/j3rAcdxvM76dp2zGSZemHhh4oWJFyZemHhh4oWJFyZemN82w0xCYc5mmHhh4oWJFyZemHhhvz7nWBvlrXZlAAAAAElFTkSuQmCC\"></img></td>\n",
       "      <td id=\"T_e524f_row11_col5\" class=\"data row11 col5\" >0<br>(0.0%)</td>\n",
       "    </tr>\n",
       "    <tr>\n",
       "      <td id=\"T_e524f_row12_col0\" class=\"data row12 col0\" >13</td>\n",
       "      <td id=\"T_e524f_row12_col1\" class=\"data row12 col1\" ><strong>milliseconds</strong><br>[object]</td>\n",
       "      <td id=\"T_e524f_row12_col2\" class=\"data row12 col2\" >1. \\N<br>2. 14259460<br>3. 10928200<br>4. 5350182<br>5. 5593660<br>6. 8867400<br>7. 4925000<br>8. 5808819<br>9. 14507710<br>10. 14260930<br>11. other</td>\n",
       "      <td id=\"T_e524f_row12_col3\" class=\"data row12 col3\" >19,079 (71.3%)<br>5 (0.0%)<br>3 (0.0%)<br>2 (0.0%)<br>2 (0.0%)<br>2 (0.0%)<br>2 (0.0%)<br>2 (0.0%)<br>2 (0.0%)<br>2 (0.0%)<br>7,658 (28.6%)</td>\n",
       "      <td id=\"T_e524f_row12_col4\" class=\"data row12 col4\" ><img src = \"data:image/png;base64, iVBORw0KGgoAAAANSUhEUgAAAG8AAACzCAYAAACHOUI0AAAAOXRFWHRTb2Z0d2FyZQBNYXRwbG90bGliIHZlcnNpb24zLjUuMSwgaHR0cHM6Ly9tYXRwbG90bGliLm9yZy/YYfK9AAAACXBIWXMAAAsTAAALEwEAmpwYAAACQ0lEQVR4nO3asU3DUBhGUTuifK2Vgh7mYQLP5gnYh54C1+7DDqF4uuicBfykK/1FvqyPx2Oh6Tb7ATxPvDDxwsQLEy9MvDDxwtZt2z7GGPfZD6m6ruvnPM/PGd9+GWPc933/nvHx/+A4jtdZ33Y2w8QLEy9MvDDxwsQLEy9MvDDxwsQL89vmH838bXP1B6QuZzPstq7r++xH8Jzbsixvsx/Bc5zNMPHCxAsTL0y8MPHCxAsTL0y8MPHCbsuyfM1+BM8xCYU5m2EmoTCTUJizGSZemHhh4oWJFyZemHhh4oWJFyZemEkozCQU5myGmYTCTEJhzmaYeGHihYkXJl6YeGHihYkXJl6YeGEmoTCTUJizGWYSCjMJhTmbYeKFiRcmXph4YeKFiRcmXph4YeKFmYTCTEJhzmaYSSjMJBTmbIaJFyZemHhh4oWJFyZemHhh4oWJF2YSCjMJhTmbYSahMJNQmLMZJl6YeGHihYkXJl6YeGHihYkXJl6YSSjMJBTmbIaZhMJMQmHOZph4YeKFiRcmXph4YeKFiRcmXph4YeKF2fPC7HlhzmaYPS/MnhfmbIaJFyZemHhh4oWJFyZemHhh4oWJF2YSCjMJhTmbYSahMJNQmLMZJl6YeGHihYkXJl6YeGHihYkXJl6YSSjMJBTmbIat27Z9jDHusx5wXdfPeZ6fs75f9jLGuO/7/j3rAcdxvM76dp2zGSZemHhh4oWJFyZemHhh4oWJFyZemN82w0xCYc5mmHhh4oWJFyZemHhhvz7nWBvlrXZlAAAAAElFTkSuQmCC\"></img></td>\n",
       "      <td id=\"T_e524f_row12_col5\" class=\"data row12 col5\" >0<br>(0.0%)</td>\n",
       "    </tr>\n",
       "    <tr>\n",
       "      <td id=\"T_e524f_row13_col0\" class=\"data row13 col0\" >14</td>\n",
       "      <td id=\"T_e524f_row13_col1\" class=\"data row13 col1\" ><strong>fastestLap</strong><br>[object]</td>\n",
       "      <td id=\"T_e524f_row13_col2\" class=\"data row13 col2\" >1. \\N<br>2. 50<br>3. 52<br>4. 53<br>5. 51<br>6. 48<br>7. 44<br>8. 55<br>9. 49<br>10. 43<br>11. other</td>\n",
       "      <td id=\"T_e524f_row13_col3\" class=\"data row13 col3\" >18,507 (69.2%)<br>309 (1.2%)<br>289 (1.1%)<br>287 (1.1%)<br>275 (1.0%)<br>230 (0.9%)<br>224 (0.8%)<br>220 (0.8%)<br>219 (0.8%)<br>217 (0.8%)<br>5,982 (22.4%)</td>\n",
       "      <td id=\"T_e524f_row13_col4\" class=\"data row13 col4\" ><img src = \"data:image/png;base64, iVBORw0KGgoAAAANSUhEUgAAAG8AAACzCAYAAACHOUI0AAAAOXRFWHRTb2Z0d2FyZQBNYXRwbG90bGliIHZlcnNpb24zLjUuMSwgaHR0cHM6Ly9tYXRwbG90bGliLm9yZy/YYfK9AAAACXBIWXMAAAsTAAALEwEAmpwYAAACQElEQVR4nO3awWnrQBhGUSl4OVvhRapyBapNFaSqLOz17P1qeCZGueScApKBC39AX9bn87nQ9HH2A3ideGHihYkXJl6YeGHiha3btt3GGNezH1Iy57w/Ho+vs99xGWNc933/PvshJcdxfJ79hmVxNtPECxMvTLww8cLECxMvTLww8cLEC/Nt8wW/5dvm6h+QupzNsHXbttuyLMtvOAP8n4u/d13OZph4YeKFiRcmXph4YeKFiRcmXph4YZc55/3sR/Aak1CYsxlmEgozCYU5m2HihYkXJl6YeGHihYkXJl6YeGHihZmEwkxCYc5mmEkozCQU5myGiRcmXph4YeKFiRcmXph4YeKFiRdmEgozCYU5m2EmoTCTUJizGSZemHhh4oWJFyZemHhh4oWJFyZemEkozCQU5myGmYTCTEJhzmaYeGHihYkXJl6YeGHihYkXJl6YeGEmoTCTUJizGWYSCjMJhTmbYeKFiRcmXph4YeKFiRcmXph4YeKFmYTCTEJhzmaYSSjMJBTmbIaJFyZemHhh4oWJFyZemHhh4oWJFyZemD0vzJ4X5myG2fPC7HlhzmaYeGHihYkXJl6YeGHihYkXJl6YeGEmoTCTUJizGWYSCjMJhTmbYeKFiRcmXph4YeKFiRcmXph4YeKFmYTCTEJhzmbYum3b7d3LwpzzbnL6eZcxxnXf9+93/pLjOD7f+fP/KmczTLww8cLECxMvTLww8cLECxMvTLww3zbDTEJhzmaYeGHihYkXJl6YeGH/ALeplaHMQrviAAAAAElFTkSuQmCC\"></img></td>\n",
       "      <td id=\"T_e524f_row13_col5\" class=\"data row13 col5\" >0<br>(0.0%)</td>\n",
       "    </tr>\n",
       "    <tr>\n",
       "      <td id=\"T_e524f_row14_col0\" class=\"data row14 col0\" >15</td>\n",
       "      <td id=\"T_e524f_row14_col1\" class=\"data row14 col1\" ><strong>rank</strong><br>[object]</td>\n",
       "      <td id=\"T_e524f_row14_col2\" class=\"data row14 col2\" >1. \\N<br>2. 2<br>3. 6<br>4. 5<br>5. 1<br>6. 3<br>7. 4<br>8. 10<br>9. 11<br>10. 7<br>11. other</td>\n",
       "      <td id=\"T_e524f_row14_col3\" class=\"data row14 col3\" >18,249 (68.2%)<br>410 (1.5%)<br>410 (1.5%)<br>410 (1.5%)<br>410 (1.5%)<br>410 (1.5%)<br>410 (1.5%)<br>409 (1.5%)<br>409 (1.5%)<br>409 (1.5%)<br>4,823 (18.0%)</td>\n",
       "      <td id=\"T_e524f_row14_col4\" class=\"data row14 col4\" ><img src = \"data:image/png;base64, iVBORw0KGgoAAAANSUhEUgAAAG8AAACzCAYAAACHOUI0AAAAOXRFWHRTb2Z0d2FyZQBNYXRwbG90bGliIHZlcnNpb24zLjUuMSwgaHR0cHM6Ly9tYXRwbG90bGliLm9yZy/YYfK9AAAACXBIWXMAAAsTAAALEwEAmpwYAAACNElEQVR4nO3asWnDUBhGUcm4fK1x4akygWbTBJkqRVyrdyq7DEkwkS+cM4ARXPgC7898u90mmg57fwB/J16YeGHihYkXJl6YeGHz6XR6G2Oc9/6Qim3bPq/X6/ve3zFN03QcY5yXZfnY+0Mq1nW97P0Nd2YzTLww8cLECxMvTLww8cLECxMvTLwwb5u/9Epvm7N/QOoym2GP2XylOeBnDveTkL97PWYzTLww8cLECxMvTLww8cLECxMvTLwwb5thTkJhZjPMbIY5CYWZzTDxwsQLEy9MvDDxwsQLEy9MvDDxwrxthjkJhZnNMLMZ5iQUZjbDxAsTL0y8MPHCxAsTL0y8MPHCxAvzthnmJBRmNsPMZpiTUJjZDBMvTLww8cLECxMvTLww8cLECxMvzNtmmJNQmNkMM5thTkJhZjNMvDDxwsQLEy9MvDDxwsQLEy9MvDBvm2FOQmFmM8xshjkJhZnNMPHCxAsTL0y8MPHCxAsTL0y8MPHCvG2GOQmFmc0wsxnmJBRmNsPECxMvTLww8cLECxMvTLww8cLECxMvzMN0mHtemNkMM5th7nlhZjNMvDDxwsQLEy9MvDDxwsQLEy9MvDBvm2FOQmFmM8xshjkJhZnNMPHCxAsTL0y8MPHCxAsTL0y8MPHCvG2GOQmFmc2wx2w+6wfN7/853k9Cz/rBdV0vz/otvmc2w8QLEy9MvDDxwsQLEy9MvDDxwsQL87YZ5iQUZjbDxAsTL0y8MPHCxAv7AsDW85E5/xciAAAAAElFTkSuQmCC\"></img></td>\n",
       "      <td id=\"T_e524f_row14_col5\" class=\"data row14 col5\" >0<br>(0.0%)</td>\n",
       "    </tr>\n",
       "    <tr>\n",
       "      <td id=\"T_e524f_row15_col0\" class=\"data row15 col0\" >16</td>\n",
       "      <td id=\"T_e524f_row15_col1\" class=\"data row15 col1\" ><strong>fastestLapTime</strong><br>[object]</td>\n",
       "      <td id=\"T_e524f_row15_col2\" class=\"data row15 col2\" >1. \\N<br>2. 1:18.904<br>3. 1:43.026<br>4. 1:14.117<br>5. 1:17.495<br>6. 1:18.262<br>7. 1:18.069<br>8. 1:18.462<br>9. 1:34.090<br>10. 1:35.816<br>11. other</td>\n",
       "      <td id=\"T_e524f_row15_col3\" class=\"data row15 col3\" >18,507 (69.2%)<br>4 (0.0%)<br>4 (0.0%)<br>4 (0.0%)<br>4 (0.0%)<br>4 (0.0%)<br>3 (0.0%)<br>3 (0.0%)<br>3 (0.0%)<br>3 (0.0%)<br>8,220 (30.7%)</td>\n",
       "      <td id=\"T_e524f_row15_col4\" class=\"data row15 col4\" ><img src = \"data:image/png;base64, iVBORw0KGgoAAAANSUhEUgAAAG8AAACzCAYAAACHOUI0AAAAOXRFWHRTb2Z0d2FyZQBNYXRwbG90bGliIHZlcnNpb24zLjUuMSwgaHR0cHM6Ly9tYXRwbG90bGliLm9yZy/YYfK9AAAACXBIWXMAAAsTAAALEwEAmpwYAAACRElEQVR4nO3asW2sQBhGUVg5nBRt4NyvHldAbVTgfpw7MDH5vh5Ixlc6p4KRrvQHfKyv12uh6TH7AdwnXph4YeKFiRcmXph4Yeu2bZ9jjOfsh5Rc1/V7nufX7He8jTGe+77/zH5IyXEc77PfsCzOZpp4YeKFiRcmXph4YeKFiRcmXph4Yb5t3vBXvm2ufkDqcjbDHuu6/pv9CO55LMvyMfsR3ONshokXJl6YeGHihYkXJl6YeGHihYkX9liW5Xv2I7jHJBTmbIaZhMJMQmHOZph4YeKFiRcmXph4YeKFiRcmXph4YSahMJNQmLMZZhIKMwmFOZth4oWJFyZemHhh4oWJFyZemHhh4oWZhMJMQmHOZphJKMwkFOZshokXJl6YeGHihYkXJl6YeGHihYkXZhIKMwmFOZthJqEwk1CYsxkmXph4YeKFiRcmXph4YeKFiRcmXphJKMwkFOZshpmEwkxCYc5mmHhh4oWJFyZemHhh4oWJFyZemHhhJqEwk1CYsxlmEgozCYU5m2HihYkXJl6YeGHihYkXJl6YeGHihYkXZs8Ls+eFOZth9rwwe16YsxkmXph4YeKFiRcmXph4YeKFiRcmXphJKMwkFOZshpmEwkxCYc5mmHhh4oWJFyZemHhh4oWJFyZemHhhJqEwk1CYsxm2btv2OcZ4zn7IdV2/53l+zX5HydsY47nv+8/shxzH8T77DTXOZph4YeKFiRcmXph4YeKFiRcmXph4Yb5thpmEwpzNMPHCxAsTL0y8MPHC/gOAb1gbKAC9GQAAAABJRU5ErkJggg==\"></img></td>\n",
       "      <td id=\"T_e524f_row15_col5\" class=\"data row15 col5\" >0<br>(0.0%)</td>\n",
       "    </tr>\n",
       "    <tr>\n",
       "      <td id=\"T_e524f_row16_col0\" class=\"data row16 col0\" >17</td>\n",
       "      <td id=\"T_e524f_row16_col1\" class=\"data row16 col1\" ><strong>fastestLapSpeed</strong><br>[object]</td>\n",
       "      <td id=\"T_e524f_row16_col2\" class=\"data row16 col2\" >1. \\N<br>2. 207.069<br>3. 202.685<br>4. 188.806<br>5. 201.512<br>6. 201.330<br>7. 209.244<br>8. 206.625<br>9. 202.871<br>10. 225.876<br>11. other</td>\n",
       "      <td id=\"T_e524f_row16_col3\" class=\"data row16 col3\" >18,507 (69.2%)<br>4 (0.0%)<br>3 (0.0%)<br>3 (0.0%)<br>3 (0.0%)<br>3 (0.0%)<br>3 (0.0%)<br>3 (0.0%)<br>3 (0.0%)<br>3 (0.0%)<br>8,224 (30.7%)</td>\n",
       "      <td id=\"T_e524f_row16_col4\" class=\"data row16 col4\" ><img src = \"data:image/png;base64, iVBORw0KGgoAAAANSUhEUgAAAG8AAACzCAYAAACHOUI0AAAAOXRFWHRTb2Z0d2FyZQBNYXRwbG90bGliIHZlcnNpb24zLjUuMSwgaHR0cHM6Ly9tYXRwbG90bGliLm9yZy/YYfK9AAAACXBIWXMAAAsTAAALEwEAmpwYAAACRElEQVR4nO3asW2sQBhGUVg5nBRt4NyvHldAbVTgfpw7MDH5vh5Ixlc6p4KRrvQHfKyv12uh6TH7AdwnXph4YeKFiRcmXph4Yeu2bZ9jjOfsh5Rc1/V7nufX7He8jTGe+77/zH5IyXEc77PfsCzOZpp4YeKFiRcmXph4YeKFiRcmXph4Yb5t3vBXvm2ufkDqcjbDHuu6/pv9CO55LMvyMfsR3ONshokXJl6YeGHihYkXJl6YeGHihYkX9liW5Xv2I7jHJBTmbIaZhMJMQmHOZph4YeKFiRcmXph4YeKFiRcmXph4YSahMJNQmLMZZhIKMwmFOZth4oWJFyZemHhh4oWJFyZemHhh4oWZhMJMQmHOZphJKMwkFOZshokXJl6YeGHihYkXJl6YeGHihYkXZhIKMwmFOZthJqEwk1CYsxkmXph4YeKFiRcmXph4YeKFiRcmXphJKMwkFOZshpmEwkxCYc5mmHhh4oWJFyZemHhh4oWJFyZemHhhJqEwk1CYsxlmEgozCYU5m2HihYkXJl6YeGHihYkXJl6YeGHihYkXZs8Ls+eFOZth9rwwe16YsxkmXph4YeKFiRcmXph4YeKFiRcmXphJKMwkFOZshpmEwkxCYc5mmHhh4oWJFyZemHhh4oWJFyZemHhhJqEwk1CYsxm2btv2OcZ4zn7IdV2/53l+zX5HydsY47nv+8/shxzH8T77DTXOZph4YeKFiRcmXph4YeKFiRcmXph4Yb5thpmEwpzNMPHCxAsTL0y8MPHC/gOAb1gbKAC9GQAAAABJRU5ErkJggg==\"></img></td>\n",
       "      <td id=\"T_e524f_row16_col5\" class=\"data row16 col5\" >0<br>(0.0%)</td>\n",
       "    </tr>\n",
       "    <tr>\n",
       "      <td id=\"T_e524f_row17_col0\" class=\"data row17 col0\" >18</td>\n",
       "      <td id=\"T_e524f_row17_col1\" class=\"data row17 col1\" ><strong>statusId</strong><br>[int64]</td>\n",
       "      <td id=\"T_e524f_row17_col2\" class=\"data row17 col2\" >Mean (sd) : 17.2 (26.0)<br>min < med < max:<br>1.0 < 10.0 < 141.0<br>IQR (CV) : 13.0 (0.7)</td>\n",
       "      <td id=\"T_e524f_row17_col3\" class=\"data row17 col3\" >137 distinct values</td>\n",
       "      <td id=\"T_e524f_row17_col4\" class=\"data row17 col4\" ><img src = \"data:image/png;base64, iVBORw0KGgoAAAANSUhEUgAAAHoAAAAyCAYAAACTUs/lAAAAOXRFWHRTb2Z0d2FyZQBNYXRwbG90bGliIHZlcnNpb24zLjUuMSwgaHR0cHM6Ly9tYXRwbG90bGliLm9yZy/YYfK9AAAACXBIWXMAAAsTAAALEwEAmpwYAAABKklEQVR4nO3cMW6DMBhAYVpFgsFdydCl8gXSe3TqCbzmTGycoFvP06VDmVmQkMjSFclIDkn73rdiWZYeWEz/w7Islf6/x1sfQPs4rD1o2/Y9hHDM2WQcx59hGD7KHUulrYYOIRxTSt85m/R9/1zuSLoGr24IQ0MYGsLQEIaGMDSEoSEMDWFoCENDGBrC0BCGhjA0hKEhDA1haAhDQxgawtAQhoYwNIShIQwNYWgIQ0MYGsLQEIaGMDSEoSEMDWFoCENDGBrC0BCGhjA0hKEhDA2xOlBui2maXmOM55y1Thm8jSKh67p+csrgffPqhijyRf81xIG2dx36WkGIA213D73lx61pmlNK6TNnbdd1bzHGrJdinudTVVVZoTf+aL6EEL5y1v6u3+22uAAIwU7eApc53wAAAABJRU5ErkJggg==\"></img></td>\n",
       "      <td id=\"T_e524f_row17_col5\" class=\"data row17 col5\" >0<br>(0.0%)</td>\n",
       "    </tr>\n",
       "  </tbody>\n",
       "</table>\n"
      ]
     },
     "metadata": {
      "application/vnd.databricks.v1+output": {
       "addedWidgets": {},
       "arguments": {},
       "data": "<style type=\"text/css\">\n#T_e524f thead>tr>th {\n  text-align: left;\n}\n#T_e524f_row0_col0, #T_e524f_row1_col0, #T_e524f_row2_col0, #T_e524f_row3_col0, #T_e524f_row4_col0, #T_e524f_row5_col0, #T_e524f_row6_col0, #T_e524f_row7_col0, #T_e524f_row8_col0, #T_e524f_row9_col0, #T_e524f_row10_col0, #T_e524f_row11_col0, #T_e524f_row12_col0, #T_e524f_row13_col0, #T_e524f_row14_col0, #T_e524f_row15_col0, #T_e524f_row16_col0, #T_e524f_row17_col0 {\n  text-align: left;\n  font-size: 12px;\n  vertical-align: middle;\n  width: 5%;\n  max-width: 50px;\n  min-width: 20px;\n}\n#T_e524f_row0_col1, #T_e524f_row1_col1, #T_e524f_row2_col1, #T_e524f_row3_col1, #T_e524f_row4_col1, #T_e524f_row5_col1, #T_e524f_row6_col1, #T_e524f_row7_col1, #T_e524f_row8_col1, #T_e524f_row9_col1, #T_e524f_row10_col1, #T_e524f_row11_col1, #T_e524f_row12_col1, #T_e524f_row13_col1, #T_e524f_row14_col1, #T_e524f_row15_col1, #T_e524f_row16_col1, #T_e524f_row17_col1 {\n  text-align: left;\n  font-size: 12px;\n  vertical-align: middle;\n  width: 15%;\n  max-width: 200px;\n  min-width: 100px;\n  word-break: break-word;\n}\n#T_e524f_row0_col2, #T_e524f_row1_col2, #T_e524f_row2_col2, #T_e524f_row3_col2, #T_e524f_row4_col2, #T_e524f_row5_col2, #T_e524f_row6_col2, #T_e524f_row7_col2, #T_e524f_row8_col2, #T_e524f_row9_col2, #T_e524f_row10_col2, #T_e524f_row11_col2, #T_e524f_row12_col2, #T_e524f_row13_col2, #T_e524f_row14_col2, #T_e524f_row15_col2, #T_e524f_row16_col2, #T_e524f_row17_col2 {\n  text-align: left;\n  font-size: 12px;\n  vertical-align: middle;\n  width: 30%;\n  min-width: 100px;\n}\n#T_e524f_row0_col3, #T_e524f_row1_col3, #T_e524f_row2_col3, #T_e524f_row3_col3, #T_e524f_row4_col3, #T_e524f_row5_col3, #T_e524f_row6_col3, #T_e524f_row7_col3, #T_e524f_row8_col3, #T_e524f_row9_col3, #T_e524f_row10_col3, #T_e524f_row11_col3, #T_e524f_row12_col3, #T_e524f_row13_col3, #T_e524f_row14_col3, #T_e524f_row15_col3, #T_e524f_row16_col3, #T_e524f_row17_col3 {\n  text-align: left;\n  font-size: 12px;\n  vertical-align: middle;\n  width: 25%;\n  min-width: 100px;\n}\n#T_e524f_row0_col4, #T_e524f_row1_col4, #T_e524f_row2_col4, #T_e524f_row3_col4, #T_e524f_row4_col4, #T_e524f_row5_col4, #T_e524f_row6_col4, #T_e524f_row7_col4, #T_e524f_row8_col4, #T_e524f_row9_col4, #T_e524f_row10_col4, #T_e524f_row11_col4, #T_e524f_row12_col4, #T_e524f_row13_col4, #T_e524f_row14_col4, #T_e524f_row15_col4, #T_e524f_row16_col4, #T_e524f_row17_col4 {\n  text-align: left;\n  font-size: 12px;\n  vertical-align: middle;\n  width: 20%;\n  min-width: 150px;\n}\n#T_e524f_row0_col5, #T_e524f_row1_col5, #T_e524f_row2_col5, #T_e524f_row3_col5, #T_e524f_row4_col5, #T_e524f_row5_col5, #T_e524f_row6_col5, #T_e524f_row7_col5, #T_e524f_row8_col5, #T_e524f_row9_col5, #T_e524f_row10_col5, #T_e524f_row11_col5, #T_e524f_row12_col5, #T_e524f_row13_col5, #T_e524f_row14_col5, #T_e524f_row15_col5, #T_e524f_row16_col5, #T_e524f_row17_col5 {\n  text-align: left;\n  font-size: 12px;\n  vertical-align: middle;\n  width: 10%;\n}\n</style>\n<table id=\"T_e524f\">\n  <caption><strong>Data Frame Summary</strong><br>df<br>Dimensions: 26,759 x 18<br>Duplicates: 0</caption>\n  <thead>\n    <tr>\n      <th id=\"T_e524f_level0_col0\" class=\"col_heading level0 col0\" >No</th>\n      <th id=\"T_e524f_level0_col1\" class=\"col_heading level0 col1\" >Variable</th>\n      <th id=\"T_e524f_level0_col2\" class=\"col_heading level0 col2\" >Stats / Values</th>\n      <th id=\"T_e524f_level0_col3\" class=\"col_heading level0 col3\" >Freqs / (% of Valid)</th>\n      <th id=\"T_e524f_level0_col4\" class=\"col_heading level0 col4\" >Graph</th>\n      <th id=\"T_e524f_level0_col5\" class=\"col_heading level0 col5\" >Missing</th>\n    </tr>\n  </thead>\n  <tbody>\n    <tr>\n      <td id=\"T_e524f_row0_col0\" class=\"data row0 col0\" >1</td>\n      <td id=\"T_e524f_row0_col1\" class=\"data row0 col1\" ><strong>resultId</strong><br>[int64]</td>\n      <td id=\"T_e524f_row0_col2\" class=\"data row0 col2\" >Mean (sd) : 13381.0 (7726.1)<br>min < med < max:<br>1.0 < 13380.0 < 26764.0<br>IQR (CV) : 13379.0 (1.7)</td>\n      <td id=\"T_e524f_row0_col3\" class=\"data row0 col3\" >26,759 distinct values</td>\n      <td id=\"T_e524f_row0_col4\" class=\"data row0 col4\" ><img src = \"data:image/png;base64, iVBORw0KGgoAAAANSUhEUgAAAHoAAAAyCAYAAACTUs/lAAAAOXRFWHRTb2Z0d2FyZQBNYXRwbG90bGliIHZlcnNpb24zLjUuMSwgaHR0cHM6Ly9tYXRwbG90bGliLm9yZy/YYfK9AAAACXBIWXMAAAsTAAALEwEAmpwYAAAA30lEQVR4nO3UMQoCMRBAURXLqbOFjRfxEJ5gzpYTeArvsY2FqdOvrQgLaVbB/1+ZDGHgQ/bLsuz0/w6/XkDfcVy7KKVcI2IaeaT3fo6I2dnx2Y33eLbWbu9nq6EjYsrMx8jDtdZLZt6dHZ/deI/T55lfN4ShIQwNYWgIQ0MYGsLQEIaGMDSEoSEMDWFoCENDGBrC0BCGhjA0hKEhDA1haAhDQxgawtAQhoYwNIShIQwNYWgIQ0MYGsLQEIaGMDSEoSEMDWFoCENDGBrC0BCGhjA0hKEhDA1haAhDQxga4gWhg1ey46OS8wAAAABJRU5ErkJggg==\"></img></td>\n      <td id=\"T_e524f_row0_col5\" class=\"data row0 col5\" >0<br>(0.0%)</td>\n    </tr>\n    <tr>\n      <td id=\"T_e524f_row1_col0\" class=\"data row1 col0\" >2</td>\n      <td id=\"T_e524f_row1_col1\" class=\"data row1 col1\" ><strong>raceId</strong><br>[int64]</td>\n      <td id=\"T_e524f_row1_col2\" class=\"data row1 col2\" >Mean (sd) : 551.7 (313.3)<br>min < med < max:<br>1.0 < 531.0 < 1144.0<br>IQR (CV) : 511.0 (1.8)</td>\n      <td id=\"T_e524f_row1_col3\" class=\"data row1 col3\" >1,125 distinct values</td>\n      <td id=\"T_e524f_row1_col4\" class=\"data row1 col4\" ><img src = \"data:image/png;base64, iVBORw0KGgoAAAANSUhEUgAAAHoAAAAyCAYAAACTUs/lAAAAOXRFWHRTb2Z0d2FyZQBNYXRwbG90bGliIHZlcnNpb24zLjUuMSwgaHR0cHM6Ly9tYXRwbG90bGliLm9yZy/YYfK9AAAACXBIWXMAAAsTAAALEwEAmpwYAAABZUlEQVR4nO3ZMU7DMBiGYRchOYNZ04HNFygX4ASdOIGHLJzJW07Axjm4BAOZs0SqFA6AivyrjdPme5/ZsqK+bZLf3c3z7LB9D2tfAOp4XPsC/tO27VsIYV+ydhzHn2EYPpa+pnu1q33rtsQ7nU6Hrus+S9bmnI/e+6+StYpfiuq/6BDCPqX0XbK27/vX0n2990+GfZ9L990KntEiCC2C0CIILYLQIggt4qYPTJYyTdNLjPG9ZK1l5racEVj3vpRkaMvMnXM+xhiL4jVNc0gpFR3wOFd3npcMbWE8iCk+4KntKqGtx5rOuaIPDtdzNrQlnuWWdcvf+i07G3qpM2msg/FKBC9jd+LS/+YJvSLLPG98D/ozthF6RTVHN57RIggtgtAiCC2C0CIILYLQIggtgtAiCC2C0CIILYLQIggtgtAiCC2C0CIILYLQIggtgtAiCC2C0CIILYLQIggtgtAiCC2C0CJ+AV7haaM2m858AAAAAElFTkSuQmCC\"></img></td>\n      <td id=\"T_e524f_row1_col5\" class=\"data row1 col5\" >0<br>(0.0%)</td>\n    </tr>\n    <tr>\n      <td id=\"T_e524f_row2_col0\" class=\"data row2 col0\" >3</td>\n      <td id=\"T_e524f_row2_col1\" class=\"data row2 col1\" ><strong>driverId</strong><br>[int64]</td>\n      <td id=\"T_e524f_row2_col2\" class=\"data row2 col2\" >Mean (sd) : 278.7 (282.7)<br>min < med < max:<br>1.0 < 172.0 < 862.0<br>IQR (CV) : 342.5 (1.0)</td>\n      <td id=\"T_e524f_row2_col3\" class=\"data row2 col3\" >861 distinct values</td>\n      <td id=\"T_e524f_row2_col4\" class=\"data row2 col4\" ><img src = \"data:image/png;base64, iVBORw0KGgoAAAANSUhEUgAAAHoAAAAyCAYAAACTUs/lAAAAOXRFWHRTb2Z0d2FyZQBNYXRwbG90bGliIHZlcnNpb24zLjUuMSwgaHR0cHM6Ly9tYXRwbG90bGliLm9yZy/YYfK9AAAACXBIWXMAAAsTAAALEwEAmpwYAAABX0lEQVR4nO3asU3EMBiG4YCQksLX5goa5AWOBZiA6iZwy0zpMgEdG7AHDQWp00SKFBYgkn9ix4HvfdqLLEvvnWP5fLMsS4X/77b0BLCPu7UP2ra9OufOMYOM4/g1DMNrumkhtdXQzrlzCOEzZpC+7+/TTQk5sHSLILQIQosgtAhCiyC0CEKLILQIQosgtAhCiyC0CEKLILQIQosgtIjViwcW0zQ9eu9fYp7lNkoZSULXdX3iNsqxsXSLILQIQosgtIgkmzHkt/WePaH/iK337Fm6Rez+i+ZwpYzdQ3O4UgZLtwhCiyC0CEKLILQIQosgtAhCiyC0CEKLOPS/V8Zz8Qfn3Efks3Jn6IcObTwXfwohvEc+K3eGztItgtAiCC3i0O/oXHJdfrDc67KOvZVkaMsmr+u6Z+99VLymaS4hhLfYeey5KZQMbWHd+eeez28RuiDLK2Se50tVVVFfuJ98AyRIec6TWfA8AAAAAElFTkSuQmCC\"></img></td>\n      <td id=\"T_e524f_row2_col5\" class=\"data row2 col5\" >0<br>(0.0%)</td>\n    </tr>\n    <tr>\n      <td id=\"T_e524f_row3_col0\" class=\"data row3 col0\" >4</td>\n      <td id=\"T_e524f_row3_col1\" class=\"data row3 col1\" ><strong>constructorId</strong><br>[int64]</td>\n      <td id=\"T_e524f_row3_col2\" class=\"data row3 col2\" >Mean (sd) : 50.2 (61.6)<br>min < med < max:<br>1.0 < 25.0 < 215.0<br>IQR (CV) : 57.0 (0.8)</td>\n      <td id=\"T_e524f_row3_col3\" class=\"data row3 col3\" >211 distinct values</td>\n      <td id=\"T_e524f_row3_col4\" class=\"data row3 col4\" ><img src = \"data:image/png;base64, iVBORw0KGgoAAAANSUhEUgAAAHoAAAAyCAYAAACTUs/lAAAAOXRFWHRTb2Z0d2FyZQBNYXRwbG90bGliIHZlcnNpb24zLjUuMSwgaHR0cHM6Ly9tYXRwbG90bGliLm9yZy/YYfK9AAAACXBIWXMAAAsTAAALEwEAmpwYAAABS0lEQVR4nO3cMU6EQBiG4dGYQPHbsoWN4QLrBTyEJ/hbr8UJ7LyB97CxkJqGhAQrO0lmZJzB/d6n3Qk72RcmsyRwta5rwOW7rj0BlHGz9UHXdU9mdoo5yDRNn+M4vuSbFnLbDG1mJ3f/iDnIMAx3+aaEv8DSLYLQIggtgtAiCC2C0CIILYLQIggtgtAiCC2C0CIILYLQIggtgtAiCC2C0CIILYLQIggtgtAiCC2C0CIILYLQIggtgtAiNh+ySzHP80Pf988xY3nyso4soZumueXJy2Nj6RZBaBGEFkFoEYQWQWgRhBaR5X90Cm6u1FE8NDdX6mDpFlH8isbv7H2TI6H/ib1vciR0RilXXQhlN5uHDp24Q783s/eaY9u2Pbv7a8zYEMpuNg8dOnGH/ujub7XHxoz7lnIiL8tyDiFE/RY/OXToS5d6Iu/5ri9VWXLpcGaLmgAAAABJRU5ErkJggg==\"></img></td>\n      <td id=\"T_e524f_row3_col5\" class=\"data row3 col5\" >0<br>(0.0%)</td>\n    </tr>\n    <tr>\n      <td id=\"T_e524f_row4_col0\" class=\"data row4 col0\" >5</td>\n      <td id=\"T_e524f_row4_col1\" class=\"data row4 col1\" ><strong>number</strong><br>[object]</td>\n      <td id=\"T_e524f_row4_col2\" class=\"data row4 col2\" >1. 4<br>2. 16<br>3. 11<br>4. 3<br>5. 6<br>6. 8<br>7. 14<br>8. 10<br>9. 20<br>10. 2<br>11. other</td>\n      <td id=\"T_e524f_row4_col3\" class=\"data row4 col3\" >1,019 (3.8%)<br>1,005 (3.8%)<br>1,001 (3.7%)<br>994 (3.7%)<br>994 (3.7%)<br>993 (3.7%)<br>982 (3.7%)<br>976 (3.6%)<br>972 (3.6%)<br>959 (3.6%)<br>16,864 (63.0%)</td>\n      <td id=\"T_e524f_row4_col4\" class=\"data row4 col4\" ><img src = \"data:image/png;base64, iVBORw0KGgoAAAANSUhEUgAAAG8AAACzCAYAAACHOUI0AAAAOXRFWHRTb2Z0d2FyZQBNYXRwbG90bGliIHZlcnNpb24zLjUuMSwgaHR0cHM6Ly9tYXRwbG90bGliLm9yZy/YYfK9AAAACXBIWXMAAAsTAAALEwEAmpwYAAACHUlEQVR4nO3asWnDUBhG0Si4fK1w4akygWbTBJkqRVSrVwrjyhhMGnHhnNKV4MIXeH+m4zg+aPo8+wP4P/HCxAsTL0y8MPHCxAub5nn+GmNcHz/s+/67bdv3mR/Fey5jjOuyLD+PH9Z1vZ35QbzPbIaJFyZemHhh4oWJFyZemHhh4oWJF+ZtM2zyD0hdZjPMbIY5CYWZzTDxwsQLEy9MvDDxwsQLEy9MvDDxwrxthjkJhZnNMLMZ5iQUZjbDxAsTL0y8MPHCxAsTL0y8MPHCxAvzthnmJBRmNsPMZpiTUJjZDBMvTLww8cLECxMvTLww8cLECxMvzNtmmJNQmNkMM5thTkJhZjNMvDDxwsQLEy9MvDDxwsQLEy9MvDBvm2FOQmFmM8xshjkJhZnNMPHCxAsTL0y8MPHCxAsTL0y8MPHCvG2GOQmFmc0wsxnmJBRmNsPECxMvTLww8cLECxMvTLww8cLEC/O2GeYkFGY2w8xmmJNQmNkMEy9MvDDxwsQLEy9MvDDxwsQLEy9MvDAP02HueWFmM8xshrnnhZnNMPHCxAsTL0y8MPHCxAsTL0y8MPHCvG2GOQmFmc0wsxnmJBRmNsPECxMvTLww8cLECxMvTLww8cLEC/O2GeYkFGY2w55mk7vCn4+nkxB3hdOY2QwTL0y8MPHCxAsTL0y8MPHCxAsTL8zb5guFt00noTCzGSZemHhh4oWJFyZe2B+JdAONihahmQAAAABJRU5ErkJggg==\"></img></td>\n      <td id=\"T_e524f_row4_col5\" class=\"data row4 col5\" >0<br>(0.0%)</td>\n    </tr>\n    <tr>\n      <td id=\"T_e524f_row5_col0\" class=\"data row5 col0\" >6</td>\n      <td id=\"T_e524f_row5_col1\" class=\"data row5 col1\" ><strong>grid</strong><br>[int64]</td>\n      <td id=\"T_e524f_row5_col2\" class=\"data row5 col2\" >Mean (sd) : 11.1 (7.2)<br>min < med < max:<br>0.0 < 11.0 < 34.0<br>IQR (CV) : 12.0 (1.5)</td>\n      <td id=\"T_e524f_row5_col3\" class=\"data row5 col3\" >35 distinct values</td>\n      <td id=\"T_e524f_row5_col4\" class=\"data row5 col4\" ><img src = \"data:image/png;base64, iVBORw0KGgoAAAANSUhEUgAAAHoAAAAyCAYAAACTUs/lAAAAOXRFWHRTb2Z0d2FyZQBNYXRwbG90bGliIHZlcnNpb24zLjUuMSwgaHR0cHM6Ly9tYXRwbG90bGliLm9yZy/YYfK9AAAACXBIWXMAAAsTAAALEwEAmpwYAAABQ0lEQVR4nO3aMWqFMByA8bQUXNLVN3QpXqC9QA/RE2TttTxBT9F7dOlQZxdBsCeQGohR/L7f6iMEPl70j94tyxJ0ffdHb0B1PKxdaNv2PcZ427LIOI6/wzB8ltuWSlsNHWO8pZR+tizS9/1TuS1pDx7dEIaGMDTE6j16Lz7kHaN6aB/yjuHRDVH9H30GxNsHMjTx9uHRDWFoCENDGBrC0BCGhigyXk3T9Np13ceW387z/BJC2DTa5Kw7juNzjPG79B6uokjopmkeM+bSt73WTSl9ld7DVXh0QxgawtAQhoYwNIShIQwNYWgIQ0MYGsLQEIaGMDQE8ivQHJmvSk/7abCh/5H5qvS0nwZ7dEMYGsLQEIaGMDSET90F5YxiIdQdxwxdUM4oFkLdccyjG8LQEIaGMDSEoSEMDWFoCOfoA9V81/0HDAxyLe53Q74AAAAASUVORK5CYII=\"></img></td>\n      <td id=\"T_e524f_row5_col5\" class=\"data row5 col5\" >0<br>(0.0%)</td>\n    </tr>\n    <tr>\n      <td id=\"T_e524f_row6_col0\" class=\"data row6 col0\" >7</td>\n      <td id=\"T_e524f_row6_col1\" class=\"data row6 col1\" ><strong>position</strong><br>[object]</td>\n      <td id=\"T_e524f_row6_col2\" class=\"data row6 col2\" >1. \\N<br>2. 3<br>3. 4<br>4. 2<br>5. 5<br>6. 1<br>7. 6<br>8. 7<br>9. 8<br>10. 9<br>11. other</td>\n      <td id=\"T_e524f_row6_col3\" class=\"data row6 col3\" >10,953 (40.9%)<br>1,135 (4.2%)<br>1,135 (4.2%)<br>1,133 (4.2%)<br>1,131 (4.2%)<br>1,128 (4.2%)<br>1,124 (4.2%)<br>1,104 (4.1%)<br>1,076 (4.0%)<br>1,038 (3.9%)<br>5,802 (21.7%)</td>\n      <td id=\"T_e524f_row6_col4\" class=\"data row6 col4\" ><img src = \"data:image/png;base64, iVBORw0KGgoAAAANSUhEUgAAAG8AAACzCAYAAACHOUI0AAAAOXRFWHRTb2Z0d2FyZQBNYXRwbG90bGliIHZlcnNpb24zLjUuMSwgaHR0cHM6Ly9tYXRwbG90bGliLm9yZy/YYfK9AAAACXBIWXMAAAsTAAALEwEAmpwYAAACKklEQVR4nO3csU3DUBhGUYwo3VopmIoJPJsnYCoKXLs3A8RNUKKnK50zgaUrfcX7CdN5nm80vY/+AP5PvDDxwsQLEy9MvDDxwqZlWb7meb6N/pBHHcfxu+/79+jvGOljnufbuq4/oz/kUdu2fY7+htHMZph4YeKFiRcmXph4YeKFiRcmXph4Yd42wyZ/gNRlNsMuZ9MkNVyehJxbGsxmmHhh4oWJFyZemHhh4oWJFyZemHhh3jbDnITCzGaY2QxzEgozm2HihYkXJl6YeGHihYkXJl6YeGHihXnbDHMSCjObYWYzzEkozGyGiRcmXph4YeKFiRcmXph4YeKFiRfmbTPMSSjMbIaZzTAnoTCzGSZemHhh4oWJFyZemHhh4oWJFyZemLfNMCehMLMZZjbDnITCzGaYeGHihYkXJl6YeGHihYkXJl6YeGHeNsOchMLMZpjZDHMSCjObYeKFiRcmXph4YeKFiRcmXph4YeKFedsMcxIKM5thZjPMSSjMbIaJFyZemHhh4oWJFyZemHhh4oWJFyZemIfpMPe8MLMZdjebJrPj7p7nltdhNsPECxMvTLww8cLECxMvTLww8cLEC/O2GeYkFGY2w8xmmJNQmNkMEy9MvDDxwsQLEy9MvDDxwsQLEy/M22aYk1CY2Qy7/HHlM5nh17n8r3/P5MT0OmYzTLww8cLECxMvTLww8cLECxMvTLwwb5thTkJhZjNMvDDxwsQLEy9MvLA/xM0DjT/FLjwAAAAASUVORK5CYII=\"></img></td>\n      <td id=\"T_e524f_row6_col5\" class=\"data row6 col5\" >0<br>(0.0%)</td>\n    </tr>\n    <tr>\n      <td id=\"T_e524f_row7_col0\" class=\"data row7 col0\" >8</td>\n      <td id=\"T_e524f_row7_col1\" class=\"data row7 col1\" ><strong>positionText</strong><br>[object]</td>\n      <td id=\"T_e524f_row7_col2\" class=\"data row7 col2\" >1. R<br>2. F<br>3. 3<br>4. 4<br>5. 2<br>6. 5<br>7. 1<br>8. 6<br>9. 7<br>10. 8<br>11. other</td>\n      <td id=\"T_e524f_row7_col3\" class=\"data row7 col3\" >8,897 (33.2%)<br>1,368 (5.1%)<br>1,135 (4.2%)<br>1,135 (4.2%)<br>1,133 (4.2%)<br>1,131 (4.2%)<br>1,128 (4.2%)<br>1,124 (4.2%)<br>1,104 (4.1%)<br>1,076 (4.0%)<br>7,528 (28.1%)</td>\n      <td id=\"T_e524f_row7_col4\" class=\"data row7 col4\" ><img src = \"data:image/png;base64, iVBORw0KGgoAAAANSUhEUgAAAG8AAACzCAYAAACHOUI0AAAAOXRFWHRTb2Z0d2FyZQBNYXRwbG90bGliIHZlcnNpb24zLjUuMSwgaHR0cHM6Ly9tYXRwbG90bGliLm9yZy/YYfK9AAAACXBIWXMAAAsTAAALEwEAmpwYAAACMElEQVR4nO3bsWnDYBhF0SikVCtcZKpMoNk0QaZKEdfqldZguYnB0oVzJhBceMX/2cO2bW80vR/9AfyfeGHihYkXJl6YeGHihQ3TNH2N43g5+kNurev6e71ev4/+jrP7GMfxMs/zz9EfcmtZls+jv6HAbIaJFyZemHhh4oWJFyZemHhh4oWJF+ZtM2zwA6Qusxn2cDZN1/k9PAk5y5yf2QwTL0y8MPHCxAsTL0y8MPHCxAsTL8zbZpiTUJjZDNudTZPZsHsScg5qMJth4oWJFyZemHhh4oWJFyZemHhh4oV52wxzEgozm2FmM8xJKMxshokXJl6YeGHihYkXJl6YeGHihYkX5m0zzEkozGyGmc0wJ6EwsxkmXph4YeKFiRcmXph4YeKFiRcmXpi3zTAnoTCzGWY2w5yEwsxmmHhh4oWJFyZemHhh4oWJFyZemHhh3jbDnITCzGaY2QxzEgozm2HihYkXJl6YeGHihYkXJl6YeGHihXnbDHMSCjObYWYzzEkozGyGiRcmXph4YeKFiRcmXph4YeKFiRcmXpiH6TD3vDCzGWY2w9zzwsxmmHhh4oWJFyZemHhh4oWJFyZemHhh3jbDnITCzGbY3WyazI67k5BzUIfZDBMvTLww8cLECxMvTLww8cLECxMvzNtmmJNQmNkM272kv4qJfs7uv4RexfnpOWYzTLww8cLECxMvTLww8cLECxMvTLwwb5thTkJhZjNMvDDxwsQLEy9MvLA/xM0DjTBfa8MAAAAASUVORK5CYII=\"></img></td>\n      <td id=\"T_e524f_row7_col5\" class=\"data row7 col5\" >0<br>(0.0%)</td>\n    </tr>\n    <tr>\n      <td id=\"T_e524f_row8_col0\" class=\"data row8 col0\" >9</td>\n      <td id=\"T_e524f_row8_col1\" class=\"data row8 col1\" ><strong>positionOrder</strong><br>[int64]</td>\n      <td id=\"T_e524f_row8_col2\" class=\"data row8 col2\" >Mean (sd) : 12.8 (7.7)<br>min < med < max:<br>1.0 < 12.0 < 39.0<br>IQR (CV) : 12.0 (1.7)</td>\n      <td id=\"T_e524f_row8_col3\" class=\"data row8 col3\" >39 distinct values</td>\n      <td id=\"T_e524f_row8_col4\" class=\"data row8 col4\" ><img src = \"data:image/png;base64, iVBORw0KGgoAAAANSUhEUgAAAHoAAAAyCAYAAACTUs/lAAAAOXRFWHRTb2Z0d2FyZQBNYXRwbG90bGliIHZlcnNpb24zLjUuMSwgaHR0cHM6Ly9tYXRwbG90bGliLm9yZy/YYfK9AAAACXBIWXMAAAsTAAALEwEAmpwYAAABPklEQVR4nO3cvW2EMABAYRKdROO0XJEm8gRZIBOkygRuMxMdE9wU2SNNilDTUJEJILbCwYX3vhYLIT3zc7Z0d9M0VTq++70vQNs4zR1omuYthHDOOckwDE8hhM8rjP3u+/6SM1bLZkOHEM4ppa+ck3Rd95JS+lh7bNu2rzHG3MnmpFgwG/oW1HX9UDDZHq99Pf+Z72gIQ0MYGsLQEIaGMDSEoSEMDWFoCENDGBripte6S4zj+BxjfM8ZS9wAOUxoN0CWHSZ0CeLdjwxNvPv9GIMwNIShIQwNYWgIQ0MYGsLQEIaGMDSEoSEMDWFoCENDILcpSxxl79rQvzjK3rWPbghDQxgawtAQhoYwNIShIfwdvaKSxZWq2naBxdArKllcqaptF1h8dEMYGsLQEL6jd7Tlzpihd1Ty8fbXfzr+ASipf6EsIZGmAAAAAElFTkSuQmCC\"></img></td>\n      <td id=\"T_e524f_row8_col5\" class=\"data row8 col5\" >0<br>(0.0%)</td>\n    </tr>\n    <tr>\n      <td id=\"T_e524f_row9_col0\" class=\"data row9 col0\" >10</td>\n      <td id=\"T_e524f_row9_col1\" class=\"data row9 col1\" ><strong>points</strong><br>[float64]</td>\n      <td id=\"T_e524f_row9_col2\" class=\"data row9 col2\" >Mean (sd) : 2.0 (4.4)<br>min < med < max:<br>0.0 < 0.0 < 50.0<br>IQR (CV) : 2.0 (0.5)</td>\n      <td id=\"T_e524f_row9_col3\" class=\"data row9 col3\" >39 distinct values</td>\n      <td id=\"T_e524f_row9_col4\" class=\"data row9 col4\" ><img src = \"data:image/png;base64, iVBORw0KGgoAAAANSUhEUgAAAHoAAAAyCAYAAACTUs/lAAAAOXRFWHRTb2Z0d2FyZQBNYXRwbG90bGliIHZlcnNpb24zLjUuMSwgaHR0cHM6Ly9tYXRwbG90bGliLm9yZy/YYfK9AAAACXBIWXMAAAsTAAALEwEAmpwYAAAA/0lEQVR4nO3cMQ6CMBhAYTUmLHWFwa0n8B5OnoCVM3XjBJ7KQWYWJjxBE0gqGN/71pKmyQv/+B/neT7o/532foC2cc4d1HX9CCE0Sy4Zx/E9DMOz3LNUWjZ0CKFp2/a15JK+76/lnqRvcHRDGBrC0BCGhjA0hKEhDA1haAhDQxgawtAQhoYwNIShIQwNYWgIQ0MYGsLQEIaGMDSEoSEMDWFoCENDGBrC0BCGhjA0hKEhDA1haAhDQxgawtAQhoYwNIShIQwNYWgIQ0NkNweuMU3TLcbYLfnWdZL7KBK6qqqL6yR/m6MbosgfvYZjfh+bh14z5lNK9xhj8VXSxBXVH2ODPezER9soAAAAAElFTkSuQmCC\"></img></td>\n      <td id=\"T_e524f_row9_col5\" class=\"data row9 col5\" >0<br>(0.0%)</td>\n    </tr>\n    <tr>\n      <td id=\"T_e524f_row10_col0\" class=\"data row10 col0\" >11</td>\n      <td id=\"T_e524f_row10_col1\" class=\"data row10 col1\" ><strong>laps</strong><br>[int64]</td>\n      <td id=\"T_e524f_row10_col2\" class=\"data row10 col2\" >Mean (sd) : 46.3 (29.5)<br>min < med < max:<br>0.0 < 53.0 < 200.0<br>IQR (CV) : 43.0 (1.6)</td>\n      <td id=\"T_e524f_row10_col3\" class=\"data row10 col3\" >172 distinct values</td>\n      <td id=\"T_e524f_row10_col4\" class=\"data row10 col4\" ><img src = \"data:image/png;base64, iVBORw0KGgoAAAANSUhEUgAAAHoAAAAyCAYAAACTUs/lAAAAOXRFWHRTb2Z0d2FyZQBNYXRwbG90bGliIHZlcnNpb24zLjUuMSwgaHR0cHM6Ly9tYXRwbG90bGliLm9yZy/YYfK9AAAACXBIWXMAAAsTAAALEwEAmpwYAAABIUlEQVR4nO3csc2CQBxAcTQmNGeLhR0L+C3gEE5A61pM4FQWUtOQkPBNIOHiiXrv/epLuOTFP4kXbjNNU6H8bT+9Aa1jt/YDq6q6hBAOS9b2ff/ouu727j0RrB46hHBomua+ZG3btsd374fC0Q2x+i86xjAMf3VdX5esdczP++rQZVnuHfNpOLohDA1haAhDQxgawtAQhoYwNMTTP0w8fMjL09AePuTF0Q1haAhDQxgawtAQhoYwNIShIQwNYWgIQ0MYGsLQEIaGMDREki81Yj6dGcfxVBTFonNupZMkdOSnM+cUz1QcRzeEoSEMDWFoCENDGBrC0BCGhjA0hKEhDA3x1ddPxfBOsnnZhPZOsnmObghDQ2QzumP84vv81Rso/gFTjFm3MApiEgAAAABJRU5ErkJggg==\"></img></td>\n      <td id=\"T_e524f_row10_col5\" class=\"data row10 col5\" >0<br>(0.0%)</td>\n    </tr>\n    <tr>\n      <td id=\"T_e524f_row11_col0\" class=\"data row11 col0\" >12</td>\n      <td id=\"T_e524f_row11_col1\" class=\"data row11 col1\" ><strong>time</strong><br>[object]</td>\n      <td id=\"T_e524f_row11_col2\" class=\"data row11 col2\" >1. \\N<br>2. +8:22.19<br>3. +46.2<br>4. +5.7<br>5. +0.7<br>6. +1:29.6<br>7. +24.2<br>8. +12.8<br>9. +6.1<br>10. +58.2<br>11. other</td>\n      <td id=\"T_e524f_row11_col3\" class=\"data row11 col3\" >19,079 (71.3%)<br>5 (0.0%)<br>4 (0.0%)<br>4 (0.0%)<br>4 (0.0%)<br>4 (0.0%)<br>3 (0.0%)<br>3 (0.0%)<br>3 (0.0%)<br>3 (0.0%)<br>7,647 (28.6%)</td>\n      <td id=\"T_e524f_row11_col4\" class=\"data row11 col4\" ><img src = \"data:image/png;base64, iVBORw0KGgoAAAANSUhEUgAAAG8AAACzCAYAAACHOUI0AAAAOXRFWHRTb2Z0d2FyZQBNYXRwbG90bGliIHZlcnNpb24zLjUuMSwgaHR0cHM6Ly9tYXRwbG90bGliLm9yZy/YYfK9AAAACXBIWXMAAAsTAAALEwEAmpwYAAACQ0lEQVR4nO3asU3DUBhGUTuifK2Vgh7mYQLP5gnYh54C1+7DDqF4uuicBfykK/1FvqyPx2Oh6Tb7ATxPvDDxwsQLEy9MvDDxwtZt2z7GGPfZD6m6ruvnPM/PGd9+GWPc933/nvHx/+A4jtdZ33Y2w8QLEy9MvDDxwsQLEy9MvDDxwsQL89vmH838bXP1B6QuZzPstq7r++xH8Jzbsixvsx/Bc5zNMPHCxAsTL0y8MPHCxAsTL0y8MPHCbsuyfM1+BM8xCYU5m2EmoTCTUJizGSZemHhh4oWJFyZemHhh4oWJFyZemEkozCQU5myGmYTCTEJhzmaYeGHihYkXJl6YeGHihYkXJl6YeGEmoTCTUJizGWYSCjMJhTmbYeKFiRcmXph4YeKFiRcmXph4YeKFmYTCTEJhzmaYSSjMJBTmbIaJFyZemHhh4oWJFyZemHhh4oWJF2YSCjMJhTmbYSahMJNQmLMZJl6YeGHihYkXJl6YeGHihYkXJl6YSSjMJBTmbIaZhMJMQmHOZph4YeKFiRcmXph4YeKFiRcmXph4YeKF2fPC7HlhzmaYPS/MnhfmbIaJFyZemHhh4oWJFyZemHhh4oWJF2YSCjMJhTmbYSahMJNQmLMZJl6YeGHihYkXJl6YeGHihYkXJl6YSSjMJBTmbIat27Z9jDHusx5wXdfPeZ6fs75f9jLGuO/7/j3rAcdxvM76dp2zGSZemHhh4oWJFyZemHhh4oWJFyZemN82w0xCYc5mmHhh4oWJFyZemHhhvz7nWBvlrXZlAAAAAElFTkSuQmCC\"></img></td>\n      <td id=\"T_e524f_row11_col5\" class=\"data row11 col5\" >0<br>(0.0%)</td>\n    </tr>\n    <tr>\n      <td id=\"T_e524f_row12_col0\" class=\"data row12 col0\" >13</td>\n      <td id=\"T_e524f_row12_col1\" class=\"data row12 col1\" ><strong>milliseconds</strong><br>[object]</td>\n      <td id=\"T_e524f_row12_col2\" class=\"data row12 col2\" >1. \\N<br>2. 14259460<br>3. 10928200<br>4. 5350182<br>5. 5593660<br>6. 8867400<br>7. 4925000<br>8. 5808819<br>9. 14507710<br>10. 14260930<br>11. other</td>\n      <td id=\"T_e524f_row12_col3\" class=\"data row12 col3\" >19,079 (71.3%)<br>5 (0.0%)<br>3 (0.0%)<br>2 (0.0%)<br>2 (0.0%)<br>2 (0.0%)<br>2 (0.0%)<br>2 (0.0%)<br>2 (0.0%)<br>2 (0.0%)<br>7,658 (28.6%)</td>\n      <td id=\"T_e524f_row12_col4\" class=\"data row12 col4\" ><img src = \"data:image/png;base64, iVBORw0KGgoAAAANSUhEUgAAAG8AAACzCAYAAACHOUI0AAAAOXRFWHRTb2Z0d2FyZQBNYXRwbG90bGliIHZlcnNpb24zLjUuMSwgaHR0cHM6Ly9tYXRwbG90bGliLm9yZy/YYfK9AAAACXBIWXMAAAsTAAALEwEAmpwYAAACQ0lEQVR4nO3asU3DUBhGUTuifK2Vgh7mYQLP5gnYh54C1+7DDqF4uuicBfykK/1FvqyPx2Oh6Tb7ATxPvDDxwsQLEy9MvDDxwtZt2z7GGPfZD6m6ruvnPM/PGd9+GWPc933/nvHx/+A4jtdZ33Y2w8QLEy9MvDDxwsQLEy9MvDDxwsQL89vmH838bXP1B6QuZzPstq7r++xH8Jzbsixvsx/Bc5zNMPHCxAsTL0y8MPHCxAsTL0y8MPHCbsuyfM1+BM8xCYU5m2EmoTCTUJizGSZemHhh4oWJFyZemHhh4oWJFyZemEkozCQU5myGmYTCTEJhzmaYeGHihYkXJl6YeGHihYkXJl6YeGEmoTCTUJizGWYSCjMJhTmbYeKFiRcmXph4YeKFiRcmXph4YeKFmYTCTEJhzmaYSSjMJBTmbIaJFyZemHhh4oWJFyZemHhh4oWJF2YSCjMJhTmbYSahMJNQmLMZJl6YeGHihYkXJl6YeGHihYkXJl6YSSjMJBTmbIaZhMJMQmHOZph4YeKFiRcmXph4YeKFiRcmXph4YeKF2fPC7HlhzmaYPS/MnhfmbIaJFyZemHhh4oWJFyZemHhh4oWJF2YSCjMJhTmbYSahMJNQmLMZJl6YeGHihYkXJl6YeGHihYkXJl6YSSjMJBTmbIat27Z9jDHusx5wXdfPeZ6fs75f9jLGuO/7/j3rAcdxvM76dp2zGSZemHhh4oWJFyZemHhh4oWJFyZemN82w0xCYc5mmHhh4oWJFyZemHhhvz7nWBvlrXZlAAAAAElFTkSuQmCC\"></img></td>\n      <td id=\"T_e524f_row12_col5\" class=\"data row12 col5\" >0<br>(0.0%)</td>\n    </tr>\n    <tr>\n      <td id=\"T_e524f_row13_col0\" class=\"data row13 col0\" >14</td>\n      <td id=\"T_e524f_row13_col1\" class=\"data row13 col1\" ><strong>fastestLap</strong><br>[object]</td>\n      <td id=\"T_e524f_row13_col2\" class=\"data row13 col2\" >1. \\N<br>2. 50<br>3. 52<br>4. 53<br>5. 51<br>6. 48<br>7. 44<br>8. 55<br>9. 49<br>10. 43<br>11. other</td>\n      <td id=\"T_e524f_row13_col3\" class=\"data row13 col3\" >18,507 (69.2%)<br>309 (1.2%)<br>289 (1.1%)<br>287 (1.1%)<br>275 (1.0%)<br>230 (0.9%)<br>224 (0.8%)<br>220 (0.8%)<br>219 (0.8%)<br>217 (0.8%)<br>5,982 (22.4%)</td>\n      <td id=\"T_e524f_row13_col4\" class=\"data row13 col4\" ><img src = \"data:image/png;base64, iVBORw0KGgoAAAANSUhEUgAAAG8AAACzCAYAAACHOUI0AAAAOXRFWHRTb2Z0d2FyZQBNYXRwbG90bGliIHZlcnNpb24zLjUuMSwgaHR0cHM6Ly9tYXRwbG90bGliLm9yZy/YYfK9AAAACXBIWXMAAAsTAAALEwEAmpwYAAACQElEQVR4nO3awWnrQBhGUSl4OVvhRapyBapNFaSqLOz17P1qeCZGueScApKBC39AX9bn87nQ9HH2A3ideGHihYkXJl6YeGHiha3btt3GGNezH1Iy57w/Ho+vs99xGWNc933/PvshJcdxfJ79hmVxNtPECxMvTLww8cLECxMvTLww8cLEC/Nt8wW/5dvm6h+QupzNsHXbttuyLMtvOAP8n4u/d13OZph4YeKFiRcmXph4YeKFiRcmXph4YZc55/3sR/Aak1CYsxlmEgozCYU5m2HihYkXJl6YeGHihYkXJl6YeGHihZmEwkxCYc5mmEkozCQU5myGiRcmXph4YeKFiRcmXph4YeKFiRdmEgozCYU5m2EmoTCTUJizGSZemHhh4oWJFyZemHhh4oWJFyZemEkozCQU5myGmYTCTEJhzmaYeGHihYkXJl6YeGHihYkXJl6YeGEmoTCTUJizGWYSCjMJhTmbYeKFiRcmXph4YeKFiRcmXph4YeKFmYTCTEJhzmaYSSjMJBTmbIaJFyZemHhh4oWJFyZemHhh4oWJFyZemD0vzJ4X5myG2fPC7HlhzmaYeGHihYkXJl6YeGHihYkXJl6YeGEmoTCTUJizGWYSCjMJhTmbYeKFiRcmXph4YeKFiRcmXph4YeKFmYTCTEJhzmbYum3b7d3LwpzzbnL6eZcxxnXf9+93/pLjOD7f+fP/KmczTLww8cLECxMvTLww8cLECxMvTLww3zbDTEJhzmaYeGHihYkXJl6YeGH/ALeplaHMQrviAAAAAElFTkSuQmCC\"></img></td>\n      <td id=\"T_e524f_row13_col5\" class=\"data row13 col5\" >0<br>(0.0%)</td>\n    </tr>\n    <tr>\n      <td id=\"T_e524f_row14_col0\" class=\"data row14 col0\" >15</td>\n      <td id=\"T_e524f_row14_col1\" class=\"data row14 col1\" ><strong>rank</strong><br>[object]</td>\n      <td id=\"T_e524f_row14_col2\" class=\"data row14 col2\" >1. \\N<br>2. 2<br>3. 6<br>4. 5<br>5. 1<br>6. 3<br>7. 4<br>8. 10<br>9. 11<br>10. 7<br>11. other</td>\n      <td id=\"T_e524f_row14_col3\" class=\"data row14 col3\" >18,249 (68.2%)<br>410 (1.5%)<br>410 (1.5%)<br>410 (1.5%)<br>410 (1.5%)<br>410 (1.5%)<br>410 (1.5%)<br>409 (1.5%)<br>409 (1.5%)<br>409 (1.5%)<br>4,823 (18.0%)</td>\n      <td id=\"T_e524f_row14_col4\" class=\"data row14 col4\" ><img src = \"data:image/png;base64, iVBORw0KGgoAAAANSUhEUgAAAG8AAACzCAYAAACHOUI0AAAAOXRFWHRTb2Z0d2FyZQBNYXRwbG90bGliIHZlcnNpb24zLjUuMSwgaHR0cHM6Ly9tYXRwbG90bGliLm9yZy/YYfK9AAAACXBIWXMAAAsTAAALEwEAmpwYAAACNElEQVR4nO3asWnDUBhGUcm4fK1x4akygWbTBJkqRVyrdyq7DEkwkS+cM4ARXPgC7898u90mmg57fwB/J16YeGHihYkXJl6YeGHz6XR6G2Oc9/6Qim3bPq/X6/ve3zFN03QcY5yXZfnY+0Mq1nW97P0Nd2YzTLww8cLECxMvTLww8cLECxMvTLwwb5u/9Epvm7N/QOoym2GP2XylOeBnDveTkL97PWYzTLww8cLECxMvTLww8cLECxMvTLwwb5thTkJhZjPMbIY5CYWZzTDxwsQLEy9MvDDxwsQLEy9MvDDxwrxthjkJhZnNMLMZ5iQUZjbDxAsTL0y8MPHCxAsTL0y8MPHCxAvzthnmJBRmNsPMZpiTUJjZDBMvTLww8cLECxMvTLww8cLECxMvzNtmmJNQmNkMM5thTkJhZjNMvDDxwsQLEy9MvDDxwsQLEy9MvDBvm2FOQmFmM8xshjkJhZnNMPHCxAsTL0y8MPHCxAsTL0y8MPHCvG2GOQmFmc0wsxnmJBRmNsPECxMvTLww8cLECxMvTLww8cLECxMvzMN0mHtemNkMM5th7nlhZjNMvDDxwsQLEy9MvDDxwsQLEy9MvDBvm2FOQmFmM8xshjkJhZnNMPHCxAsTL0y8MPHCxAsTL0y8MPHCvG2GOQmFmc2wx2w+6wfN7/853k9Cz/rBdV0vz/otvmc2w8QLEy9MvDDxwsQLEy9MvDDxwsQL87YZ5iQUZjbDxAsTL0y8MPHCxAv7AsDW85E5/xciAAAAAElFTkSuQmCC\"></img></td>\n      <td id=\"T_e524f_row14_col5\" class=\"data row14 col5\" >0<br>(0.0%)</td>\n    </tr>\n    <tr>\n      <td id=\"T_e524f_row15_col0\" class=\"data row15 col0\" >16</td>\n      <td id=\"T_e524f_row15_col1\" class=\"data row15 col1\" ><strong>fastestLapTime</strong><br>[object]</td>\n      <td id=\"T_e524f_row15_col2\" class=\"data row15 col2\" >1. \\N<br>2. 1:18.904<br>3. 1:43.026<br>4. 1:14.117<br>5. 1:17.495<br>6. 1:18.262<br>7. 1:18.069<br>8. 1:18.462<br>9. 1:34.090<br>10. 1:35.816<br>11. other</td>\n      <td id=\"T_e524f_row15_col3\" class=\"data row15 col3\" >18,507 (69.2%)<br>4 (0.0%)<br>4 (0.0%)<br>4 (0.0%)<br>4 (0.0%)<br>4 (0.0%)<br>3 (0.0%)<br>3 (0.0%)<br>3 (0.0%)<br>3 (0.0%)<br>8,220 (30.7%)</td>\n      <td id=\"T_e524f_row15_col4\" class=\"data row15 col4\" ><img src = \"data:image/png;base64, iVBORw0KGgoAAAANSUhEUgAAAG8AAACzCAYAAACHOUI0AAAAOXRFWHRTb2Z0d2FyZQBNYXRwbG90bGliIHZlcnNpb24zLjUuMSwgaHR0cHM6Ly9tYXRwbG90bGliLm9yZy/YYfK9AAAACXBIWXMAAAsTAAALEwEAmpwYAAACRElEQVR4nO3asW2sQBhGUVg5nBRt4NyvHldAbVTgfpw7MDH5vh5Ixlc6p4KRrvQHfKyv12uh6TH7AdwnXph4YeKFiRcmXph4Yeu2bZ9jjOfsh5Rc1/V7nufX7He8jTGe+77/zH5IyXEc77PfsCzOZpp4YeKFiRcmXph4YeKFiRcmXph4Yb5t3vBXvm2ufkDqcjbDHuu6/pv9CO55LMvyMfsR3ONshokXJl6YeGHihYkXJl6YeGHihYkX9liW5Xv2I7jHJBTmbIaZhMJMQmHOZph4YeKFiRcmXph4YeKFiRcmXph4YSahMJNQmLMZZhIKMwmFOZth4oWJFyZemHhh4oWJFyZemHhh4oWZhMJMQmHOZphJKMwkFOZshokXJl6YeGHihYkXJl6YeGHihYkXZhIKMwmFOZthJqEwk1CYsxkmXph4YeKFiRcmXph4YeKFiRcmXphJKMwkFOZshpmEwkxCYc5mmHhh4oWJFyZemHhh4oWJFyZemHhhJqEwk1CYsxlmEgozCYU5m2HihYkXJl6YeGHihYkXJl6YeGHihYkXZs8Ls+eFOZth9rwwe16YsxkmXph4YeKFiRcmXph4YeKFiRcmXphJKMwkFOZshpmEwkxCYc5mmHhh4oWJFyZemHhh4oWJFyZemHhhJqEwk1CYsxm2btv2OcZ4zn7IdV2/53l+zX5HydsY47nv+8/shxzH8T77DTXOZph4YeKFiRcmXph4YeKFiRcmXph4Yb5thpmEwpzNMPHCxAsTL0y8MPHC/gOAb1gbKAC9GQAAAABJRU5ErkJggg==\"></img></td>\n      <td id=\"T_e524f_row15_col5\" class=\"data row15 col5\" >0<br>(0.0%)</td>\n    </tr>\n    <tr>\n      <td id=\"T_e524f_row16_col0\" class=\"data row16 col0\" >17</td>\n      <td id=\"T_e524f_row16_col1\" class=\"data row16 col1\" ><strong>fastestLapSpeed</strong><br>[object]</td>\n      <td id=\"T_e524f_row16_col2\" class=\"data row16 col2\" >1. \\N<br>2. 207.069<br>3. 202.685<br>4. 188.806<br>5. 201.512<br>6. 201.330<br>7. 209.244<br>8. 206.625<br>9. 202.871<br>10. 225.876<br>11. other</td>\n      <td id=\"T_e524f_row16_col3\" class=\"data row16 col3\" >18,507 (69.2%)<br>4 (0.0%)<br>3 (0.0%)<br>3 (0.0%)<br>3 (0.0%)<br>3 (0.0%)<br>3 (0.0%)<br>3 (0.0%)<br>3 (0.0%)<br>3 (0.0%)<br>8,224 (30.7%)</td>\n      <td id=\"T_e524f_row16_col4\" class=\"data row16 col4\" ><img src = \"data:image/png;base64, iVBORw0KGgoAAAANSUhEUgAAAG8AAACzCAYAAACHOUI0AAAAOXRFWHRTb2Z0d2FyZQBNYXRwbG90bGliIHZlcnNpb24zLjUuMSwgaHR0cHM6Ly9tYXRwbG90bGliLm9yZy/YYfK9AAAACXBIWXMAAAsTAAALEwEAmpwYAAACRElEQVR4nO3asW2sQBhGUVg5nBRt4NyvHldAbVTgfpw7MDH5vh5Ixlc6p4KRrvQHfKyv12uh6TH7AdwnXph4YeKFiRcmXph4Yeu2bZ9jjOfsh5Rc1/V7nufX7He8jTGe+77/zH5IyXEc77PfsCzOZpp4YeKFiRcmXph4YeKFiRcmXph4Yb5t3vBXvm2ufkDqcjbDHuu6/pv9CO55LMvyMfsR3ONshokXJl6YeGHihYkXJl6YeGHihYkX9liW5Xv2I7jHJBTmbIaZhMJMQmHOZph4YeKFiRcmXph4YeKFiRcmXph4YSahMJNQmLMZZhIKMwmFOZth4oWJFyZemHhh4oWJFyZemHhh4oWZhMJMQmHOZphJKMwkFOZshokXJl6YeGHihYkXJl6YeGHihYkXZhIKMwmFOZthJqEwk1CYsxkmXph4YeKFiRcmXph4YeKFiRcmXphJKMwkFOZshpmEwkxCYc5mmHhh4oWJFyZemHhh4oWJFyZemHhhJqEwk1CYsxlmEgozCYU5m2HihYkXJl6YeGHihYkXJl6YeGHihYkXZs8Ls+eFOZth9rwwe16YsxkmXph4YeKFiRcmXph4YeKFiRcmXphJKMwkFOZshpmEwkxCYc5mmHhh4oWJFyZemHhh4oWJFyZemHhhJqEwk1CYsxm2btv2OcZ4zn7IdV2/53l+zX5HydsY47nv+8/shxzH8T77DTXOZph4YeKFiRcmXph4YeKFiRcmXph4Yb5thpmEwpzNMPHCxAsTL0y8MPHC/gOAb1gbKAC9GQAAAABJRU5ErkJggg==\"></img></td>\n      <td id=\"T_e524f_row16_col5\" class=\"data row16 col5\" >0<br>(0.0%)</td>\n    </tr>\n    <tr>\n      <td id=\"T_e524f_row17_col0\" class=\"data row17 col0\" >18</td>\n      <td id=\"T_e524f_row17_col1\" class=\"data row17 col1\" ><strong>statusId</strong><br>[int64]</td>\n      <td id=\"T_e524f_row17_col2\" class=\"data row17 col2\" >Mean (sd) : 17.2 (26.0)<br>min < med < max:<br>1.0 < 10.0 < 141.0<br>IQR (CV) : 13.0 (0.7)</td>\n      <td id=\"T_e524f_row17_col3\" class=\"data row17 col3\" >137 distinct values</td>\n      <td id=\"T_e524f_row17_col4\" class=\"data row17 col4\" ><img src = \"data:image/png;base64, iVBORw0KGgoAAAANSUhEUgAAAHoAAAAyCAYAAACTUs/lAAAAOXRFWHRTb2Z0d2FyZQBNYXRwbG90bGliIHZlcnNpb24zLjUuMSwgaHR0cHM6Ly9tYXRwbG90bGliLm9yZy/YYfK9AAAACXBIWXMAAAsTAAALEwEAmpwYAAABKklEQVR4nO3cMW6DMBhAYVpFgsFdydCl8gXSe3TqCbzmTGycoFvP06VDmVmQkMjSFclIDkn73rdiWZYeWEz/w7Islf6/x1sfQPs4rD1o2/Y9hHDM2WQcx59hGD7KHUulrYYOIRxTSt85m/R9/1zuSLoGr24IQ0MYGsLQEIaGMDSEoSEMDWFoCENDGBrC0BCGhjA0hKEhDA1haAhDQxgawtAQhoYwNIShIQwNYWgIQ0MYGsLQEIaGMDSEoSEMDWFoCENDGBrC0BCGhjA0hKEhDA2xOlBui2maXmOM55y1Thm8jSKh67p+csrgffPqhijyRf81xIG2dx36WkGIA213D73lx61pmlNK6TNnbdd1bzHGrJdinudTVVVZoTf+aL6EEL5y1v6u3+22uAAIwU7eApc53wAAAABJRU5ErkJggg==\"></img></td>\n      <td id=\"T_e524f_row17_col5\" class=\"data row17 col5\" >0<br>(0.0%)</td>\n    </tr>\n  </tbody>\n</table>\n",
       "datasetInfos": [],
       "metadata": {},
       "removedWidgets": [],
       "textData": null,
       "type": "htmlSandbox"
      }
     },
     "output_type": "display_data"
    }
   ],
   "source": [
    "def sumario_dados(df):\n",
    "    display(HTML(\"<h2 style='color: #007bff;'>Dataset Info</h2>\"))\n",
    "    display(HTML(f\"<h4 style='color: #6c757d;'>Shape: {df.shape}</h4>\"))\n",
    "    display(HTML(f\"<h4 style='color: #6c757d;'>Numero de Colunas: {df.shape[1]}</h4>\"))\n",
    "    display(HTML(f\"<h4 style='color: #6c757d;'>Numero de Linhas: {df.shape[0]}</h4>\"))\n",
    "    display(HTML(\"<hr>\"))\n",
    "    display(HTML(\"<h2 style='color: #28a745;'>Dataset Info </h2>\"))\n",
    "    display(HTML(\"<h4 style='color: #6c757d;'>Column types and missing data</h4>\"))\n",
    "    display(df.info())\n",
    "    display(HTML(\"<hr>\"))\n",
    "    display(HTML(\"<h2 style='color: #17a2b8;'>Sumario de dados</h2>\"))\n",
    "    return dfSummary(df)\n",
    "\n",
    "\n",
    "sumario_dados(results)"
   ]
  },
  {
   "cell_type": "code",
   "execution_count": 0,
   "metadata": {
    "application/vnd.databricks.v1+cell": {
     "cellMetadata": {
      "byteLimit": 2048000,
      "rowLimit": 10000
     },
     "inputWidgets": {},
     "nuid": "666d9700-2425-43a0-925e-c7913f72453b",
     "showTitle": false,
     "tableResultSettingsMap": {},
     "title": ""
    }
   },
   "outputs": [
    {
     "output_type": "display_data",
     "data": {
      "text/html": [
       "<h2 style='color: #007bff;'>Dataset Info</h2>"
      ]
     },
     "metadata": {
      "application/vnd.databricks.v1+output": {
       "addedWidgets": {},
       "arguments": {},
       "data": "<h2 style='color: #007bff;'>Dataset Info</h2>",
       "datasetInfos": [],
       "metadata": {},
       "removedWidgets": [],
       "textData": null,
       "type": "htmlSandbox"
      }
     },
     "output_type": "display_data"
    },
    {
     "output_type": "display_data",
     "data": {
      "text/html": [
       "<h4 style='color: #6c757d;'>Shape: (1125, 18)</h4>"
      ]
     },
     "metadata": {
      "application/vnd.databricks.v1+output": {
       "addedWidgets": {},
       "arguments": {},
       "data": "<h4 style='color: #6c757d;'>Shape: (1125, 18)</h4>",
       "datasetInfos": [],
       "metadata": {},
       "removedWidgets": [],
       "textData": null,
       "type": "htmlSandbox"
      }
     },
     "output_type": "display_data"
    },
    {
     "output_type": "display_data",
     "data": {
      "text/html": [
       "<h4 style='color: #6c757d;'>Numero de Colunas: 18</h4>"
      ]
     },
     "metadata": {
      "application/vnd.databricks.v1+output": {
       "addedWidgets": {},
       "arguments": {},
       "data": "<h4 style='color: #6c757d;'>Numero de Colunas: 18</h4>",
       "datasetInfos": [],
       "metadata": {},
       "removedWidgets": [],
       "textData": null,
       "type": "htmlSandbox"
      }
     },
     "output_type": "display_data"
    },
    {
     "output_type": "display_data",
     "data": {
      "text/html": [
       "<h4 style='color: #6c757d;'>Numero de Linhas: 1125</h4>"
      ]
     },
     "metadata": {
      "application/vnd.databricks.v1+output": {
       "addedWidgets": {},
       "arguments": {},
       "data": "<h4 style='color: #6c757d;'>Numero de Linhas: 1125</h4>",
       "datasetInfos": [],
       "metadata": {},
       "removedWidgets": [],
       "textData": null,
       "type": "htmlSandbox"
      }
     },
     "output_type": "display_data"
    },
    {
     "output_type": "display_data",
     "data": {
      "text/html": [
       "<hr>"
      ]
     },
     "metadata": {
      "application/vnd.databricks.v1+output": {
       "addedWidgets": {},
       "arguments": {},
       "data": "<hr>",
       "datasetInfos": [],
       "metadata": {},
       "removedWidgets": [],
       "textData": null,
       "type": "htmlSandbox"
      }
     },
     "output_type": "display_data"
    },
    {
     "output_type": "display_data",
     "data": {
      "text/html": [
       "<h2 style='color: #28a745;'>Dataset Info </h2>"
      ]
     },
     "metadata": {
      "application/vnd.databricks.v1+output": {
       "addedWidgets": {},
       "arguments": {},
       "data": "<h2 style='color: #28a745;'>Dataset Info </h2>",
       "datasetInfos": [],
       "metadata": {},
       "removedWidgets": [],
       "textData": null,
       "type": "htmlSandbox"
      }
     },
     "output_type": "display_data"
    },
    {
     "output_type": "display_data",
     "data": {
      "text/html": [
       "<h4 style='color: #6c757d;'>Column types and missing data</h4>"
      ]
     },
     "metadata": {
      "application/vnd.databricks.v1+output": {
       "addedWidgets": {},
       "arguments": {},
       "data": "<h4 style='color: #6c757d;'>Column types and missing data</h4>",
       "datasetInfos": [],
       "metadata": {},
       "removedWidgets": [],
       "textData": null,
       "type": "htmlSandbox"
      }
     },
     "output_type": "display_data"
    },
    {
     "output_type": "stream",
     "name": "stdout",
     "output_type": "stream",
     "text": [
      "<class 'pandas.core.frame.DataFrame'>\nRangeIndex: 1125 entries, 0 to 1124\nData columns (total 18 columns):\n #   Column       Non-Null Count  Dtype \n---  ------       --------------  ----- \n 0   raceId       1125 non-null   int64 \n 1   year         1125 non-null   int64 \n 2   round        1125 non-null   int64 \n 3   circuitId    1125 non-null   int64 \n 4   name         1125 non-null   object\n 5   date         1125 non-null   object\n 6   time         1125 non-null   object\n 7   url          1125 non-null   object\n 8   fp1_date     1125 non-null   object\n 9   fp1_time     1125 non-null   object\n 10  fp2_date     1125 non-null   object\n 11  fp2_time     1125 non-null   object\n 12  fp3_date     1125 non-null   object\n 13  fp3_time     1125 non-null   object\n 14  quali_date   1125 non-null   object\n 15  quali_time   1125 non-null   object\n 16  sprint_date  1125 non-null   object\n 17  sprint_time  1125 non-null   object\ndtypes: int64(4), object(14)\nmemory usage: 158.3+ KB\nNone"
     ]
    },
    {
     "output_type": "display_data",
     "data": {
      "text/html": [
       "<hr>"
      ]
     },
     "metadata": {
      "application/vnd.databricks.v1+output": {
       "addedWidgets": {},
       "arguments": {},
       "data": "<hr>",
       "datasetInfos": [],
       "metadata": {},
       "removedWidgets": [],
       "textData": null,
       "type": "htmlSandbox"
      }
     },
     "output_type": "display_data"
    },
    {
     "output_type": "display_data",
     "data": {
      "text/html": [
       "<h2 style='color: #17a2b8;'>Sumario de dados</h2>"
      ]
     },
     "metadata": {
      "application/vnd.databricks.v1+output": {
       "addedWidgets": {},
       "arguments": {},
       "data": "<h2 style='color: #17a2b8;'>Sumario de dados</h2>",
       "datasetInfos": [],
       "metadata": {},
       "removedWidgets": [],
       "textData": null,
       "type": "htmlSandbox"
      }
     },
     "output_type": "display_data"
    },
    {
     "output_type": "display_data",
     "data": {
      "text/html": [
       "<style type=\"text/css\">\n",
       "#T_8c3b2 thead>tr>th {\n",
       "  text-align: left;\n",
       "}\n",
       "#T_8c3b2_row0_col0, #T_8c3b2_row1_col0, #T_8c3b2_row2_col0, #T_8c3b2_row3_col0, #T_8c3b2_row4_col0, #T_8c3b2_row5_col0, #T_8c3b2_row6_col0, #T_8c3b2_row7_col0, #T_8c3b2_row8_col0, #T_8c3b2_row9_col0, #T_8c3b2_row10_col0, #T_8c3b2_row11_col0, #T_8c3b2_row12_col0, #T_8c3b2_row13_col0, #T_8c3b2_row14_col0, #T_8c3b2_row15_col0, #T_8c3b2_row16_col0, #T_8c3b2_row17_col0 {\n",
       "  text-align: left;\n",
       "  font-size: 12px;\n",
       "  vertical-align: middle;\n",
       "  width: 5%;\n",
       "  max-width: 50px;\n",
       "  min-width: 20px;\n",
       "}\n",
       "#T_8c3b2_row0_col1, #T_8c3b2_row1_col1, #T_8c3b2_row2_col1, #T_8c3b2_row3_col1, #T_8c3b2_row4_col1, #T_8c3b2_row5_col1, #T_8c3b2_row6_col1, #T_8c3b2_row7_col1, #T_8c3b2_row8_col1, #T_8c3b2_row9_col1, #T_8c3b2_row10_col1, #T_8c3b2_row11_col1, #T_8c3b2_row12_col1, #T_8c3b2_row13_col1, #T_8c3b2_row14_col1, #T_8c3b2_row15_col1, #T_8c3b2_row16_col1, #T_8c3b2_row17_col1 {\n",
       "  text-align: left;\n",
       "  font-size: 12px;\n",
       "  vertical-align: middle;\n",
       "  width: 15%;\n",
       "  max-width: 200px;\n",
       "  min-width: 100px;\n",
       "  word-break: break-word;\n",
       "}\n",
       "#T_8c3b2_row0_col2, #T_8c3b2_row1_col2, #T_8c3b2_row2_col2, #T_8c3b2_row3_col2, #T_8c3b2_row4_col2, #T_8c3b2_row5_col2, #T_8c3b2_row6_col2, #T_8c3b2_row7_col2, #T_8c3b2_row8_col2, #T_8c3b2_row9_col2, #T_8c3b2_row10_col2, #T_8c3b2_row11_col2, #T_8c3b2_row12_col2, #T_8c3b2_row13_col2, #T_8c3b2_row14_col2, #T_8c3b2_row15_col2, #T_8c3b2_row16_col2, #T_8c3b2_row17_col2 {\n",
       "  text-align: left;\n",
       "  font-size: 12px;\n",
       "  vertical-align: middle;\n",
       "  width: 30%;\n",
       "  min-width: 100px;\n",
       "}\n",
       "#T_8c3b2_row0_col3, #T_8c3b2_row1_col3, #T_8c3b2_row2_col3, #T_8c3b2_row3_col3, #T_8c3b2_row4_col3, #T_8c3b2_row5_col3, #T_8c3b2_row6_col3, #T_8c3b2_row7_col3, #T_8c3b2_row8_col3, #T_8c3b2_row9_col3, #T_8c3b2_row10_col3, #T_8c3b2_row11_col3, #T_8c3b2_row12_col3, #T_8c3b2_row13_col3, #T_8c3b2_row14_col3, #T_8c3b2_row15_col3, #T_8c3b2_row16_col3, #T_8c3b2_row17_col3 {\n",
       "  text-align: left;\n",
       "  font-size: 12px;\n",
       "  vertical-align: middle;\n",
       "  width: 25%;\n",
       "  min-width: 100px;\n",
       "}\n",
       "#T_8c3b2_row0_col4, #T_8c3b2_row1_col4, #T_8c3b2_row2_col4, #T_8c3b2_row3_col4, #T_8c3b2_row4_col4, #T_8c3b2_row5_col4, #T_8c3b2_row6_col4, #T_8c3b2_row7_col4, #T_8c3b2_row8_col4, #T_8c3b2_row9_col4, #T_8c3b2_row10_col4, #T_8c3b2_row11_col4, #T_8c3b2_row12_col4, #T_8c3b2_row13_col4, #T_8c3b2_row14_col4, #T_8c3b2_row15_col4, #T_8c3b2_row16_col4, #T_8c3b2_row17_col4 {\n",
       "  text-align: left;\n",
       "  font-size: 12px;\n",
       "  vertical-align: middle;\n",
       "  width: 20%;\n",
       "  min-width: 150px;\n",
       "}\n",
       "#T_8c3b2_row0_col5, #T_8c3b2_row1_col5, #T_8c3b2_row2_col5, #T_8c3b2_row3_col5, #T_8c3b2_row4_col5, #T_8c3b2_row5_col5, #T_8c3b2_row6_col5, #T_8c3b2_row7_col5, #T_8c3b2_row8_col5, #T_8c3b2_row9_col5, #T_8c3b2_row10_col5, #T_8c3b2_row11_col5, #T_8c3b2_row12_col5, #T_8c3b2_row13_col5, #T_8c3b2_row14_col5, #T_8c3b2_row15_col5, #T_8c3b2_row16_col5, #T_8c3b2_row17_col5 {\n",
       "  text-align: left;\n",
       "  font-size: 12px;\n",
       "  vertical-align: middle;\n",
       "  width: 10%;\n",
       "}\n",
       "</style>\n",
       "<table id=\"T_8c3b2\">\n",
       "  <caption><strong>Data Frame Summary</strong><br>df<br>Dimensions: 1,125 x 18<br>Duplicates: 0</caption>\n",
       "  <thead>\n",
       "    <tr>\n",
       "      <th id=\"T_8c3b2_level0_col0\" class=\"col_heading level0 col0\" >No</th>\n",
       "      <th id=\"T_8c3b2_level0_col1\" class=\"col_heading level0 col1\" >Variable</th>\n",
       "      <th id=\"T_8c3b2_level0_col2\" class=\"col_heading level0 col2\" >Stats / Values</th>\n",
       "      <th id=\"T_8c3b2_level0_col3\" class=\"col_heading level0 col3\" >Freqs / (% of Valid)</th>\n",
       "      <th id=\"T_8c3b2_level0_col4\" class=\"col_heading level0 col4\" >Graph</th>\n",
       "      <th id=\"T_8c3b2_level0_col5\" class=\"col_heading level0 col5\" >Missing</th>\n",
       "    </tr>\n",
       "  </thead>\n",
       "  <tbody>\n",
       "    <tr>\n",
       "      <td id=\"T_8c3b2_row0_col0\" class=\"data row0 col0\" >1</td>\n",
       "      <td id=\"T_8c3b2_row0_col1\" class=\"data row0 col1\" ><strong>raceId</strong><br>[int64]</td>\n",
       "      <td id=\"T_8c3b2_row0_col2\" class=\"data row0 col2\" >Mean (sd) : 565.7 (328.8)<br>min < med < max:<br>1.0 < 563.0 < 1144.0<br>IQR (CV) : 563.0 (1.7)</td>\n",
       "      <td id=\"T_8c3b2_row0_col3\" class=\"data row0 col3\" >1,125 distinct values</td>\n",
       "      <td id=\"T_8c3b2_row0_col4\" class=\"data row0 col4\" ><img src = \"data:image/png;base64, iVBORw0KGgoAAAANSUhEUgAAAHoAAAAyCAYAAACTUs/lAAAAOXRFWHRTb2Z0d2FyZQBNYXRwbG90bGliIHZlcnNpb24zLjUuMSwgaHR0cHM6Ly9tYXRwbG90bGliLm9yZy/YYfK9AAAACXBIWXMAAAsTAAALEwEAmpwYAAABKklEQVR4nO3XMUrFMACA4SgPusS1b3CRXEAv8E7g5AmyvjN1ywk8hfdwcbBzl0KhruKjkCK2PP//WxvSwN8k9Gae56D/73bvBWgbh6UHbdu+xBiPNZMMw/AQY3x37PDZ9/1rzditLYaOMR5zzh81k5RSTjnnN/rYruueU0pVmyOEbT+MxdBar2mau9rNEUIIpZT7v1zPd4a+Eiuv0ouTwtBXYuVVenFSGHpH4zg+pZTONWOnaXoMIVRfCz8Zekdr7vRSyuk37/I/GsLQEIaGMDSEoSEMDWFoCENDGBrC0BCGhjA0hKEhDA1haAhDQxgawtAQhoYwNIShIQwNYWgIQ0MYGsLQEIaGMDSEoSEMDWFoCENDGBrC0BCGhjA0hKEhDA1haAhDQxga4guRFGQSAmKo1wAAAABJRU5ErkJggg==\"></img></td>\n",
       "      <td id=\"T_8c3b2_row0_col5\" class=\"data row0 col5\" >0<br>(0.0%)</td>\n",
       "    </tr>\n",
       "    <tr>\n",
       "      <td id=\"T_8c3b2_row1_col0\" class=\"data row1 col0\" >2</td>\n",
       "      <td id=\"T_8c3b2_row1_col1\" class=\"data row1 col1\" ><strong>year</strong><br>[int64]</td>\n",
       "      <td id=\"T_8c3b2_row1_col2\" class=\"data row1 col2\" >Mean (sd) : 1992.7 (20.6)<br>min < med < max:<br>1950.0 < 1994.0 < 2024.0<br>IQR (CV) : 34.0 (96.7)</td>\n",
       "      <td id=\"T_8c3b2_row1_col3\" class=\"data row1 col3\" >75 distinct values</td>\n",
       "      <td id=\"T_8c3b2_row1_col4\" class=\"data row1 col4\" ><img src = \"data:image/png;base64, iVBORw0KGgoAAAANSUhEUgAAAHoAAAAyCAYAAACTUs/lAAAAOXRFWHRTb2Z0d2FyZQBNYXRwbG90bGliIHZlcnNpb24zLjUuMSwgaHR0cHM6Ly9tYXRwbG90bGliLm9yZy/YYfK9AAAACXBIWXMAAAsTAAALEwEAmpwYAAABbUlEQVR4nO3YP07DMBiG8Q+ElAxmTQcW5AuUC/QETJzAK2fKlhOwcQPuwcJA5iyRIoUVVVTYSpw/fZ/fWFmtpadJPudmHEfD9btdewNYxt3aG0CcqqpenHOHmLVd1323bfv2+zNC74Rz7hBC+IpZ2zTNw/ln3LpFEFoEoUUQWgShRRBaBMerGaWcdc3+Pu/mQugZpZx1zczqun723kf9MYZhOJpZ9HefI/SKiqK4T3gJcpryWzyjRUhe0VPfG++RZOip7433iFu3CMkrOkXf90/e+9eYtVMn45wI/Y8lJ+OcNh06cWh6dM59xqzd8pWXy6ZDJw5NpxDCR+zaaTvbH4YxEYQWQWgRhBax+DCWMkkrTse5LB46dZLOvR8V3LpFEFoEoUUQWsQswxiT9PZdDJ0SryzLYwjhPWYtk/Q6LobmGHRdeEaLILQIQosgtAhCiyC0CEKLILQIQosgtAhCiyC0CEKLILQIQosgtIgfFnRl7qXWO9EAAAAASUVORK5CYII=\"></img></td>\n",
       "      <td id=\"T_8c3b2_row1_col5\" class=\"data row1 col5\" >0<br>(0.0%)</td>\n",
       "    </tr>\n",
       "    <tr>\n",
       "      <td id=\"T_8c3b2_row2_col0\" class=\"data row2 col0\" >3</td>\n",
       "      <td id=\"T_8c3b2_row2_col1\" class=\"data row2 col1\" ><strong>round</strong><br>[int64]</td>\n",
       "      <td id=\"T_8c3b2_row2_col2\" class=\"data row2 col2\" >Mean (sd) : 8.6 (5.2)<br>min < med < max:<br>1.0 < 8.0 < 24.0<br>IQR (CV) : 9.0 (1.7)</td>\n",
       "      <td id=\"T_8c3b2_row2_col3\" class=\"data row2 col3\" >24 distinct values</td>\n",
       "      <td id=\"T_8c3b2_row2_col4\" class=\"data row2 col4\" ><img src = \"data:image/png;base64, iVBORw0KGgoAAAANSUhEUgAAAHoAAAAyCAYAAACTUs/lAAAAOXRFWHRTb2Z0d2FyZQBNYXRwbG90bGliIHZlcnNpb24zLjUuMSwgaHR0cHM6Ly9tYXRwbG90bGliLm9yZy/YYfK9AAAACXBIWXMAAAsTAAALEwEAmpwYAAABXElEQVR4nO3aMW7DIABGYVJV8kJXZ+gS+QLtBXqInoC11/IJcorco0uGeGaxZMmdOjoFBTDlf99qy0J6AtmYw7quBu172nsAKON560Lf95/W2mPIQ7z3t2mazumGhdQ2Q1trj865a8hDxnF8TTck5MDSLYLQIjaX7hrwnpBO1aF5T0iHpVsEoUUQWgShRRBaBKFFEFoEoUUQWgShRSTZAp3n+X0Yhq+Qe733J2vtd8i9y7K8GWOCtkBxX5LQXde9ROxJfzjnLqH3PjYy/GLpFkFoEYQWQWgRVR88qEErp1wI/YdWTrk0EzryW77amZdLM6Ejv+WrnXm5NBM6Rszsb2V3TjJ07E5e7vGUwOeVCEKLILQIQosgtAhCiyC0CEKLILQIQosgtAhCiyC0CMm/V7nE/P40puwBCEInFPP705iyByBYukUQWgRL945KHmgk9I5KHmgk9D/x6Oz/AaEggXIQahdIAAAAAElFTkSuQmCC\"></img></td>\n",
       "      <td id=\"T_8c3b2_row2_col5\" class=\"data row2 col5\" >0<br>(0.0%)</td>\n",
       "    </tr>\n",
       "    <tr>\n",
       "      <td id=\"T_8c3b2_row3_col0\" class=\"data row3 col0\" >4</td>\n",
       "      <td id=\"T_8c3b2_row3_col1\" class=\"data row3 col1\" ><strong>circuitId</strong><br>[int64]</td>\n",
       "      <td id=\"T_8c3b2_row3_col2\" class=\"data row3 col2\" >Mean (sd) : 23.9 (19.6)<br>min < med < max:<br>1.0 < 18.0 < 80.0<br>IQR (CV) : 25.0 (1.2)</td>\n",
       "      <td id=\"T_8c3b2_row3_col3\" class=\"data row3 col3\" >77 distinct values</td>\n",
       "      <td id=\"T_8c3b2_row3_col4\" class=\"data row3 col4\" ><img src = \"data:image/png;base64, iVBORw0KGgoAAAANSUhEUgAAAHoAAAAyCAYAAACTUs/lAAAAOXRFWHRTb2Z0d2FyZQBNYXRwbG90bGliIHZlcnNpb24zLjUuMSwgaHR0cHM6Ly9tYXRwbG90bGliLm9yZy/YYfK9AAAACXBIWXMAAAsTAAALEwEAmpwYAAABV0lEQVR4nO3cP26DMBiGcaeKBIO7kiEbF0gv0EP0BF57LU7QrTfKEGYWJCR6gqT+xBfHyfv8ZhSQHv5Zdtit6xrw+t4efQAoY+/xI13XfcUYDznbTtN0Gcfxx2O/yOcSOsZ4SCmdc7YdhuHosU/YcOsWQWgRhBZBaBGEFkFoEVeHV5ax8bIspxBC1vAKj3E1tHFs/Ol3SLgHbt0iCC2C0CIILYLQIlxmryzmef7o+/47Z1umNP0UD900zTtTmuVx6xZBaBGEFkFoEYQWQWgRhBZBaBGEFkFoEYQWQWgRhBZBaBHFpynvhb/u3lZ1aMsihbZtTyml35xtFee5qw5tXKTA2vIbeEaLILQIQouo+hn96kqOFCRD17LkuORHfiRDKy455hktgtAiCC1C8hltUcuL21aE/kctL25bTzhCP4mtJxyhHVmuuhDKfs2J0I4sV10IZWfc/gB5WIKaLY8/NQAAAABJRU5ErkJggg==\"></img></td>\n",
       "      <td id=\"T_8c3b2_row3_col5\" class=\"data row3 col5\" >0<br>(0.0%)</td>\n",
       "    </tr>\n",
       "    <tr>\n",
       "      <td id=\"T_8c3b2_row4_col0\" class=\"data row4 col0\" >5</td>\n",
       "      <td id=\"T_8c3b2_row4_col1\" class=\"data row4 col1\" ><strong>name</strong><br>[object]</td>\n",
       "      <td id=\"T_8c3b2_row4_col2\" class=\"data row4 col2\" >1. Italian Grand Prix<br>2. British Grand Prix<br>3. Monaco Grand Prix<br>4. Belgian Grand Prix<br>5. German Grand Prix<br>6. French Grand Prix<br>7. Spanish Grand Prix<br>8. Canadian Grand Prix<br>9. Brazilian Grand Prix<br>10. United States Grand Prix<br>11. other</td>\n",
       "      <td id=\"T_8c3b2_row4_col3\" class=\"data row4 col3\" >75 (6.7%)<br>75 (6.7%)<br>70 (6.2%)<br>69 (6.1%)<br>64 (5.7%)<br>62 (5.5%)<br>54 (4.8%)<br>53 (4.7%)<br>47 (4.2%)<br>45 (4.0%)<br>511 (45.4%)</td>\n",
       "      <td id=\"T_8c3b2_row4_col4\" class=\"data row4 col4\" ><img src = \"data:image/png;base64, iVBORw0KGgoAAAANSUhEUgAAAG8AAACzCAYAAACHOUI0AAAAOXRFWHRTb2Z0d2FyZQBNYXRwbG90bGliIHZlcnNpb24zLjUuMSwgaHR0cHM6Ly9tYXRwbG90bGliLm9yZy/YYfK9AAAACXBIWXMAAAsTAAALEwEAmpwYAAACL0lEQVR4nO3dsU3DYBhFUYwo3VopMhUTeDZPwFQUuHZvBogtRRQhVzmnTRPpSq/4vyCGfd/faHr/7y/A34kXJl6YeGHihYkXJl7YME3T5ziOl6MPt237Wdf169Ffivt8jON4mef5++jDZVmuj/5C3M9shokXJl6YeGHihYkXJl6YeGHihYkX5m0zbPADpC6zGWY2w5yEwsxmmHhh4oWJFyZemHhh4oWJFyZemHhh3jbDnITCzGaY2QxzEgozm2HihYkXJl6YeGHihYkXJl6YeGHihXnbDHMSCjObYWYzzEkozGyGiRcmXph4YeKFiRcmXph4YeKFiRfmbTPMSSjMbIadzqbJfH6nJyHnoOdnNsPECxMvTLww8cLECxMvTLww8cLEC/O2GeYkFGY2w8xmmJNQmNkMEy9MvDDxwsQLEy9MvDDxwsQLEy/M22aYk1CY2Qw7nE2T2XB4EnIOajCbYeKFiRcmXph4YeKFiRcmXph4YeKFedsMcxIKM5thZjPMSSjMbIaJFyZemHhh4oWJFyZemHhh4oWJFyZemIfpMPe8MLMZZjbD3PPCzGaYeGHihYkXJl6YeGHihYkXJl6YeGHeNsOchMLMZtjNbJrMjpuTkHNQh9kMEy9MvDDxwsQLEy9MvDDxwsQLEy/M22aYk1CY2Qw7/f95Ra82+Yd/JVT1aucssxkmXph4YeKFiRcmXph4YeKFiRcmXpi3zTAnoTCzGSZemHhh4oWJFyZe2C+JdAONq+y3dQAAAABJRU5ErkJggg==\"></img></td>\n",
       "      <td id=\"T_8c3b2_row4_col5\" class=\"data row4 col5\" >0<br>(0.0%)</td>\n",
       "    </tr>\n",
       "    <tr>\n",
       "      <td id=\"T_8c3b2_row5_col0\" class=\"data row5 col0\" >6</td>\n",
       "      <td id=\"T_8c3b2_row5_col1\" class=\"data row5 col1\" ><strong>date</strong><br>[object]</td>\n",
       "      <td id=\"T_8c3b2_row5_col2\" class=\"data row5 col2\" >1. 2009-03-29<br>2. 1960-06-06<br>3. 1960-11-20<br>4. 1960-09-04<br>5. 1960-08-14<br>6. 1960-07-16<br>7. 1960-07-03<br>8. 1960-06-19<br>9. 1960-05-30<br>10. 1959-05-30<br>11. other</td>\n",
       "      <td id=\"T_8c3b2_row5_col3\" class=\"data row5 col3\" >1 (0.1%)<br>1 (0.1%)<br>1 (0.1%)<br>1 (0.1%)<br>1 (0.1%)<br>1 (0.1%)<br>1 (0.1%)<br>1 (0.1%)<br>1 (0.1%)<br>1 (0.1%)<br>1,115 (99.1%)</td>\n",
       "      <td id=\"T_8c3b2_row5_col4\" class=\"data row5 col4\" ><img src = \"data:image/png;base64, iVBORw0KGgoAAAANSUhEUgAAAG8AAACzCAYAAACHOUI0AAAAOXRFWHRTb2Z0d2FyZQBNYXRwbG90bGliIHZlcnNpb24zLjUuMSwgaHR0cHM6Ly9tYXRwbG90bGliLm9yZy/YYfK9AAAACXBIWXMAAAsTAAALEwEAmpwYAAACCklEQVR4nO3asW3EMBQFQVJwyFS4Ds71uAL17dx1yDWcEmKBmQoILPADPc37vgdNx+4H8Jx4YeKFiRcmXph4YeKFHXPO792P4JljjPHe/QiecTbDxAsTL0y8MPHCxAsTL0y8MPHCxAs7xhi/ux/BM9MPSF3OZphJKMwkFOZshokXJl6YeGHihYkXJl6YeGHihYkXZhIKMwmFOZthJqEwk1CYsxkmXph4YeKFiRcmXph4YeKFiRcmXphJKMwkFOZshpmEwkxCYc5mmHhh4oWJFyZemHhh4oWJFyZemHhhJqEwk1CYsxlmEgozCYU5m2HihYkXJl6YeGHihYkXJl6YeGHihZmEwkxCYc5mmEkozCQU5myGiRcmXph4YeKFiRcmXph4YeKFiRdmEgozCYU5m2EmoTCTUJizGSZemHhh4oWJFyZemHhh4oWJFyZemEkozCQU5myGmYTCTEJhzmaYeGHihYkXJl6YeGHihYkXJl6YeGHihdnzwux5Yc5mmD0vzJ4X5myGiRcmXph4YeKFiRcmXph4YeKFiRdmEgozCYU5m2EmoTCTUJizGSZemHhh4oWJFyZemHhh4oWJFyZemEkozCQU5myGzfM8f9Zar90P4XNfa63XdV1/ux/C55zNMPHCxAsTL0y8MPHCxAsTL0y8MPHCfNsMMwmFOZth4oWJFyZemHhh4oX9A5gQNK7t5DBkAAAAAElFTkSuQmCC\"></img></td>\n",
       "      <td id=\"T_8c3b2_row5_col5\" class=\"data row5 col5\" >0<br>(0.0%)</td>\n",
       "    </tr>\n",
       "    <tr>\n",
       "      <td id=\"T_8c3b2_row6_col0\" class=\"data row6 col0\" >7</td>\n",
       "      <td id=\"T_8c3b2_row6_col1\" class=\"data row6 col1\" ><strong>time</strong><br>[object]</td>\n",
       "      <td id=\"T_8c3b2_row6_col2\" class=\"data row6 col2\" >1. \\N<br>2. 12:00:00<br>3. 13:00:00<br>4. 14:00:00<br>5. 13:10:00<br>6. 06:00:00<br>7. 17:00:00<br>8. 19:00:00<br>9. 05:00:00<br>10. 15:00:00<br>11. other</td>\n",
       "      <td id=\"T_8c3b2_row6_col3\" class=\"data row6 col3\" >731 (65.0%)<br>113 (10.0%)<br>50 (4.4%)<br>34 (3.0%)<br>30 (2.7%)<br>21 (1.9%)<br>13 (1.2%)<br>13 (1.2%)<br>13 (1.2%)<br>12 (1.1%)<br>95 (8.4%)</td>\n",
       "      <td id=\"T_8c3b2_row6_col4\" class=\"data row6 col4\" ><img src = \"data:image/png;base64, iVBORw0KGgoAAAANSUhEUgAAAG8AAACzCAYAAACHOUI0AAAAOXRFWHRTb2Z0d2FyZQBNYXRwbG90bGliIHZlcnNpb24zLjUuMSwgaHR0cHM6Ly9tYXRwbG90bGliLm9yZy/YYfK9AAAACXBIWXMAAAsTAAALEwEAmpwYAAACXklEQVR4nO3dMUr0UBhG4YxMedswhatyBVlbVuCqLJw6/Vj9gj+DqIXJweepLQIH3uJ+wpxut9tE08PeH8DPiRcmXph4YeKFiRcmXthpnuenMcZl7w85sm3bXq/X6/Pe3/G/8xjjsizLy94fcmTruj7u/Q33mM0w8cLECxMvTLww8cLECxMvTLww8cK8bX7BUd82T/4Bqctshn1rNo86H3/Vt05CRz2N/FVmM0y8MPHCxAsTL0y8MPHCxAsTL0y8MG+bYU5CYWYz7O5smseGuychp58GsxkmXph4YeKFiRcmXph4YeKFiRcmXpi3zTAnoTCzGfZhNs1ly4eTkFNQi9kMEy9MvDDxwsQLEy9MvDDxwsQLEy/M22aYk1CY2Qwzm2FOQmFmM0y8MPHCxAsTL0y8MPHCxAsTL0y8MG+bYU5CYWYz7H02TWbPw7+TkN/Q6zGbYeKFiRcmXph4YeKFiRcmXph4YeKFedsMcxIKM5thp3men6Zpmkxmz9kpqMtshokXJl6YeGHihYkXJl6YeGHihYkXdt627XXvj+BnnITCzGaYk1CYk1CY2QwTL0y8MPHCxAsTL0y8MPHCxAsTL0y8MPe8MPe8MLMZ5p4X5p4XZjbDxAsTL0y8MPHCxAsTL0y8MPHCxAtzEgpzEgozm2FOQmFOQmFmM0y8MPHCxAsTL0y8MPHCxAsTL0y8MCehMCehMLMZ9v77eZ/9kd/WO6bzGOOyLMvLZ3+0ruvjb30QX2c2w8QLEy9MvDDxwsQLEy9MvDDxwsQL87YZ5iQUZjbDxAsTL0y8MPHCxAt7AznI0OW6urnoAAAAAElFTkSuQmCC\"></img></td>\n",
       "      <td id=\"T_8c3b2_row6_col5\" class=\"data row6 col5\" >0<br>(0.0%)</td>\n",
       "    </tr>\n",
       "    <tr>\n",
       "      <td id=\"T_8c3b2_row7_col0\" class=\"data row7 col0\" >8</td>\n",
       "      <td id=\"T_8c3b2_row7_col1\" class=\"data row7 col1\" ><strong>url</strong><br>[object]</td>\n",
       "      <td id=\"T_8c3b2_row7_col2\" class=\"data row7 col2\" >1. http://en.wikipedia.org/wiki/2<br>2. http://en.wikipedia.org/wiki/1<br>3. http://en.wikipedia.org/wiki/1<br>4. http://en.wikipedia.org/wiki/1<br>5. http://en.wikipedia.org/wiki/1<br>6. http://en.wikipedia.org/wiki/1<br>7. http://en.wikipedia.org/wiki/1<br>8. http://en.wikipedia.org/wiki/1<br>9. http://en.wikipedia.org/wiki/1<br>10. http://en.wikipedia.org/wiki/1<br>11. other</td>\n",
       "      <td id=\"T_8c3b2_row7_col3\" class=\"data row7 col3\" >1 (0.1%)<br>1 (0.1%)<br>1 (0.1%)<br>1 (0.1%)<br>1 (0.1%)<br>1 (0.1%)<br>1 (0.1%)<br>1 (0.1%)<br>1 (0.1%)<br>1 (0.1%)<br>1,115 (99.1%)</td>\n",
       "      <td id=\"T_8c3b2_row7_col4\" class=\"data row7 col4\" ><img src = \"data:image/png;base64, iVBORw0KGgoAAAANSUhEUgAAAG8AAACzCAYAAACHOUI0AAAAOXRFWHRTb2Z0d2FyZQBNYXRwbG90bGliIHZlcnNpb24zLjUuMSwgaHR0cHM6Ly9tYXRwbG90bGliLm9yZy/YYfK9AAAACXBIWXMAAAsTAAALEwEAmpwYAAACCklEQVR4nO3asW3EMBQFQVJwyFS4Ds71uAL17dx1yDWcEmKBmQoILPADPc37vgdNx+4H8Jx4YeKFiRcmXph4YeKFHXPO792P4JljjPHe/QiecTbDxAsTL0y8MPHCxAsTL0y8MPHCxAs7xhi/ux/BM9MPSF3OZphJKMwkFOZshokXJl6YeGHihYkXJl6YeGHihYkXZhIKMwmFOZthJqEwk1CYsxkmXph4YeKFiRcmXph4YeKFiRcmXphJKMwkFOZshpmEwkxCYc5mmHhh4oWJFyZemHhh4oWJFyZemHhhJqEwk1CYsxlmEgozCYU5m2HihYkXJl6YeGHihYkXJl6YeGHihZmEwkxCYc5mmEkozCQU5myGiRcmXph4YeKFiRcmXph4YeKFiRdmEgozCYU5m2EmoTCTUJizGSZemHhh4oWJFyZemHhh4oWJFyZemEkozCQU5myGmYTCTEJhzmaYeGHihYkXJl6YeGHihYkXJl6YeGHihdnzwux5Yc5mmD0vzJ4X5myGiRcmXph4YeKFiRcmXph4YeKFiRdmEgozCYU5m2EmoTCTUJizGSZemHhh4oWJFyZemHhh4oWJFyZemEkozCQU5myGzfM8f9Zar90P4XNfa63XdV1/ux/C55zNMPHCxAsTL0y8MPHCxAsTL0y8MPHCfNsMMwmFOZth4oWJFyZemHhh4oX9A5gQNK7t5DBkAAAAAElFTkSuQmCC\"></img></td>\n",
       "      <td id=\"T_8c3b2_row7_col5\" class=\"data row7 col5\" >0<br>(0.0%)</td>\n",
       "    </tr>\n",
       "    <tr>\n",
       "      <td id=\"T_8c3b2_row8_col0\" class=\"data row8 col0\" >9</td>\n",
       "      <td id=\"T_8c3b2_row8_col1\" class=\"data row8 col1\" ><strong>fp1_date</strong><br>[object]</td>\n",
       "      <td id=\"T_8c3b2_row8_col2\" class=\"data row8 col2\" >1. \\N<br>2. 2024-03-07<br>3. 2023-11-24<br>4. 2023-11-16<br>5. 2023-11-03<br>6. 2023-10-27<br>7. 2023-10-20<br>8. 2023-10-06<br>9. 2023-09-22<br>10. 2023-09-15<br>11. other</td>\n",
       "      <td id=\"T_8c3b2_row8_col3\" class=\"data row8 col3\" >1,035 (92.0%)<br>1 (0.1%)<br>1 (0.1%)<br>1 (0.1%)<br>1 (0.1%)<br>1 (0.1%)<br>1 (0.1%)<br>1 (0.1%)<br>1 (0.1%)<br>1 (0.1%)<br>81 (7.2%)</td>\n",
       "      <td id=\"T_8c3b2_row8_col4\" class=\"data row8 col4\" ><img src = \"data:image/png;base64, iVBORw0KGgoAAAANSUhEUgAAAG8AAACzCAYAAACHOUI0AAAAOXRFWHRTb2Z0d2FyZQBNYXRwbG90bGliIHZlcnNpb24zLjUuMSwgaHR0cHM6Ly9tYXRwbG90bGliLm9yZy/YYfK9AAAACXBIWXMAAAsTAAALEwEAmpwYAAACTElEQVR4nO3asW3bUBhGUVJw+VpChftkHk/A2TiB90nvwqzZKwMESgQVYi5wTisVD7jAX+jTfLvdJpouZz+A54kXJl6YeGHihYkXJl7YvCzLxxjjevZD+NNxHN/7vn/e+/xtjHFd1/XrlY/iMdu2vf/tc2czTLww8cLECxMvTLww8cLECxMvTLwwv23+x/712+bsD0hdzmbYZZ7nn2c/gudcpmn6cfYjeI6zGSZemHhh4oWJFyZemHhh4oWJFyZe2GWapl9nP4LnmITCnM0wk1CYSSjM2QwTL0y8MPHCxAsTL0y8MPHCxAsTL8wkFGYSCnM2w0xCYSahMGczTLww8cLECxMvTLww8cLECxMvTLwwk1CYSSjM2QwzCYWZhMKczTDxwsQLEy9MvDDxwsQLEy9MvDDxwkxCYSahMGczzCQUZhIKczbDxAsTL0y8MPHCxAsTL0y8MPHCxAszCYWZhMKczTCTUJhJKMzZDBMvTLww8cLECxMvTLww8cLECxMvzCQUZhIKczbDTEJhJqEwZzNMvDDxwsQLEy9MvDDxwsQLEy9MvDDxwux5Yfa8MGczzJ4XZs8LczbDxAsTL0y8MPHCxAsTL0y8MPHCxAszCYWZhMKczTCTUJhJKMzZDBMvTLww8cLECxMvTLww8cLECxMvzCQUZhIKczbD5mVZPsYY13tfOI7je9/3z1c+ise8jTGu67p+3fvCtm3vr3wQj3M2w8QLEy9MvDDxwsQLEy9MvDDxwsQL89tmmEkozNkMEy9MvDDxwsQLEy/sN4BvWBvJJPp0AAAAAElFTkSuQmCC\"></img></td>\n",
       "      <td id=\"T_8c3b2_row8_col5\" class=\"data row8 col5\" >0<br>(0.0%)</td>\n",
       "    </tr>\n",
       "    <tr>\n",
       "      <td id=\"T_8c3b2_row9_col0\" class=\"data row9 col0\" >10</td>\n",
       "      <td id=\"T_8c3b2_row9_col1\" class=\"data row9 col1\" ><strong>fp1_time</strong><br>[object]</td>\n",
       "      <td id=\"T_8c3b2_row9_col2\" class=\"data row9 col2\" >1. \\N<br>2. 11:30:00<br>3. 12:00:00<br>4. 09:30:00<br>5. 10:30:00<br>6. 13:30:00<br>7. 17:30:00<br>8. 02:30:00<br>9. 18:30:00<br>10. 18:00:00<br>11. other</td>\n",
       "      <td id=\"T_8c3b2_row9_col3\" class=\"data row9 col3\" >1,057 (94.0%)<br>18 (1.6%)<br>8 (0.7%)<br>6 (0.5%)<br>4 (0.4%)<br>4 (0.4%)<br>4 (0.4%)<br>3 (0.3%)<br>3 (0.3%)<br>3 (0.3%)<br>15 (1.3%)</td>\n",
       "      <td id=\"T_8c3b2_row9_col4\" class=\"data row9 col4\" ><img src = \"data:image/png;base64, iVBORw0KGgoAAAANSUhEUgAAAG8AAACzCAYAAACHOUI0AAAAOXRFWHRTb2Z0d2FyZQBNYXRwbG90bGliIHZlcnNpb24zLjUuMSwgaHR0cHM6Ly9tYXRwbG90bGliLm9yZy/YYfK9AAAACXBIWXMAAAsTAAALEwEAmpwYAAACV0lEQVR4nO3aIY7bUBhG0efI0NQKKG/XkxVkbVnB7Kd8QIzNU9SCqpFaE/dK58CgJ13NP1K+TK/Xa9B0OfsBHCdemHhh4oWJFyZemHhh07qut2VZrmc/hPf2fX9u2/bx++fzsizX+/3+ecaj+DuPx+PLnz53NsPECxMvTLww8cLECxMvTLww8cLEC/PdZsC77zYnP0DqcjbDfp3Nd3+a/L8uPych//d6nM0w8cLECxMvTLww8cLECxMvTLww8cJ8txlmEgpzNsOmdV1vY4zhZPbMpqAuZzNMvDDxwsQLEy9MvDDxwsQLEy9MvLB53/fn2Y/gGJNQmLMZZhIKMwmFOZth4oWJFyZemHhh4oWJFyZemHhh4oWZhMJMQmHOZthlmqZvZz+CYy5jjK9nP4JjnM0w8cLECxMvTLww8cLECxMvTLww8cIuY4zvZz+CY0xCYc5mmEkozCQU5myGiRcmXph4YeKFiRcmXph4YeKFiRdmEgozCYU5m2EmoTCTUJizGSZemHhh4oWJFyZemHhh4oWJFyZemEkozCQU5myGmYTCTEJhzmaYeGHihYkXJl6YeGHihYkXJl6YeGHihdnzwux5Yc5mmD0vzJ4X5myGiRcmXph4YeKFiRcmXph4YeKFiRdmEgozCYU5m2EmoTCTUJizGSZemHhh4oWJFyZemHhh4oWJFyZemEkozCQU5myGTeu63sYYY9u2j7Mfw7+Zl2W5nv0IjnE2w8QLEy9MvDDxwsQLEy9MvDDxwsQLm/d9f579CI4xCYU5m2HihYkXJl6YeGHihf0AqNlq2NP087EAAAAASUVORK5CYII=\"></img></td>\n",
       "      <td id=\"T_8c3b2_row9_col5\" class=\"data row9 col5\" >0<br>(0.0%)</td>\n",
       "    </tr>\n",
       "    <tr>\n",
       "      <td id=\"T_8c3b2_row10_col0\" class=\"data row10 col0\" >11</td>\n",
       "      <td id=\"T_8c3b2_row10_col1\" class=\"data row10 col1\" ><strong>fp2_date</strong><br>[object]</td>\n",
       "      <td id=\"T_8c3b2_row10_col2\" class=\"data row10 col2\" >1. \\N<br>2. 2024-03-07<br>3. 2023-11-24<br>4. 2023-11-16<br>5. 2023-11-04<br>6. 2023-10-27<br>7. 2023-10-21<br>8. 2023-10-07<br>9. 2023-09-22<br>10. 2023-09-15<br>11. other</td>\n",
       "      <td id=\"T_8c3b2_row10_col3\" class=\"data row10 col3\" >1,035 (92.0%)<br>1 (0.1%)<br>1 (0.1%)<br>1 (0.1%)<br>1 (0.1%)<br>1 (0.1%)<br>1 (0.1%)<br>1 (0.1%)<br>1 (0.1%)<br>1 (0.1%)<br>81 (7.2%)</td>\n",
       "      <td id=\"T_8c3b2_row10_col4\" class=\"data row10 col4\" ><img src = \"data:image/png;base64, iVBORw0KGgoAAAANSUhEUgAAAG8AAACzCAYAAACHOUI0AAAAOXRFWHRTb2Z0d2FyZQBNYXRwbG90bGliIHZlcnNpb24zLjUuMSwgaHR0cHM6Ly9tYXRwbG90bGliLm9yZy/YYfK9AAAACXBIWXMAAAsTAAALEwEAmpwYAAACTElEQVR4nO3asW3bUBhGUVJw+VpChftkHk/A2TiB90nvwqzZKwMESgQVYi5wTisVD7jAX+jTfLvdJpouZz+A54kXJl6YeGHihYkXJl7YvCzLxxjjevZD+NNxHN/7vn/e+/xtjHFd1/XrlY/iMdu2vf/tc2czTLww8cLECxMvTLww8cLECxMvTLwwv23+x/712+bsD0hdzmbYZZ7nn2c/gudcpmn6cfYjeI6zGSZemHhh4oWJFyZemHhh4oWJFyZe2GWapl9nP4LnmITCnM0wk1CYSSjM2QwTL0y8MPHCxAsTL0y8MPHCxAsTL8wkFGYSCnM2w0xCYSahMGczTLww8cLECxMvTLww8cLECxMvTLwwk1CYSSjM2QwzCYWZhMKczTDxwsQLEy9MvDDxwsQLEy9MvDDxwkxCYSahMGczzCQUZhIKczbDxAsTL0y8MPHCxAsTL0y8MPHCxAszCYWZhMKczTCTUJhJKMzZDBMvTLww8cLECxMvTLww8cLECxMvzCQUZhIKczbDTEJhJqEwZzNMvDDxwsQLEy9MvDDxwsQLEy9MvDDxwux5Yfa8MGczzJ4XZs8LczbDxAsTL0y8MPHCxAsTL0y8MPHCxAszCYWZhMKczTCTUJhJKMzZDBMvTLww8cLECxMvTLww8cLECxMvzCQUZhIKczbD5mVZPsYY13tfOI7je9/3z1c+ise8jTGu67p+3fvCtm3vr3wQj3M2w8QLEy9MvDDxwsQLEy9MvDDxwsQL89tmmEkozNkMEy9MvDDxwsQLEy/sN4BvWBvJJPp0AAAAAElFTkSuQmCC\"></img></td>\n",
       "      <td id=\"T_8c3b2_row10_col5\" class=\"data row10 col5\" >0<br>(0.0%)</td>\n",
       "    </tr>\n",
       "    <tr>\n",
       "      <td id=\"T_8c3b2_row11_col0\" class=\"data row11 col0\" >12</td>\n",
       "      <td id=\"T_8c3b2_row11_col1\" class=\"data row11 col1\" ><strong>fp2_time</strong><br>[object]</td>\n",
       "      <td id=\"T_8c3b2_row11_col2\" class=\"data row11 col2\" >1. \\N<br>2. 15:00:00<br>3. 13:00:00<br>4. 06:00:00<br>5. 10:30:00<br>6. 14:00:00<br>7. 21:00:00<br>8. 17:00:00<br>9. 21:30:00<br>10. 22:00:00<br>11. other</td>\n",
       "      <td id=\"T_8c3b2_row11_col3\" class=\"data row11 col3\" >1,057 (94.0%)<br>22 (2.0%)<br>8 (0.7%)<br>5 (0.4%)<br>4 (0.4%)<br>4 (0.4%)<br>4 (0.4%)<br>3 (0.3%)<br>3 (0.3%)<br>3 (0.3%)<br>12 (1.1%)</td>\n",
       "      <td id=\"T_8c3b2_row11_col4\" class=\"data row11 col4\" ><img src = \"data:image/png;base64, iVBORw0KGgoAAAANSUhEUgAAAG8AAACzCAYAAACHOUI0AAAAOXRFWHRTb2Z0d2FyZQBNYXRwbG90bGliIHZlcnNpb24zLjUuMSwgaHR0cHM6Ly9tYXRwbG90bGliLm9yZy/YYfK9AAAACXBIWXMAAAsTAAALEwEAmpwYAAACV0lEQVR4nO3aIY7bUBhG0efI0NQKKG/XkxVkbVnB7Kd8QIzNU9SCqpFaE/dK58CgJ13NP1K+TK/Xa9B0OfsBHCdemHhh4oWJFyZemHhh07qut2VZrmc/hPf2fX9u2/bx++fzsizX+/3+ecaj+DuPx+PLnz53NsPECxMvTLww8cLECxMvTLww8cLEC/PdZsC77zYnP0DqcjbDfp3Nd3+a/L8uPych//d6nM0w8cLECxMvTLww8cLECxMvTLww8cJ8txlmEgpzNsOmdV1vY4zhZPbMpqAuZzNMvDDxwsQLEy9MvDDxwsQLEy9MvLB53/fn2Y/gGJNQmLMZdpmm6dvZj+CYyxjj69mP4BhnM0y8MPHCxAsTL0y8MPHCxAsTL0y8sMsY4/vZj+AYk1CYsxlmEgozCYU5m2HihYkXJl6YeGHihYkXJl6YeGHihZmEwkxCYc5mmEkozCQU5myGiRcmXph4YeKFiRcmXph4YeKFiRdmEgozCYU5m2EmoTCTUJizGSZemHhh4oWJFyZemHhh4oWJFyZemEkozCQU5myGmYTCTEJhzmaYeGHihYkXJl6YeGHihYkXJl6YeGHihdnzwux5Yc5mmD0vzJ4X5myGiRcmXph4YeKFiRcmXph4YeKFiRdmEgozCYU5m2EmoTCTUJizGSZemHhh4oWJFyZemHhh4oWJFyZemEkozCQU5myGTeu63sYYY9u2j7Mfw7+Zl2W5nv0IjnE2w8QLEy9MvDDxwsQLEy9MvDDxwsQLm/d9f579CI4xCYU5m2HihYkXJl6YeGHihf0AdBhkAvHdfvcAAAAASUVORK5CYII=\"></img></td>\n",
       "      <td id=\"T_8c3b2_row11_col5\" class=\"data row11 col5\" >0<br>(0.0%)</td>\n",
       "    </tr>\n",
       "    <tr>\n",
       "      <td id=\"T_8c3b2_row12_col0\" class=\"data row12 col0\" >13</td>\n",
       "      <td id=\"T_8c3b2_row12_col1\" class=\"data row12 col1\" ><strong>fp3_date</strong><br>[object]</td>\n",
       "      <td id=\"T_8c3b2_row12_col2\" class=\"data row12 col2\" >1. \\N<br>2. 2022-10-29<br>3. 2023-11-17<br>4. 2023-10-28<br>5. 2023-09-23<br>6. 2023-09-16<br>7. 2023-09-02<br>8. 2023-08-26<br>9. 2023-07-22<br>10. 2023-07-08<br>11. other</td>\n",
       "      <td id=\"T_8c3b2_row12_col3\" class=\"data row12 col3\" >1,053 (93.6%)<br>1 (0.1%)<br>1 (0.1%)<br>1 (0.1%)<br>1 (0.1%)<br>1 (0.1%)<br>1 (0.1%)<br>1 (0.1%)<br>1 (0.1%)<br>1 (0.1%)<br>63 (5.6%)</td>\n",
       "      <td id=\"T_8c3b2_row12_col4\" class=\"data row12 col4\" ><img src = \"data:image/png;base64, iVBORw0KGgoAAAANSUhEUgAAAG8AAACzCAYAAACHOUI0AAAAOXRFWHRTb2Z0d2FyZQBNYXRwbG90bGliIHZlcnNpb24zLjUuMSwgaHR0cHM6Ly9tYXRwbG90bGliLm9yZy/YYfK9AAAACXBIWXMAAAsTAAALEwEAmpwYAAACSklEQVR4nO3aIW7jUBhGUTsqfNQKKO+spyvw2ryC7md4QY3NU151qiigniudQ02edKUf5Mt8u90mmi5nP4DHiRcmXph4YeKFiRcmXti8LMvrGON69kP43nEcH/u+v3337WmMcV3X9f23H8V9tm17/tc3ZzNMvDDxwsQLEy9MvDDxwsQLEy9MvDC/bf7nfvptc/YHpC5nM+wyz/Ofsx/BYy7TNL2c/Qge42yGiRcmXph4YeKFiRcmXph4YeKFiRd2mabp79mP4DEmoTBnM8wkFGYSCnM2w8QLEy9MvDDxwsQLEy9MvDDxwsQLMwmFmYTCnM0wk1CYSSjM2QwTL0y8MPHCxAsTL0y8MPHCxAsTL8wkFGYSCnM2w0xCYSahMGczTLww8cLECxMvTLww8cLECxMvTLwwk1CYSSjM2QwzCYWZhMKczTDxwsQLEy9MvDDxwsQLEy9MvDDxwkxCYSahMGczzCQUZhIKczbDxAsTL0y8MPHCxAsTL0y8MPHCxAszCYWZhMKczTCTUJhJKMzZDBMvTLww8cLECxMvTLww8cLECxMvTLwwe16YPS/M2Qyz54XZ88KczTDxwsQLEy9MvDDxwsQLEy9MvDDxwkxCYSahMGczzCQUZhIKczbDxAsTL0y8MPHCxAsTL0y8MPHCxAszCYWZhMKczbB5WZbXMcb164fjOD72fX8741Hc52mMcV3X9f3rh23bns94EPdzNsPECxMvTLww8cLECxMvTLww8cLEC/PbZphJKMzZDBMvTLww8cLECxMv7BPB91gbf+zliQAAAABJRU5ErkJggg==\"></img></td>\n",
       "      <td id=\"T_8c3b2_row12_col5\" class=\"data row12 col5\" >0<br>(0.0%)</td>\n",
       "    </tr>\n",
       "    <tr>\n",
       "      <td id=\"T_8c3b2_row13_col0\" class=\"data row13 col0\" >14</td>\n",
       "      <td id=\"T_8c3b2_row13_col1\" class=\"data row13 col1\" ><strong>fp3_time</strong><br>[object]</td>\n",
       "      <td id=\"T_8c3b2_row13_col2\" class=\"data row13 col2\" >1. \\N<br>2. 10:30:00<br>3. 11:00:00<br>4. 09:30:00<br>5. 02:30:00<br>6. 17:00:00<br>7. 16:30:00<br>8. 01:30:00<br>9. 17:30:00<br>10. 13:30:00<br>11. other</td>\n",
       "      <td id=\"T_8c3b2_row13_col3\" class=\"data row13 col3\" >1,072 (95.3%)<br>14 (1.2%)<br>9 (0.8%)<br>4 (0.4%)<br>3 (0.3%)<br>3 (0.3%)<br>3 (0.3%)<br>2 (0.2%)<br>2 (0.2%)<br>2 (0.2%)<br>11 (1.0%)</td>\n",
       "      <td id=\"T_8c3b2_row13_col4\" class=\"data row13 col4\" ><img src = \"data:image/png;base64, iVBORw0KGgoAAAANSUhEUgAAAG8AAACzCAYAAACHOUI0AAAAOXRFWHRTb2Z0d2FyZQBNYXRwbG90bGliIHZlcnNpb24zLjUuMSwgaHR0cHM6Ly9tYXRwbG90bGliLm9yZy/YYfK9AAAACXBIWXMAAAsTAAALEwEAmpwYAAACT0lEQVR4nO3aMYrbUBhG0SfjUq1wkT5Zj1fgtXkFs5/0KaxavdOGIYREzcuFc0pXDy7zD/jz8n6/B02X2Q/gPPHCxAsTL0y8MPHCxAtbtm27r+t6m/0Q/uw4jte+7x+/fnZd1/X2eDx+zHoUf+f5fH75/JmzGSZemHhh4oWJFyZemHhh4oWJFyZemO82I3733ebiB0hdzmbYsm3bfYwxPv9J8v+7+n/X5WyGiRcmXph4YeKFiRcmXph4YeKFiRd2PY7jNfsRnGMSCnM2w0xCYSahMGczTLww8cLECxMvTLww8cLECxMvTLwwk1CYSSjM2Qy7LMvybfYjOOcyxvg6+xGc42yGiRcmXph4YeKFiRcmXph4YeKFiRd2GWN8n/0IzjEJhTmbYSahMJNQmLMZJl6YeGHihYkXJl6YeGHihYkXJl6YSSjMJBTmbIaZhMJMQmHOZph4YeKFiRcmXph4YeKFiRcmXph4YSahMJNQmLMZZhIKMwmFOZth4oWJFyZemHhh4oWJFyZemHhh4oWZhMJMQmHOZphJKMwkFOZshokXJl6YeGHihYkXJl6YeGHihYkXJl6YPS/MnhfmbIbZ88LseWHOZph4YeKFiRcmXph4YeKFiRcmXph4YSahMJNQmLMZZhIKMwmFOZth4oWJFyZemHhh4oWJFyZemHhh4oWZhMJMQmHOZtiybdt9jDH2ff+Y/Rj+zXVd19vsR3COsxkmXph4YeKFiRcmXph4YeKFiRcmXtj1OI7X7EdwjkkozNkMEy9MvDDxwsQLEy/sJ3LWWZJZRw5wAAAAAElFTkSuQmCC\"></img></td>\n",
       "      <td id=\"T_8c3b2_row13_col5\" class=\"data row13 col5\" >0<br>(0.0%)</td>\n",
       "    </tr>\n",
       "    <tr>\n",
       "      <td id=\"T_8c3b2_row14_col0\" class=\"data row14 col0\" >15</td>\n",
       "      <td id=\"T_8c3b2_row14_col1\" class=\"data row14 col1\" ><strong>quali_date</strong><br>[object]</td>\n",
       "      <td id=\"T_8c3b2_row14_col2\" class=\"data row14 col2\" >1. \\N<br>2. 2024-03-08<br>3. 2023-11-25<br>4. 2023-11-17<br>5. 2023-11-03<br>6. 2023-10-28<br>7. 2023-10-20<br>8. 2023-10-06<br>9. 2023-09-23<br>10. 2023-09-16<br>11. other</td>\n",
       "      <td id=\"T_8c3b2_row14_col3\" class=\"data row14 col3\" >1,035 (92.0%)<br>1 (0.1%)<br>1 (0.1%)<br>1 (0.1%)<br>1 (0.1%)<br>1 (0.1%)<br>1 (0.1%)<br>1 (0.1%)<br>1 (0.1%)<br>1 (0.1%)<br>81 (7.2%)</td>\n",
       "      <td id=\"T_8c3b2_row14_col4\" class=\"data row14 col4\" ><img src = \"data:image/png;base64, iVBORw0KGgoAAAANSUhEUgAAAG8AAACzCAYAAACHOUI0AAAAOXRFWHRTb2Z0d2FyZQBNYXRwbG90bGliIHZlcnNpb24zLjUuMSwgaHR0cHM6Ly9tYXRwbG90bGliLm9yZy/YYfK9AAAACXBIWXMAAAsTAAALEwEAmpwYAAACTElEQVR4nO3asW3bUBhGUVJw+VpChftkHk/A2TiB90nvwqzZKwMESgQVYi5wTisVD7jAX+jTfLvdJpouZz+A54kXJl6YeGHihYkXJl7YvCzLxxjjevZD+NNxHN/7vn/e+/xtjHFd1/XrlY/iMdu2vf/tc2czTLww8cLECxMvTLww8cLECxMvTLwwv23+x/712+bsD0hdzmbYZZ7nn2c/gudcpmn6cfYjeI6zGSZemHhh4oWJFyZemHhh4oWJFyZe2GWapl9nP4LnmITCnM0wk1CYSSjM2QwTL0y8MPHCxAsTL0y8MPHCxAsTL8wkFGYSCnM2w0xCYSahMGczTLww8cLECxMvTLww8cLECxMvTLwwk1CYSSjM2QwzCYWZhMKczTDxwsQLEy9MvDDxwsQLEy9MvDDxwkxCYSahMGczzCQUZhIKczbDxAsTL0y8MPHCxAsTL0y8MPHCxAszCYWZhMKczTCTUJhJKMzZDBMvTLww8cLECxMvTLww8cLECxMvzCQUZhIKczbDTEJhJqEwZzNMvDDxwsQLEy9MvDDxwsQLEy9MvDDxwux5Yfa8MGczzJ4XZs8LczbDxAsTL0y8MPHCxAsTL0y8MPHCxAszCYWZhMKczTCTUJhJKMzZDBMvTLww8cLECxMvTLww8cLECxMvzCQUZhIKczbD5mVZPsYY13tfOI7je9/3z1c+ise8jTGu67p+3fvCtm3vr3wQj3M2w8QLEy9MvDDxwsQLEy9MvDDxwsQL89tmmEkozNkMEy9MvDDxwsQLEy/sN4BvWBvJJPp0AAAAAElFTkSuQmCC\"></img></td>\n",
       "      <td id=\"T_8c3b2_row14_col5\" class=\"data row14 col5\" >0<br>(0.0%)</td>\n",
       "    </tr>\n",
       "    <tr>\n",
       "      <td id=\"T_8c3b2_row15_col0\" class=\"data row15 col0\" >16</td>\n",
       "      <td id=\"T_8c3b2_row15_col1\" class=\"data row15 col1\" ><strong>quali_time</strong><br>[object]</td>\n",
       "      <td id=\"T_8c3b2_row15_col2\" class=\"data row15 col2\" >1. \\N<br>2. 14:00:00<br>3. 20:00:00<br>4. 13:00:00<br>5. 15:00:00<br>6. 17:00:00<br>7. 06:00:00<br>8. 21:00:00<br>9. 22:00:00<br>10. 05:00:00<br>11. other</td>\n",
       "      <td id=\"T_8c3b2_row15_col3\" class=\"data row15 col3\" >1,057 (94.0%)<br>24 (2.1%)<br>7 (0.6%)<br>7 (0.6%)<br>6 (0.5%)<br>5 (0.4%)<br>5 (0.4%)<br>3 (0.3%)<br>2 (0.2%)<br>2 (0.2%)<br>7 (0.6%)</td>\n",
       "      <td id=\"T_8c3b2_row15_col4\" class=\"data row15 col4\" ><img src = \"data:image/png;base64, iVBORw0KGgoAAAANSUhEUgAAAG8AAACzCAYAAACHOUI0AAAAOXRFWHRTb2Z0d2FyZQBNYXRwbG90bGliIHZlcnNpb24zLjUuMSwgaHR0cHM6Ly9tYXRwbG90bGliLm9yZy/YYfK9AAAACXBIWXMAAAsTAAALEwEAmpwYAAACV0lEQVR4nO3aIY7bUBhG0efI0NQKKG/XkxVkbVnB7Kd8QIzNU9SCqpFaE/dK58CgJ13NP1K+TK/Xa9B0OfsBHCdemHhh4oWJFyZemHhh07qut2VZrmc/hPf2fX9u2/bx++fzsizX+/3+ecaj+DuPx+PLnz53NsPECxMvTLww8cLECxMvTLww8cLEC/PdZsC77zYnP0DqcjbDfp3Nd3+a/L8uPych//d6nM0w8cLECxMvTLww8cLECxMvTLww8cJ8txlmEgpzNsOmdV1vY4zhZPbMpqAuZzNMvDDxwsQLEy9MvDDxwsQLEy9MvLB53/fn2Y/gGJNQmLMZZhIKMwmFOZth4oWJFyZemHhh4oWJFyZemHhh4oWZhMJMQmHOZphJKMwkFOZshokXJl6YeGHihYkXJl6YeGHihYkXZhIKMwmFOZthl2mavp39CI65jDG+nv0IjnE2w8QLEy9MvDDxwsQLEy9MvDDxwsQLu4wxvp/9CI4xCYU5m2EmoTCTUJizGSZemHhh4oWJFyZemHhh4oWJFyZemEkozCQU5myGmYTCTEJhzmaYeGHihYkXJl6YeGHihYkXJl6YeGHihdnzwux5Yc5mmD0vzJ4X5myGiRcmXph4YeKFiRcmXph4YeKFiRdmEgozCYU5m2EmoTCTUJizGSZemHhh4oWJFyZemHhh4oWJFyZemEkozCQU5myGTeu63sYYY9u2j7Mfw7+Zl2W5nv0IjnE2w8QLEy9MvDDxwsQLEy9MvDDxwsQLm/d9f579CI4xCYU5m2HihYkXJl6YeGHihf0AlUpxruyjbYwAAAAASUVORK5CYII=\"></img></td>\n",
       "      <td id=\"T_8c3b2_row15_col5\" class=\"data row15 col5\" >0<br>(0.0%)</td>\n",
       "    </tr>\n",
       "    <tr>\n",
       "      <td id=\"T_8c3b2_row16_col0\" class=\"data row16 col0\" >17</td>\n",
       "      <td id=\"T_8c3b2_row16_col1\" class=\"data row16 col1\" ><strong>sprint_date</strong><br>[object]</td>\n",
       "      <td id=\"T_8c3b2_row16_col2\" class=\"data row16 col2\" >1. \\N<br>2. 2023-10-07<br>3. 2024-11-02<br>4. 2024-10-19<br>5. 2024-06-29<br>6. 2024-05-04<br>7. 2024-04-20<br>8. 2023-11-04<br>9. 2023-10-21<br>10. 2023-07-29<br>11. other</td>\n",
       "      <td id=\"T_8c3b2_row16_col3\" class=\"data row16 col3\" >1,107 (98.4%)<br>1 (0.1%)<br>1 (0.1%)<br>1 (0.1%)<br>1 (0.1%)<br>1 (0.1%)<br>1 (0.1%)<br>1 (0.1%)<br>1 (0.1%)<br>1 (0.1%)<br>9 (0.8%)</td>\n",
       "      <td id=\"T_8c3b2_row16_col4\" class=\"data row16 col4\" ><img src = \"data:image/png;base64, iVBORw0KGgoAAAANSUhEUgAAAG8AAACzCAYAAACHOUI0AAAAOXRFWHRTb2Z0d2FyZQBNYXRwbG90bGliIHZlcnNpb24zLjUuMSwgaHR0cHM6Ly9tYXRwbG90bGliLm9yZy/YYfK9AAAACXBIWXMAAAsTAAALEwEAmpwYAAACMklEQVR4nO3asY3jQBQFwaEgky4h4/zbeDYCxaYILp/z15Ds8bUxiM6ggaoIBmjgG3zc3u/3oOmy+gGcJ16YeGHihYkXJl6YeGHbcRzf+77fVj+Ez8w5n9d932/3+/1n9WP4zOPx+ONshokXJl6YeGHihYkXJl6YeGHihYkX5ttm1JzzufkBqcvZDLts2/a1+hGccxlj/F39CM5xNsPECxMvTLww8cLECxMvTLww8cLEC7uMMf6vfgTnmITCnM0wk1CYSSjM2QwTL0y8MPHCxAsTL0y8MPHCxAsTL8wkFGYSCnM2w0xCYSahMGczTLww8cLECxMvTLww8cLECxMvTLwwk1CYSSjM2QwzCYWZhMKczTDxwsQLEy9MvDDxwsQLEy9MvDDxwkxCYSahMGczzCQUZhIKczbDxAsTL0y8MPHCxAsTL0y8MPHCxAszCYWZhMKczTCTUJhJKMzZDBMvTLww8cLECxMvTLww8cLECxMvzCQUZhIKczbDTEJhJqEwZzNMvDDxwsQLEy9MvDDxwsQLEy9MvDDxwux5Yfa8MGczzJ4XZs8LczbDxAsTL0y8MPHCxAsTL0y8MPHCxAszCYWZhMKczTCTUJhJKMzZDBMvTLww8cLECxMvTLww8cLECxMvzCQUZhIKczbDtuM4vscY4/V6/Vv9GD5z3ff9tvoRnONshokXJl6YeGHihYkXJl6YeGHihYkXdp1zPlc/gnNMQmHOZph4YeKFiRcmXph4Yb+GNkUMoeIMMgAAAABJRU5ErkJggg==\"></img></td>\n",
       "      <td id=\"T_8c3b2_row16_col5\" class=\"data row16 col5\" >0<br>(0.0%)</td>\n",
       "    </tr>\n",
       "    <tr>\n",
       "      <td id=\"T_8c3b2_row17_col0\" class=\"data row17 col0\" >18</td>\n",
       "      <td id=\"T_8c3b2_row17_col1\" class=\"data row17 col1\" ><strong>sprint_time</strong><br>[object]</td>\n",
       "      <td id=\"T_8c3b2_row17_col2\" class=\"data row17 col2\" >1. \\N<br>2. 14:30:00<br>3. 19:30:00<br>4. 13:30:00<br>5. 17:30:00<br>6. 22:00:00<br>7. 18:30:00<br>8. 03:00:00<br>9. 16:00:00<br>10. 10:00:00<br>11. other</td>\n",
       "      <td id=\"T_8c3b2_row17_col3\" class=\"data row17 col3\" >1,110 (98.7%)<br>4 (0.4%)<br>1 (0.1%)<br>1 (0.1%)<br>1 (0.1%)<br>1 (0.1%)<br>1 (0.1%)<br>1 (0.1%)<br>1 (0.1%)<br>1 (0.1%)<br>3 (0.3%)</td>\n",
       "      <td id=\"T_8c3b2_row17_col4\" class=\"data row17 col4\" ><img src = \"data:image/png;base64, iVBORw0KGgoAAAANSUhEUgAAAG8AAACzCAYAAACHOUI0AAAAOXRFWHRTb2Z0d2FyZQBNYXRwbG90bGliIHZlcnNpb24zLjUuMSwgaHR0cHM6Ly9tYXRwbG90bGliLm9yZy/YYfK9AAAACXBIWXMAAAsTAAALEwEAmpwYAAACGUlEQVR4nO3asW2EQBRF0RnkkHS1gXO7HldAbbTl3MHm5LiGJUFXOqeCka70Ax7zPM9B03L3A7hOvDDxwsQLEy9MvDDxwubj8fhZ1/V590N4z3Ecr491XZ/btv3d/Rjes+/7p7MZJl6YeGHihYkXJl6YeGHihYkXJl6Yb5tRx3G8ph+QupzNsGXO+X33I7hmGWN83f0IrnE2w8QLEy9MvDDxwsQLEy9MvDDxwsQLW8YYv3c/gmtMQmHOZphJKMwkFOZshokXJl6YeGHihYkXJl6YeGHihYkXZhIKMwmFOZthJqEwk1CYsxkmXph4YeKFiRcmXph4YeKFiRcmXphJKMwkFOZshpmEwkxCYc5mmHhh4oWJFyZemHhh4oWJFyZemHhhJqEwk1CYsxlmEgozCYU5m2HihYkXJl6YeGHihYkXJl6YeGHihZmEwkxCYc5mmEkozCQU5myGiRcmXph4YeKFiRcmXph4YeKFiRdmEgozCYU5m2EmoTCTUJizGSZemHhh4oWJFyZemHhh4oWJFyZemHhh9rwwe16Ysxlmzwuz54U5m2HihYkXJl6YeGHihYkXJl6YeGHihZmEwkxCYc5mmEkozCQU5myGiRcmXph4YeKFiRcmXph4YeKFiRdmEgozCYU5m2EmoTCTUJizGSZemHhh4oWJFyZemHhh4oWJFyZemEkozCQU5myGiRcmXph4YeKFiRf2Dy51Pjag1YqxAAAAAElFTkSuQmCC\"></img></td>\n",
       "      <td id=\"T_8c3b2_row17_col5\" class=\"data row17 col5\" >0<br>(0.0%)</td>\n",
       "    </tr>\n",
       "  </tbody>\n",
       "</table>\n"
      ]
     },
     "metadata": {
      "application/vnd.databricks.v1+output": {
       "addedWidgets": {},
       "arguments": {},
       "data": "<style type=\"text/css\">\n#T_8c3b2 thead>tr>th {\n  text-align: left;\n}\n#T_8c3b2_row0_col0, #T_8c3b2_row1_col0, #T_8c3b2_row2_col0, #T_8c3b2_row3_col0, #T_8c3b2_row4_col0, #T_8c3b2_row5_col0, #T_8c3b2_row6_col0, #T_8c3b2_row7_col0, #T_8c3b2_row8_col0, #T_8c3b2_row9_col0, #T_8c3b2_row10_col0, #T_8c3b2_row11_col0, #T_8c3b2_row12_col0, #T_8c3b2_row13_col0, #T_8c3b2_row14_col0, #T_8c3b2_row15_col0, #T_8c3b2_row16_col0, #T_8c3b2_row17_col0 {\n  text-align: left;\n  font-size: 12px;\n  vertical-align: middle;\n  width: 5%;\n  max-width: 50px;\n  min-width: 20px;\n}\n#T_8c3b2_row0_col1, #T_8c3b2_row1_col1, #T_8c3b2_row2_col1, #T_8c3b2_row3_col1, #T_8c3b2_row4_col1, #T_8c3b2_row5_col1, #T_8c3b2_row6_col1, #T_8c3b2_row7_col1, #T_8c3b2_row8_col1, #T_8c3b2_row9_col1, #T_8c3b2_row10_col1, #T_8c3b2_row11_col1, #T_8c3b2_row12_col1, #T_8c3b2_row13_col1, #T_8c3b2_row14_col1, #T_8c3b2_row15_col1, #T_8c3b2_row16_col1, #T_8c3b2_row17_col1 {\n  text-align: left;\n  font-size: 12px;\n  vertical-align: middle;\n  width: 15%;\n  max-width: 200px;\n  min-width: 100px;\n  word-break: break-word;\n}\n#T_8c3b2_row0_col2, #T_8c3b2_row1_col2, #T_8c3b2_row2_col2, #T_8c3b2_row3_col2, #T_8c3b2_row4_col2, #T_8c3b2_row5_col2, #T_8c3b2_row6_col2, #T_8c3b2_row7_col2, #T_8c3b2_row8_col2, #T_8c3b2_row9_col2, #T_8c3b2_row10_col2, #T_8c3b2_row11_col2, #T_8c3b2_row12_col2, #T_8c3b2_row13_col2, #T_8c3b2_row14_col2, #T_8c3b2_row15_col2, #T_8c3b2_row16_col2, #T_8c3b2_row17_col2 {\n  text-align: left;\n  font-size: 12px;\n  vertical-align: middle;\n  width: 30%;\n  min-width: 100px;\n}\n#T_8c3b2_row0_col3, #T_8c3b2_row1_col3, #T_8c3b2_row2_col3, #T_8c3b2_row3_col3, #T_8c3b2_row4_col3, #T_8c3b2_row5_col3, #T_8c3b2_row6_col3, #T_8c3b2_row7_col3, #T_8c3b2_row8_col3, #T_8c3b2_row9_col3, #T_8c3b2_row10_col3, #T_8c3b2_row11_col3, #T_8c3b2_row12_col3, #T_8c3b2_row13_col3, #T_8c3b2_row14_col3, #T_8c3b2_row15_col3, #T_8c3b2_row16_col3, #T_8c3b2_row17_col3 {\n  text-align: left;\n  font-size: 12px;\n  vertical-align: middle;\n  width: 25%;\n  min-width: 100px;\n}\n#T_8c3b2_row0_col4, #T_8c3b2_row1_col4, #T_8c3b2_row2_col4, #T_8c3b2_row3_col4, #T_8c3b2_row4_col4, #T_8c3b2_row5_col4, #T_8c3b2_row6_col4, #T_8c3b2_row7_col4, #T_8c3b2_row8_col4, #T_8c3b2_row9_col4, #T_8c3b2_row10_col4, #T_8c3b2_row11_col4, #T_8c3b2_row12_col4, #T_8c3b2_row13_col4, #T_8c3b2_row14_col4, #T_8c3b2_row15_col4, #T_8c3b2_row16_col4, #T_8c3b2_row17_col4 {\n  text-align: left;\n  font-size: 12px;\n  vertical-align: middle;\n  width: 20%;\n  min-width: 150px;\n}\n#T_8c3b2_row0_col5, #T_8c3b2_row1_col5, #T_8c3b2_row2_col5, #T_8c3b2_row3_col5, #T_8c3b2_row4_col5, #T_8c3b2_row5_col5, #T_8c3b2_row6_col5, #T_8c3b2_row7_col5, #T_8c3b2_row8_col5, #T_8c3b2_row9_col5, #T_8c3b2_row10_col5, #T_8c3b2_row11_col5, #T_8c3b2_row12_col5, #T_8c3b2_row13_col5, #T_8c3b2_row14_col5, #T_8c3b2_row15_col5, #T_8c3b2_row16_col5, #T_8c3b2_row17_col5 {\n  text-align: left;\n  font-size: 12px;\n  vertical-align: middle;\n  width: 10%;\n}\n</style>\n<table id=\"T_8c3b2\">\n  <caption><strong>Data Frame Summary</strong><br>df<br>Dimensions: 1,125 x 18<br>Duplicates: 0</caption>\n  <thead>\n    <tr>\n      <th id=\"T_8c3b2_level0_col0\" class=\"col_heading level0 col0\" >No</th>\n      <th id=\"T_8c3b2_level0_col1\" class=\"col_heading level0 col1\" >Variable</th>\n      <th id=\"T_8c3b2_level0_col2\" class=\"col_heading level0 col2\" >Stats / Values</th>\n      <th id=\"T_8c3b2_level0_col3\" class=\"col_heading level0 col3\" >Freqs / (% of Valid)</th>\n      <th id=\"T_8c3b2_level0_col4\" class=\"col_heading level0 col4\" >Graph</th>\n      <th id=\"T_8c3b2_level0_col5\" class=\"col_heading level0 col5\" >Missing</th>\n    </tr>\n  </thead>\n  <tbody>\n    <tr>\n      <td id=\"T_8c3b2_row0_col0\" class=\"data row0 col0\" >1</td>\n      <td id=\"T_8c3b2_row0_col1\" class=\"data row0 col1\" ><strong>raceId</strong><br>[int64]</td>\n      <td id=\"T_8c3b2_row0_col2\" class=\"data row0 col2\" >Mean (sd) : 565.7 (328.8)<br>min < med < max:<br>1.0 < 563.0 < 1144.0<br>IQR (CV) : 563.0 (1.7)</td>\n      <td id=\"T_8c3b2_row0_col3\" class=\"data row0 col3\" >1,125 distinct values</td>\n      <td id=\"T_8c3b2_row0_col4\" class=\"data row0 col4\" ><img src = \"data:image/png;base64, iVBORw0KGgoAAAANSUhEUgAAAHoAAAAyCAYAAACTUs/lAAAAOXRFWHRTb2Z0d2FyZQBNYXRwbG90bGliIHZlcnNpb24zLjUuMSwgaHR0cHM6Ly9tYXRwbG90bGliLm9yZy/YYfK9AAAACXBIWXMAAAsTAAALEwEAmpwYAAABKklEQVR4nO3XMUrFMACA4SgPusS1b3CRXEAv8E7g5AmyvjN1ywk8hfdwcbBzl0KhruKjkCK2PP//WxvSwN8k9Gae56D/73bvBWgbh6UHbdu+xBiPNZMMw/AQY3x37PDZ9/1rzditLYaOMR5zzh81k5RSTjnnN/rYruueU0pVmyOEbT+MxdBar2mau9rNEUIIpZT7v1zPd4a+Eiuv0ouTwtBXYuVVenFSGHpH4zg+pZTONWOnaXoMIVRfCz8Zekdr7vRSyuk37/I/GsLQEIaGMDSEoSEMDWFoCENDGBrC0BCGhjA0hKEhDA1haAhDQxgawtAQhoYwNIShIQwNYWgIQ0MYGsLQEIaGMDSEoSEMDWFoCENDGBrC0BCGhjA0hKEhDA1haAhDQxga4guRFGQSAmKo1wAAAABJRU5ErkJggg==\"></img></td>\n      <td id=\"T_8c3b2_row0_col5\" class=\"data row0 col5\" >0<br>(0.0%)</td>\n    </tr>\n    <tr>\n      <td id=\"T_8c3b2_row1_col0\" class=\"data row1 col0\" >2</td>\n      <td id=\"T_8c3b2_row1_col1\" class=\"data row1 col1\" ><strong>year</strong><br>[int64]</td>\n      <td id=\"T_8c3b2_row1_col2\" class=\"data row1 col2\" >Mean (sd) : 1992.7 (20.6)<br>min < med < max:<br>1950.0 < 1994.0 < 2024.0<br>IQR (CV) : 34.0 (96.7)</td>\n      <td id=\"T_8c3b2_row1_col3\" class=\"data row1 col3\" >75 distinct values</td>\n      <td id=\"T_8c3b2_row1_col4\" class=\"data row1 col4\" ><img src = \"data:image/png;base64, iVBORw0KGgoAAAANSUhEUgAAAHoAAAAyCAYAAACTUs/lAAAAOXRFWHRTb2Z0d2FyZQBNYXRwbG90bGliIHZlcnNpb24zLjUuMSwgaHR0cHM6Ly9tYXRwbG90bGliLm9yZy/YYfK9AAAACXBIWXMAAAsTAAALEwEAmpwYAAABbUlEQVR4nO3YP07DMBiG8Q+ElAxmTQcW5AuUC/QETJzAK2fKlhOwcQPuwcJA5iyRIoUVVVTYSpw/fZ/fWFmtpadJPudmHEfD9btdewNYxt3aG0CcqqpenHOHmLVd1323bfv2+zNC74Rz7hBC+IpZ2zTNw/ln3LpFEFoEoUUQWgShRRBaBMerGaWcdc3+Pu/mQugZpZx1zczqun723kf9MYZhOJpZ9HefI/SKiqK4T3gJcpryWzyjRUhe0VPfG++RZOip7433iFu3CMkrOkXf90/e+9eYtVMn45wI/Y8lJ+OcNh06cWh6dM59xqzd8pWXy6ZDJw5NpxDCR+zaaTvbH4YxEYQWQWgRhBax+DCWMkkrTse5LB46dZLOvR8V3LpFEFoEoUUQWsQswxiT9PZdDJ0SryzLYwjhPWYtk/Q6LobmGHRdeEaLILQIQosgtAhCiyC0CEKLILQIQosgtAhCiyC0CEKLILQIQosgtIgfFnRl7qXWO9EAAAAASUVORK5CYII=\"></img></td>\n      <td id=\"T_8c3b2_row1_col5\" class=\"data row1 col5\" >0<br>(0.0%)</td>\n    </tr>\n    <tr>\n      <td id=\"T_8c3b2_row2_col0\" class=\"data row2 col0\" >3</td>\n      <td id=\"T_8c3b2_row2_col1\" class=\"data row2 col1\" ><strong>round</strong><br>[int64]</td>\n      <td id=\"T_8c3b2_row2_col2\" class=\"data row2 col2\" >Mean (sd) : 8.6 (5.2)<br>min < med < max:<br>1.0 < 8.0 < 24.0<br>IQR (CV) : 9.0 (1.7)</td>\n      <td id=\"T_8c3b2_row2_col3\" class=\"data row2 col3\" >24 distinct values</td>\n      <td id=\"T_8c3b2_row2_col4\" class=\"data row2 col4\" ><img src = \"data:image/png;base64, iVBORw0KGgoAAAANSUhEUgAAAHoAAAAyCAYAAACTUs/lAAAAOXRFWHRTb2Z0d2FyZQBNYXRwbG90bGliIHZlcnNpb24zLjUuMSwgaHR0cHM6Ly9tYXRwbG90bGliLm9yZy/YYfK9AAAACXBIWXMAAAsTAAALEwEAmpwYAAABXElEQVR4nO3aMW7DIABGYVJV8kJXZ+gS+QLtBXqInoC11/IJcorco0uGeGaxZMmdOjoFBTDlf99qy0J6AtmYw7quBu172nsAKON560Lf95/W2mPIQ7z3t2mazumGhdQ2Q1trj865a8hDxnF8TTck5MDSLYLQIjaX7hrwnpBO1aF5T0iHpVsEoUUQWgShRRBaBKFFEFoEoUUQWgShRSTZAp3n+X0Yhq+Qe733J2vtd8i9y7K8GWOCtkBxX5LQXde9ROxJfzjnLqH3PjYy/GLpFkFoEYQWQWgRVR88qEErp1wI/YdWTrk0EzryW77amZdLM6Ejv+WrnXm5NBM6Rszsb2V3TjJ07E5e7vGUwOeVCEKLILQIQosgtAhCiyC0CEKLILQIQosgtAhCiyC0CMm/V7nE/P40puwBCEInFPP705iyByBYukUQWgRL945KHmgk9I5KHmgk9D/x6Oz/AaEggXIQahdIAAAAAElFTkSuQmCC\"></img></td>\n      <td id=\"T_8c3b2_row2_col5\" class=\"data row2 col5\" >0<br>(0.0%)</td>\n    </tr>\n    <tr>\n      <td id=\"T_8c3b2_row3_col0\" class=\"data row3 col0\" >4</td>\n      <td id=\"T_8c3b2_row3_col1\" class=\"data row3 col1\" ><strong>circuitId</strong><br>[int64]</td>\n      <td id=\"T_8c3b2_row3_col2\" class=\"data row3 col2\" >Mean (sd) : 23.9 (19.6)<br>min < med < max:<br>1.0 < 18.0 < 80.0<br>IQR (CV) : 25.0 (1.2)</td>\n      <td id=\"T_8c3b2_row3_col3\" class=\"data row3 col3\" >77 distinct values</td>\n      <td id=\"T_8c3b2_row3_col4\" class=\"data row3 col4\" ><img src = \"data:image/png;base64, iVBORw0KGgoAAAANSUhEUgAAAHoAAAAyCAYAAACTUs/lAAAAOXRFWHRTb2Z0d2FyZQBNYXRwbG90bGliIHZlcnNpb24zLjUuMSwgaHR0cHM6Ly9tYXRwbG90bGliLm9yZy/YYfK9AAAACXBIWXMAAAsTAAALEwEAmpwYAAABV0lEQVR4nO3cP26DMBiGcaeKBIO7kiEbF0gv0EP0BF57LU7QrTfKEGYWJCR6gqT+xBfHyfv8ZhSQHv5Zdtit6xrw+t4efQAoY+/xI13XfcUYDznbTtN0Gcfxx2O/yOcSOsZ4SCmdc7YdhuHosU/YcOsWQWgRhBZBaBGEFkFoEVeHV5ax8bIspxBC1vAKj3E1tHFs/Ol3SLgHbt0iCC2C0CIILYLQIlxmryzmef7o+/47Z1umNP0UD900zTtTmuVx6xZBaBGEFkFoEYQWQWgRhBZBaBGEFkFoEYQWQWgRhBZBaBHFpynvhb/u3lZ1aMsihbZtTyml35xtFee5qw5tXKTA2vIbeEaLILQIQouo+hn96kqOFCRD17LkuORHfiRDKy455hktgtAiCC1C8hltUcuL21aE/kctL25bTzhCP4mtJxyhHVmuuhDKfs2J0I4sV10IZWfc/gB5WIKaLY8/NQAAAABJRU5ErkJggg==\"></img></td>\n      <td id=\"T_8c3b2_row3_col5\" class=\"data row3 col5\" >0<br>(0.0%)</td>\n    </tr>\n    <tr>\n      <td id=\"T_8c3b2_row4_col0\" class=\"data row4 col0\" >5</td>\n      <td id=\"T_8c3b2_row4_col1\" class=\"data row4 col1\" ><strong>name</strong><br>[object]</td>\n      <td id=\"T_8c3b2_row4_col2\" class=\"data row4 col2\" >1. Italian Grand Prix<br>2. British Grand Prix<br>3. Monaco Grand Prix<br>4. Belgian Grand Prix<br>5. German Grand Prix<br>6. French Grand Prix<br>7. Spanish Grand Prix<br>8. Canadian Grand Prix<br>9. Brazilian Grand Prix<br>10. United States Grand Prix<br>11. other</td>\n      <td id=\"T_8c3b2_row4_col3\" class=\"data row4 col3\" >75 (6.7%)<br>75 (6.7%)<br>70 (6.2%)<br>69 (6.1%)<br>64 (5.7%)<br>62 (5.5%)<br>54 (4.8%)<br>53 (4.7%)<br>47 (4.2%)<br>45 (4.0%)<br>511 (45.4%)</td>\n      <td id=\"T_8c3b2_row4_col4\" class=\"data row4 col4\" ><img src = \"data:image/png;base64, iVBORw0KGgoAAAANSUhEUgAAAG8AAACzCAYAAACHOUI0AAAAOXRFWHRTb2Z0d2FyZQBNYXRwbG90bGliIHZlcnNpb24zLjUuMSwgaHR0cHM6Ly9tYXRwbG90bGliLm9yZy/YYfK9AAAACXBIWXMAAAsTAAALEwEAmpwYAAACL0lEQVR4nO3dsU3DYBhFUYwo3VopMhUTeDZPwFQUuHZvBogtRRQhVzmnTRPpSq/4vyCGfd/faHr/7y/A34kXJl6YeGHihYkXJl7YME3T5ziOl6MPt237Wdf169Ffivt8jON4mef5++jDZVmuj/5C3M9shokXJl6YeGHihYkXJl6YeGHihYkX5m0zbPADpC6zGWY2w5yEwsxmmHhh4oWJFyZemHhh4oWJFyZemHhh3jbDnITCzGaY2QxzEgozm2HihYkXJl6YeGHihYkXJl6YeGHihXnbDHMSCjObYWYzzEkozGyGiRcmXph4YeKFiRcmXph4YeKFiRfmbTPMSSjMbIadzqbJfH6nJyHnoOdnNsPECxMvTLww8cLECxMvTLww8cLEC/O2GeYkFGY2w8xmmJNQmNkMEy9MvDDxwsQLEy9MvDDxwsQLEy/M22aYk1CY2Qw7nE2T2XB4EnIOajCbYeKFiRcmXph4YeKFiRcmXph4YeKFedsMcxIKM5thZjPMSSjMbIaJFyZemHhh4oWJFyZemHhh4oWJFyZemIfpMPe8MLMZZjbD3PPCzGaYeGHihYkXJl6YeGHihYkXJl6YeGHeNsOchMLMZtjNbJrMjpuTkHNQh9kMEy9MvDDxwsQLEy9MvDDxwsQLEy/M22aYk1CY2Qw7/f95Ra82+Yd/JVT1aucssxkmXph4YeKFiRcmXph4YeKFiRcmXpi3zTAnoTCzGSZemHhh4oWJFyZe2C+JdAONq+y3dQAAAABJRU5ErkJggg==\"></img></td>\n      <td id=\"T_8c3b2_row4_col5\" class=\"data row4 col5\" >0<br>(0.0%)</td>\n    </tr>\n    <tr>\n      <td id=\"T_8c3b2_row5_col0\" class=\"data row5 col0\" >6</td>\n      <td id=\"T_8c3b2_row5_col1\" class=\"data row5 col1\" ><strong>date</strong><br>[object]</td>\n      <td id=\"T_8c3b2_row5_col2\" class=\"data row5 col2\" >1. 2009-03-29<br>2. 1960-06-06<br>3. 1960-11-20<br>4. 1960-09-04<br>5. 1960-08-14<br>6. 1960-07-16<br>7. 1960-07-03<br>8. 1960-06-19<br>9. 1960-05-30<br>10. 1959-05-30<br>11. other</td>\n      <td id=\"T_8c3b2_row5_col3\" class=\"data row5 col3\" >1 (0.1%)<br>1 (0.1%)<br>1 (0.1%)<br>1 (0.1%)<br>1 (0.1%)<br>1 (0.1%)<br>1 (0.1%)<br>1 (0.1%)<br>1 (0.1%)<br>1 (0.1%)<br>1,115 (99.1%)</td>\n      <td id=\"T_8c3b2_row5_col4\" class=\"data row5 col4\" ><img src = \"data:image/png;base64, iVBORw0KGgoAAAANSUhEUgAAAG8AAACzCAYAAACHOUI0AAAAOXRFWHRTb2Z0d2FyZQBNYXRwbG90bGliIHZlcnNpb24zLjUuMSwgaHR0cHM6Ly9tYXRwbG90bGliLm9yZy/YYfK9AAAACXBIWXMAAAsTAAALEwEAmpwYAAACCklEQVR4nO3asW3EMBQFQVJwyFS4Ds71uAL17dx1yDWcEmKBmQoILPADPc37vgdNx+4H8Jx4YeKFiRcmXph4YeKFHXPO792P4JljjPHe/QiecTbDxAsTL0y8MPHCxAsTL0y8MPHCxAs7xhi/ux/BM9MPSF3OZphJKMwkFOZshokXJl6YeGHihYkXJl6YeGHihYkXZhIKMwmFOZthJqEwk1CYsxkmXph4YeKFiRcmXph4YeKFiRcmXphJKMwkFOZshpmEwkxCYc5mmHhh4oWJFyZemHhh4oWJFyZemHhhJqEwk1CYsxlmEgozCYU5m2HihYkXJl6YeGHihYkXJl6YeGHihZmEwkxCYc5mmEkozCQU5myGiRcmXph4YeKFiRcmXph4YeKFiRdmEgozCYU5m2EmoTCTUJizGSZemHhh4oWJFyZemHhh4oWJFyZemEkozCQU5myGmYTCTEJhzmaYeGHihYkXJl6YeGHihYkXJl6YeGHihdnzwux5Yc5mmD0vzJ4X5myGiRcmXph4YeKFiRcmXph4YeKFiRdmEgozCYU5m2EmoTCTUJizGSZemHhh4oWJFyZemHhh4oWJFyZemEkozCQU5myGzfM8f9Zar90P4XNfa63XdV1/ux/C55zNMPHCxAsTL0y8MPHCxAsTL0y8MPHCfNsMMwmFOZth4oWJFyZemHhh4oX9A5gQNK7t5DBkAAAAAElFTkSuQmCC\"></img></td>\n      <td id=\"T_8c3b2_row5_col5\" class=\"data row5 col5\" >0<br>(0.0%)</td>\n    </tr>\n    <tr>\n      <td id=\"T_8c3b2_row6_col0\" class=\"data row6 col0\" >7</td>\n      <td id=\"T_8c3b2_row6_col1\" class=\"data row6 col1\" ><strong>time</strong><br>[object]</td>\n      <td id=\"T_8c3b2_row6_col2\" class=\"data row6 col2\" >1. \\N<br>2. 12:00:00<br>3. 13:00:00<br>4. 14:00:00<br>5. 13:10:00<br>6. 06:00:00<br>7. 17:00:00<br>8. 19:00:00<br>9. 05:00:00<br>10. 15:00:00<br>11. other</td>\n      <td id=\"T_8c3b2_row6_col3\" class=\"data row6 col3\" >731 (65.0%)<br>113 (10.0%)<br>50 (4.4%)<br>34 (3.0%)<br>30 (2.7%)<br>21 (1.9%)<br>13 (1.2%)<br>13 (1.2%)<br>13 (1.2%)<br>12 (1.1%)<br>95 (8.4%)</td>\n      <td id=\"T_8c3b2_row6_col4\" class=\"data row6 col4\" ><img src = \"data:image/png;base64, iVBORw0KGgoAAAANSUhEUgAAAG8AAACzCAYAAACHOUI0AAAAOXRFWHRTb2Z0d2FyZQBNYXRwbG90bGliIHZlcnNpb24zLjUuMSwgaHR0cHM6Ly9tYXRwbG90bGliLm9yZy/YYfK9AAAACXBIWXMAAAsTAAALEwEAmpwYAAACXklEQVR4nO3dMUr0UBhG4YxMedswhatyBVlbVuCqLJw6/Vj9gj+DqIXJweepLQIH3uJ+wpxut9tE08PeH8DPiRcmXph4YeKFiRcmXthpnuenMcZl7w85sm3bXq/X6/Pe3/G/8xjjsizLy94fcmTruj7u/Q33mM0w8cLECxMvTLww8cLECxMvTLww8cK8bX7BUd82T/4Bqctshn1rNo86H3/Vt05CRz2N/FVmM0y8MPHCxAsTL0y8MPHCxAsTL0y8MG+bYU5CYWYz7O5smseGuychp58GsxkmXph4YeKFiRcmXph4YeKFiRcmXpi3zTAnoTCzGfZhNs1ly4eTkFNQi9kMEy9MvDDxwsQLEy9MvDDxwsQLEy/M22aYk1CY2Qwzm2FOQmFmM0y8MPHCxAsTL0y8MPHCxAsTL0y8MG+bYU5CYWYz7H02TWbPw7+TkN/Q6zGbYeKFiRcmXph4YeKFiRcmXph4YeKFedsMcxIKM5thp3men6Zpmkxmz9kpqMtshokXJl6YeGHihYkXJl6YeGHihYkXdt627XXvj+BnnITCzGaYk1CYk1CY2QwTL0y8MPHCxAsTL0y8MPHCxAsTL0y8MPe8MPe8MLMZ5p4X5p4XZjbDxAsTL0y8MPHCxAsTL0y8MPHCxAtzEgpzEgozm2FOQmFOQmFmM0y8MPHCxAsTL0y8MPHCxAsTL0y8MCehMCehMLMZ9v77eZ/9kd/WO6bzGOOyLMvLZ3+0ruvjb30QX2c2w8QLEy9MvDDxwsQLEy9MvDDxwsQL87YZ5iQUZjbDxAsTL0y8MPHCxAt7AznI0OW6urnoAAAAAElFTkSuQmCC\"></img></td>\n      <td id=\"T_8c3b2_row6_col5\" class=\"data row6 col5\" >0<br>(0.0%)</td>\n    </tr>\n    <tr>\n      <td id=\"T_8c3b2_row7_col0\" class=\"data row7 col0\" >8</td>\n      <td id=\"T_8c3b2_row7_col1\" class=\"data row7 col1\" ><strong>url</strong><br>[object]</td>\n      <td id=\"T_8c3b2_row7_col2\" class=\"data row7 col2\" >1. http://en.wikipedia.org/wiki/2<br>2. http://en.wikipedia.org/wiki/1<br>3. http://en.wikipedia.org/wiki/1<br>4. http://en.wikipedia.org/wiki/1<br>5. http://en.wikipedia.org/wiki/1<br>6. http://en.wikipedia.org/wiki/1<br>7. http://en.wikipedia.org/wiki/1<br>8. http://en.wikipedia.org/wiki/1<br>9. http://en.wikipedia.org/wiki/1<br>10. http://en.wikipedia.org/wiki/1<br>11. other</td>\n      <td id=\"T_8c3b2_row7_col3\" class=\"data row7 col3\" >1 (0.1%)<br>1 (0.1%)<br>1 (0.1%)<br>1 (0.1%)<br>1 (0.1%)<br>1 (0.1%)<br>1 (0.1%)<br>1 (0.1%)<br>1 (0.1%)<br>1 (0.1%)<br>1,115 (99.1%)</td>\n      <td id=\"T_8c3b2_row7_col4\" class=\"data row7 col4\" ><img src = \"data:image/png;base64, iVBORw0KGgoAAAANSUhEUgAAAG8AAACzCAYAAACHOUI0AAAAOXRFWHRTb2Z0d2FyZQBNYXRwbG90bGliIHZlcnNpb24zLjUuMSwgaHR0cHM6Ly9tYXRwbG90bGliLm9yZy/YYfK9AAAACXBIWXMAAAsTAAALEwEAmpwYAAACCklEQVR4nO3asW3EMBQFQVJwyFS4Ds71uAL17dx1yDWcEmKBmQoILPADPc37vgdNx+4H8Jx4YeKFiRcmXph4YeKFHXPO792P4JljjPHe/QiecTbDxAsTL0y8MPHCxAsTL0y8MPHCxAs7xhi/ux/BM9MPSF3OZphJKMwkFOZshokXJl6YeGHihYkXJl6YeGHihYkXZhIKMwmFOZthJqEwk1CYsxkmXph4YeKFiRcmXph4YeKFiRcmXphJKMwkFOZshpmEwkxCYc5mmHhh4oWJFyZemHhh4oWJFyZemHhhJqEwk1CYsxlmEgozCYU5m2HihYkXJl6YeGHihYkXJl6YeGHihZmEwkxCYc5mmEkozCQU5myGiRcmXph4YeKFiRcmXph4YeKFiRdmEgozCYU5m2EmoTCTUJizGSZemHhh4oWJFyZemHhh4oWJFyZemEkozCQU5myGmYTCTEJhzmaYeGHihYkXJl6YeGHihYkXJl6YeGHihdnzwux5Yc5mmD0vzJ4X5myGiRcmXph4YeKFiRcmXph4YeKFiRdmEgozCYU5m2EmoTCTUJizGSZemHhh4oWJFyZemHhh4oWJFyZemEkozCQU5myGzfM8f9Zar90P4XNfa63XdV1/ux/C55zNMPHCxAsTL0y8MPHCxAsTL0y8MPHCfNsMMwmFOZth4oWJFyZemHhh4oX9A5gQNK7t5DBkAAAAAElFTkSuQmCC\"></img></td>\n      <td id=\"T_8c3b2_row7_col5\" class=\"data row7 col5\" >0<br>(0.0%)</td>\n    </tr>\n    <tr>\n      <td id=\"T_8c3b2_row8_col0\" class=\"data row8 col0\" >9</td>\n      <td id=\"T_8c3b2_row8_col1\" class=\"data row8 col1\" ><strong>fp1_date</strong><br>[object]</td>\n      <td id=\"T_8c3b2_row8_col2\" class=\"data row8 col2\" >1. \\N<br>2. 2024-03-07<br>3. 2023-11-24<br>4. 2023-11-16<br>5. 2023-11-03<br>6. 2023-10-27<br>7. 2023-10-20<br>8. 2023-10-06<br>9. 2023-09-22<br>10. 2023-09-15<br>11. other</td>\n      <td id=\"T_8c3b2_row8_col3\" class=\"data row8 col3\" >1,035 (92.0%)<br>1 (0.1%)<br>1 (0.1%)<br>1 (0.1%)<br>1 (0.1%)<br>1 (0.1%)<br>1 (0.1%)<br>1 (0.1%)<br>1 (0.1%)<br>1 (0.1%)<br>81 (7.2%)</td>\n      <td id=\"T_8c3b2_row8_col4\" class=\"data row8 col4\" ><img src = \"data:image/png;base64, iVBORw0KGgoAAAANSUhEUgAAAG8AAACzCAYAAACHOUI0AAAAOXRFWHRTb2Z0d2FyZQBNYXRwbG90bGliIHZlcnNpb24zLjUuMSwgaHR0cHM6Ly9tYXRwbG90bGliLm9yZy/YYfK9AAAACXBIWXMAAAsTAAALEwEAmpwYAAACTElEQVR4nO3asW3bUBhGUVJw+VpChftkHk/A2TiB90nvwqzZKwMESgQVYi5wTisVD7jAX+jTfLvdJpouZz+A54kXJl6YeGHihYkXJl7YvCzLxxjjevZD+NNxHN/7vn/e+/xtjHFd1/XrlY/iMdu2vf/tc2czTLww8cLECxMvTLww8cLECxMvTLwwv23+x/712+bsD0hdzmbYZZ7nn2c/gudcpmn6cfYjeI6zGSZemHhh4oWJFyZemHhh4oWJFyZe2GWapl9nP4LnmITCnM0wk1CYSSjM2QwTL0y8MPHCxAsTL0y8MPHCxAsTL8wkFGYSCnM2w0xCYSahMGczTLww8cLECxMvTLww8cLECxMvTLwwk1CYSSjM2QwzCYWZhMKczTDxwsQLEy9MvDDxwsQLEy9MvDDxwkxCYSahMGczzCQUZhIKczbDxAsTL0y8MPHCxAsTL0y8MPHCxAszCYWZhMKczTCTUJhJKMzZDBMvTLww8cLECxMvTLww8cLECxMvzCQUZhIKczbDTEJhJqEwZzNMvDDxwsQLEy9MvDDxwsQLEy9MvDDxwux5Yfa8MGczzJ4XZs8LczbDxAsTL0y8MPHCxAsTL0y8MPHCxAszCYWZhMKczTCTUJhJKMzZDBMvTLww8cLECxMvTLww8cLECxMvzCQUZhIKczbD5mVZPsYY13tfOI7je9/3z1c+ise8jTGu67p+3fvCtm3vr3wQj3M2w8QLEy9MvDDxwsQLEy9MvDDxwsQL89tmmEkozNkMEy9MvDDxwsQLEy/sN4BvWBvJJPp0AAAAAElFTkSuQmCC\"></img></td>\n      <td id=\"T_8c3b2_row8_col5\" class=\"data row8 col5\" >0<br>(0.0%)</td>\n    </tr>\n    <tr>\n      <td id=\"T_8c3b2_row9_col0\" class=\"data row9 col0\" >10</td>\n      <td id=\"T_8c3b2_row9_col1\" class=\"data row9 col1\" ><strong>fp1_time</strong><br>[object]</td>\n      <td id=\"T_8c3b2_row9_col2\" class=\"data row9 col2\" >1. \\N<br>2. 11:30:00<br>3. 12:00:00<br>4. 09:30:00<br>5. 10:30:00<br>6. 13:30:00<br>7. 17:30:00<br>8. 02:30:00<br>9. 18:30:00<br>10. 18:00:00<br>11. other</td>\n      <td id=\"T_8c3b2_row9_col3\" class=\"data row9 col3\" >1,057 (94.0%)<br>18 (1.6%)<br>8 (0.7%)<br>6 (0.5%)<br>4 (0.4%)<br>4 (0.4%)<br>4 (0.4%)<br>3 (0.3%)<br>3 (0.3%)<br>3 (0.3%)<br>15 (1.3%)</td>\n      <td id=\"T_8c3b2_row9_col4\" class=\"data row9 col4\" ><img src = \"data:image/png;base64, iVBORw0KGgoAAAANSUhEUgAAAG8AAACzCAYAAACHOUI0AAAAOXRFWHRTb2Z0d2FyZQBNYXRwbG90bGliIHZlcnNpb24zLjUuMSwgaHR0cHM6Ly9tYXRwbG90bGliLm9yZy/YYfK9AAAACXBIWXMAAAsTAAALEwEAmpwYAAACV0lEQVR4nO3aIY7bUBhG0efI0NQKKG/XkxVkbVnB7Kd8QIzNU9SCqpFaE/dK58CgJ13NP1K+TK/Xa9B0OfsBHCdemHhh4oWJFyZemHhh07qut2VZrmc/hPf2fX9u2/bx++fzsizX+/3+ecaj+DuPx+PLnz53NsPECxMvTLww8cLECxMvTLww8cLEC/PdZsC77zYnP0DqcjbDfp3Nd3+a/L8uPych//d6nM0w8cLECxMvTLww8cLECxMvTLww8cJ8txlmEgpzNsOmdV1vY4zhZPbMpqAuZzNMvDDxwsQLEy9MvDDxwsQLEy9MvLB53/fn2Y/gGJNQmLMZZhIKMwmFOZth4oWJFyZemHhh4oWJFyZemHhh4oWZhMJMQmHOZthlmqZvZz+CYy5jjK9nP4JjnM0w8cLECxMvTLww8cLECxMvTLww8cIuY4zvZz+CY0xCYc5mmEkozCQU5myGiRcmXph4YeKFiRcmXph4YeKFiRdmEgozCYU5m2EmoTCTUJizGSZemHhh4oWJFyZemHhh4oWJFyZemEkozCQU5myGmYTCTEJhzmaYeGHihYkXJl6YeGHihYkXJl6YeGHihdnzwux5Yc5mmD0vzJ4X5myGiRcmXph4YeKFiRcmXph4YeKFiRdmEgozCYU5m2EmoTCTUJizGSZemHhh4oWJFyZemHhh4oWJFyZemEkozCQU5myGTeu63sYYY9u2j7Mfw7+Zl2W5nv0IjnE2w8QLEy9MvDDxwsQLEy9MvDDxwsQLm/d9f579CI4xCYU5m2HihYkXJl6YeGHihf0AqNlq2NP087EAAAAASUVORK5CYII=\"></img></td>\n      <td id=\"T_8c3b2_row9_col5\" class=\"data row9 col5\" >0<br>(0.0%)</td>\n    </tr>\n    <tr>\n      <td id=\"T_8c3b2_row10_col0\" class=\"data row10 col0\" >11</td>\n      <td id=\"T_8c3b2_row10_col1\" class=\"data row10 col1\" ><strong>fp2_date</strong><br>[object]</td>\n      <td id=\"T_8c3b2_row10_col2\" class=\"data row10 col2\" >1. \\N<br>2. 2024-03-07<br>3. 2023-11-24<br>4. 2023-11-16<br>5. 2023-11-04<br>6. 2023-10-27<br>7. 2023-10-21<br>8. 2023-10-07<br>9. 2023-09-22<br>10. 2023-09-15<br>11. other</td>\n      <td id=\"T_8c3b2_row10_col3\" class=\"data row10 col3\" >1,035 (92.0%)<br>1 (0.1%)<br>1 (0.1%)<br>1 (0.1%)<br>1 (0.1%)<br>1 (0.1%)<br>1 (0.1%)<br>1 (0.1%)<br>1 (0.1%)<br>1 (0.1%)<br>81 (7.2%)</td>\n      <td id=\"T_8c3b2_row10_col4\" class=\"data row10 col4\" ><img src = \"data:image/png;base64, iVBORw0KGgoAAAANSUhEUgAAAG8AAACzCAYAAACHOUI0AAAAOXRFWHRTb2Z0d2FyZQBNYXRwbG90bGliIHZlcnNpb24zLjUuMSwgaHR0cHM6Ly9tYXRwbG90bGliLm9yZy/YYfK9AAAACXBIWXMAAAsTAAALEwEAmpwYAAACTElEQVR4nO3asW3bUBhGUVJw+VpChftkHk/A2TiB90nvwqzZKwMESgQVYi5wTisVD7jAX+jTfLvdJpouZz+A54kXJl6YeGHihYkXJl7YvCzLxxjjevZD+NNxHN/7vn/e+/xtjHFd1/XrlY/iMdu2vf/tc2czTLww8cLECxMvTLww8cLECxMvTLwwv23+x/712+bsD0hdzmbYZZ7nn2c/gudcpmn6cfYjeI6zGSZemHhh4oWJFyZemHhh4oWJFyZe2GWapl9nP4LnmITCnM0wk1CYSSjM2QwTL0y8MPHCxAsTL0y8MPHCxAsTL8wkFGYSCnM2w0xCYSahMGczTLww8cLECxMvTLww8cLECxMvTLwwk1CYSSjM2QwzCYWZhMKczTDxwsQLEy9MvDDxwsQLEy9MvDDxwkxCYSahMGczzCQUZhIKczbDxAsTL0y8MPHCxAsTL0y8MPHCxAszCYWZhMKczTCTUJhJKMzZDBMvTLww8cLECxMvTLww8cLECxMvzCQUZhIKczbDTEJhJqEwZzNMvDDxwsQLEy9MvDDxwsQLEy9MvDDxwux5Yfa8MGczzJ4XZs8LczbDxAsTL0y8MPHCxAsTL0y8MPHCxAszCYWZhMKczTCTUJhJKMzZDBMvTLww8cLECxMvTLww8cLECxMvzCQUZhIKczbD5mVZPsYY13tfOI7je9/3z1c+ise8jTGu67p+3fvCtm3vr3wQj3M2w8QLEy9MvDDxwsQLEy9MvDDxwsQL89tmmEkozNkMEy9MvDDxwsQLEy/sN4BvWBvJJPp0AAAAAElFTkSuQmCC\"></img></td>\n      <td id=\"T_8c3b2_row10_col5\" class=\"data row10 col5\" >0<br>(0.0%)</td>\n    </tr>\n    <tr>\n      <td id=\"T_8c3b2_row11_col0\" class=\"data row11 col0\" >12</td>\n      <td id=\"T_8c3b2_row11_col1\" class=\"data row11 col1\" ><strong>fp2_time</strong><br>[object]</td>\n      <td id=\"T_8c3b2_row11_col2\" class=\"data row11 col2\" >1. \\N<br>2. 15:00:00<br>3. 13:00:00<br>4. 06:00:00<br>5. 10:30:00<br>6. 14:00:00<br>7. 21:00:00<br>8. 17:00:00<br>9. 21:30:00<br>10. 22:00:00<br>11. other</td>\n      <td id=\"T_8c3b2_row11_col3\" class=\"data row11 col3\" >1,057 (94.0%)<br>22 (2.0%)<br>8 (0.7%)<br>5 (0.4%)<br>4 (0.4%)<br>4 (0.4%)<br>4 (0.4%)<br>3 (0.3%)<br>3 (0.3%)<br>3 (0.3%)<br>12 (1.1%)</td>\n      <td id=\"T_8c3b2_row11_col4\" class=\"data row11 col4\" ><img src = \"data:image/png;base64, iVBORw0KGgoAAAANSUhEUgAAAG8AAACzCAYAAACHOUI0AAAAOXRFWHRTb2Z0d2FyZQBNYXRwbG90bGliIHZlcnNpb24zLjUuMSwgaHR0cHM6Ly9tYXRwbG90bGliLm9yZy/YYfK9AAAACXBIWXMAAAsTAAALEwEAmpwYAAACV0lEQVR4nO3aIY7bUBhG0efI0NQKKG/XkxVkbVnB7Kd8QIzNU9SCqpFaE/dK58CgJ13NP1K+TK/Xa9B0OfsBHCdemHhh4oWJFyZemHhh07qut2VZrmc/hPf2fX9u2/bx++fzsizX+/3+ecaj+DuPx+PLnz53NsPECxMvTLww8cLECxMvTLww8cLEC/PdZsC77zYnP0DqcjbDfp3Nd3+a/L8uPych//d6nM0w8cLECxMvTLww8cLECxMvTLww8cJ8txlmEgpzNsOmdV1vY4zhZPbMpqAuZzNMvDDxwsQLEy9MvDDxwsQLEy9MvLB53/fn2Y/gGJNQmLMZdpmm6dvZj+CYyxjj69mP4BhnM0y8MPHCxAsTL0y8MPHCxAsTL0y8sMsY4/vZj+AYk1CYsxlmEgozCYU5m2HihYkXJl6YeGHihYkXJl6YeGHihZmEwkxCYc5mmEkozCQU5myGiRcmXph4YeKFiRcmXph4YeKFiRdmEgozCYU5m2EmoTCTUJizGSZemHhh4oWJFyZemHhh4oWJFyZemEkozCQU5myGmYTCTEJhzmaYeGHihYkXJl6YeGHihYkXJl6YeGHihdnzwux5Yc5mmD0vzJ4X5myGiRcmXph4YeKFiRcmXph4YeKFiRdmEgozCYU5m2EmoTCTUJizGSZemHhh4oWJFyZemHhh4oWJFyZemEkozCQU5myGTeu63sYYY9u2j7Mfw7+Zl2W5nv0IjnE2w8QLEy9MvDDxwsQLEy9MvDDxwsQLm/d9f579CI4xCYU5m2HihYkXJl6YeGHihf0AdBhkAvHdfvcAAAAASUVORK5CYII=\"></img></td>\n      <td id=\"T_8c3b2_row11_col5\" class=\"data row11 col5\" >0<br>(0.0%)</td>\n    </tr>\n    <tr>\n      <td id=\"T_8c3b2_row12_col0\" class=\"data row12 col0\" >13</td>\n      <td id=\"T_8c3b2_row12_col1\" class=\"data row12 col1\" ><strong>fp3_date</strong><br>[object]</td>\n      <td id=\"T_8c3b2_row12_col2\" class=\"data row12 col2\" >1. \\N<br>2. 2022-10-29<br>3. 2023-11-17<br>4. 2023-10-28<br>5. 2023-09-23<br>6. 2023-09-16<br>7. 2023-09-02<br>8. 2023-08-26<br>9. 2023-07-22<br>10. 2023-07-08<br>11. other</td>\n      <td id=\"T_8c3b2_row12_col3\" class=\"data row12 col3\" >1,053 (93.6%)<br>1 (0.1%)<br>1 (0.1%)<br>1 (0.1%)<br>1 (0.1%)<br>1 (0.1%)<br>1 (0.1%)<br>1 (0.1%)<br>1 (0.1%)<br>1 (0.1%)<br>63 (5.6%)</td>\n      <td id=\"T_8c3b2_row12_col4\" class=\"data row12 col4\" ><img src = \"data:image/png;base64, iVBORw0KGgoAAAANSUhEUgAAAG8AAACzCAYAAACHOUI0AAAAOXRFWHRTb2Z0d2FyZQBNYXRwbG90bGliIHZlcnNpb24zLjUuMSwgaHR0cHM6Ly9tYXRwbG90bGliLm9yZy/YYfK9AAAACXBIWXMAAAsTAAALEwEAmpwYAAACSklEQVR4nO3aIW7jUBhGUTsqfNQKKO+spyvw2ryC7md4QY3NU151qiigniudQ02edKUf5Mt8u90mmi5nP4DHiRcmXph4YeKFiRcmXti8LMvrGON69kP43nEcH/u+v3337WmMcV3X9f23H8V9tm17/tc3ZzNMvDDxwsQLEy9MvDDxwsQLEy9MvDC/bf7nfvptc/YHpC5nM+wyz/Ofsx/BYy7TNL2c/Qge42yGiRcmXph4YeKFiRcmXph4YeKFiRd2mabp79mP4DEmoTBnM8wkFGYSCnM2w8QLEy9MvDDxwsQLEy9MvDDxwsQLMwmFmYTCnM0wk1CYSSjM2QwTL0y8MPHCxAsTL0y8MPHCxAsTL8wkFGYSCnM2w0xCYSahMGczTLww8cLECxMvTLww8cLECxMvTLwwk1CYSSjM2QwzCYWZhMKczTDxwsQLEy9MvDDxwsQLEy9MvDDxwkxCYSahMGczzCQUZhIKczbDxAsTL0y8MPHCxAsTL0y8MPHCxAszCYWZhMKczTCTUJhJKMzZDBMvTLww8cLECxMvTLww8cLECxMvTLwwe16YPS/M2Qyz54XZ88KczTDxwsQLEy9MvDDxwsQLEy9MvDDxwkxCYSahMGczzCQUZhIKczbDxAsTL0y8MPHCxAsTL0y8MPHCxAszCYWZhMKczbB5WZbXMcb164fjOD72fX8741Hc52mMcV3X9f3rh23bns94EPdzNsPECxMvTLww8cLECxMvTLww8cLEC/PbZphJKMzZDBMvTLww8cLECxMv7BPB91gbf+zliQAAAABJRU5ErkJggg==\"></img></td>\n      <td id=\"T_8c3b2_row12_col5\" class=\"data row12 col5\" >0<br>(0.0%)</td>\n    </tr>\n    <tr>\n      <td id=\"T_8c3b2_row13_col0\" class=\"data row13 col0\" >14</td>\n      <td id=\"T_8c3b2_row13_col1\" class=\"data row13 col1\" ><strong>fp3_time</strong><br>[object]</td>\n      <td id=\"T_8c3b2_row13_col2\" class=\"data row13 col2\" >1. \\N<br>2. 10:30:00<br>3. 11:00:00<br>4. 09:30:00<br>5. 02:30:00<br>6. 17:00:00<br>7. 16:30:00<br>8. 01:30:00<br>9. 17:30:00<br>10. 13:30:00<br>11. other</td>\n      <td id=\"T_8c3b2_row13_col3\" class=\"data row13 col3\" >1,072 (95.3%)<br>14 (1.2%)<br>9 (0.8%)<br>4 (0.4%)<br>3 (0.3%)<br>3 (0.3%)<br>3 (0.3%)<br>2 (0.2%)<br>2 (0.2%)<br>2 (0.2%)<br>11 (1.0%)</td>\n      <td id=\"T_8c3b2_row13_col4\" class=\"data row13 col4\" ><img src = \"data:image/png;base64, iVBORw0KGgoAAAANSUhEUgAAAG8AAACzCAYAAACHOUI0AAAAOXRFWHRTb2Z0d2FyZQBNYXRwbG90bGliIHZlcnNpb24zLjUuMSwgaHR0cHM6Ly9tYXRwbG90bGliLm9yZy/YYfK9AAAACXBIWXMAAAsTAAALEwEAmpwYAAACT0lEQVR4nO3aMYrbUBhG0SfjUq1wkT5Zj1fgtXkFs5/0KaxavdOGIYREzcuFc0pXDy7zD/jz8n6/B02X2Q/gPPHCxAsTL0y8MPHCxAtbtm27r+t6m/0Q/uw4jte+7x+/fnZd1/X2eDx+zHoUf+f5fH75/JmzGSZemHhh4oWJFyZemHhh4oWJFyZemO82I3733ebiB0hdzmbYsm3bfYwxPv9J8v+7+n/X5WyGiRcmXph4YeKFiRcmXph4YeKFiRd2PY7jNfsRnGMSCnM2w0xCYSahMGczTLww8cLECxMvTLww8cLECxMvTLwwk1CYSSjM2Qy7LMvybfYjOOcyxvg6+xGc42yGiRcmXph4YeKFiRcmXph4YeKFiRd2GWN8n/0IzjEJhTmbYSahMJNQmLMZJl6YeGHihYkXJl6YeGHihYkXJl6YSSjMJBTmbIaZhMJMQmHOZph4YeKFiRcmXph4YeKFiRcmXph4YSahMJNQmLMZZhIKMwmFOZth4oWJFyZemHhh4oWJFyZemHhh4oWZhMJMQmHOZphJKMwkFOZshokXJl6YeGHihYkXJl6YeGHihYkXJl6YPS/MnhfmbIbZ88LseWHOZph4YeKFiRcmXph4YeKFiRcmXph4YSahMJNQmLMZZhIKMwmFOZth4oWJFyZemHhh4oWJFyZemHhh4oWZhMJMQmHOZtiybdt9jDH2ff+Y/Rj+zXVd19vsR3COsxkmXph4YeKFiRcmXph4YeKFiRcmXtj1OI7X7EdwjkkozNkMEy9MvDDxwsQLEy/sJ3LWWZJZRw5wAAAAAElFTkSuQmCC\"></img></td>\n      <td id=\"T_8c3b2_row13_col5\" class=\"data row13 col5\" >0<br>(0.0%)</td>\n    </tr>\n    <tr>\n      <td id=\"T_8c3b2_row14_col0\" class=\"data row14 col0\" >15</td>\n      <td id=\"T_8c3b2_row14_col1\" class=\"data row14 col1\" ><strong>quali_date</strong><br>[object]</td>\n      <td id=\"T_8c3b2_row14_col2\" class=\"data row14 col2\" >1. \\N<br>2. 2024-03-08<br>3. 2023-11-25<br>4. 2023-11-17<br>5. 2023-11-03<br>6. 2023-10-28<br>7. 2023-10-20<br>8. 2023-10-06<br>9. 2023-09-23<br>10. 2023-09-16<br>11. other</td>\n      <td id=\"T_8c3b2_row14_col3\" class=\"data row14 col3\" >1,035 (92.0%)<br>1 (0.1%)<br>1 (0.1%)<br>1 (0.1%)<br>1 (0.1%)<br>1 (0.1%)<br>1 (0.1%)<br>1 (0.1%)<br>1 (0.1%)<br>1 (0.1%)<br>81 (7.2%)</td>\n      <td id=\"T_8c3b2_row14_col4\" class=\"data row14 col4\" ><img src = \"data:image/png;base64, iVBORw0KGgoAAAANSUhEUgAAAG8AAACzCAYAAACHOUI0AAAAOXRFWHRTb2Z0d2FyZQBNYXRwbG90bGliIHZlcnNpb24zLjUuMSwgaHR0cHM6Ly9tYXRwbG90bGliLm9yZy/YYfK9AAAACXBIWXMAAAsTAAALEwEAmpwYAAACTElEQVR4nO3asW3bUBhGUVJw+VpChftkHk/A2TiB90nvwqzZKwMESgQVYi5wTisVD7jAX+jTfLvdJpouZz+A54kXJl6YeGHihYkXJl7YvCzLxxjjevZD+NNxHN/7vn/e+/xtjHFd1/XrlY/iMdu2vf/tc2czTLww8cLECxMvTLww8cLECxMvTLwwv23+x/712+bsD0hdzmbYZZ7nn2c/gudcpmn6cfYjeI6zGSZemHhh4oWJFyZemHhh4oWJFyZe2GWapl9nP4LnmITCnM0wk1CYSSjM2QwTL0y8MPHCxAsTL0y8MPHCxAsTL8wkFGYSCnM2w0xCYSahMGczTLww8cLECxMvTLww8cLECxMvTLwwk1CYSSjM2QwzCYWZhMKczTDxwsQLEy9MvDDxwsQLEy9MvDDxwkxCYSahMGczzCQUZhIKczbDxAsTL0y8MPHCxAsTL0y8MPHCxAszCYWZhMKczTCTUJhJKMzZDBMvTLww8cLECxMvTLww8cLECxMvzCQUZhIKczbDTEJhJqEwZzNMvDDxwsQLEy9MvDDxwsQLEy9MvDDxwux5Yfa8MGczzJ4XZs8LczbDxAsTL0y8MPHCxAsTL0y8MPHCxAszCYWZhMKczTCTUJhJKMzZDBMvTLww8cLECxMvTLww8cLECxMvzCQUZhIKczbD5mVZPsYY13tfOI7je9/3z1c+ise8jTGu67p+3fvCtm3vr3wQj3M2w8QLEy9MvDDxwsQLEy9MvDDxwsQL89tmmEkozNkMEy9MvDDxwsQLEy/sN4BvWBvJJPp0AAAAAElFTkSuQmCC\"></img></td>\n      <td id=\"T_8c3b2_row14_col5\" class=\"data row14 col5\" >0<br>(0.0%)</td>\n    </tr>\n    <tr>\n      <td id=\"T_8c3b2_row15_col0\" class=\"data row15 col0\" >16</td>\n      <td id=\"T_8c3b2_row15_col1\" class=\"data row15 col1\" ><strong>quali_time</strong><br>[object]</td>\n      <td id=\"T_8c3b2_row15_col2\" class=\"data row15 col2\" >1. \\N<br>2. 14:00:00<br>3. 20:00:00<br>4. 13:00:00<br>5. 15:00:00<br>6. 17:00:00<br>7. 06:00:00<br>8. 21:00:00<br>9. 22:00:00<br>10. 05:00:00<br>11. other</td>\n      <td id=\"T_8c3b2_row15_col3\" class=\"data row15 col3\" >1,057 (94.0%)<br>24 (2.1%)<br>7 (0.6%)<br>7 (0.6%)<br>6 (0.5%)<br>5 (0.4%)<br>5 (0.4%)<br>3 (0.3%)<br>2 (0.2%)<br>2 (0.2%)<br>7 (0.6%)</td>\n      <td id=\"T_8c3b2_row15_col4\" class=\"data row15 col4\" ><img src = \"data:image/png;base64, iVBORw0KGgoAAAANSUhEUgAAAG8AAACzCAYAAACHOUI0AAAAOXRFWHRTb2Z0d2FyZQBNYXRwbG90bGliIHZlcnNpb24zLjUuMSwgaHR0cHM6Ly9tYXRwbG90bGliLm9yZy/YYfK9AAAACXBIWXMAAAsTAAALEwEAmpwYAAACV0lEQVR4nO3aIY7bUBhG0efI0NQKKG/XkxVkbVnB7Kd8QIzNU9SCqpFaE/dK58CgJ13NP1K+TK/Xa9B0OfsBHCdemHhh4oWJFyZemHhh07qut2VZrmc/hPf2fX9u2/bx++fzsizX+/3+ecaj+DuPx+PLnz53NsPECxMvTLww8cLECxMvTLww8cLEC/PdZsC77zYnP0DqcjbDfp3Nd3+a/L8uPych//d6nM0w8cLECxMvTLww8cLECxMvTLww8cJ8txlmEgpzNsOmdV1vY4zhZPbMpqAuZzNMvDDxwsQLEy9MvDDxwsQLEy9MvLB53/fn2Y/gGJNQmLMZZhIKMwmFOZth4oWJFyZemHhh4oWJFyZemHhh4oWZhMJMQmHOZphJKMwkFOZshokXJl6YeGHihYkXJl6YeGHihYkXZhIKMwmFOZthl2mavp39CI65jDG+nv0IjnE2w8QLEy9MvDDxwsQLEy9MvDDxwsQLu4wxvp/9CI4xCYU5m2EmoTCTUJizGSZemHhh4oWJFyZemHhh4oWJFyZemEkozCQU5myGmYTCTEJhzmaYeGHihYkXJl6YeGHihYkXJl6YeGHihdnzwux5Yc5mmD0vzJ4X5myGiRcmXph4YeKFiRcmXph4YeKFiRdmEgozCYU5m2EmoTCTUJizGSZemHhh4oWJFyZemHhh4oWJFyZemEkozCQU5myGTeu63sYYY9u2j7Mfw7+Zl2W5nv0IjnE2w8QLEy9MvDDxwsQLEy9MvDDxwsQLm/d9f579CI4xCYU5m2HihYkXJl6YeGHihf0AlUpxruyjbYwAAAAASUVORK5CYII=\"></img></td>\n      <td id=\"T_8c3b2_row15_col5\" class=\"data row15 col5\" >0<br>(0.0%)</td>\n    </tr>\n    <tr>\n      <td id=\"T_8c3b2_row16_col0\" class=\"data row16 col0\" >17</td>\n      <td id=\"T_8c3b2_row16_col1\" class=\"data row16 col1\" ><strong>sprint_date</strong><br>[object]</td>\n      <td id=\"T_8c3b2_row16_col2\" class=\"data row16 col2\" >1. \\N<br>2. 2023-10-07<br>3. 2024-11-02<br>4. 2024-10-19<br>5. 2024-06-29<br>6. 2024-05-04<br>7. 2024-04-20<br>8. 2023-11-04<br>9. 2023-10-21<br>10. 2023-07-29<br>11. other</td>\n      <td id=\"T_8c3b2_row16_col3\" class=\"data row16 col3\" >1,107 (98.4%)<br>1 (0.1%)<br>1 (0.1%)<br>1 (0.1%)<br>1 (0.1%)<br>1 (0.1%)<br>1 (0.1%)<br>1 (0.1%)<br>1 (0.1%)<br>1 (0.1%)<br>9 (0.8%)</td>\n      <td id=\"T_8c3b2_row16_col4\" class=\"data row16 col4\" ><img src = \"data:image/png;base64, iVBORw0KGgoAAAANSUhEUgAAAG8AAACzCAYAAACHOUI0AAAAOXRFWHRTb2Z0d2FyZQBNYXRwbG90bGliIHZlcnNpb24zLjUuMSwgaHR0cHM6Ly9tYXRwbG90bGliLm9yZy/YYfK9AAAACXBIWXMAAAsTAAALEwEAmpwYAAACMklEQVR4nO3asY3jQBQFwaEgky4h4/zbeDYCxaYILp/z15Ds8bUxiM6ggaoIBmjgG3zc3u/3oOmy+gGcJ16YeGHihYkXJl6YeGHbcRzf+77fVj+Ez8w5n9d932/3+/1n9WP4zOPx+ONshokXJl6YeGHihYkXJl6YeGHihYkX5ttm1JzzufkBqcvZDLts2/a1+hGccxlj/F39CM5xNsPECxMvTLww8cLECxMvTLww8cLEC7uMMf6vfgTnmITCnM0wk1CYSSjM2QwTL0y8MPHCxAsTL0y8MPHCxAsTL8wkFGYSCnM2w0xCYSahMGczTLww8cLECxMvTLww8cLECxMvTLwwk1CYSSjM2QwzCYWZhMKczTDxwsQLEy9MvDDxwsQLEy9MvDDxwkxCYSahMGczzCQUZhIKczbDxAsTL0y8MPHCxAsTL0y8MPHCxAszCYWZhMKczTCTUJhJKMzZDBMvTLww8cLECxMvTLww8cLECxMvzCQUZhIKczbDTEJhJqEwZzNMvDDxwsQLEy9MvDDxwsQLEy9MvDDxwux5Yfa8MGczzJ4XZs8LczbDxAsTL0y8MPHCxAsTL0y8MPHCxAszCYWZhMKczTCTUJhJKMzZDBMvTLww8cLECxMvTLww8cLECxMvzCQUZhIKczbDtuM4vscY4/V6/Vv9GD5z3ff9tvoRnONshokXJl6YeGHihYkXJl6YeGHihYkXdp1zPlc/gnNMQmHOZph4YeKFiRcmXph4Yb+GNkUMoeIMMgAAAABJRU5ErkJggg==\"></img></td>\n      <td id=\"T_8c3b2_row16_col5\" class=\"data row16 col5\" >0<br>(0.0%)</td>\n    </tr>\n    <tr>\n      <td id=\"T_8c3b2_row17_col0\" class=\"data row17 col0\" >18</td>\n      <td id=\"T_8c3b2_row17_col1\" class=\"data row17 col1\" ><strong>sprint_time</strong><br>[object]</td>\n      <td id=\"T_8c3b2_row17_col2\" class=\"data row17 col2\" >1. \\N<br>2. 14:30:00<br>3. 19:30:00<br>4. 13:30:00<br>5. 17:30:00<br>6. 22:00:00<br>7. 18:30:00<br>8. 03:00:00<br>9. 16:00:00<br>10. 10:00:00<br>11. other</td>\n      <td id=\"T_8c3b2_row17_col3\" class=\"data row17 col3\" >1,110 (98.7%)<br>4 (0.4%)<br>1 (0.1%)<br>1 (0.1%)<br>1 (0.1%)<br>1 (0.1%)<br>1 (0.1%)<br>1 (0.1%)<br>1 (0.1%)<br>1 (0.1%)<br>3 (0.3%)</td>\n      <td id=\"T_8c3b2_row17_col4\" class=\"data row17 col4\" ><img src = \"data:image/png;base64, iVBORw0KGgoAAAANSUhEUgAAAG8AAACzCAYAAACHOUI0AAAAOXRFWHRTb2Z0d2FyZQBNYXRwbG90bGliIHZlcnNpb24zLjUuMSwgaHR0cHM6Ly9tYXRwbG90bGliLm9yZy/YYfK9AAAACXBIWXMAAAsTAAALEwEAmpwYAAACGUlEQVR4nO3asW2EQBRF0RnkkHS1gXO7HldAbbTl3MHm5LiGJUFXOqeCka70Ax7zPM9B03L3A7hOvDDxwsQLEy9MvDDxwubj8fhZ1/V590N4z3Ecr491XZ/btv3d/Rjes+/7p7MZJl6YeGHihYkXJl6YeGHihYkXJl6Yb5tRx3G8ph+QupzNsGXO+X33I7hmGWN83f0IrnE2w8QLEy9MvDDxwsQLEy9MvDDxwsQLW8YYv3c/gmtMQmHOZphJKMwkFOZshokXJl6YeGHihYkXJl6YeGHihYkXZhIKMwmFOZthJqEwk1CYsxkmXph4YeKFiRcmXph4YeKFiRcmXphJKMwkFOZshpmEwkxCYc5mmHhh4oWJFyZemHhh4oWJFyZemHhhJqEwk1CYsxlmEgozCYU5m2HihYkXJl6YeGHihYkXJl6YeGHihZmEwkxCYc5mmEkozCQU5myGiRcmXph4YeKFiRcmXph4YeKFiRdmEgozCYU5m2EmoTCTUJizGSZemHhh4oWJFyZemHhh4oWJFyZemHhh9rwwe16Ysxlmzwuz54U5m2HihYkXJl6YeGHihYkXJl6YeGHihZmEwkxCYc5mmEkozCQU5myGiRcmXph4YeKFiRcmXph4YeKFiRdmEgozCYU5m2EmoTCTUJizGSZemHhh4oWJFyZemHhh4oWJFyZemEkozCQU5myGiRcmXph4YeKFiRf2Dy51Pjag1YqxAAAAAElFTkSuQmCC\"></img></td>\n      <td id=\"T_8c3b2_row17_col5\" class=\"data row17 col5\" >0<br>(0.0%)</td>\n    </tr>\n  </tbody>\n</table>\n",
       "datasetInfos": [],
       "metadata": {},
       "removedWidgets": [],
       "textData": null,
       "type": "htmlSandbox"
      }
     },
     "output_type": "display_data"
    }
   ],
   "source": [
    "sumario_dados(races)"
   ]
  },
  {
   "cell_type": "code",
   "execution_count": 0,
   "metadata": {
    "application/vnd.databricks.v1+cell": {
     "cellMetadata": {
      "byteLimit": 2048000,
      "rowLimit": 10000
     },
     "inputWidgets": {},
     "nuid": "6a024a6e-de8e-49de-a9db-dce7b7373a7f",
     "showTitle": false,
     "tableResultSettingsMap": {},
     "title": ""
    }
   },
   "outputs": [
    {
     "output_type": "display_data",
     "data": {
      "text/html": [
       "<h2 style='color: #007bff;'>Dataset Info</h2>"
      ]
     },
     "metadata": {
      "application/vnd.databricks.v1+output": {
       "addedWidgets": {},
       "arguments": {},
       "data": "<h2 style='color: #007bff;'>Dataset Info</h2>",
       "datasetInfos": [],
       "metadata": {},
       "removedWidgets": [],
       "textData": null,
       "type": "htmlSandbox"
      }
     },
     "output_type": "display_data"
    },
    {
     "output_type": "display_data",
     "data": {
      "text/html": [
       "<h4 style='color: #6c757d;'>Shape: (861, 9)</h4>"
      ]
     },
     "metadata": {
      "application/vnd.databricks.v1+output": {
       "addedWidgets": {},
       "arguments": {},
       "data": "<h4 style='color: #6c757d;'>Shape: (861, 9)</h4>",
       "datasetInfos": [],
       "metadata": {},
       "removedWidgets": [],
       "textData": null,
       "type": "htmlSandbox"
      }
     },
     "output_type": "display_data"
    },
    {
     "output_type": "display_data",
     "data": {
      "text/html": [
       "<h4 style='color: #6c757d;'>Numero de Colunas: 9</h4>"
      ]
     },
     "metadata": {
      "application/vnd.databricks.v1+output": {
       "addedWidgets": {},
       "arguments": {},
       "data": "<h4 style='color: #6c757d;'>Numero de Colunas: 9</h4>",
       "datasetInfos": [],
       "metadata": {},
       "removedWidgets": [],
       "textData": null,
       "type": "htmlSandbox"
      }
     },
     "output_type": "display_data"
    },
    {
     "output_type": "display_data",
     "data": {
      "text/html": [
       "<h4 style='color: #6c757d;'>Numero de Linhas: 861</h4>"
      ]
     },
     "metadata": {
      "application/vnd.databricks.v1+output": {
       "addedWidgets": {},
       "arguments": {},
       "data": "<h4 style='color: #6c757d;'>Numero de Linhas: 861</h4>",
       "datasetInfos": [],
       "metadata": {},
       "removedWidgets": [],
       "textData": null,
       "type": "htmlSandbox"
      }
     },
     "output_type": "display_data"
    },
    {
     "output_type": "display_data",
     "data": {
      "text/html": [
       "<hr>"
      ]
     },
     "metadata": {
      "application/vnd.databricks.v1+output": {
       "addedWidgets": {},
       "arguments": {},
       "data": "<hr>",
       "datasetInfos": [],
       "metadata": {},
       "removedWidgets": [],
       "textData": null,
       "type": "htmlSandbox"
      }
     },
     "output_type": "display_data"
    },
    {
     "output_type": "display_data",
     "data": {
      "text/html": [
       "<h2 style='color: #28a745;'>Dataset Info </h2>"
      ]
     },
     "metadata": {
      "application/vnd.databricks.v1+output": {
       "addedWidgets": {},
       "arguments": {},
       "data": "<h2 style='color: #28a745;'>Dataset Info </h2>",
       "datasetInfos": [],
       "metadata": {},
       "removedWidgets": [],
       "textData": null,
       "type": "htmlSandbox"
      }
     },
     "output_type": "display_data"
    },
    {
     "output_type": "display_data",
     "data": {
      "text/html": [
       "<h4 style='color: #6c757d;'>Column types and missing data</h4>"
      ]
     },
     "metadata": {
      "application/vnd.databricks.v1+output": {
       "addedWidgets": {},
       "arguments": {},
       "data": "<h4 style='color: #6c757d;'>Column types and missing data</h4>",
       "datasetInfos": [],
       "metadata": {},
       "removedWidgets": [],
       "textData": null,
       "type": "htmlSandbox"
      }
     },
     "output_type": "display_data"
    },
    {
     "output_type": "stream",
     "name": "stdout",
     "output_type": "stream",
     "text": [
      "<class 'pandas.core.frame.DataFrame'>\nRangeIndex: 861 entries, 0 to 860\nData columns (total 9 columns):\n #   Column       Non-Null Count  Dtype \n---  ------       --------------  ----- \n 0   driverId     861 non-null    int64 \n 1   driverRef    861 non-null    object\n 2   number       861 non-null    object\n 3   code         861 non-null    object\n 4   forename     861 non-null    object\n 5   surname      861 non-null    object\n 6   dob          861 non-null    object\n 7   nationality  861 non-null    object\n 8   url          861 non-null    object\ndtypes: int64(1), object(8)\nmemory usage: 60.7+ KB\nNone"
     ]
    },
    {
     "output_type": "display_data",
     "data": {
      "text/html": [
       "<hr>"
      ]
     },
     "metadata": {
      "application/vnd.databricks.v1+output": {
       "addedWidgets": {},
       "arguments": {},
       "data": "<hr>",
       "datasetInfos": [],
       "metadata": {},
       "removedWidgets": [],
       "textData": null,
       "type": "htmlSandbox"
      }
     },
     "output_type": "display_data"
    },
    {
     "output_type": "display_data",
     "data": {
      "text/html": [
       "<h2 style='color: #17a2b8;'>Sumario de dados</h2>"
      ]
     },
     "metadata": {
      "application/vnd.databricks.v1+output": {
       "addedWidgets": {},
       "arguments": {},
       "data": "<h2 style='color: #17a2b8;'>Sumario de dados</h2>",
       "datasetInfos": [],
       "metadata": {},
       "removedWidgets": [],
       "textData": null,
       "type": "htmlSandbox"
      }
     },
     "output_type": "display_data"
    },
    {
     "output_type": "display_data",
     "data": {
      "text/html": [
       "<style type=\"text/css\">\n",
       "#T_a3fde thead>tr>th {\n",
       "  text-align: left;\n",
       "}\n",
       "#T_a3fde_row0_col0, #T_a3fde_row1_col0, #T_a3fde_row2_col0, #T_a3fde_row3_col0, #T_a3fde_row4_col0, #T_a3fde_row5_col0, #T_a3fde_row6_col0, #T_a3fde_row7_col0, #T_a3fde_row8_col0 {\n",
       "  text-align: left;\n",
       "  font-size: 12px;\n",
       "  vertical-align: middle;\n",
       "  width: 5%;\n",
       "  max-width: 50px;\n",
       "  min-width: 20px;\n",
       "}\n",
       "#T_a3fde_row0_col1, #T_a3fde_row1_col1, #T_a3fde_row2_col1, #T_a3fde_row3_col1, #T_a3fde_row4_col1, #T_a3fde_row5_col1, #T_a3fde_row6_col1, #T_a3fde_row7_col1, #T_a3fde_row8_col1 {\n",
       "  text-align: left;\n",
       "  font-size: 12px;\n",
       "  vertical-align: middle;\n",
       "  width: 15%;\n",
       "  max-width: 200px;\n",
       "  min-width: 100px;\n",
       "  word-break: break-word;\n",
       "}\n",
       "#T_a3fde_row0_col2, #T_a3fde_row1_col2, #T_a3fde_row2_col2, #T_a3fde_row3_col2, #T_a3fde_row4_col2, #T_a3fde_row5_col2, #T_a3fde_row6_col2, #T_a3fde_row7_col2, #T_a3fde_row8_col2 {\n",
       "  text-align: left;\n",
       "  font-size: 12px;\n",
       "  vertical-align: middle;\n",
       "  width: 30%;\n",
       "  min-width: 100px;\n",
       "}\n",
       "#T_a3fde_row0_col3, #T_a3fde_row1_col3, #T_a3fde_row2_col3, #T_a3fde_row3_col3, #T_a3fde_row4_col3, #T_a3fde_row5_col3, #T_a3fde_row6_col3, #T_a3fde_row7_col3, #T_a3fde_row8_col3 {\n",
       "  text-align: left;\n",
       "  font-size: 12px;\n",
       "  vertical-align: middle;\n",
       "  width: 25%;\n",
       "  min-width: 100px;\n",
       "}\n",
       "#T_a3fde_row0_col4, #T_a3fde_row1_col4, #T_a3fde_row2_col4, #T_a3fde_row3_col4, #T_a3fde_row4_col4, #T_a3fde_row5_col4, #T_a3fde_row6_col4, #T_a3fde_row7_col4, #T_a3fde_row8_col4 {\n",
       "  text-align: left;\n",
       "  font-size: 12px;\n",
       "  vertical-align: middle;\n",
       "  width: 20%;\n",
       "  min-width: 150px;\n",
       "}\n",
       "#T_a3fde_row0_col5, #T_a3fde_row1_col5, #T_a3fde_row2_col5, #T_a3fde_row3_col5, #T_a3fde_row4_col5, #T_a3fde_row5_col5, #T_a3fde_row6_col5, #T_a3fde_row7_col5, #T_a3fde_row8_col5 {\n",
       "  text-align: left;\n",
       "  font-size: 12px;\n",
       "  vertical-align: middle;\n",
       "  width: 10%;\n",
       "}\n",
       "</style>\n",
       "<table id=\"T_a3fde\">\n",
       "  <caption><strong>Data Frame Summary</strong><br>df<br>Dimensions: 861 x 9<br>Duplicates: 0</caption>\n",
       "  <thead>\n",
       "    <tr>\n",
       "      <th id=\"T_a3fde_level0_col0\" class=\"col_heading level0 col0\" >No</th>\n",
       "      <th id=\"T_a3fde_level0_col1\" class=\"col_heading level0 col1\" >Variable</th>\n",
       "      <th id=\"T_a3fde_level0_col2\" class=\"col_heading level0 col2\" >Stats / Values</th>\n",
       "      <th id=\"T_a3fde_level0_col3\" class=\"col_heading level0 col3\" >Freqs / (% of Valid)</th>\n",
       "      <th id=\"T_a3fde_level0_col4\" class=\"col_heading level0 col4\" >Graph</th>\n",
       "      <th id=\"T_a3fde_level0_col5\" class=\"col_heading level0 col5\" >Missing</th>\n",
       "    </tr>\n",
       "  </thead>\n",
       "  <tbody>\n",
       "    <tr>\n",
       "      <td id=\"T_a3fde_row0_col0\" class=\"data row0 col0\" >1</td>\n",
       "      <td id=\"T_a3fde_row0_col1\" class=\"data row0 col1\" ><strong>driverId</strong><br>[int64]</td>\n",
       "      <td id=\"T_a3fde_row0_col2\" class=\"data row0 col2\" >Mean (sd) : 431.1 (248.8)<br>min < med < max:<br>1.0 < 431.0 < 862.0<br>IQR (CV) : 430.0 (1.7)</td>\n",
       "      <td id=\"T_a3fde_row0_col3\" class=\"data row0 col3\" >861 distinct values</td>\n",
       "      <td id=\"T_a3fde_row0_col4\" class=\"data row0 col4\" ><img src = \"data:image/png;base64, iVBORw0KGgoAAAANSUhEUgAAAHoAAAAyCAYAAACTUs/lAAAAOXRFWHRTb2Z0d2FyZQBNYXRwbG90bGliIHZlcnNpb24zLjUuMSwgaHR0cHM6Ly9tYXRwbG90bGliLm9yZy/YYfK9AAAACXBIWXMAAAsTAAALEwEAmpwYAAAA9klEQVR4nO3VMQrCMBhAYRWhy+/aDi7Se3gCJ0+Qe3XrCTyF93BxMHP3uiuFCK2C731jG8IPLyHrcRxX+n+bXw+g79hO/ajr+hwRTckmwzA8cs6X+cbS3CZDR0STUrqXbNJ13alt29JDcYiIG33twnO8XbzJ0J+oqmpXeij6vj+mlK70tQvPsX/95hsNYWgIQ0MYGsLQEIaGMDSEoSEMDWFoCENDGBrC0BCGhjA0hKEhDA1haAhDQxgawtAQhoYwNIShIQwNYWgIQ0MYGsLQEIaGMDSEoSEMDWFoCENDGBrC0BCGhjA0hKEhDA1haAhDQxgawtAQT7s2W55As63TAAAAAElFTkSuQmCC\"></img></td>\n",
       "      <td id=\"T_a3fde_row0_col5\" class=\"data row0 col5\" >0<br>(0.0%)</td>\n",
       "    </tr>\n",
       "    <tr>\n",
       "      <td id=\"T_a3fde_row1_col0\" class=\"data row1 col0\" >2</td>\n",
       "      <td id=\"T_a3fde_row1_col1\" class=\"data row1 col1\" ><strong>driverRef</strong><br>[object]</td>\n",
       "      <td id=\"T_a3fde_row1_col2\" class=\"data row1 col2\" >1. hamilton<br>2. shelby<br>3. fontes<br>4. ashdown<br>5. bill_moss<br>6. dennis_taylor<br>7. blanchard<br>8. tomaso<br>9. constantine<br>10. said<br>11. other</td>\n",
       "      <td id=\"T_a3fde_row1_col3\" class=\"data row1 col3\" >1 (0.1%)<br>1 (0.1%)<br>1 (0.1%)<br>1 (0.1%)<br>1 (0.1%)<br>1 (0.1%)<br>1 (0.1%)<br>1 (0.1%)<br>1 (0.1%)<br>1 (0.1%)<br>851 (98.8%)</td>\n",
       "      <td id=\"T_a3fde_row1_col4\" class=\"data row1 col4\" ><img src = \"data:image/png;base64, iVBORw0KGgoAAAANSUhEUgAAAG8AAACzCAYAAACHOUI0AAAAOXRFWHRTb2Z0d2FyZQBNYXRwbG90bGliIHZlcnNpb24zLjUuMSwgaHR0cHM6Ly9tYXRwbG90bGliLm9yZy/YYfK9AAAACXBIWXMAAAsTAAALEwEAmpwYAAACGUlEQVR4nO3asW2EQBRF0RnkkHS1gXO7HldAbbTl3MHm5LiGJUFXOqeCka70Ax7zPM9B03L3A7hOvDDxwsQLEy9MvDDxwpY55/fdj+CaZYzxdfcjuMbZDBMvTLww8cLECxMvTLww8cLECxMvbBlj/N79CK6ZfkDqcjbDTEJhJqEwZzNMvDDxwsQLEy9MvDDxwsQLEy9MvDCTUJhJKMzZDDMJhZmEwpzNMPHCxAsTL0y8MPHCxAsTL0y8MPHCTEJhJqEwZzPMJBRmEgpzNsPECxMvTLww8cLECxMvTLww8cLECzMJhZmEwpzNMJNQmEkozNkMEy9MvDDxwsQLEy9MvDDxwsQLEy/MJBRmEgpzNsNMQmEmoTBnM0y8MPHCxAsTL0y8MPHCxAsTL0y8MJNQmEkozNkMMwmFmYTCnM0w8cLECxMvTLww8cLECxMvTLww8cJMQmEmoTBnM8wkFGYSCnM2w8QLEy9MvDDxwsQLEy9MvDDxwsQLEy/MnhdmzwtzNsPseWH2vDBnM0y8MPHCxAsTL0y8MPHCxAsTL0y8MJNQmEkozNkMMwmFmYTCnM0w8cLECxMvTLww8cLECxMvTLww8cJMQmEmoTBnM2w+Ho+fdV2fdz+E9xzH8fpY1/W5bdvf3Y/hPfu+fzqbYeKFiRcmXph4YeKFiRcmXph4YeKF+bYZdRzHyyQU5myGiRcmXph4YeKFiRf2D3FbPjaU9nrNAAAAAElFTkSuQmCC\"></img></td>\n",
       "      <td id=\"T_a3fde_row1_col5\" class=\"data row1 col5\" >0<br>(0.0%)</td>\n",
       "    </tr>\n",
       "    <tr>\n",
       "      <td id=\"T_a3fde_row2_col0\" class=\"data row2 col0\" >3</td>\n",
       "      <td id=\"T_a3fde_row2_col1\" class=\"data row2 col1\" ><strong>number</strong><br>[object]</td>\n",
       "      <td id=\"T_a3fde_row2_col2\" class=\"data row2 col2\" >1. \\N<br>2. 22<br>3. 99<br>4. 21<br>5. 2<br>6. 10<br>7. 4<br>8. 9<br>9. 88<br>10. 28<br>11. other</td>\n",
       "      <td id=\"T_a3fde_row2_col3\" class=\"data row2 col3\" >802 (93.1%)<br>2 (0.2%)<br>2 (0.2%)<br>2 (0.2%)<br>2 (0.2%)<br>2 (0.2%)<br>2 (0.2%)<br>2 (0.2%)<br>2 (0.2%)<br>2 (0.2%)<br>41 (4.8%)</td>\n",
       "      <td id=\"T_a3fde_row2_col4\" class=\"data row2 col4\" ><img src = \"data:image/png;base64, iVBORw0KGgoAAAANSUhEUgAAAG8AAACzCAYAAACHOUI0AAAAOXRFWHRTb2Z0d2FyZQBNYXRwbG90bGliIHZlcnNpb24zLjUuMSwgaHR0cHM6Ly9tYXRwbG90bGliLm9yZy/YYfK9AAAACXBIWXMAAAsTAAALEwEAmpwYAAACS0lEQVR4nO3aIW7jUBhGUTsqfNQKKO+spyvw2ryC7md4QY3NU1rQqaKAeq50DkzIk670g3yZb7fbRNPl7AfwOPHCxAsTL0y8MPHCxAubl2V5HWNcz34I3zuO42Pf97fvvnsaY1zXdX3/7Udxn23bnv/1nbMZJl6YeGHihYkXJl6YeGHihYkXJl6Y3zb/cz/9tjn7A1KXsxl2mef5z9mP4DGXaZpezn4Ej3E2w8QLEy9MvDDxwsQLEy9MvDDxwsQLu0zT9PfsR/AYk1CYsxlmEgozCYU5m2HihYkXJl6YeGHihYkXJl6YeGHihZmEwkxCYc5mmEkozCQU5myGiRcmXph4YeKFiRcmXph4YeKFiRdmEgozCYU5m2EmoTCTUJizGSZemHhh4oWJFyZemHhh4oWJFyZemEkozCQU5myGmYTCTEJhzmaYeGHihYkXJl6YeGHihYkXJl6YeGEmoTCTUJizGWYSCjMJhTmbYeKFiRcmXph4YeKFiRcmXph4YeKFmYTCTEJhzmaYSSjMJBTmbIaJFyZemHhh4oWJFyZemHhh4oWJFyZemD0vzJ4X5myG2fPC7HlhzmaYeGHihYkXJl6YeGHihYkXJl6YeGEmoTCTUJizGWYSCjMJhTmbYeKFiRcmXph4YeKFiRcmXph4YeKFmYTCTEJhzmbYvCzL6xjj+vXD4zg+9n1/O+tR3OdpjHFd1/X964fbtj2f9SDu52yGiRcmXph4YeKFiRcmXph4YeKFiRfmt80wk1CYsxkmXph4YeKFiRcmXtgnA45YG29m8GYAAAAASUVORK5CYII=\"></img></td>\n",
       "      <td id=\"T_a3fde_row2_col5\" class=\"data row2 col5\" >0<br>(0.0%)</td>\n",
       "    </tr>\n",
       "    <tr>\n",
       "      <td id=\"T_a3fde_row3_col0\" class=\"data row3 col0\" >4</td>\n",
       "      <td id=\"T_a3fde_row3_col1\" class=\"data row3 col1\" ><strong>code</strong><br>[object]</td>\n",
       "      <td id=\"T_a3fde_row3_col2\" class=\"data row3 col2\" >1. \\N<br>2. BIA<br>3. MSC<br>4. HAR<br>5. MAG<br>6. VER<br>7. ALB<br>8. DOO<br>9. BOT<br>10. NAS<br>11. other</td>\n",
       "      <td id=\"T_a3fde_row3_col3\" class=\"data row3 col3\" >757 (87.9%)<br>2 (0.2%)<br>2 (0.2%)<br>2 (0.2%)<br>2 (0.2%)<br>2 (0.2%)<br>2 (0.2%)<br>2 (0.2%)<br>1 (0.1%)<br>1 (0.1%)<br>88 (10.2%)</td>\n",
       "      <td id=\"T_a3fde_row3_col4\" class=\"data row3 col4\" ><img src = \"data:image/png;base64, iVBORw0KGgoAAAANSUhEUgAAAG8AAACzCAYAAACHOUI0AAAAOXRFWHRTb2Z0d2FyZQBNYXRwbG90bGliIHZlcnNpb24zLjUuMSwgaHR0cHM6Ly9tYXRwbG90bGliLm9yZy/YYfK9AAAACXBIWXMAAAsTAAALEwEAmpwYAAACS0lEQVR4nO3asW3bUBhGUVJw+VpChftkHk/A2TiB90nvwqzZKyvQBATlIufUEvCAC/yFPs2Px2Oi6fbqB3CdeGHihYkXJl6YeGHihc3LsnyMMe6vfsj/7jiO733fP3/ynbcxxn1d169nPYpztm17/+l3nM0w8cLECxMvTLww8cLECxMvTLww8cL8tvmPuPLb5uwPSF3OZthtnuffr34E19ymafr16kdwjbMZJl6YeGHihYkXJl6YeGHihYkXJl7YbZqmP69+BNeYhMKczTCTUJhJKMzZDBMvTLww8cLECxMvTLww8cLECxMvzCQUZhIKczbDTEJhJqEwZzNMvDDxwsQLEy9MvDDxwsQLEy9MvDCTUJhJKMzZDDMJhZmEwpzNMPHCxAsTL0y8MPHCxAsTL0y8MPHCTEJhJqEwZzPMJBRmEgpzNsPECxMvTLww8cLECxMvTLww8cLECzMJhZmEwpzNMJNQmEkozNkMEy9MvDDxwsQLEy9MvDDxwsQLEy/MJBRmEgpzNsNMQmEmoTBnM0y8MPHCxAsTL0y8MPHCxAsTL0y8MPHC7Hlh9rwwZzPMnhdmzwtzNsPECxMvTLww8cLECxMvTLww8cLECzMJhZmEwpzNMJNQmEkozNkMEy9MvDDxwsQLEy9MvDDxwsQLEy/MJBRmEgpzNsPmZVk+xhj3Mx8+juN73/fPZz+Kc97GGPd1Xb/OfHjbtvdnP4jznM0w8cLECxMvTLww8cLECxMvTLww8cL8thlmEgpzNsPECxMvTLww8cLEC/sLA45YG4MmTYgAAAAASUVORK5CYII=\"></img></td>\n",
       "      <td id=\"T_a3fde_row3_col5\" class=\"data row3 col5\" >0<br>(0.0%)</td>\n",
       "    </tr>\n",
       "    <tr>\n",
       "      <td id=\"T_a3fde_row4_col0\" class=\"data row4 col0\" >5</td>\n",
       "      <td id=\"T_a3fde_row4_col1\" class=\"data row4 col1\" ><strong>forename</strong><br>[object]</td>\n",
       "      <td id=\"T_a3fde_row4_col2\" class=\"data row4 col2\" >1. John<br>2. Mike<br>3. Peter<br>4. Bill<br>5. Tony<br>6. Bob<br>7. David<br>8. Paul<br>9. Johnny<br>10. George<br>11. other</td>\n",
       "      <td id=\"T_a3fde_row4_col3\" class=\"data row4 col3\" >14 (1.6%)<br>14 (1.6%)<br>13 (1.5%)<br>11 (1.3%)<br>11 (1.3%)<br>10 (1.2%)<br>10 (1.2%)<br>9 (1.0%)<br>9 (1.0%)<br>8 (0.9%)<br>752 (87.3%)</td>\n",
       "      <td id=\"T_a3fde_row4_col4\" class=\"data row4 col4\" ><img src = \"data:image/png;base64, iVBORw0KGgoAAAANSUhEUgAAAG8AAACzCAYAAACHOUI0AAAAOXRFWHRTb2Z0d2FyZQBNYXRwbG90bGliIHZlcnNpb24zLjUuMSwgaHR0cHM6Ly9tYXRwbG90bGliLm9yZy/YYfK9AAAACXBIWXMAAAsTAAALEwEAmpwYAAACNklEQVR4nO3asakbQRhG0d2HwkkHBa5KFWxtqsBVvUCKJ5dbeF4w6wvn5IKFC38wn/bP57PR9HX1B3CeeGHihYkXJl6YeGHihe1zzscY477Wer3f799XfxA/9zXGuB/H8T3GuF/9MfwdZzNMvDDxwsQLEy9MvDDxwsQLEy9MvDBvm2G7PyB1OZthzmaYSSjM2QwTL0y8MPHCxAsTL0y8MPHCxAsTL8zbZphJKMzZDHM2w0xCYc5mmHhh4oWJFyZemHhh4oWJFyZemHhh3jbDTEJhzmbYPud8bNu2OZk9N1NQl7MZJl6YeGHihYkXJl6YeGHihYkXJl7Yba31uvojOMckFOZshpmEwkxCYc5mmHhh4oWJFyZemHhh4oWJFyZemHhhJqEwk1CYsxlmEgozCYU5m2HihYkXJl6YeGHihYkXJl6YeGHihZmEwkxCYc5mmEkozCQU5myGiRcmXph4YeKFiRcmXph4YeKFiRdmEgozCYU5m2EmoTCTUJizGSZemHhh4oWJFyZemHhh4oWJFyZemHhh9rwwe16Ysxlmzwuz54U5m2HihYkXJl6YeGHihYkXJl6YeGHihZmEwkxCYc5mmEkozCQU5myGiRcmXph4YeKFiRcmXph4YeKFiRdmEgozCYU5m2H7nPNhWbjWWut1ZpK7jTHux3F8/4uP4meez+evM79zNsPECxMvTLww8cLECxMvTLww8cLEC/O2+R84+7ZpEgpzNsPECxMvTLww8cLEC/sDz2yovBynUB4AAAAASUVORK5CYII=\"></img></td>\n",
       "      <td id=\"T_a3fde_row4_col5\" class=\"data row4 col5\" >0<br>(0.0%)</td>\n",
       "    </tr>\n",
       "    <tr>\n",
       "      <td id=\"T_a3fde_row5_col0\" class=\"data row5 col0\" >6</td>\n",
       "      <td id=\"T_a3fde_row5_col1\" class=\"data row5 col1\" ><strong>surname</strong><br>[object]</td>\n",
       "      <td id=\"T_a3fde_row5_col2\" class=\"data row5 col2\" >1. Taylor<br>2. Wilson<br>3. Fittipaldi<br>4. Stewart<br>5. Russo<br>6. Schumacher<br>7. Brown<br>8. Brabham<br>9. Hill<br>10. Winkelhock<br>11. other</td>\n",
       "      <td id=\"T_a3fde_row5_col3\" class=\"data row5 col3\" >5 (0.6%)<br>4 (0.5%)<br>4 (0.5%)<br>3 (0.3%)<br>3 (0.3%)<br>3 (0.3%)<br>3 (0.3%)<br>3 (0.3%)<br>3 (0.3%)<br>3 (0.3%)<br>827 (96.1%)</td>\n",
       "      <td id=\"T_a3fde_row5_col4\" class=\"data row5 col4\" ><img src = \"data:image/png;base64, iVBORw0KGgoAAAANSUhEUgAAAG8AAACzCAYAAACHOUI0AAAAOXRFWHRTb2Z0d2FyZQBNYXRwbG90bGliIHZlcnNpb24zLjUuMSwgaHR0cHM6Ly9tYXRwbG90bGliLm9yZy/YYfK9AAAACXBIWXMAAAsTAAALEwEAmpwYAAACP0lEQVR4nO3aIW7jUBhG0eco8FErYPh0PV1B1pYVdD/lA2psnkGVRkPamlhXOoeZPelKP8iX5fl8DpouZz+A48QLEy9MvDDxwsQLEy9sWdf1dYwxtm17O/sx/Mx1znk7+xEc42yGiRcmXph4YeKFiRcmXph4YeKFiRd23ff94+xHcMziD0hdzmaYSSjMJBTmbIaJFyZemHhh4oWJFyZemHhh4oWJF2YSCjMJhTmbYSahMJNQmLMZJl6YeGHihYkXJl6YeGHihYkXJl6YSSjMJBTmbIZdlmV5OfsRHHMZY/w++xEc42yGiRcmXph4YeKFiRcmXph4YeKFiRd2GWO8n/0IjjEJhTmbYSahMJNQmLMZJl6YeGHihYkXJl6YeGHihYkXJl6YSSjMJBTmbIaZhMJMQmHOZph4YeKFiRcmXph4YeKFiRcmXph4YSahMJNQmLMZZhIKMwmFOZth4oWJFyZemHhh4oWJFyZemHhh4oWZhMJMQmHOZphJKMwkFOZshokXJl6YeGHihYkXJl6YeGHihYkXJl6YPS/MnhfmbIbZ88LseWHOZph4YeKFiRcmXph4YeKFiRcmXph4YSahMJNQmLMZZhIKMwmFOZth4oWJFyZemHhh4oWJFyZemHhh4oWZhMJMQmHOZtiyruvrnPN29kP42r7vH9u2vX1+X+ect/v9/ufMR/E9j8fj17/fzmaYeGHihYkXJl6YeGHihYkXJl6YeGF+2wz5/7dNk1CYsxkmXph4YeKFiRcmXthfWgxZkn1NDFcAAAAASUVORK5CYII=\"></img></td>\n",
       "      <td id=\"T_a3fde_row5_col5\" class=\"data row5 col5\" >0<br>(0.0%)</td>\n",
       "    </tr>\n",
       "    <tr>\n",
       "      <td id=\"T_a3fde_row6_col0\" class=\"data row6 col0\" >7</td>\n",
       "      <td id=\"T_a3fde_row6_col1\" class=\"data row6 col1\" ><strong>dob</strong><br>[object]</td>\n",
       "      <td id=\"T_a3fde_row6_col2\" class=\"data row6 col2\" >1. 1919-10-28<br>2. 1946-12-12<br>3. 1932-05-05<br>4. 1919-09-30<br>5. 1929-06-13<br>6. 1915-10-26<br>7. 1920-02-16<br>8. 1942-05-27<br>9. 1931-05-18<br>10. 1937-04-26<br>11. other</td>\n",
       "      <td id=\"T_a3fde_row6_col3\" class=\"data row6 col3\" >2 (0.2%)<br>2 (0.2%)<br>2 (0.2%)<br>2 (0.2%)<br>2 (0.2%)<br>2 (0.2%)<br>2 (0.2%)<br>2 (0.2%)<br>2 (0.2%)<br>2 (0.2%)<br>841 (97.7%)</td>\n",
       "      <td id=\"T_a3fde_row6_col4\" class=\"data row6 col4\" ><img src = \"data:image/png;base64, iVBORw0KGgoAAAANSUhEUgAAAG8AAACzCAYAAACHOUI0AAAAOXRFWHRTb2Z0d2FyZQBNYXRwbG90bGliIHZlcnNpb24zLjUuMSwgaHR0cHM6Ly9tYXRwbG90bGliLm9yZy/YYfK9AAAACXBIWXMAAAsTAAALEwEAmpwYAAACIUlEQVR4nO3aoW3DUBhG0Wer0DQKKG/n6QSeLRN0n/KAGpu7qDwysa50zgRPutIP/Hk6jmPQNF/9AM4TL0y8MPHCxAsTL0y8sHmaps+rH8E58xjj4+pHcI6zGSZemHhh4oWJFyZemHhh4oWJFyZe2DzG+Ln6EZwz+QGpy9kMMwmFmYTCnM0w8cLECxMvTLww8cLECxMvTLww8cJMQmEmoTBnM8wkFGYSCnM2w8QLEy9MvDDxwsQLEy9MvDDxwsQLMwmFmYTCnM0wk1CYSSjM2QwTL0y8MPHCxAsTL0y8MPHCxAsTL8wkFGYSCnM2w0xCYSahMGczTLww8cLECxMvTLww8cLECxMvTLwwk1CYSSjM2QwzCYWZhMKczTDxwsQLEy9MvDDxwsQLEy9MvDDxwkxCYSahMGczzCQUZhIKczbDxAsTL0y8MPHCxAsTL0y8MPHCxAszCYWZhMKczTCTUJhJKMzZDBMvTLww8cLECxMvTLww8cLECxMvTLwwe16YPS/M2Qyz54XZ88KczTDxwsQLEy9MvDDxwsQLEy9MvDDxwkxCYSahMGczzCQUZhIKczbDxAsTL0y8MPHCxAsTL0y8MPHCxAszCYWZhMKczbDpdrt9Lctyv/ohvG7f999t277flmW5r+v6vPpBvO7xeLyP4WymiRcmXph4YeKFiRcmXph4YeKFiRfm22bQ/7dNk1CYsxkmXph4YeKFiRcmXtgfhqxFEDsGQrkAAAAASUVORK5CYII=\"></img></td>\n",
       "      <td id=\"T_a3fde_row6_col5\" class=\"data row6 col5\" >0<br>(0.0%)</td>\n",
       "    </tr>\n",
       "    <tr>\n",
       "      <td id=\"T_a3fde_row7_col0\" class=\"data row7 col0\" >8</td>\n",
       "      <td id=\"T_a3fde_row7_col1\" class=\"data row7 col1\" ><strong>nationality</strong><br>[object]</td>\n",
       "      <td id=\"T_a3fde_row7_col2\" class=\"data row7 col2\" >1. British<br>2. American<br>3. Italian<br>4. French<br>5. German<br>6. Brazilian<br>7. Argentine<br>8. Belgian<br>9. Swiss<br>10. South African<br>11. other</td>\n",
       "      <td id=\"T_a3fde_row7_col3\" class=\"data row7 col3\" >166 (19.3%)<br>158 (18.4%)<br>99 (11.5%)<br>73 (8.5%)<br>50 (5.8%)<br>32 (3.7%)<br>24 (2.8%)<br>23 (2.7%)<br>23 (2.7%)<br>23 (2.7%)<br>190 (22.1%)</td>\n",
       "      <td id=\"T_a3fde_row7_col4\" class=\"data row7 col4\" ><img src = \"data:image/png;base64, iVBORw0KGgoAAAANSUhEUgAAAG8AAACzCAYAAACHOUI0AAAAOXRFWHRTb2Z0d2FyZQBNYXRwbG90bGliIHZlcnNpb24zLjUuMSwgaHR0cHM6Ly9tYXRwbG90bGliLm9yZy/YYfK9AAAACXBIWXMAAAsTAAALEwEAmpwYAAACRUlEQVR4nO3dsWnDYBhF0TikVGtceKpM4Nk8QaZKEdXqnTIIYzBCcnThnAFE4MIr/s+Qw+12e6Pp/b//AJYTL0y8MPHCxAsTL0y8sMPxePwchuG09oenafoZx/Fr7e/y52MYhtPlcvle+8PX6/W89jeZM5th4oWJFyZemHhh4oWJFyZemHhh4oV52ww7+AFSl9kMW302zeXrrH4Scgp6HbMZJl6YeGHihYkXJl6YeGHihYkXJl6Yt80wJ6Ewsxm2aDZN4z4sOgk5++yD2QwTL0y8MPHCxAsTL0y8MPHCxAsTL8zbZpiTUJjZDHtqNs3kPj11EnIC2iezGSZemHhh4oWJFyZemHhh4oWJFyZemLfNMCehMLMZ9nA2TeX+PTwJOQPtn9kMEy9MvDDxwsQLEy9MvDDxwsQLEy/M22aYk1CY2Qy7m01z2XF3EnIK6jCbYeKFiRcmXph4YeKFiRcmXph4YeKFedsMcxIKM5ths9k0mS2zk5BzUIvZDBMvTLww8cLECxMvTLww8cLECxMvzNtmmJNQmNkMM5thTkJhZjNMvDDxwsQLEy9MvDDxwsQLEy9MvDDxwjxMh7nnhZnNMLMZ5p4XZjbDxAsTL0y8MPHCxAsTL0y8MPHCxAvzthnmJBRmNsPMZpiTUJjZDBMvTLww8cLECxMvTLww8cLECxMvzNtmmJNQmNkMu/v/eVswx9uYnYS24tS0DbMZJl6YeGHihYkXJl6YeGHihYkXJl6Yt80wJ6EwsxkmXph4YeKFiRcmXtgvR+wDjY9JUcYAAAAASUVORK5CYII=\"></img></td>\n",
       "      <td id=\"T_a3fde_row7_col5\" class=\"data row7 col5\" >0<br>(0.0%)</td>\n",
       "    </tr>\n",
       "    <tr>\n",
       "      <td id=\"T_a3fde_row8_col0\" class=\"data row8 col0\" >9</td>\n",
       "      <td id=\"T_a3fde_row8_col1\" class=\"data row8 col1\" ><strong>url</strong><br>[object]</td>\n",
       "      <td id=\"T_a3fde_row8_col2\" class=\"data row8 col2\" >1. http://en.wikipedia.org/wiki/L<br>2. http://en.wikipedia.org/wiki/C<br>3. http://en.wikipedia.org/wiki/A<br>4. http://en.wikipedia.org/wiki/P<br>5. http://en.wikipedia.org/wiki/B<br>6. http://en.wikipedia.org/wiki/D<br>7. http://en.wikipedia.org/wiki/H<br>8. http://en.wikipedia.org/wiki/A<br>9. http://en.wikipedia.org/wiki/G<br>10. http://en.wikipedia.org/wiki/B<br>11. other</td>\n",
       "      <td id=\"T_a3fde_row8_col3\" class=\"data row8 col3\" >1 (0.1%)<br>1 (0.1%)<br>1 (0.1%)<br>1 (0.1%)<br>1 (0.1%)<br>1 (0.1%)<br>1 (0.1%)<br>1 (0.1%)<br>1 (0.1%)<br>1 (0.1%)<br>851 (98.8%)</td>\n",
       "      <td id=\"T_a3fde_row8_col4\" class=\"data row8 col4\" ><img src = \"data:image/png;base64, iVBORw0KGgoAAAANSUhEUgAAAG8AAACzCAYAAACHOUI0AAAAOXRFWHRTb2Z0d2FyZQBNYXRwbG90bGliIHZlcnNpb24zLjUuMSwgaHR0cHM6Ly9tYXRwbG90bGliLm9yZy/YYfK9AAAACXBIWXMAAAsTAAALEwEAmpwYAAACGUlEQVR4nO3asW2EQBRF0RnkkHS1gXO7HldAbbTl3MHm5LiGJUFXOqeCka70Ax7zPM9B03L3A7hOvDDxwsQLEy9MvDDxwpY55/fdj+CaZYzxdfcjuMbZDBMvTLww8cLECxMvTLww8cLECxMvbBlj/N79CK6ZfkDqcjbDTEJhJqEwZzNMvDDxwsQLEy9MvDDxwsQLEy9MvDCTUJhJKMzZDDMJhZmEwpzNMPHCxAsTL0y8MPHCxAsTL0y8MPHCTEJhJqEwZzPMJBRmEgpzNsPECxMvTLww8cLECxMvTLww8cLECzMJhZmEwpzNMJNQmEkozNkMEy9MvDDxwsQLEy9MvDDxwsQLEy/MJBRmEgpzNsNMQmEmoTBnM0y8MPHCxAsTL0y8MPHCxAsTL0y8MJNQmEkozNkMMwmFmYTCnM0w8cLECxMvTLww8cLECxMvTLww8cJMQmEmoTBnM8wkFGYSCnM2w8QLEy9MvDDxwsQLEy9MvDDxwsQLEy/MnhdmzwtzNsPseWH2vDBnM0y8MPHCxAsTL0y8MPHCxAsTL0y8MJNQmEkozNkMMwmFmYTCnM0w8cLECxMvTLww8cLECxMvTLww8cJMQmEmoTBnM2w+Ho+fdV2fdz+E9xzH8fpY1/W5bdvf3Y/hPfu+fzqbYeKFiRcmXph4YeKFiRcmXph4YeKF+bYZdRzHyyQU5myGiRcmXph4YeKFiRf2D3FbPjaU9nrNAAAAAElFTkSuQmCC\"></img></td>\n",
       "      <td id=\"T_a3fde_row8_col5\" class=\"data row8 col5\" >0<br>(0.0%)</td>\n",
       "    </tr>\n",
       "  </tbody>\n",
       "</table>\n"
      ]
     },
     "metadata": {
      "application/vnd.databricks.v1+output": {
       "addedWidgets": {},
       "arguments": {},
       "data": "<style type=\"text/css\">\n#T_a3fde thead>tr>th {\n  text-align: left;\n}\n#T_a3fde_row0_col0, #T_a3fde_row1_col0, #T_a3fde_row2_col0, #T_a3fde_row3_col0, #T_a3fde_row4_col0, #T_a3fde_row5_col0, #T_a3fde_row6_col0, #T_a3fde_row7_col0, #T_a3fde_row8_col0 {\n  text-align: left;\n  font-size: 12px;\n  vertical-align: middle;\n  width: 5%;\n  max-width: 50px;\n  min-width: 20px;\n}\n#T_a3fde_row0_col1, #T_a3fde_row1_col1, #T_a3fde_row2_col1, #T_a3fde_row3_col1, #T_a3fde_row4_col1, #T_a3fde_row5_col1, #T_a3fde_row6_col1, #T_a3fde_row7_col1, #T_a3fde_row8_col1 {\n  text-align: left;\n  font-size: 12px;\n  vertical-align: middle;\n  width: 15%;\n  max-width: 200px;\n  min-width: 100px;\n  word-break: break-word;\n}\n#T_a3fde_row0_col2, #T_a3fde_row1_col2, #T_a3fde_row2_col2, #T_a3fde_row3_col2, #T_a3fde_row4_col2, #T_a3fde_row5_col2, #T_a3fde_row6_col2, #T_a3fde_row7_col2, #T_a3fde_row8_col2 {\n  text-align: left;\n  font-size: 12px;\n  vertical-align: middle;\n  width: 30%;\n  min-width: 100px;\n}\n#T_a3fde_row0_col3, #T_a3fde_row1_col3, #T_a3fde_row2_col3, #T_a3fde_row3_col3, #T_a3fde_row4_col3, #T_a3fde_row5_col3, #T_a3fde_row6_col3, #T_a3fde_row7_col3, #T_a3fde_row8_col3 {\n  text-align: left;\n  font-size: 12px;\n  vertical-align: middle;\n  width: 25%;\n  min-width: 100px;\n}\n#T_a3fde_row0_col4, #T_a3fde_row1_col4, #T_a3fde_row2_col4, #T_a3fde_row3_col4, #T_a3fde_row4_col4, #T_a3fde_row5_col4, #T_a3fde_row6_col4, #T_a3fde_row7_col4, #T_a3fde_row8_col4 {\n  text-align: left;\n  font-size: 12px;\n  vertical-align: middle;\n  width: 20%;\n  min-width: 150px;\n}\n#T_a3fde_row0_col5, #T_a3fde_row1_col5, #T_a3fde_row2_col5, #T_a3fde_row3_col5, #T_a3fde_row4_col5, #T_a3fde_row5_col5, #T_a3fde_row6_col5, #T_a3fde_row7_col5, #T_a3fde_row8_col5 {\n  text-align: left;\n  font-size: 12px;\n  vertical-align: middle;\n  width: 10%;\n}\n</style>\n<table id=\"T_a3fde\">\n  <caption><strong>Data Frame Summary</strong><br>df<br>Dimensions: 861 x 9<br>Duplicates: 0</caption>\n  <thead>\n    <tr>\n      <th id=\"T_a3fde_level0_col0\" class=\"col_heading level0 col0\" >No</th>\n      <th id=\"T_a3fde_level0_col1\" class=\"col_heading level0 col1\" >Variable</th>\n      <th id=\"T_a3fde_level0_col2\" class=\"col_heading level0 col2\" >Stats / Values</th>\n      <th id=\"T_a3fde_level0_col3\" class=\"col_heading level0 col3\" >Freqs / (% of Valid)</th>\n      <th id=\"T_a3fde_level0_col4\" class=\"col_heading level0 col4\" >Graph</th>\n      <th id=\"T_a3fde_level0_col5\" class=\"col_heading level0 col5\" >Missing</th>\n    </tr>\n  </thead>\n  <tbody>\n    <tr>\n      <td id=\"T_a3fde_row0_col0\" class=\"data row0 col0\" >1</td>\n      <td id=\"T_a3fde_row0_col1\" class=\"data row0 col1\" ><strong>driverId</strong><br>[int64]</td>\n      <td id=\"T_a3fde_row0_col2\" class=\"data row0 col2\" >Mean (sd) : 431.1 (248.8)<br>min < med < max:<br>1.0 < 431.0 < 862.0<br>IQR (CV) : 430.0 (1.7)</td>\n      <td id=\"T_a3fde_row0_col3\" class=\"data row0 col3\" >861 distinct values</td>\n      <td id=\"T_a3fde_row0_col4\" class=\"data row0 col4\" ><img src = \"data:image/png;base64, iVBORw0KGgoAAAANSUhEUgAAAHoAAAAyCAYAAACTUs/lAAAAOXRFWHRTb2Z0d2FyZQBNYXRwbG90bGliIHZlcnNpb24zLjUuMSwgaHR0cHM6Ly9tYXRwbG90bGliLm9yZy/YYfK9AAAACXBIWXMAAAsTAAALEwEAmpwYAAAA9klEQVR4nO3VMQrCMBhAYRWhy+/aDi7Se3gCJ0+Qe3XrCTyF93BxMHP3uiuFCK2C731jG8IPLyHrcRxX+n+bXw+g79hO/ajr+hwRTckmwzA8cs6X+cbS3CZDR0STUrqXbNJ13alt29JDcYiIG33twnO8XbzJ0J+oqmpXeij6vj+mlK70tQvPsX/95hsNYWgIQ0MYGsLQEIaGMDSEoSEMDWFoCENDGBrC0BCGhjA0hKEhDA1haAhDQxgawtAQhoYwNIShIQwNYWgIQ0MYGsLQEIaGMDSEoSEMDWFoCENDGBrC0BCGhjA0hKEhDA1haAhDQxgawtAQT7s2W55As63TAAAAAElFTkSuQmCC\"></img></td>\n      <td id=\"T_a3fde_row0_col5\" class=\"data row0 col5\" >0<br>(0.0%)</td>\n    </tr>\n    <tr>\n      <td id=\"T_a3fde_row1_col0\" class=\"data row1 col0\" >2</td>\n      <td id=\"T_a3fde_row1_col1\" class=\"data row1 col1\" ><strong>driverRef</strong><br>[object]</td>\n      <td id=\"T_a3fde_row1_col2\" class=\"data row1 col2\" >1. hamilton<br>2. shelby<br>3. fontes<br>4. ashdown<br>5. bill_moss<br>6. dennis_taylor<br>7. blanchard<br>8. tomaso<br>9. constantine<br>10. said<br>11. other</td>\n      <td id=\"T_a3fde_row1_col3\" class=\"data row1 col3\" >1 (0.1%)<br>1 (0.1%)<br>1 (0.1%)<br>1 (0.1%)<br>1 (0.1%)<br>1 (0.1%)<br>1 (0.1%)<br>1 (0.1%)<br>1 (0.1%)<br>1 (0.1%)<br>851 (98.8%)</td>\n      <td id=\"T_a3fde_row1_col4\" class=\"data row1 col4\" ><img src = \"data:image/png;base64, iVBORw0KGgoAAAANSUhEUgAAAG8AAACzCAYAAACHOUI0AAAAOXRFWHRTb2Z0d2FyZQBNYXRwbG90bGliIHZlcnNpb24zLjUuMSwgaHR0cHM6Ly9tYXRwbG90bGliLm9yZy/YYfK9AAAACXBIWXMAAAsTAAALEwEAmpwYAAACGUlEQVR4nO3asW2EQBRF0RnkkHS1gXO7HldAbbTl3MHm5LiGJUFXOqeCka70Ax7zPM9B03L3A7hOvDDxwsQLEy9MvDDxwpY55/fdj+CaZYzxdfcjuMbZDBMvTLww8cLECxMvTLww8cLECxMvbBlj/N79CK6ZfkDqcjbDTEJhJqEwZzNMvDDxwsQLEy9MvDDxwsQLEy9MvDCTUJhJKMzZDDMJhZmEwpzNMPHCxAsTL0y8MPHCxAsTL0y8MPHCTEJhJqEwZzPMJBRmEgpzNsPECxMvTLww8cLECxMvTLww8cLECzMJhZmEwpzNMJNQmEkozNkMEy9MvDDxwsQLEy9MvDDxwsQLEy/MJBRmEgpzNsNMQmEmoTBnM0y8MPHCxAsTL0y8MPHCxAsTL0y8MJNQmEkozNkMMwmFmYTCnM0w8cLECxMvTLww8cLECxMvTLww8cJMQmEmoTBnM8wkFGYSCnM2w8QLEy9MvDDxwsQLEy9MvDDxwsQLEy/MnhdmzwtzNsPseWH2vDBnM0y8MPHCxAsTL0y8MPHCxAsTL0y8MJNQmEkozNkMMwmFmYTCnM0w8cLECxMvTLww8cLECxMvTLww8cJMQmEmoTBnM2w+Ho+fdV2fdz+E9xzH8fpY1/W5bdvf3Y/hPfu+fzqbYeKFiRcmXph4YeKFiRcmXph4YeKF+bYZdRzHyyQU5myGiRcmXph4YeKFiRf2D3FbPjaU9nrNAAAAAElFTkSuQmCC\"></img></td>\n      <td id=\"T_a3fde_row1_col5\" class=\"data row1 col5\" >0<br>(0.0%)</td>\n    </tr>\n    <tr>\n      <td id=\"T_a3fde_row2_col0\" class=\"data row2 col0\" >3</td>\n      <td id=\"T_a3fde_row2_col1\" class=\"data row2 col1\" ><strong>number</strong><br>[object]</td>\n      <td id=\"T_a3fde_row2_col2\" class=\"data row2 col2\" >1. \\N<br>2. 22<br>3. 99<br>4. 21<br>5. 2<br>6. 10<br>7. 4<br>8. 9<br>9. 88<br>10. 28<br>11. other</td>\n      <td id=\"T_a3fde_row2_col3\" class=\"data row2 col3\" >802 (93.1%)<br>2 (0.2%)<br>2 (0.2%)<br>2 (0.2%)<br>2 (0.2%)<br>2 (0.2%)<br>2 (0.2%)<br>2 (0.2%)<br>2 (0.2%)<br>2 (0.2%)<br>41 (4.8%)</td>\n      <td id=\"T_a3fde_row2_col4\" class=\"data row2 col4\" ><img src = \"data:image/png;base64, iVBORw0KGgoAAAANSUhEUgAAAG8AAACzCAYAAACHOUI0AAAAOXRFWHRTb2Z0d2FyZQBNYXRwbG90bGliIHZlcnNpb24zLjUuMSwgaHR0cHM6Ly9tYXRwbG90bGliLm9yZy/YYfK9AAAACXBIWXMAAAsTAAALEwEAmpwYAAACS0lEQVR4nO3aIW7jUBhGUTsqfNQKKO+spyvw2ryC7md4QY3NU1rQqaKAeq50DkzIk670g3yZb7fbRNPl7AfwOPHCxAsTL0y8MPHCxAubl2V5HWNcz34I3zuO42Pf97fvvnsaY1zXdX3/7Udxn23bnv/1nbMZJl6YeGHihYkXJl6YeGHihYkXJl6Y3zb/cz/9tjn7A1KXsxl2mef5z9mP4DGXaZpezn4Ej3E2w8QLEy9MvDDxwsQLEy9MvDDxwsQLu0zT9PfsR/AYk1CYsxlmEgozCYU5m2HihYkXJl6YeGHihYkXJl6YeGHihZmEwkxCYc5mmEkozCQU5myGiRcmXph4YeKFiRcmXph4YeKFiRdmEgozCYU5m2EmoTCTUJizGSZemHhh4oWJFyZemHhh4oWJFyZemEkozCQU5myGmYTCTEJhzmaYeGHihYkXJl6YeGHihYkXJl6YeGEmoTCTUJizGWYSCjMJhTmbYeKFiRcmXph4YeKFiRcmXph4YeKFmYTCTEJhzmaYSSjMJBTmbIaJFyZemHhh4oWJFyZemHhh4oWJFyZemD0vzJ4X5myG2fPC7HlhzmaYeGHihYkXJl6YeGHihYkXJl6YeGEmoTCTUJizGWYSCjMJhTmbYeKFiRcmXph4YeKFiRcmXph4YeKFmYTCTEJhzmbYvCzL6xjj+vXD4zg+9n1/O+tR3OdpjHFd1/X964fbtj2f9SDu52yGiRcmXph4YeKFiRcmXph4YeKFiRfmt80wk1CYsxkmXph4YeKFiRcmXtgnA45YG29m8GYAAAAASUVORK5CYII=\"></img></td>\n      <td id=\"T_a3fde_row2_col5\" class=\"data row2 col5\" >0<br>(0.0%)</td>\n    </tr>\n    <tr>\n      <td id=\"T_a3fde_row3_col0\" class=\"data row3 col0\" >4</td>\n      <td id=\"T_a3fde_row3_col1\" class=\"data row3 col1\" ><strong>code</strong><br>[object]</td>\n      <td id=\"T_a3fde_row3_col2\" class=\"data row3 col2\" >1. \\N<br>2. BIA<br>3. MSC<br>4. HAR<br>5. MAG<br>6. VER<br>7. ALB<br>8. DOO<br>9. BOT<br>10. NAS<br>11. other</td>\n      <td id=\"T_a3fde_row3_col3\" class=\"data row3 col3\" >757 (87.9%)<br>2 (0.2%)<br>2 (0.2%)<br>2 (0.2%)<br>2 (0.2%)<br>2 (0.2%)<br>2 (0.2%)<br>2 (0.2%)<br>1 (0.1%)<br>1 (0.1%)<br>88 (10.2%)</td>\n      <td id=\"T_a3fde_row3_col4\" class=\"data row3 col4\" ><img src = \"data:image/png;base64, iVBORw0KGgoAAAANSUhEUgAAAG8AAACzCAYAAACHOUI0AAAAOXRFWHRTb2Z0d2FyZQBNYXRwbG90bGliIHZlcnNpb24zLjUuMSwgaHR0cHM6Ly9tYXRwbG90bGliLm9yZy/YYfK9AAAACXBIWXMAAAsTAAALEwEAmpwYAAACS0lEQVR4nO3asW3bUBhGUVJw+VpChftkHk/A2TiB90nvwqzZKyvQBATlIufUEvCAC/yFPs2Px2Oi6fbqB3CdeGHihYkXJl6YeGHihc3LsnyMMe6vfsj/7jiO733fP3/ynbcxxn1d169nPYpztm17/+l3nM0w8cLECxMvTLww8cLECxMvTLww8cL8tvmPuPLb5uwPSF3OZthtnuffr34E19ymafr16kdwjbMZJl6YeGHihYkXJl6YeGHihYkXJl7YbZqmP69+BNeYhMKczTCTUJhJKMzZDBMvTLww8cLECxMvTLww8cLECxMvzCQUZhIKczbDTEJhJqEwZzNMvDDxwsQLEy9MvDDxwsQLEy9MvDCTUJhJKMzZDDMJhZmEwpzNMPHCxAsTL0y8MPHCxAsTL0y8MPHCTEJhJqEwZzPMJBRmEgpzNsPECxMvTLww8cLECxMvTLww8cLECzMJhZmEwpzNMJNQmEkozNkMEy9MvDDxwsQLEy9MvDDxwsQLEy/MJBRmEgpzNsNMQmEmoTBnM0y8MPHCxAsTL0y8MPHCxAsTL0y8MPHC7Hlh9rwwZzPMnhdmzwtzNsPECxMvTLww8cLECxMvTLww8cLECzMJhZmEwpzNMJNQmEkozNkMEy9MvDDxwsQLEy9MvDDxwsQLEy/MJBRmEgpzNsPmZVk+xhj3Mx8+juN73/fPZz+Kc97GGPd1Xb/OfHjbtvdnP4jznM0w8cLECxMvTLww8cLECxMvTLww8cL8thlmEgpzNsPECxMvTLww8cLEC/sLA45YG4MmTYgAAAAASUVORK5CYII=\"></img></td>\n      <td id=\"T_a3fde_row3_col5\" class=\"data row3 col5\" >0<br>(0.0%)</td>\n    </tr>\n    <tr>\n      <td id=\"T_a3fde_row4_col0\" class=\"data row4 col0\" >5</td>\n      <td id=\"T_a3fde_row4_col1\" class=\"data row4 col1\" ><strong>forename</strong><br>[object]</td>\n      <td id=\"T_a3fde_row4_col2\" class=\"data row4 col2\" >1. John<br>2. Mike<br>3. Peter<br>4. Bill<br>5. Tony<br>6. Bob<br>7. David<br>8. Paul<br>9. Johnny<br>10. George<br>11. other</td>\n      <td id=\"T_a3fde_row4_col3\" class=\"data row4 col3\" >14 (1.6%)<br>14 (1.6%)<br>13 (1.5%)<br>11 (1.3%)<br>11 (1.3%)<br>10 (1.2%)<br>10 (1.2%)<br>9 (1.0%)<br>9 (1.0%)<br>8 (0.9%)<br>752 (87.3%)</td>\n      <td id=\"T_a3fde_row4_col4\" class=\"data row4 col4\" ><img src = \"data:image/png;base64, iVBORw0KGgoAAAANSUhEUgAAAG8AAACzCAYAAACHOUI0AAAAOXRFWHRTb2Z0d2FyZQBNYXRwbG90bGliIHZlcnNpb24zLjUuMSwgaHR0cHM6Ly9tYXRwbG90bGliLm9yZy/YYfK9AAAACXBIWXMAAAsTAAALEwEAmpwYAAACNklEQVR4nO3asakbQRhG0d2HwkkHBa5KFWxtqsBVvUCKJ5dbeF4w6wvn5IKFC38wn/bP57PR9HX1B3CeeGHihYkXJl6YeGHihe1zzscY477Wer3f799XfxA/9zXGuB/H8T3GuF/9MfwdZzNMvDDxwsQLEy9MvDDxwsQLEy9MvDBvm2G7PyB1OZthzmaYSSjM2QwTL0y8MPHCxAsTL0y8MPHCxAsTL8zbZphJKMzZDHM2w0xCYc5mmHhh4oWJFyZemHhh4oWJFyZemHhh3jbDTEJhzmbYPud8bNu2OZk9N1NQl7MZJl6YeGHihYkXJl6YeGHihYkXJl7Yba31uvojOMckFOZshpmEwkxCYc5mmHhh4oWJFyZemHhh4oWJFyZemHhhJqEwk1CYsxlmEgozCYU5m2HihYkXJl6YeGHihYkXJl6YeGHihZmEwkxCYc5mmEkozCQU5myGiRcmXph4YeKFiRcmXph4YeKFiRdmEgozCYU5m2EmoTCTUJizGSZemHhh4oWJFyZemHhh4oWJFyZemHhh9rwwe16Ysxlmzwuz54U5m2HihYkXJl6YeGHihYkXJl6YeGHihZmEwkxCYc5mmEkozCQU5myGiRcmXph4YeKFiRcmXph4YeKFiRdmEgozCYU5m2H7nPNhWbjWWut1ZpK7jTHux3F8/4uP4meez+evM79zNsPECxMvTLww8cLECxMvTLww8cLEC/O2+R84+7ZpEgpzNsPECxMvTLww8cLEC/sDz2yovBynUB4AAAAASUVORK5CYII=\"></img></td>\n      <td id=\"T_a3fde_row4_col5\" class=\"data row4 col5\" >0<br>(0.0%)</td>\n    </tr>\n    <tr>\n      <td id=\"T_a3fde_row5_col0\" class=\"data row5 col0\" >6</td>\n      <td id=\"T_a3fde_row5_col1\" class=\"data row5 col1\" ><strong>surname</strong><br>[object]</td>\n      <td id=\"T_a3fde_row5_col2\" class=\"data row5 col2\" >1. Taylor<br>2. Wilson<br>3. Fittipaldi<br>4. Stewart<br>5. Russo<br>6. Schumacher<br>7. Brown<br>8. Brabham<br>9. Hill<br>10. Winkelhock<br>11. other</td>\n      <td id=\"T_a3fde_row5_col3\" class=\"data row5 col3\" >5 (0.6%)<br>4 (0.5%)<br>4 (0.5%)<br>3 (0.3%)<br>3 (0.3%)<br>3 (0.3%)<br>3 (0.3%)<br>3 (0.3%)<br>3 (0.3%)<br>3 (0.3%)<br>827 (96.1%)</td>\n      <td id=\"T_a3fde_row5_col4\" class=\"data row5 col4\" ><img src = \"data:image/png;base64, iVBORw0KGgoAAAANSUhEUgAAAG8AAACzCAYAAACHOUI0AAAAOXRFWHRTb2Z0d2FyZQBNYXRwbG90bGliIHZlcnNpb24zLjUuMSwgaHR0cHM6Ly9tYXRwbG90bGliLm9yZy/YYfK9AAAACXBIWXMAAAsTAAALEwEAmpwYAAACP0lEQVR4nO3aIW7jUBhG0eco8FErYPh0PV1B1pYVdD/lA2psnkGVRkPamlhXOoeZPelKP8iX5fl8DpouZz+A48QLEy9MvDDxwsQLEy9sWdf1dYwxtm17O/sx/Mx1znk7+xEc42yGiRcmXph4YeKFiRcmXph4YeKFiRd23ff94+xHcMziD0hdzmaYSSjMJBTmbIaJFyZemHhh4oWJFyZemHhh4oWJF2YSCjMJhTmbYSahMJNQmLMZJl6YeGHihYkXJl6YeGHihYkXJl6YSSjMJBTmbIZdlmV5OfsRHHMZY/w++xEc42yGiRcmXph4YeKFiRcmXph4YeKFiRd2GWO8n/0IjjEJhTmbYSahMJNQmLMZJl6YeGHihYkXJl6YeGHihYkXJl6YSSjMJBTmbIaZhMJMQmHOZph4YeKFiRcmXph4YeKFiRcmXph4YSahMJNQmLMZZhIKMwmFOZth4oWJFyZemHhh4oWJFyZemHhh4oWZhMJMQmHOZphJKMwkFOZshokXJl6YeGHihYkXJl6YeGHihYkXJl6YPS/MnhfmbIbZ88LseWHOZph4YeKFiRcmXph4YeKFiRcmXph4YSahMJNQmLMZZhIKMwmFOZth4oWJFyZemHhh4oWJFyZemHhh4oWZhMJMQmHOZtiyruvrnPN29kP42r7vH9u2vX1+X+ect/v9/ufMR/E9j8fj17/fzmaYeGHihYkXJl6YeGHihYkXJl6YeGF+2wz5/7dNk1CYsxkmXph4YeKFiRcmXthfWgxZkn1NDFcAAAAASUVORK5CYII=\"></img></td>\n      <td id=\"T_a3fde_row5_col5\" class=\"data row5 col5\" >0<br>(0.0%)</td>\n    </tr>\n    <tr>\n      <td id=\"T_a3fde_row6_col0\" class=\"data row6 col0\" >7</td>\n      <td id=\"T_a3fde_row6_col1\" class=\"data row6 col1\" ><strong>dob</strong><br>[object]</td>\n      <td id=\"T_a3fde_row6_col2\" class=\"data row6 col2\" >1. 1919-10-28<br>2. 1946-12-12<br>3. 1932-05-05<br>4. 1919-09-30<br>5. 1929-06-13<br>6. 1915-10-26<br>7. 1920-02-16<br>8. 1942-05-27<br>9. 1931-05-18<br>10. 1937-04-26<br>11. other</td>\n      <td id=\"T_a3fde_row6_col3\" class=\"data row6 col3\" >2 (0.2%)<br>2 (0.2%)<br>2 (0.2%)<br>2 (0.2%)<br>2 (0.2%)<br>2 (0.2%)<br>2 (0.2%)<br>2 (0.2%)<br>2 (0.2%)<br>2 (0.2%)<br>841 (97.7%)</td>\n      <td id=\"T_a3fde_row6_col4\" class=\"data row6 col4\" ><img src = \"data:image/png;base64, iVBORw0KGgoAAAANSUhEUgAAAG8AAACzCAYAAACHOUI0AAAAOXRFWHRTb2Z0d2FyZQBNYXRwbG90bGliIHZlcnNpb24zLjUuMSwgaHR0cHM6Ly9tYXRwbG90bGliLm9yZy/YYfK9AAAACXBIWXMAAAsTAAALEwEAmpwYAAACIUlEQVR4nO3aoW3DUBhG0Wer0DQKKG/n6QSeLRN0n/KAGpu7qDwysa50zgRPutIP/Hk6jmPQNF/9AM4TL0y8MPHCxAsTL0y8sHmaps+rH8E58xjj4+pHcI6zGSZemHhh4oWJFyZemHhh4oWJFyZe2DzG+Ln6EZwz+QGpy9kMMwmFmYTCnM0w8cLECxMvTLww8cLECxMvTLww8cJMQmEmoTBnM8wkFGYSCnM2w8QLEy9MvDDxwsQLEy9MvDDxwsQLMwmFmYTCnM0wk1CYSSjM2QwTL0y8MPHCxAsTL0y8MPHCxAsTL8wkFGYSCnM2w0xCYSahMGczTLww8cLECxMvTLww8cLECxMvTLwwk1CYSSjM2QwzCYWZhMKczTDxwsQLEy9MvDDxwsQLEy9MvDDxwkxCYSahMGczzCQUZhIKczbDxAsTL0y8MPHCxAsTL0y8MPHCxAszCYWZhMKczTCTUJhJKMzZDBMvTLww8cLECxMvTLww8cLECxMvTLwwe16YPS/M2Qyz54XZ88KczTDxwsQLEy9MvDDxwsQLEy9MvDDxwkxCYSahMGczzCQUZhIKczbDxAsTL0y8MPHCxAsTL0y8MPHCxAszCYWZhMKczbDpdrt9Lctyv/ohvG7f999t277flmW5r+v6vPpBvO7xeLyP4WymiRcmXph4YeKFiRcmXph4YeKFiRfm22bQ/7dNk1CYsxkmXph4YeKFiRcmXtgfhqxFEDsGQrkAAAAASUVORK5CYII=\"></img></td>\n      <td id=\"T_a3fde_row6_col5\" class=\"data row6 col5\" >0<br>(0.0%)</td>\n    </tr>\n    <tr>\n      <td id=\"T_a3fde_row7_col0\" class=\"data row7 col0\" >8</td>\n      <td id=\"T_a3fde_row7_col1\" class=\"data row7 col1\" ><strong>nationality</strong><br>[object]</td>\n      <td id=\"T_a3fde_row7_col2\" class=\"data row7 col2\" >1. British<br>2. American<br>3. Italian<br>4. French<br>5. German<br>6. Brazilian<br>7. Argentine<br>8. Belgian<br>9. Swiss<br>10. South African<br>11. other</td>\n      <td id=\"T_a3fde_row7_col3\" class=\"data row7 col3\" >166 (19.3%)<br>158 (18.4%)<br>99 (11.5%)<br>73 (8.5%)<br>50 (5.8%)<br>32 (3.7%)<br>24 (2.8%)<br>23 (2.7%)<br>23 (2.7%)<br>23 (2.7%)<br>190 (22.1%)</td>\n      <td id=\"T_a3fde_row7_col4\" class=\"data row7 col4\" ><img src = \"data:image/png;base64, iVBORw0KGgoAAAANSUhEUgAAAG8AAACzCAYAAACHOUI0AAAAOXRFWHRTb2Z0d2FyZQBNYXRwbG90bGliIHZlcnNpb24zLjUuMSwgaHR0cHM6Ly9tYXRwbG90bGliLm9yZy/YYfK9AAAACXBIWXMAAAsTAAALEwEAmpwYAAACRUlEQVR4nO3dsWnDYBhF0TikVGtceKpM4Nk8QaZKEdXqnTIIYzBCcnThnAFE4MIr/s+Qw+12e6Pp/b//AJYTL0y8MPHCxAsTL0y8sMPxePwchuG09oenafoZx/Fr7e/y52MYhtPlcvle+8PX6/W89jeZM5th4oWJFyZemHhh4oWJFyZemHhh4oV52ww7+AFSl9kMW302zeXrrH4Scgp6HbMZJl6YeGHihYkXJl6YeGHihYkXJl6Yt80wJ6Ewsxm2aDZN4z4sOgk5++yD2QwTL0y8MPHCxAsTL0y8MPHCxAsTL8zbZpiTUJjZDHtqNs3kPj11EnIC2iezGSZemHhh4oWJFyZemHhh4oWJFyZemLfNMCehMLMZ9nA2TeX+PTwJOQPtn9kMEy9MvDDxwsQLEy9MvDDxwsQLEy/M22aYk1CY2Qy7m01z2XF3EnIK6jCbYeKFiRcmXph4YeKFiRcmXph4YeKFedsMcxIKM5ths9k0mS2zk5BzUIvZDBMvTLww8cLECxMvTLww8cLECxMvzNtmmJNQmNkMM5thTkJhZjNMvDDxwsQLEy9MvDDxwsQLEy9MvDDxwjxMh7nnhZnNMLMZ5p4XZjbDxAsTL0y8MPHCxAsTL0y8MPHCxAvzthnmJBRmNsPMZpiTUJjZDBMvTLww8cLECxMvTLww8cLECxMvzNtmmJNQmNkMu/v/eVswx9uYnYS24tS0DbMZJl6YeGHihYkXJl6YeGHihYkXJl6Yt80wJ6EwsxkmXph4YeKFiRcmXtgvR+wDjY9JUcYAAAAASUVORK5CYII=\"></img></td>\n      <td id=\"T_a3fde_row7_col5\" class=\"data row7 col5\" >0<br>(0.0%)</td>\n    </tr>\n    <tr>\n      <td id=\"T_a3fde_row8_col0\" class=\"data row8 col0\" >9</td>\n      <td id=\"T_a3fde_row8_col1\" class=\"data row8 col1\" ><strong>url</strong><br>[object]</td>\n      <td id=\"T_a3fde_row8_col2\" class=\"data row8 col2\" >1. http://en.wikipedia.org/wiki/L<br>2. http://en.wikipedia.org/wiki/C<br>3. http://en.wikipedia.org/wiki/A<br>4. http://en.wikipedia.org/wiki/P<br>5. http://en.wikipedia.org/wiki/B<br>6. http://en.wikipedia.org/wiki/D<br>7. http://en.wikipedia.org/wiki/H<br>8. http://en.wikipedia.org/wiki/A<br>9. http://en.wikipedia.org/wiki/G<br>10. http://en.wikipedia.org/wiki/B<br>11. other</td>\n      <td id=\"T_a3fde_row8_col3\" class=\"data row8 col3\" >1 (0.1%)<br>1 (0.1%)<br>1 (0.1%)<br>1 (0.1%)<br>1 (0.1%)<br>1 (0.1%)<br>1 (0.1%)<br>1 (0.1%)<br>1 (0.1%)<br>1 (0.1%)<br>851 (98.8%)</td>\n      <td id=\"T_a3fde_row8_col4\" class=\"data row8 col4\" ><img src = \"data:image/png;base64, iVBORw0KGgoAAAANSUhEUgAAAG8AAACzCAYAAACHOUI0AAAAOXRFWHRTb2Z0d2FyZQBNYXRwbG90bGliIHZlcnNpb24zLjUuMSwgaHR0cHM6Ly9tYXRwbG90bGliLm9yZy/YYfK9AAAACXBIWXMAAAsTAAALEwEAmpwYAAACGUlEQVR4nO3asW2EQBRF0RnkkHS1gXO7HldAbbTl3MHm5LiGJUFXOqeCka70Ax7zPM9B03L3A7hOvDDxwsQLEy9MvDDxwpY55/fdj+CaZYzxdfcjuMbZDBMvTLww8cLECxMvTLww8cLECxMvbBlj/N79CK6ZfkDqcjbDTEJhJqEwZzNMvDDxwsQLEy9MvDDxwsQLEy9MvDCTUJhJKMzZDDMJhZmEwpzNMPHCxAsTL0y8MPHCxAsTL0y8MPHCTEJhJqEwZzPMJBRmEgpzNsPECxMvTLww8cLECxMvTLww8cLECzMJhZmEwpzNMJNQmEkozNkMEy9MvDDxwsQLEy9MvDDxwsQLEy/MJBRmEgpzNsNMQmEmoTBnM0y8MPHCxAsTL0y8MPHCxAsTL0y8MJNQmEkozNkMMwmFmYTCnM0w8cLECxMvTLww8cLECxMvTLww8cJMQmEmoTBnM8wkFGYSCnM2w8QLEy9MvDDxwsQLEy9MvDDxwsQLEy/MnhdmzwtzNsPseWH2vDBnM0y8MPHCxAsTL0y8MPHCxAsTL0y8MJNQmEkozNkMMwmFmYTCnM0w8cLECxMvTLww8cLECxMvTLww8cJMQmEmoTBnM2w+Ho+fdV2fdz+E9xzH8fpY1/W5bdvf3Y/hPfu+fzqbYeKFiRcmXph4YeKFiRcmXph4YeKF+bYZdRzHyyQU5myGiRcmXph4YeKFiRf2D3FbPjaU9nrNAAAAAElFTkSuQmCC\"></img></td>\n      <td id=\"T_a3fde_row8_col5\" class=\"data row8 col5\" >0<br>(0.0%)</td>\n    </tr>\n  </tbody>\n</table>\n",
       "datasetInfos": [],
       "metadata": {},
       "removedWidgets": [],
       "textData": null,
       "type": "htmlSandbox"
      }
     },
     "output_type": "display_data"
    }
   ],
   "source": [
    "sumario_dados(drivers)"
   ]
  },
  {
   "cell_type": "code",
   "execution_count": 0,
   "metadata": {
    "application/vnd.databricks.v1+cell": {
     "cellMetadata": {
      "byteLimit": 2048000,
      "implicitDf": true,
      "rowLimit": 10000
     },
     "inputWidgets": {},
     "nuid": "297c3ad2-595a-4fe1-92f5-04a08ff623de",
     "showTitle": false,
     "tableResultSettingsMap": {},
     "title": ""
    }
   },
   "outputs": [
    {
     "output_type": "display_data",
     "data": {
      "text/plain": [
       "\u001B[0;31m---------------------------------------------------------------------------\u001B[0m\n",
       "\u001B[0;31mAnalysisException\u001B[0m                         Traceback (most recent call last)\n",
       "File \u001B[0;32m<command-63209371597712>:7\u001B[0m\n",
       "\u001B[1;32m      5\u001B[0m     display(df)\n",
       "\u001B[1;32m      6\u001B[0m     \u001B[38;5;28;01mreturn\u001B[39;00m df\n",
       "\u001B[0;32m----> 7\u001B[0m   _sqldf \u001B[38;5;241m=\u001B[39m \u001B[43m____databricks_percent_sql\u001B[49m\u001B[43m(\u001B[49m\u001B[43m)\u001B[49m\n",
       "\u001B[1;32m      8\u001B[0m \u001B[38;5;28;01mfinally\u001B[39;00m:\n",
       "\u001B[1;32m      9\u001B[0m   \u001B[38;5;28;01mdel\u001B[39;00m ____databricks_percent_sql\n",
       "\n",
       "File \u001B[0;32m<command-63209371597712>:4\u001B[0m, in \u001B[0;36m____databricks_percent_sql\u001B[0;34m()\u001B[0m\n",
       "\u001B[1;32m      2\u001B[0m \u001B[38;5;28;01mdef\u001B[39;00m \u001B[38;5;21m____databricks_percent_sql\u001B[39m():\n",
       "\u001B[1;32m      3\u001B[0m   \u001B[38;5;28;01mimport\u001B[39;00m \u001B[38;5;21;01mbase64\u001B[39;00m\n",
       "\u001B[0;32m----> 4\u001B[0m   df \u001B[38;5;241m=\u001B[39m \u001B[43mspark\u001B[49m\u001B[38;5;241;43m.\u001B[39;49m\u001B[43msql\u001B[49m\u001B[43m(\u001B[49m\u001B[43mbase64\u001B[49m\u001B[38;5;241;43m.\u001B[39;49m\u001B[43mstandard_b64decode\u001B[49m\u001B[43m(\u001B[49m\u001B[38;5;124;43m\"\u001B[39;49m\u001B[38;5;124;43mRFJPUCBEQVRBQkFTRSBicm9uemUgQ0FTQ0FERQ==\u001B[39;49m\u001B[38;5;124;43m\"\u001B[39;49m\u001B[43m)\u001B[49m\u001B[38;5;241;43m.\u001B[39;49m\u001B[43mdecode\u001B[49m\u001B[43m(\u001B[49m\u001B[43m)\u001B[49m\u001B[43m)\u001B[49m\n",
       "\u001B[1;32m      5\u001B[0m   display(df)\n",
       "\u001B[1;32m      6\u001B[0m   \u001B[38;5;28;01mreturn\u001B[39;00m df\n",
       "\n",
       "File \u001B[0;32m/databricks/spark/python/pyspark/instrumentation_utils.py:48\u001B[0m, in \u001B[0;36m_wrap_function.<locals>.wrapper\u001B[0;34m(*args, **kwargs)\u001B[0m\n",
       "\u001B[1;32m     46\u001B[0m start \u001B[38;5;241m=\u001B[39m time\u001B[38;5;241m.\u001B[39mperf_counter()\n",
       "\u001B[1;32m     47\u001B[0m \u001B[38;5;28;01mtry\u001B[39;00m:\n",
       "\u001B[0;32m---> 48\u001B[0m     res \u001B[38;5;241m=\u001B[39m \u001B[43mfunc\u001B[49m\u001B[43m(\u001B[49m\u001B[38;5;241;43m*\u001B[39;49m\u001B[43margs\u001B[49m\u001B[43m,\u001B[49m\u001B[43m \u001B[49m\u001B[38;5;241;43m*\u001B[39;49m\u001B[38;5;241;43m*\u001B[39;49m\u001B[43mkwargs\u001B[49m\u001B[43m)\u001B[49m\n",
       "\u001B[1;32m     49\u001B[0m     logger\u001B[38;5;241m.\u001B[39mlog_success(\n",
       "\u001B[1;32m     50\u001B[0m         module_name, class_name, function_name, time\u001B[38;5;241m.\u001B[39mperf_counter() \u001B[38;5;241m-\u001B[39m start, signature\n",
       "\u001B[1;32m     51\u001B[0m     )\n",
       "\u001B[1;32m     52\u001B[0m     \u001B[38;5;28;01mreturn\u001B[39;00m res\n",
       "\n",
       "File \u001B[0;32m/databricks/spark/python/pyspark/sql/session.py:1387\u001B[0m, in \u001B[0;36mSparkSession.sql\u001B[0;34m(self, sqlQuery, args, **kwargs)\u001B[0m\n",
       "\u001B[1;32m   1385\u001B[0m \u001B[38;5;28;01mtry\u001B[39;00m:\n",
       "\u001B[1;32m   1386\u001B[0m     litArgs \u001B[38;5;241m=\u001B[39m {k: _to_java_column(lit(v)) \u001B[38;5;28;01mfor\u001B[39;00m k, v \u001B[38;5;129;01min\u001B[39;00m (args \u001B[38;5;129;01mor\u001B[39;00m {})\u001B[38;5;241m.\u001B[39mitems()}\n",
       "\u001B[0;32m-> 1387\u001B[0m     \u001B[38;5;28;01mreturn\u001B[39;00m DataFrame(\u001B[38;5;28;43mself\u001B[39;49m\u001B[38;5;241;43m.\u001B[39;49m\u001B[43m_jsparkSession\u001B[49m\u001B[38;5;241;43m.\u001B[39;49m\u001B[43msql\u001B[49m\u001B[43m(\u001B[49m\u001B[43msqlQuery\u001B[49m\u001B[43m,\u001B[49m\u001B[43m \u001B[49m\u001B[43mlitArgs\u001B[49m\u001B[43m)\u001B[49m, \u001B[38;5;28mself\u001B[39m)\n",
       "\u001B[1;32m   1388\u001B[0m \u001B[38;5;28;01mfinally\u001B[39;00m:\n",
       "\u001B[1;32m   1389\u001B[0m     \u001B[38;5;28;01mif\u001B[39;00m \u001B[38;5;28mlen\u001B[39m(kwargs) \u001B[38;5;241m>\u001B[39m \u001B[38;5;241m0\u001B[39m:\n",
       "\n",
       "File \u001B[0;32m/databricks/spark/python/lib/py4j-0.10.9.5-src.zip/py4j/java_gateway.py:1321\u001B[0m, in \u001B[0;36mJavaMember.__call__\u001B[0;34m(self, *args)\u001B[0m\n",
       "\u001B[1;32m   1315\u001B[0m command \u001B[38;5;241m=\u001B[39m proto\u001B[38;5;241m.\u001B[39mCALL_COMMAND_NAME \u001B[38;5;241m+\u001B[39m\\\n",
       "\u001B[1;32m   1316\u001B[0m     \u001B[38;5;28mself\u001B[39m\u001B[38;5;241m.\u001B[39mcommand_header \u001B[38;5;241m+\u001B[39m\\\n",
       "\u001B[1;32m   1317\u001B[0m     args_command \u001B[38;5;241m+\u001B[39m\\\n",
       "\u001B[1;32m   1318\u001B[0m     proto\u001B[38;5;241m.\u001B[39mEND_COMMAND_PART\n",
       "\u001B[1;32m   1320\u001B[0m answer \u001B[38;5;241m=\u001B[39m \u001B[38;5;28mself\u001B[39m\u001B[38;5;241m.\u001B[39mgateway_client\u001B[38;5;241m.\u001B[39msend_command(command)\n",
       "\u001B[0;32m-> 1321\u001B[0m return_value \u001B[38;5;241m=\u001B[39m \u001B[43mget_return_value\u001B[49m\u001B[43m(\u001B[49m\n",
       "\u001B[1;32m   1322\u001B[0m \u001B[43m    \u001B[49m\u001B[43manswer\u001B[49m\u001B[43m,\u001B[49m\u001B[43m \u001B[49m\u001B[38;5;28;43mself\u001B[39;49m\u001B[38;5;241;43m.\u001B[39;49m\u001B[43mgateway_client\u001B[49m\u001B[43m,\u001B[49m\u001B[43m \u001B[49m\u001B[38;5;28;43mself\u001B[39;49m\u001B[38;5;241;43m.\u001B[39;49m\u001B[43mtarget_id\u001B[49m\u001B[43m,\u001B[49m\u001B[43m \u001B[49m\u001B[38;5;28;43mself\u001B[39;49m\u001B[38;5;241;43m.\u001B[39;49m\u001B[43mname\u001B[49m\u001B[43m)\u001B[49m\n",
       "\u001B[1;32m   1324\u001B[0m \u001B[38;5;28;01mfor\u001B[39;00m temp_arg \u001B[38;5;129;01min\u001B[39;00m temp_args:\n",
       "\u001B[1;32m   1325\u001B[0m     temp_arg\u001B[38;5;241m.\u001B[39m_detach()\n",
       "\n",
       "File \u001B[0;32m/databricks/spark/python/pyspark/errors/exceptions.py:234\u001B[0m, in \u001B[0;36mcapture_sql_exception.<locals>.deco\u001B[0;34m(*a, **kw)\u001B[0m\n",
       "\u001B[1;32m    230\u001B[0m converted \u001B[38;5;241m=\u001B[39m convert_exception(e\u001B[38;5;241m.\u001B[39mjava_exception)\n",
       "\u001B[1;32m    231\u001B[0m \u001B[38;5;28;01mif\u001B[39;00m \u001B[38;5;129;01mnot\u001B[39;00m \u001B[38;5;28misinstance\u001B[39m(converted, UnknownException):\n",
       "\u001B[1;32m    232\u001B[0m     \u001B[38;5;66;03m# Hide where the exception came from that shows a non-Pythonic\u001B[39;00m\n",
       "\u001B[1;32m    233\u001B[0m     \u001B[38;5;66;03m# JVM exception message.\u001B[39;00m\n",
       "\u001B[0;32m--> 234\u001B[0m     \u001B[38;5;28;01mraise\u001B[39;00m converted \u001B[38;5;28;01mfrom\u001B[39;00m \u001B[38;5;28mNone\u001B[39m\n",
       "\u001B[1;32m    235\u001B[0m \u001B[38;5;28;01melse\u001B[39;00m:\n",
       "\u001B[1;32m    236\u001B[0m     \u001B[38;5;28;01mraise\u001B[39;00m\n",
       "\n",
       "\u001B[0;31mAnalysisException\u001B[0m: [SCHEMA_NOT_FOUND] The schema `bronze` cannot be found. Verify the spelling and correctness of the schema and catalog.\n",
       "If you did not qualify the name with a catalog, verify the current_schema() output, or qualify the name with the correct catalog.\n",
       "To tolerate the error on drop use DROP SCHEMA IF EXISTS."
      ]
     },
     "metadata": {
      "application/vnd.databricks.v1+output": {
       "arguments": {},
       "data": "\u001B[0;31m---------------------------------------------------------------------------\u001B[0m\n\u001B[0;31mAnalysisException\u001B[0m                         Traceback (most recent call last)\nFile \u001B[0;32m<command-63209371597712>:7\u001B[0m\n\u001B[1;32m      5\u001B[0m     display(df)\n\u001B[1;32m      6\u001B[0m     \u001B[38;5;28;01mreturn\u001B[39;00m df\n\u001B[0;32m----> 7\u001B[0m   _sqldf \u001B[38;5;241m=\u001B[39m \u001B[43m____databricks_percent_sql\u001B[49m\u001B[43m(\u001B[49m\u001B[43m)\u001B[49m\n\u001B[1;32m      8\u001B[0m \u001B[38;5;28;01mfinally\u001B[39;00m:\n\u001B[1;32m      9\u001B[0m   \u001B[38;5;28;01mdel\u001B[39;00m ____databricks_percent_sql\n\nFile \u001B[0;32m<command-63209371597712>:4\u001B[0m, in \u001B[0;36m____databricks_percent_sql\u001B[0;34m()\u001B[0m\n\u001B[1;32m      2\u001B[0m \u001B[38;5;28;01mdef\u001B[39;00m \u001B[38;5;21m____databricks_percent_sql\u001B[39m():\n\u001B[1;32m      3\u001B[0m   \u001B[38;5;28;01mimport\u001B[39;00m \u001B[38;5;21;01mbase64\u001B[39;00m\n\u001B[0;32m----> 4\u001B[0m   df \u001B[38;5;241m=\u001B[39m \u001B[43mspark\u001B[49m\u001B[38;5;241;43m.\u001B[39;49m\u001B[43msql\u001B[49m\u001B[43m(\u001B[49m\u001B[43mbase64\u001B[49m\u001B[38;5;241;43m.\u001B[39;49m\u001B[43mstandard_b64decode\u001B[49m\u001B[43m(\u001B[49m\u001B[38;5;124;43m\"\u001B[39;49m\u001B[38;5;124;43mRFJPUCBEQVRBQkFTRSBicm9uemUgQ0FTQ0FERQ==\u001B[39;49m\u001B[38;5;124;43m\"\u001B[39;49m\u001B[43m)\u001B[49m\u001B[38;5;241;43m.\u001B[39;49m\u001B[43mdecode\u001B[49m\u001B[43m(\u001B[49m\u001B[43m)\u001B[49m\u001B[43m)\u001B[49m\n\u001B[1;32m      5\u001B[0m   display(df)\n\u001B[1;32m      6\u001B[0m   \u001B[38;5;28;01mreturn\u001B[39;00m df\n\nFile \u001B[0;32m/databricks/spark/python/pyspark/instrumentation_utils.py:48\u001B[0m, in \u001B[0;36m_wrap_function.<locals>.wrapper\u001B[0;34m(*args, **kwargs)\u001B[0m\n\u001B[1;32m     46\u001B[0m start \u001B[38;5;241m=\u001B[39m time\u001B[38;5;241m.\u001B[39mperf_counter()\n\u001B[1;32m     47\u001B[0m \u001B[38;5;28;01mtry\u001B[39;00m:\n\u001B[0;32m---> 48\u001B[0m     res \u001B[38;5;241m=\u001B[39m \u001B[43mfunc\u001B[49m\u001B[43m(\u001B[49m\u001B[38;5;241;43m*\u001B[39;49m\u001B[43margs\u001B[49m\u001B[43m,\u001B[49m\u001B[43m \u001B[49m\u001B[38;5;241;43m*\u001B[39;49m\u001B[38;5;241;43m*\u001B[39;49m\u001B[43mkwargs\u001B[49m\u001B[43m)\u001B[49m\n\u001B[1;32m     49\u001B[0m     logger\u001B[38;5;241m.\u001B[39mlog_success(\n\u001B[1;32m     50\u001B[0m         module_name, class_name, function_name, time\u001B[38;5;241m.\u001B[39mperf_counter() \u001B[38;5;241m-\u001B[39m start, signature\n\u001B[1;32m     51\u001B[0m     )\n\u001B[1;32m     52\u001B[0m     \u001B[38;5;28;01mreturn\u001B[39;00m res\n\nFile \u001B[0;32m/databricks/spark/python/pyspark/sql/session.py:1387\u001B[0m, in \u001B[0;36mSparkSession.sql\u001B[0;34m(self, sqlQuery, args, **kwargs)\u001B[0m\n\u001B[1;32m   1385\u001B[0m \u001B[38;5;28;01mtry\u001B[39;00m:\n\u001B[1;32m   1386\u001B[0m     litArgs \u001B[38;5;241m=\u001B[39m {k: _to_java_column(lit(v)) \u001B[38;5;28;01mfor\u001B[39;00m k, v \u001B[38;5;129;01min\u001B[39;00m (args \u001B[38;5;129;01mor\u001B[39;00m {})\u001B[38;5;241m.\u001B[39mitems()}\n\u001B[0;32m-> 1387\u001B[0m     \u001B[38;5;28;01mreturn\u001B[39;00m DataFrame(\u001B[38;5;28;43mself\u001B[39;49m\u001B[38;5;241;43m.\u001B[39;49m\u001B[43m_jsparkSession\u001B[49m\u001B[38;5;241;43m.\u001B[39;49m\u001B[43msql\u001B[49m\u001B[43m(\u001B[49m\u001B[43msqlQuery\u001B[49m\u001B[43m,\u001B[49m\u001B[43m \u001B[49m\u001B[43mlitArgs\u001B[49m\u001B[43m)\u001B[49m, \u001B[38;5;28mself\u001B[39m)\n\u001B[1;32m   1388\u001B[0m \u001B[38;5;28;01mfinally\u001B[39;00m:\n\u001B[1;32m   1389\u001B[0m     \u001B[38;5;28;01mif\u001B[39;00m \u001B[38;5;28mlen\u001B[39m(kwargs) \u001B[38;5;241m>\u001B[39m \u001B[38;5;241m0\u001B[39m:\n\nFile \u001B[0;32m/databricks/spark/python/lib/py4j-0.10.9.5-src.zip/py4j/java_gateway.py:1321\u001B[0m, in \u001B[0;36mJavaMember.__call__\u001B[0;34m(self, *args)\u001B[0m\n\u001B[1;32m   1315\u001B[0m command \u001B[38;5;241m=\u001B[39m proto\u001B[38;5;241m.\u001B[39mCALL_COMMAND_NAME \u001B[38;5;241m+\u001B[39m\\\n\u001B[1;32m   1316\u001B[0m     \u001B[38;5;28mself\u001B[39m\u001B[38;5;241m.\u001B[39mcommand_header \u001B[38;5;241m+\u001B[39m\\\n\u001B[1;32m   1317\u001B[0m     args_command \u001B[38;5;241m+\u001B[39m\\\n\u001B[1;32m   1318\u001B[0m     proto\u001B[38;5;241m.\u001B[39mEND_COMMAND_PART\n\u001B[1;32m   1320\u001B[0m answer \u001B[38;5;241m=\u001B[39m \u001B[38;5;28mself\u001B[39m\u001B[38;5;241m.\u001B[39mgateway_client\u001B[38;5;241m.\u001B[39msend_command(command)\n\u001B[0;32m-> 1321\u001B[0m return_value \u001B[38;5;241m=\u001B[39m \u001B[43mget_return_value\u001B[49m\u001B[43m(\u001B[49m\n\u001B[1;32m   1322\u001B[0m \u001B[43m    \u001B[49m\u001B[43manswer\u001B[49m\u001B[43m,\u001B[49m\u001B[43m \u001B[49m\u001B[38;5;28;43mself\u001B[39;49m\u001B[38;5;241;43m.\u001B[39;49m\u001B[43mgateway_client\u001B[49m\u001B[43m,\u001B[49m\u001B[43m \u001B[49m\u001B[38;5;28;43mself\u001B[39;49m\u001B[38;5;241;43m.\u001B[39;49m\u001B[43mtarget_id\u001B[49m\u001B[43m,\u001B[49m\u001B[43m \u001B[49m\u001B[38;5;28;43mself\u001B[39;49m\u001B[38;5;241;43m.\u001B[39;49m\u001B[43mname\u001B[49m\u001B[43m)\u001B[49m\n\u001B[1;32m   1324\u001B[0m \u001B[38;5;28;01mfor\u001B[39;00m temp_arg \u001B[38;5;129;01min\u001B[39;00m temp_args:\n\u001B[1;32m   1325\u001B[0m     temp_arg\u001B[38;5;241m.\u001B[39m_detach()\n\nFile \u001B[0;32m/databricks/spark/python/pyspark/errors/exceptions.py:234\u001B[0m, in \u001B[0;36mcapture_sql_exception.<locals>.deco\u001B[0;34m(*a, **kw)\u001B[0m\n\u001B[1;32m    230\u001B[0m converted \u001B[38;5;241m=\u001B[39m convert_exception(e\u001B[38;5;241m.\u001B[39mjava_exception)\n\u001B[1;32m    231\u001B[0m \u001B[38;5;28;01mif\u001B[39;00m \u001B[38;5;129;01mnot\u001B[39;00m \u001B[38;5;28misinstance\u001B[39m(converted, UnknownException):\n\u001B[1;32m    232\u001B[0m     \u001B[38;5;66;03m# Hide where the exception came from that shows a non-Pythonic\u001B[39;00m\n\u001B[1;32m    233\u001B[0m     \u001B[38;5;66;03m# JVM exception message.\u001B[39;00m\n\u001B[0;32m--> 234\u001B[0m     \u001B[38;5;28;01mraise\u001B[39;00m converted \u001B[38;5;28;01mfrom\u001B[39;00m \u001B[38;5;28mNone\u001B[39m\n\u001B[1;32m    235\u001B[0m \u001B[38;5;28;01melse\u001B[39;00m:\n\u001B[1;32m    236\u001B[0m     \u001B[38;5;28;01mraise\u001B[39;00m\n\n\u001B[0;31mAnalysisException\u001B[0m: [SCHEMA_NOT_FOUND] The schema `bronze` cannot be found. Verify the spelling and correctness of the schema and catalog.\nIf you did not qualify the name with a catalog, verify the current_schema() output, or qualify the name with the correct catalog.\nTo tolerate the error on drop use DROP SCHEMA IF EXISTS.",
       "errorSummary": "<span class='ansi-red-fg'>AnalysisException</span>: [SCHEMA_NOT_FOUND] The schema `bronze` cannot be found. Verify the spelling and correctness of the schema and catalog.\nIf you did not qualify the name with a catalog, verify the current_schema() output, or qualify the name with the correct catalog.\nTo tolerate the error on drop use DROP SCHEMA IF EXISTS.",
       "errorTraceType": "ansi",
       "metadata": {},
       "type": "ipynbError"
      }
     },
     "output_type": "display_data"
    }
   ],
   "source": [
    "%sql DROP DATABASE bronze CASCADE;"
   ]
  },
  {
   "cell_type": "code",
   "execution_count": 0,
   "metadata": {
    "application/vnd.databricks.v1+cell": {
     "cellMetadata": {
      "byteLimit": 2048000,
      "implicitDf": true,
      "rowLimit": 10000
     },
     "inputWidgets": {},
     "nuid": "6485e3c1-ea16-4e3d-8c8f-2911da28e991",
     "showTitle": false,
     "tableResultSettingsMap": {},
     "title": ""
    }
   },
   "outputs": [
    {
     "output_type": "stream",
     "name": "stdout",
     "output_type": "stream",
     "text": [
      "DataFrame[]"
     ]
    }
   ],
   "source": [
    "%sql CREATE DATABASE bronze;"
   ]
  },
  {
   "cell_type": "code",
   "execution_count": 0,
   "metadata": {
    "application/vnd.databricks.v1+cell": {
     "cellMetadata": {
      "byteLimit": 2048000,
      "rowLimit": 10000
     },
     "inputWidgets": {},
     "nuid": "09ce7225-5579-4313-ad0b-4fe867218f8b",
     "showTitle": false,
     "tableResultSettingsMap": {},
     "title": ""
    }
   },
   "outputs": [],
   "source": [
    "from pyspark.sql.functions import current_timestamp, lit\n",
    "import uuid\n",
    "\n",
    "batch_id = str(uuid.uuid4())\n",
    "\n",
    "\n",
    "name_races_spark_df = spark.createDataFrame(races)\n",
    "bronze_races_df = name_races_spark_df.withColumn(\"ingestion_timestamp\", current_timestamp()) \\\n",
    "                                         .withColumn(\"batch_id\", lit(batch_id))\n",
    "\n",
    "(bronze_races_df.write\n",
    "    .format(\"delta\")\n",
    "    .mode(\"overwrite\")  # ou \"append\" para pipelines incrementais\n",
    "    .option(\"overwriteSchema\", \"true\")\n",
    "    .option(\"delta.enableChangeDataFeed\", \"true\")  # Habilita CDC para futuras integrações\n",
    "    .saveAsTable(\"bronze.races\"))"
   ]
  },
  {
   "cell_type": "code",
   "execution_count": 0,
   "metadata": {
    "application/vnd.databricks.v1+cell": {
     "cellMetadata": {
      "byteLimit": 2048000,
      "implicitDf": true,
      "rowLimit": 10000
     },
     "inputWidgets": {},
     "nuid": "339f147c-9d09-4a20-9571-6f78bf06715e",
     "showTitle": false,
     "tableResultSettingsMap": {},
     "title": ""
    }
   },
   "outputs": [],
   "source": [
    "name_drivers_spark_df = spark.createDataFrame(drivers)\n",
    "bronze_drivers_df = name_drivers_spark_df.withColumn(\"ingestion_timestamp\", current_timestamp()) \\\n",
    "                                         .withColumn(\"batch_id\", lit(batch_id))\n",
    "\n",
    "(bronze_drivers_df.write\n",
    "    .format(\"delta\")\n",
    "    .mode(\"overwrite\")  # ou \"append\" para pipelines incrementais\n",
    "    .option(\"overwriteSchema\", \"true\")\n",
    "    .option(\"delta.enableChangeDataFeed\", \"true\")  # Habilita CDC para futuras integrações\n",
    "    .saveAsTable(\"bronze.drivers\"))"
   ]
  },
  {
   "cell_type": "code",
   "execution_count": 0,
   "metadata": {
    "application/vnd.databricks.v1+cell": {
     "cellMetadata": {
      "byteLimit": 2048000,
      "rowLimit": 10000
     },
     "inputWidgets": {},
     "nuid": "f35da4e5-f0cd-428d-9cc2-3f4f0f1cfe5b",
     "showTitle": false,
     "tableResultSettingsMap": {},
     "title": ""
    }
   },
   "outputs": [],
   "source": [
    "name_results_spark_df = spark.createDataFrame(results)\n",
    "bronze_results_df = name_results_spark_df.withColumn(\"ingestion_timestamp\", current_timestamp()) \\\n",
    "                                         .withColumn(\"batch_id\", lit(batch_id))\n",
    "\n",
    "(bronze_results_df.write\n",
    "    .format(\"delta\")\n",
    "    .mode(\"overwrite\")  # ou \"append\" para pipelines incrementais\n",
    "    .option(\"overwriteSchema\", \"true\")\n",
    "    .option(\"delta.enableChangeDataFeed\", \"true\")  # Habilita CDC para futuras integrações\n",
    "    .saveAsTable(\"bronze.results\"))"
   ]
  },
  {
   "cell_type": "code",
   "execution_count": 0,
   "metadata": {
    "application/vnd.databricks.v1+cell": {
     "cellMetadata": {
      "byteLimit": 2048000,
      "implicitDf": true,
      "rowLimit": 10000
     },
     "inputWidgets": {},
     "nuid": "789bfeea-36ad-475a-9620-b8328b5cfca2",
     "showTitle": false,
     "tableResultSettingsMap": {},
     "title": ""
    }
   },
   "outputs": [
    {
     "output_type": "display_data",
     "data": {
      "text/plain": [
       "\u001B[0;31m---------------------------------------------------------------------------\u001B[0m\n",
       "\u001B[0;31mAnalysisException\u001B[0m                         Traceback (most recent call last)\n",
       "File \u001B[0;32m<command-3163930278246207>:7\u001B[0m\n",
       "\u001B[1;32m      5\u001B[0m     display(df)\n",
       "\u001B[1;32m      6\u001B[0m     \u001B[38;5;28;01mreturn\u001B[39;00m df\n",
       "\u001B[0;32m----> 7\u001B[0m   _sqldf \u001B[38;5;241m=\u001B[39m \u001B[43m____databricks_percent_sql\u001B[49m\u001B[43m(\u001B[49m\u001B[43m)\u001B[49m\n",
       "\u001B[1;32m      8\u001B[0m \u001B[38;5;28;01mfinally\u001B[39;00m:\n",
       "\u001B[1;32m      9\u001B[0m   \u001B[38;5;28;01mdel\u001B[39;00m ____databricks_percent_sql\n",
       "\n",
       "File \u001B[0;32m<command-3163930278246207>:4\u001B[0m, in \u001B[0;36m____databricks_percent_sql\u001B[0;34m()\u001B[0m\n",
       "\u001B[1;32m      2\u001B[0m \u001B[38;5;28;01mdef\u001B[39;00m \u001B[38;5;21m____databricks_percent_sql\u001B[39m():\n",
       "\u001B[1;32m      3\u001B[0m   \u001B[38;5;28;01mimport\u001B[39;00m \u001B[38;5;21;01mbase64\u001B[39;00m\n",
       "\u001B[0;32m----> 4\u001B[0m   df \u001B[38;5;241m=\u001B[39m \u001B[43mspark\u001B[49m\u001B[38;5;241;43m.\u001B[39;49m\u001B[43msql\u001B[49m\u001B[43m(\u001B[49m\u001B[43mbase64\u001B[49m\u001B[38;5;241;43m.\u001B[39;49m\u001B[43mstandard_b64decode\u001B[49m\u001B[43m(\u001B[49m\u001B[38;5;124;43m\"\u001B[39;49m\u001B[38;5;124;43mRFJPUCBEQVRBQkFTRSBzaWx2ZXIgQ0FTQ0FERQ==\u001B[39;49m\u001B[38;5;124;43m\"\u001B[39;49m\u001B[43m)\u001B[49m\u001B[38;5;241;43m.\u001B[39;49m\u001B[43mdecode\u001B[49m\u001B[43m(\u001B[49m\u001B[43m)\u001B[49m\u001B[43m)\u001B[49m\n",
       "\u001B[1;32m      5\u001B[0m   display(df)\n",
       "\u001B[1;32m      6\u001B[0m   \u001B[38;5;28;01mreturn\u001B[39;00m df\n",
       "\n",
       "File \u001B[0;32m/databricks/spark/python/pyspark/instrumentation_utils.py:48\u001B[0m, in \u001B[0;36m_wrap_function.<locals>.wrapper\u001B[0;34m(*args, **kwargs)\u001B[0m\n",
       "\u001B[1;32m     46\u001B[0m start \u001B[38;5;241m=\u001B[39m time\u001B[38;5;241m.\u001B[39mperf_counter()\n",
       "\u001B[1;32m     47\u001B[0m \u001B[38;5;28;01mtry\u001B[39;00m:\n",
       "\u001B[0;32m---> 48\u001B[0m     res \u001B[38;5;241m=\u001B[39m \u001B[43mfunc\u001B[49m\u001B[43m(\u001B[49m\u001B[38;5;241;43m*\u001B[39;49m\u001B[43margs\u001B[49m\u001B[43m,\u001B[49m\u001B[43m \u001B[49m\u001B[38;5;241;43m*\u001B[39;49m\u001B[38;5;241;43m*\u001B[39;49m\u001B[43mkwargs\u001B[49m\u001B[43m)\u001B[49m\n",
       "\u001B[1;32m     49\u001B[0m     logger\u001B[38;5;241m.\u001B[39mlog_success(\n",
       "\u001B[1;32m     50\u001B[0m         module_name, class_name, function_name, time\u001B[38;5;241m.\u001B[39mperf_counter() \u001B[38;5;241m-\u001B[39m start, signature\n",
       "\u001B[1;32m     51\u001B[0m     )\n",
       "\u001B[1;32m     52\u001B[0m     \u001B[38;5;28;01mreturn\u001B[39;00m res\n",
       "\n",
       "File \u001B[0;32m/databricks/spark/python/pyspark/sql/session.py:1387\u001B[0m, in \u001B[0;36mSparkSession.sql\u001B[0;34m(self, sqlQuery, args, **kwargs)\u001B[0m\n",
       "\u001B[1;32m   1385\u001B[0m \u001B[38;5;28;01mtry\u001B[39;00m:\n",
       "\u001B[1;32m   1386\u001B[0m     litArgs \u001B[38;5;241m=\u001B[39m {k: _to_java_column(lit(v)) \u001B[38;5;28;01mfor\u001B[39;00m k, v \u001B[38;5;129;01min\u001B[39;00m (args \u001B[38;5;129;01mor\u001B[39;00m {})\u001B[38;5;241m.\u001B[39mitems()}\n",
       "\u001B[0;32m-> 1387\u001B[0m     \u001B[38;5;28;01mreturn\u001B[39;00m DataFrame(\u001B[38;5;28;43mself\u001B[39;49m\u001B[38;5;241;43m.\u001B[39;49m\u001B[43m_jsparkSession\u001B[49m\u001B[38;5;241;43m.\u001B[39;49m\u001B[43msql\u001B[49m\u001B[43m(\u001B[49m\u001B[43msqlQuery\u001B[49m\u001B[43m,\u001B[49m\u001B[43m \u001B[49m\u001B[43mlitArgs\u001B[49m\u001B[43m)\u001B[49m, \u001B[38;5;28mself\u001B[39m)\n",
       "\u001B[1;32m   1388\u001B[0m \u001B[38;5;28;01mfinally\u001B[39;00m:\n",
       "\u001B[1;32m   1389\u001B[0m     \u001B[38;5;28;01mif\u001B[39;00m \u001B[38;5;28mlen\u001B[39m(kwargs) \u001B[38;5;241m>\u001B[39m \u001B[38;5;241m0\u001B[39m:\n",
       "\n",
       "File \u001B[0;32m/databricks/spark/python/lib/py4j-0.10.9.5-src.zip/py4j/java_gateway.py:1321\u001B[0m, in \u001B[0;36mJavaMember.__call__\u001B[0;34m(self, *args)\u001B[0m\n",
       "\u001B[1;32m   1315\u001B[0m command \u001B[38;5;241m=\u001B[39m proto\u001B[38;5;241m.\u001B[39mCALL_COMMAND_NAME \u001B[38;5;241m+\u001B[39m\\\n",
       "\u001B[1;32m   1316\u001B[0m     \u001B[38;5;28mself\u001B[39m\u001B[38;5;241m.\u001B[39mcommand_header \u001B[38;5;241m+\u001B[39m\\\n",
       "\u001B[1;32m   1317\u001B[0m     args_command \u001B[38;5;241m+\u001B[39m\\\n",
       "\u001B[1;32m   1318\u001B[0m     proto\u001B[38;5;241m.\u001B[39mEND_COMMAND_PART\n",
       "\u001B[1;32m   1320\u001B[0m answer \u001B[38;5;241m=\u001B[39m \u001B[38;5;28mself\u001B[39m\u001B[38;5;241m.\u001B[39mgateway_client\u001B[38;5;241m.\u001B[39msend_command(command)\n",
       "\u001B[0;32m-> 1321\u001B[0m return_value \u001B[38;5;241m=\u001B[39m \u001B[43mget_return_value\u001B[49m\u001B[43m(\u001B[49m\n",
       "\u001B[1;32m   1322\u001B[0m \u001B[43m    \u001B[49m\u001B[43manswer\u001B[49m\u001B[43m,\u001B[49m\u001B[43m \u001B[49m\u001B[38;5;28;43mself\u001B[39;49m\u001B[38;5;241;43m.\u001B[39;49m\u001B[43mgateway_client\u001B[49m\u001B[43m,\u001B[49m\u001B[43m \u001B[49m\u001B[38;5;28;43mself\u001B[39;49m\u001B[38;5;241;43m.\u001B[39;49m\u001B[43mtarget_id\u001B[49m\u001B[43m,\u001B[49m\u001B[43m \u001B[49m\u001B[38;5;28;43mself\u001B[39;49m\u001B[38;5;241;43m.\u001B[39;49m\u001B[43mname\u001B[49m\u001B[43m)\u001B[49m\n",
       "\u001B[1;32m   1324\u001B[0m \u001B[38;5;28;01mfor\u001B[39;00m temp_arg \u001B[38;5;129;01min\u001B[39;00m temp_args:\n",
       "\u001B[1;32m   1325\u001B[0m     temp_arg\u001B[38;5;241m.\u001B[39m_detach()\n",
       "\n",
       "File \u001B[0;32m/databricks/spark/python/pyspark/errors/exceptions.py:234\u001B[0m, in \u001B[0;36mcapture_sql_exception.<locals>.deco\u001B[0;34m(*a, **kw)\u001B[0m\n",
       "\u001B[1;32m    230\u001B[0m converted \u001B[38;5;241m=\u001B[39m convert_exception(e\u001B[38;5;241m.\u001B[39mjava_exception)\n",
       "\u001B[1;32m    231\u001B[0m \u001B[38;5;28;01mif\u001B[39;00m \u001B[38;5;129;01mnot\u001B[39;00m \u001B[38;5;28misinstance\u001B[39m(converted, UnknownException):\n",
       "\u001B[1;32m    232\u001B[0m     \u001B[38;5;66;03m# Hide where the exception came from that shows a non-Pythonic\u001B[39;00m\n",
       "\u001B[1;32m    233\u001B[0m     \u001B[38;5;66;03m# JVM exception message.\u001B[39;00m\n",
       "\u001B[0;32m--> 234\u001B[0m     \u001B[38;5;28;01mraise\u001B[39;00m converted \u001B[38;5;28;01mfrom\u001B[39;00m \u001B[38;5;28mNone\u001B[39m\n",
       "\u001B[1;32m    235\u001B[0m \u001B[38;5;28;01melse\u001B[39;00m:\n",
       "\u001B[1;32m    236\u001B[0m     \u001B[38;5;28;01mraise\u001B[39;00m\n",
       "\n",
       "\u001B[0;31mAnalysisException\u001B[0m: [SCHEMA_NOT_FOUND] The schema `silver` cannot be found. Verify the spelling and correctness of the schema and catalog.\n",
       "If you did not qualify the name with a catalog, verify the current_schema() output, or qualify the name with the correct catalog.\n",
       "To tolerate the error on drop use DROP SCHEMA IF EXISTS."
      ]
     },
     "metadata": {
      "application/vnd.databricks.v1+output": {
       "arguments": {},
       "data": "\u001B[0;31m---------------------------------------------------------------------------\u001B[0m\n\u001B[0;31mAnalysisException\u001B[0m                         Traceback (most recent call last)\nFile \u001B[0;32m<command-3163930278246207>:7\u001B[0m\n\u001B[1;32m      5\u001B[0m     display(df)\n\u001B[1;32m      6\u001B[0m     \u001B[38;5;28;01mreturn\u001B[39;00m df\n\u001B[0;32m----> 7\u001B[0m   _sqldf \u001B[38;5;241m=\u001B[39m \u001B[43m____databricks_percent_sql\u001B[49m\u001B[43m(\u001B[49m\u001B[43m)\u001B[49m\n\u001B[1;32m      8\u001B[0m \u001B[38;5;28;01mfinally\u001B[39;00m:\n\u001B[1;32m      9\u001B[0m   \u001B[38;5;28;01mdel\u001B[39;00m ____databricks_percent_sql\n\nFile \u001B[0;32m<command-3163930278246207>:4\u001B[0m, in \u001B[0;36m____databricks_percent_sql\u001B[0;34m()\u001B[0m\n\u001B[1;32m      2\u001B[0m \u001B[38;5;28;01mdef\u001B[39;00m \u001B[38;5;21m____databricks_percent_sql\u001B[39m():\n\u001B[1;32m      3\u001B[0m   \u001B[38;5;28;01mimport\u001B[39;00m \u001B[38;5;21;01mbase64\u001B[39;00m\n\u001B[0;32m----> 4\u001B[0m   df \u001B[38;5;241m=\u001B[39m \u001B[43mspark\u001B[49m\u001B[38;5;241;43m.\u001B[39;49m\u001B[43msql\u001B[49m\u001B[43m(\u001B[49m\u001B[43mbase64\u001B[49m\u001B[38;5;241;43m.\u001B[39;49m\u001B[43mstandard_b64decode\u001B[49m\u001B[43m(\u001B[49m\u001B[38;5;124;43m\"\u001B[39;49m\u001B[38;5;124;43mRFJPUCBEQVRBQkFTRSBzaWx2ZXIgQ0FTQ0FERQ==\u001B[39;49m\u001B[38;5;124;43m\"\u001B[39;49m\u001B[43m)\u001B[49m\u001B[38;5;241;43m.\u001B[39;49m\u001B[43mdecode\u001B[49m\u001B[43m(\u001B[49m\u001B[43m)\u001B[49m\u001B[43m)\u001B[49m\n\u001B[1;32m      5\u001B[0m   display(df)\n\u001B[1;32m      6\u001B[0m   \u001B[38;5;28;01mreturn\u001B[39;00m df\n\nFile \u001B[0;32m/databricks/spark/python/pyspark/instrumentation_utils.py:48\u001B[0m, in \u001B[0;36m_wrap_function.<locals>.wrapper\u001B[0;34m(*args, **kwargs)\u001B[0m\n\u001B[1;32m     46\u001B[0m start \u001B[38;5;241m=\u001B[39m time\u001B[38;5;241m.\u001B[39mperf_counter()\n\u001B[1;32m     47\u001B[0m \u001B[38;5;28;01mtry\u001B[39;00m:\n\u001B[0;32m---> 48\u001B[0m     res \u001B[38;5;241m=\u001B[39m \u001B[43mfunc\u001B[49m\u001B[43m(\u001B[49m\u001B[38;5;241;43m*\u001B[39;49m\u001B[43margs\u001B[49m\u001B[43m,\u001B[49m\u001B[43m \u001B[49m\u001B[38;5;241;43m*\u001B[39;49m\u001B[38;5;241;43m*\u001B[39;49m\u001B[43mkwargs\u001B[49m\u001B[43m)\u001B[49m\n\u001B[1;32m     49\u001B[0m     logger\u001B[38;5;241m.\u001B[39mlog_success(\n\u001B[1;32m     50\u001B[0m         module_name, class_name, function_name, time\u001B[38;5;241m.\u001B[39mperf_counter() \u001B[38;5;241m-\u001B[39m start, signature\n\u001B[1;32m     51\u001B[0m     )\n\u001B[1;32m     52\u001B[0m     \u001B[38;5;28;01mreturn\u001B[39;00m res\n\nFile \u001B[0;32m/databricks/spark/python/pyspark/sql/session.py:1387\u001B[0m, in \u001B[0;36mSparkSession.sql\u001B[0;34m(self, sqlQuery, args, **kwargs)\u001B[0m\n\u001B[1;32m   1385\u001B[0m \u001B[38;5;28;01mtry\u001B[39;00m:\n\u001B[1;32m   1386\u001B[0m     litArgs \u001B[38;5;241m=\u001B[39m {k: _to_java_column(lit(v)) \u001B[38;5;28;01mfor\u001B[39;00m k, v \u001B[38;5;129;01min\u001B[39;00m (args \u001B[38;5;129;01mor\u001B[39;00m {})\u001B[38;5;241m.\u001B[39mitems()}\n\u001B[0;32m-> 1387\u001B[0m     \u001B[38;5;28;01mreturn\u001B[39;00m DataFrame(\u001B[38;5;28;43mself\u001B[39;49m\u001B[38;5;241;43m.\u001B[39;49m\u001B[43m_jsparkSession\u001B[49m\u001B[38;5;241;43m.\u001B[39;49m\u001B[43msql\u001B[49m\u001B[43m(\u001B[49m\u001B[43msqlQuery\u001B[49m\u001B[43m,\u001B[49m\u001B[43m \u001B[49m\u001B[43mlitArgs\u001B[49m\u001B[43m)\u001B[49m, \u001B[38;5;28mself\u001B[39m)\n\u001B[1;32m   1388\u001B[0m \u001B[38;5;28;01mfinally\u001B[39;00m:\n\u001B[1;32m   1389\u001B[0m     \u001B[38;5;28;01mif\u001B[39;00m \u001B[38;5;28mlen\u001B[39m(kwargs) \u001B[38;5;241m>\u001B[39m \u001B[38;5;241m0\u001B[39m:\n\nFile \u001B[0;32m/databricks/spark/python/lib/py4j-0.10.9.5-src.zip/py4j/java_gateway.py:1321\u001B[0m, in \u001B[0;36mJavaMember.__call__\u001B[0;34m(self, *args)\u001B[0m\n\u001B[1;32m   1315\u001B[0m command \u001B[38;5;241m=\u001B[39m proto\u001B[38;5;241m.\u001B[39mCALL_COMMAND_NAME \u001B[38;5;241m+\u001B[39m\\\n\u001B[1;32m   1316\u001B[0m     \u001B[38;5;28mself\u001B[39m\u001B[38;5;241m.\u001B[39mcommand_header \u001B[38;5;241m+\u001B[39m\\\n\u001B[1;32m   1317\u001B[0m     args_command \u001B[38;5;241m+\u001B[39m\\\n\u001B[1;32m   1318\u001B[0m     proto\u001B[38;5;241m.\u001B[39mEND_COMMAND_PART\n\u001B[1;32m   1320\u001B[0m answer \u001B[38;5;241m=\u001B[39m \u001B[38;5;28mself\u001B[39m\u001B[38;5;241m.\u001B[39mgateway_client\u001B[38;5;241m.\u001B[39msend_command(command)\n\u001B[0;32m-> 1321\u001B[0m return_value \u001B[38;5;241m=\u001B[39m \u001B[43mget_return_value\u001B[49m\u001B[43m(\u001B[49m\n\u001B[1;32m   1322\u001B[0m \u001B[43m    \u001B[49m\u001B[43manswer\u001B[49m\u001B[43m,\u001B[49m\u001B[43m \u001B[49m\u001B[38;5;28;43mself\u001B[39;49m\u001B[38;5;241;43m.\u001B[39;49m\u001B[43mgateway_client\u001B[49m\u001B[43m,\u001B[49m\u001B[43m \u001B[49m\u001B[38;5;28;43mself\u001B[39;49m\u001B[38;5;241;43m.\u001B[39;49m\u001B[43mtarget_id\u001B[49m\u001B[43m,\u001B[49m\u001B[43m \u001B[49m\u001B[38;5;28;43mself\u001B[39;49m\u001B[38;5;241;43m.\u001B[39;49m\u001B[43mname\u001B[49m\u001B[43m)\u001B[49m\n\u001B[1;32m   1324\u001B[0m \u001B[38;5;28;01mfor\u001B[39;00m temp_arg \u001B[38;5;129;01min\u001B[39;00m temp_args:\n\u001B[1;32m   1325\u001B[0m     temp_arg\u001B[38;5;241m.\u001B[39m_detach()\n\nFile \u001B[0;32m/databricks/spark/python/pyspark/errors/exceptions.py:234\u001B[0m, in \u001B[0;36mcapture_sql_exception.<locals>.deco\u001B[0;34m(*a, **kw)\u001B[0m\n\u001B[1;32m    230\u001B[0m converted \u001B[38;5;241m=\u001B[39m convert_exception(e\u001B[38;5;241m.\u001B[39mjava_exception)\n\u001B[1;32m    231\u001B[0m \u001B[38;5;28;01mif\u001B[39;00m \u001B[38;5;129;01mnot\u001B[39;00m \u001B[38;5;28misinstance\u001B[39m(converted, UnknownException):\n\u001B[1;32m    232\u001B[0m     \u001B[38;5;66;03m# Hide where the exception came from that shows a non-Pythonic\u001B[39;00m\n\u001B[1;32m    233\u001B[0m     \u001B[38;5;66;03m# JVM exception message.\u001B[39;00m\n\u001B[0;32m--> 234\u001B[0m     \u001B[38;5;28;01mraise\u001B[39;00m converted \u001B[38;5;28;01mfrom\u001B[39;00m \u001B[38;5;28mNone\u001B[39m\n\u001B[1;32m    235\u001B[0m \u001B[38;5;28;01melse\u001B[39;00m:\n\u001B[1;32m    236\u001B[0m     \u001B[38;5;28;01mraise\u001B[39;00m\n\n\u001B[0;31mAnalysisException\u001B[0m: [SCHEMA_NOT_FOUND] The schema `silver` cannot be found. Verify the spelling and correctness of the schema and catalog.\nIf you did not qualify the name with a catalog, verify the current_schema() output, or qualify the name with the correct catalog.\nTo tolerate the error on drop use DROP SCHEMA IF EXISTS.",
       "errorSummary": "<span class='ansi-red-fg'>AnalysisException</span>: [SCHEMA_NOT_FOUND] The schema `silver` cannot be found. Verify the spelling and correctness of the schema and catalog.\nIf you did not qualify the name with a catalog, verify the current_schema() output, or qualify the name with the correct catalog.\nTo tolerate the error on drop use DROP SCHEMA IF EXISTS.",
       "errorTraceType": "ansi",
       "metadata": {},
       "type": "ipynbError"
      }
     },
     "output_type": "display_data"
    }
   ],
   "source": [
    "%sql DROP DATABASE silver CASCADE"
   ]
  },
  {
   "cell_type": "code",
   "execution_count": 0,
   "metadata": {
    "application/vnd.databricks.v1+cell": {
     "cellMetadata": {
      "byteLimit": 2048000,
      "implicitDf": true,
      "rowLimit": 10000
     },
     "inputWidgets": {},
     "nuid": "d89ebf76-7849-4bc7-9db6-73229d3ed6cc",
     "showTitle": false,
     "tableResultSettingsMap": {},
     "title": ""
    }
   },
   "outputs": [
    {
     "output_type": "stream",
     "name": "stdout",
     "output_type": "stream",
     "text": [
      "DataFrame[]"
     ]
    }
   ],
   "source": [
    "%sql CREATE DATABASE silver"
   ]
  },
  {
   "cell_type": "code",
   "execution_count": 0,
   "metadata": {
    "application/vnd.databricks.v1+cell": {
     "cellMetadata": {
      "byteLimit": 2048000,
      "rowLimit": 10000
     },
     "inputWidgets": {},
     "nuid": "673fd82f-381e-4715-ab90-b10042d4de7d",
     "showTitle": false,
     "tableResultSettingsMap": {},
     "title": ""
    },
    "jupyter": {
     "outputs_hidden": true
    }
   },
   "outputs": [],
   "source": [
    "silver_races_df = bronze_races_df.withColumn(\"processing_timestamp\", current_timestamp())\\\n",
    "                        .drop(\"circuitId\",\"time\",\"url\",\"fp1_date\",\"fp1_time\",\"fp2_date\",\"fp2_time\",\"fp3_date\",\"fp3_time\"\n",
    "                              \"quali_date\",\"quali_time\",\"sprint_date\",\"sprint_time\")\n",
    "\n",
    "(silver_races_df.write\n",
    "    .format(\"delta\")\n",
    "    .mode(\"overwrite\")  # Ou append\n",
    "    .option(\"overwriteSchema\", \"true\")\n",
    "    .option(\"delta.enableChangeDataFeed\", \"true\")\n",
    "    .saveAsTable(\"silver.races\"))                        "
   ]
  },
  {
   "cell_type": "code",
   "execution_count": 0,
   "metadata": {
    "application/vnd.databricks.v1+cell": {
     "cellMetadata": {
      "byteLimit": 2048000,
      "rowLimit": 10000
     },
     "inputWidgets": {},
     "nuid": "68cbc62c-28fa-4bd2-80d0-b93e712a9cd1",
     "showTitle": false,
     "tableResultSettingsMap": {},
     "title": ""
    }
   },
   "outputs": [],
   "source": [
    "from pyspark.sql.functions import concat, lit, current_timestamp,col\n",
    "\n",
    "silver_drivers_df = (bronze_drivers_df\n",
    "    .withColumn(\"processing_timestamp\", current_timestamp())\n",
    "    .withColumn(\"name\", concat(col(\"forename\"), lit(\" \"), col(\"surname\")))\n",
    "    .drop(\"url\")\n",
    ")\n",
    "\n",
    "(silver_drivers_df.write\n",
    "    .format(\"delta\")\n",
    "    .mode(\"overwrite\")\n",
    "    .option(\"overwriteSchema\", \"true\")\n",
    "    .option(\"delta.enableChangeDataFeed\", \"true\")\n",
    "    .saveAsTable(\"silver.drivers\"))"
   ]
  },
  {
   "cell_type": "code",
   "execution_count": 0,
   "metadata": {
    "application/vnd.databricks.v1+cell": {
     "cellMetadata": {
      "byteLimit": 2048000,
      "rowLimit": 10000
     },
     "inputWidgets": {},
     "nuid": "3b497f32-cd8d-4b5d-8ee6-98b95904c70e",
     "showTitle": false,
     "tableResultSettingsMap": {},
     "title": ""
    }
   },
   "outputs": [],
   "source": [
    "from pyspark.sql.functions import current_timestamp, when, col\n",
    "\n",
    "silver_results_df = (\n",
    "    bronze_results_df\n",
    "    .withColumn(\"processing_timestamp\", current_timestamp())\n",
    "    .withColumn(\n",
    "        \"positionText\",\n",
    "        when(col(\"positionText\") == \"R\", \"Retired\")\n",
    "        .when(col(\"positionText\") == \"D\", \"Disqualified\")\n",
    "        .when(col(\"positionText\") == \"E\", \"Excluded\")\n",
    "        .when(col(\"positionText\") == \"W\", \"Withdrawn\")\n",
    "        .when(col(\"positionText\") == \"F\", \"Failed to qualify\")\n",
    "        .when(col(\"positionText\") == \"N\", \"Not Classified\")\n",
    "        .otherwise(\"Finished\")\n",
    "    )\n",
    "    .drop(\"number\", \"position\", \"statusId\", \"alt\")\n",
    ")\n",
    "\n",
    "\n",
    "(\n",
    "    silver_results_df.write\n",
    "    .format(\"delta\")\n",
    "    .mode(\"overwrite\")  \n",
    "    .option(\"mergeSchema\", \"true\")\n",
    "    .option(\"delta.enableChangeDataFeed\", \"true\")\n",
    "    .saveAsTable(\"silver.results\"))"
   ]
  },
  {
   "cell_type": "code",
   "execution_count": 0,
   "metadata": {
    "application/vnd.databricks.v1+cell": {
     "cellMetadata": {
      "byteLimit": 2048000,
      "implicitDf": true,
      "rowLimit": 10000
     },
     "inputWidgets": {},
     "nuid": "651ea131-dba6-4d98-b1a3-a02ba8b0ff38",
     "showTitle": false,
     "tableResultSettingsMap": {},
     "title": ""
    }
   },
   "outputs": [
    {
     "output_type": "display_data",
     "data": {
      "text/plain": [
       "\u001B[0;31m---------------------------------------------------------------------------\u001B[0m\n",
       "\u001B[0;31mAnalysisException\u001B[0m                         Traceback (most recent call last)\n",
       "File \u001B[0;32m<command-824389483402406>:7\u001B[0m\n",
       "\u001B[1;32m      5\u001B[0m     display(df)\n",
       "\u001B[1;32m      6\u001B[0m     \u001B[38;5;28;01mreturn\u001B[39;00m df\n",
       "\u001B[0;32m----> 7\u001B[0m   _sqldf \u001B[38;5;241m=\u001B[39m \u001B[43m____databricks_percent_sql\u001B[49m\u001B[43m(\u001B[49m\u001B[43m)\u001B[49m\n",
       "\u001B[1;32m      8\u001B[0m \u001B[38;5;28;01mfinally\u001B[39;00m:\n",
       "\u001B[1;32m      9\u001B[0m   \u001B[38;5;28;01mdel\u001B[39;00m ____databricks_percent_sql\n",
       "\n",
       "File \u001B[0;32m<command-824389483402406>:4\u001B[0m, in \u001B[0;36m____databricks_percent_sql\u001B[0;34m()\u001B[0m\n",
       "\u001B[1;32m      2\u001B[0m \u001B[38;5;28;01mdef\u001B[39;00m \u001B[38;5;21m____databricks_percent_sql\u001B[39m():\n",
       "\u001B[1;32m      3\u001B[0m   \u001B[38;5;28;01mimport\u001B[39;00m \u001B[38;5;21;01mbase64\u001B[39;00m\n",
       "\u001B[0;32m----> 4\u001B[0m   df \u001B[38;5;241m=\u001B[39m \u001B[43mspark\u001B[49m\u001B[38;5;241;43m.\u001B[39;49m\u001B[43msql\u001B[49m\u001B[43m(\u001B[49m\u001B[43mbase64\u001B[49m\u001B[38;5;241;43m.\u001B[39;49m\u001B[43mstandard_b64decode\u001B[49m\u001B[43m(\u001B[49m\u001B[38;5;124;43m\"\u001B[39;49m\u001B[38;5;124;43mRFJPUCBEQVRBQkFTRSBnb2xkIENBU0NBREU=\u001B[39;49m\u001B[38;5;124;43m\"\u001B[39;49m\u001B[43m)\u001B[49m\u001B[38;5;241;43m.\u001B[39;49m\u001B[43mdecode\u001B[49m\u001B[43m(\u001B[49m\u001B[43m)\u001B[49m\u001B[43m)\u001B[49m\n",
       "\u001B[1;32m      5\u001B[0m   display(df)\n",
       "\u001B[1;32m      6\u001B[0m   \u001B[38;5;28;01mreturn\u001B[39;00m df\n",
       "\n",
       "File \u001B[0;32m/databricks/spark/python/pyspark/instrumentation_utils.py:48\u001B[0m, in \u001B[0;36m_wrap_function.<locals>.wrapper\u001B[0;34m(*args, **kwargs)\u001B[0m\n",
       "\u001B[1;32m     46\u001B[0m start \u001B[38;5;241m=\u001B[39m time\u001B[38;5;241m.\u001B[39mperf_counter()\n",
       "\u001B[1;32m     47\u001B[0m \u001B[38;5;28;01mtry\u001B[39;00m:\n",
       "\u001B[0;32m---> 48\u001B[0m     res \u001B[38;5;241m=\u001B[39m \u001B[43mfunc\u001B[49m\u001B[43m(\u001B[49m\u001B[38;5;241;43m*\u001B[39;49m\u001B[43margs\u001B[49m\u001B[43m,\u001B[49m\u001B[43m \u001B[49m\u001B[38;5;241;43m*\u001B[39;49m\u001B[38;5;241;43m*\u001B[39;49m\u001B[43mkwargs\u001B[49m\u001B[43m)\u001B[49m\n",
       "\u001B[1;32m     49\u001B[0m     logger\u001B[38;5;241m.\u001B[39mlog_success(\n",
       "\u001B[1;32m     50\u001B[0m         module_name, class_name, function_name, time\u001B[38;5;241m.\u001B[39mperf_counter() \u001B[38;5;241m-\u001B[39m start, signature\n",
       "\u001B[1;32m     51\u001B[0m     )\n",
       "\u001B[1;32m     52\u001B[0m     \u001B[38;5;28;01mreturn\u001B[39;00m res\n",
       "\n",
       "File \u001B[0;32m/databricks/spark/python/pyspark/sql/session.py:1387\u001B[0m, in \u001B[0;36mSparkSession.sql\u001B[0;34m(self, sqlQuery, args, **kwargs)\u001B[0m\n",
       "\u001B[1;32m   1385\u001B[0m \u001B[38;5;28;01mtry\u001B[39;00m:\n",
       "\u001B[1;32m   1386\u001B[0m     litArgs \u001B[38;5;241m=\u001B[39m {k: _to_java_column(lit(v)) \u001B[38;5;28;01mfor\u001B[39;00m k, v \u001B[38;5;129;01min\u001B[39;00m (args \u001B[38;5;129;01mor\u001B[39;00m {})\u001B[38;5;241m.\u001B[39mitems()}\n",
       "\u001B[0;32m-> 1387\u001B[0m     \u001B[38;5;28;01mreturn\u001B[39;00m DataFrame(\u001B[38;5;28;43mself\u001B[39;49m\u001B[38;5;241;43m.\u001B[39;49m\u001B[43m_jsparkSession\u001B[49m\u001B[38;5;241;43m.\u001B[39;49m\u001B[43msql\u001B[49m\u001B[43m(\u001B[49m\u001B[43msqlQuery\u001B[49m\u001B[43m,\u001B[49m\u001B[43m \u001B[49m\u001B[43mlitArgs\u001B[49m\u001B[43m)\u001B[49m, \u001B[38;5;28mself\u001B[39m)\n",
       "\u001B[1;32m   1388\u001B[0m \u001B[38;5;28;01mfinally\u001B[39;00m:\n",
       "\u001B[1;32m   1389\u001B[0m     \u001B[38;5;28;01mif\u001B[39;00m \u001B[38;5;28mlen\u001B[39m(kwargs) \u001B[38;5;241m>\u001B[39m \u001B[38;5;241m0\u001B[39m:\n",
       "\n",
       "File \u001B[0;32m/databricks/spark/python/lib/py4j-0.10.9.5-src.zip/py4j/java_gateway.py:1321\u001B[0m, in \u001B[0;36mJavaMember.__call__\u001B[0;34m(self, *args)\u001B[0m\n",
       "\u001B[1;32m   1315\u001B[0m command \u001B[38;5;241m=\u001B[39m proto\u001B[38;5;241m.\u001B[39mCALL_COMMAND_NAME \u001B[38;5;241m+\u001B[39m\\\n",
       "\u001B[1;32m   1316\u001B[0m     \u001B[38;5;28mself\u001B[39m\u001B[38;5;241m.\u001B[39mcommand_header \u001B[38;5;241m+\u001B[39m\\\n",
       "\u001B[1;32m   1317\u001B[0m     args_command \u001B[38;5;241m+\u001B[39m\\\n",
       "\u001B[1;32m   1318\u001B[0m     proto\u001B[38;5;241m.\u001B[39mEND_COMMAND_PART\n",
       "\u001B[1;32m   1320\u001B[0m answer \u001B[38;5;241m=\u001B[39m \u001B[38;5;28mself\u001B[39m\u001B[38;5;241m.\u001B[39mgateway_client\u001B[38;5;241m.\u001B[39msend_command(command)\n",
       "\u001B[0;32m-> 1321\u001B[0m return_value \u001B[38;5;241m=\u001B[39m \u001B[43mget_return_value\u001B[49m\u001B[43m(\u001B[49m\n",
       "\u001B[1;32m   1322\u001B[0m \u001B[43m    \u001B[49m\u001B[43manswer\u001B[49m\u001B[43m,\u001B[49m\u001B[43m \u001B[49m\u001B[38;5;28;43mself\u001B[39;49m\u001B[38;5;241;43m.\u001B[39;49m\u001B[43mgateway_client\u001B[49m\u001B[43m,\u001B[49m\u001B[43m \u001B[49m\u001B[38;5;28;43mself\u001B[39;49m\u001B[38;5;241;43m.\u001B[39;49m\u001B[43mtarget_id\u001B[49m\u001B[43m,\u001B[49m\u001B[43m \u001B[49m\u001B[38;5;28;43mself\u001B[39;49m\u001B[38;5;241;43m.\u001B[39;49m\u001B[43mname\u001B[49m\u001B[43m)\u001B[49m\n",
       "\u001B[1;32m   1324\u001B[0m \u001B[38;5;28;01mfor\u001B[39;00m temp_arg \u001B[38;5;129;01min\u001B[39;00m temp_args:\n",
       "\u001B[1;32m   1325\u001B[0m     temp_arg\u001B[38;5;241m.\u001B[39m_detach()\n",
       "\n",
       "File \u001B[0;32m/databricks/spark/python/pyspark/errors/exceptions.py:234\u001B[0m, in \u001B[0;36mcapture_sql_exception.<locals>.deco\u001B[0;34m(*a, **kw)\u001B[0m\n",
       "\u001B[1;32m    230\u001B[0m converted \u001B[38;5;241m=\u001B[39m convert_exception(e\u001B[38;5;241m.\u001B[39mjava_exception)\n",
       "\u001B[1;32m    231\u001B[0m \u001B[38;5;28;01mif\u001B[39;00m \u001B[38;5;129;01mnot\u001B[39;00m \u001B[38;5;28misinstance\u001B[39m(converted, UnknownException):\n",
       "\u001B[1;32m    232\u001B[0m     \u001B[38;5;66;03m# Hide where the exception came from that shows a non-Pythonic\u001B[39;00m\n",
       "\u001B[1;32m    233\u001B[0m     \u001B[38;5;66;03m# JVM exception message.\u001B[39;00m\n",
       "\u001B[0;32m--> 234\u001B[0m     \u001B[38;5;28;01mraise\u001B[39;00m converted \u001B[38;5;28;01mfrom\u001B[39;00m \u001B[38;5;28mNone\u001B[39m\n",
       "\u001B[1;32m    235\u001B[0m \u001B[38;5;28;01melse\u001B[39;00m:\n",
       "\u001B[1;32m    236\u001B[0m     \u001B[38;5;28;01mraise\u001B[39;00m\n",
       "\n",
       "\u001B[0;31mAnalysisException\u001B[0m: [SCHEMA_NOT_FOUND] The schema `gold` cannot be found. Verify the spelling and correctness of the schema and catalog.\n",
       "If you did not qualify the name with a catalog, verify the current_schema() output, or qualify the name with the correct catalog.\n",
       "To tolerate the error on drop use DROP SCHEMA IF EXISTS."
      ]
     },
     "metadata": {
      "application/vnd.databricks.v1+output": {
       "arguments": {},
       "data": "\u001B[0;31m---------------------------------------------------------------------------\u001B[0m\n\u001B[0;31mAnalysisException\u001B[0m                         Traceback (most recent call last)\nFile \u001B[0;32m<command-824389483402406>:7\u001B[0m\n\u001B[1;32m      5\u001B[0m     display(df)\n\u001B[1;32m      6\u001B[0m     \u001B[38;5;28;01mreturn\u001B[39;00m df\n\u001B[0;32m----> 7\u001B[0m   _sqldf \u001B[38;5;241m=\u001B[39m \u001B[43m____databricks_percent_sql\u001B[49m\u001B[43m(\u001B[49m\u001B[43m)\u001B[49m\n\u001B[1;32m      8\u001B[0m \u001B[38;5;28;01mfinally\u001B[39;00m:\n\u001B[1;32m      9\u001B[0m   \u001B[38;5;28;01mdel\u001B[39;00m ____databricks_percent_sql\n\nFile \u001B[0;32m<command-824389483402406>:4\u001B[0m, in \u001B[0;36m____databricks_percent_sql\u001B[0;34m()\u001B[0m\n\u001B[1;32m      2\u001B[0m \u001B[38;5;28;01mdef\u001B[39;00m \u001B[38;5;21m____databricks_percent_sql\u001B[39m():\n\u001B[1;32m      3\u001B[0m   \u001B[38;5;28;01mimport\u001B[39;00m \u001B[38;5;21;01mbase64\u001B[39;00m\n\u001B[0;32m----> 4\u001B[0m   df \u001B[38;5;241m=\u001B[39m \u001B[43mspark\u001B[49m\u001B[38;5;241;43m.\u001B[39;49m\u001B[43msql\u001B[49m\u001B[43m(\u001B[49m\u001B[43mbase64\u001B[49m\u001B[38;5;241;43m.\u001B[39;49m\u001B[43mstandard_b64decode\u001B[49m\u001B[43m(\u001B[49m\u001B[38;5;124;43m\"\u001B[39;49m\u001B[38;5;124;43mRFJPUCBEQVRBQkFTRSBnb2xkIENBU0NBREU=\u001B[39;49m\u001B[38;5;124;43m\"\u001B[39;49m\u001B[43m)\u001B[49m\u001B[38;5;241;43m.\u001B[39;49m\u001B[43mdecode\u001B[49m\u001B[43m(\u001B[49m\u001B[43m)\u001B[49m\u001B[43m)\u001B[49m\n\u001B[1;32m      5\u001B[0m   display(df)\n\u001B[1;32m      6\u001B[0m   \u001B[38;5;28;01mreturn\u001B[39;00m df\n\nFile \u001B[0;32m/databricks/spark/python/pyspark/instrumentation_utils.py:48\u001B[0m, in \u001B[0;36m_wrap_function.<locals>.wrapper\u001B[0;34m(*args, **kwargs)\u001B[0m\n\u001B[1;32m     46\u001B[0m start \u001B[38;5;241m=\u001B[39m time\u001B[38;5;241m.\u001B[39mperf_counter()\n\u001B[1;32m     47\u001B[0m \u001B[38;5;28;01mtry\u001B[39;00m:\n\u001B[0;32m---> 48\u001B[0m     res \u001B[38;5;241m=\u001B[39m \u001B[43mfunc\u001B[49m\u001B[43m(\u001B[49m\u001B[38;5;241;43m*\u001B[39;49m\u001B[43margs\u001B[49m\u001B[43m,\u001B[49m\u001B[43m \u001B[49m\u001B[38;5;241;43m*\u001B[39;49m\u001B[38;5;241;43m*\u001B[39;49m\u001B[43mkwargs\u001B[49m\u001B[43m)\u001B[49m\n\u001B[1;32m     49\u001B[0m     logger\u001B[38;5;241m.\u001B[39mlog_success(\n\u001B[1;32m     50\u001B[0m         module_name, class_name, function_name, time\u001B[38;5;241m.\u001B[39mperf_counter() \u001B[38;5;241m-\u001B[39m start, signature\n\u001B[1;32m     51\u001B[0m     )\n\u001B[1;32m     52\u001B[0m     \u001B[38;5;28;01mreturn\u001B[39;00m res\n\nFile \u001B[0;32m/databricks/spark/python/pyspark/sql/session.py:1387\u001B[0m, in \u001B[0;36mSparkSession.sql\u001B[0;34m(self, sqlQuery, args, **kwargs)\u001B[0m\n\u001B[1;32m   1385\u001B[0m \u001B[38;5;28;01mtry\u001B[39;00m:\n\u001B[1;32m   1386\u001B[0m     litArgs \u001B[38;5;241m=\u001B[39m {k: _to_java_column(lit(v)) \u001B[38;5;28;01mfor\u001B[39;00m k, v \u001B[38;5;129;01min\u001B[39;00m (args \u001B[38;5;129;01mor\u001B[39;00m {})\u001B[38;5;241m.\u001B[39mitems()}\n\u001B[0;32m-> 1387\u001B[0m     \u001B[38;5;28;01mreturn\u001B[39;00m DataFrame(\u001B[38;5;28;43mself\u001B[39;49m\u001B[38;5;241;43m.\u001B[39;49m\u001B[43m_jsparkSession\u001B[49m\u001B[38;5;241;43m.\u001B[39;49m\u001B[43msql\u001B[49m\u001B[43m(\u001B[49m\u001B[43msqlQuery\u001B[49m\u001B[43m,\u001B[49m\u001B[43m \u001B[49m\u001B[43mlitArgs\u001B[49m\u001B[43m)\u001B[49m, \u001B[38;5;28mself\u001B[39m)\n\u001B[1;32m   1388\u001B[0m \u001B[38;5;28;01mfinally\u001B[39;00m:\n\u001B[1;32m   1389\u001B[0m     \u001B[38;5;28;01mif\u001B[39;00m \u001B[38;5;28mlen\u001B[39m(kwargs) \u001B[38;5;241m>\u001B[39m \u001B[38;5;241m0\u001B[39m:\n\nFile \u001B[0;32m/databricks/spark/python/lib/py4j-0.10.9.5-src.zip/py4j/java_gateway.py:1321\u001B[0m, in \u001B[0;36mJavaMember.__call__\u001B[0;34m(self, *args)\u001B[0m\n\u001B[1;32m   1315\u001B[0m command \u001B[38;5;241m=\u001B[39m proto\u001B[38;5;241m.\u001B[39mCALL_COMMAND_NAME \u001B[38;5;241m+\u001B[39m\\\n\u001B[1;32m   1316\u001B[0m     \u001B[38;5;28mself\u001B[39m\u001B[38;5;241m.\u001B[39mcommand_header \u001B[38;5;241m+\u001B[39m\\\n\u001B[1;32m   1317\u001B[0m     args_command \u001B[38;5;241m+\u001B[39m\\\n\u001B[1;32m   1318\u001B[0m     proto\u001B[38;5;241m.\u001B[39mEND_COMMAND_PART\n\u001B[1;32m   1320\u001B[0m answer \u001B[38;5;241m=\u001B[39m \u001B[38;5;28mself\u001B[39m\u001B[38;5;241m.\u001B[39mgateway_client\u001B[38;5;241m.\u001B[39msend_command(command)\n\u001B[0;32m-> 1321\u001B[0m return_value \u001B[38;5;241m=\u001B[39m \u001B[43mget_return_value\u001B[49m\u001B[43m(\u001B[49m\n\u001B[1;32m   1322\u001B[0m \u001B[43m    \u001B[49m\u001B[43manswer\u001B[49m\u001B[43m,\u001B[49m\u001B[43m \u001B[49m\u001B[38;5;28;43mself\u001B[39;49m\u001B[38;5;241;43m.\u001B[39;49m\u001B[43mgateway_client\u001B[49m\u001B[43m,\u001B[49m\u001B[43m \u001B[49m\u001B[38;5;28;43mself\u001B[39;49m\u001B[38;5;241;43m.\u001B[39;49m\u001B[43mtarget_id\u001B[49m\u001B[43m,\u001B[49m\u001B[43m \u001B[49m\u001B[38;5;28;43mself\u001B[39;49m\u001B[38;5;241;43m.\u001B[39;49m\u001B[43mname\u001B[49m\u001B[43m)\u001B[49m\n\u001B[1;32m   1324\u001B[0m \u001B[38;5;28;01mfor\u001B[39;00m temp_arg \u001B[38;5;129;01min\u001B[39;00m temp_args:\n\u001B[1;32m   1325\u001B[0m     temp_arg\u001B[38;5;241m.\u001B[39m_detach()\n\nFile \u001B[0;32m/databricks/spark/python/pyspark/errors/exceptions.py:234\u001B[0m, in \u001B[0;36mcapture_sql_exception.<locals>.deco\u001B[0;34m(*a, **kw)\u001B[0m\n\u001B[1;32m    230\u001B[0m converted \u001B[38;5;241m=\u001B[39m convert_exception(e\u001B[38;5;241m.\u001B[39mjava_exception)\n\u001B[1;32m    231\u001B[0m \u001B[38;5;28;01mif\u001B[39;00m \u001B[38;5;129;01mnot\u001B[39;00m \u001B[38;5;28misinstance\u001B[39m(converted, UnknownException):\n\u001B[1;32m    232\u001B[0m     \u001B[38;5;66;03m# Hide where the exception came from that shows a non-Pythonic\u001B[39;00m\n\u001B[1;32m    233\u001B[0m     \u001B[38;5;66;03m# JVM exception message.\u001B[39;00m\n\u001B[0;32m--> 234\u001B[0m     \u001B[38;5;28;01mraise\u001B[39;00m converted \u001B[38;5;28;01mfrom\u001B[39;00m \u001B[38;5;28mNone\u001B[39m\n\u001B[1;32m    235\u001B[0m \u001B[38;5;28;01melse\u001B[39;00m:\n\u001B[1;32m    236\u001B[0m     \u001B[38;5;28;01mraise\u001B[39;00m\n\n\u001B[0;31mAnalysisException\u001B[0m: [SCHEMA_NOT_FOUND] The schema `gold` cannot be found. Verify the spelling and correctness of the schema and catalog.\nIf you did not qualify the name with a catalog, verify the current_schema() output, or qualify the name with the correct catalog.\nTo tolerate the error on drop use DROP SCHEMA IF EXISTS.",
       "errorSummary": "<span class='ansi-red-fg'>AnalysisException</span>: [SCHEMA_NOT_FOUND] The schema `gold` cannot be found. Verify the spelling and correctness of the schema and catalog.\nIf you did not qualify the name with a catalog, verify the current_schema() output, or qualify the name with the correct catalog.\nTo tolerate the error on drop use DROP SCHEMA IF EXISTS.",
       "errorTraceType": "ansi",
       "metadata": {},
       "type": "ipynbError"
      }
     },
     "output_type": "display_data"
    }
   ],
   "source": [
    "%sql DROP DATABASE gold CASCADE"
   ]
  },
  {
   "cell_type": "code",
   "execution_count": 0,
   "metadata": {
    "application/vnd.databricks.v1+cell": {
     "cellMetadata": {
      "byteLimit": 2048000,
      "implicitDf": true,
      "rowLimit": 10000
     },
     "inputWidgets": {},
     "nuid": "bc83604f-4281-43d4-a9e9-00cf1b653cc0",
     "showTitle": false,
     "tableResultSettingsMap": {},
     "title": ""
    }
   },
   "outputs": [
    {
     "output_type": "stream",
     "name": "stdout",
     "output_type": "stream",
     "text": [
      "DataFrame[]"
     ]
    }
   ],
   "source": [
    "%sql CREATE DATABASE gold"
   ]
  },
  {
   "cell_type": "code",
   "execution_count": 0,
   "metadata": {
    "application/vnd.databricks.v1+cell": {
     "cellMetadata": {
      "byteLimit": 2048000,
      "rowLimit": 10000
     },
     "inputWidgets": {},
     "nuid": "16d8ca32-d858-49e4-b83d-2d2a73a8dc64",
     "showTitle": false,
     "tableResultSettingsMap": {},
     "title": ""
    }
   },
   "outputs": [],
   "source": [
    "from pyspark.sql.functions import monotonically_increasing_id\n",
    "\n",
    "dim_drivers = silver_drivers_df.select(\n",
    "    \"driverId\", \"name\", \"dob\",\"nationality\").dropDuplicates()\n",
    "\n",
    "# Adicionar chave substituta (surrogate keys)\n",
    "dim_drivers = dim_drivers.withColumn(\"sk_driver\", monotonically_increasing_id()+1)\n",
    "\n",
    "(dim_drivers.write\n",
    "    .format(\"delta\")\n",
    "    .mode(\"overwrite\")  # Ou \"append\" para cargas incrementais\n",
    "    .option(\"overwriteSchema\", \"true\")  # Permite evolução do schema\n",
    "    .option(\"delta.enableChangeDataFeed\", \"true\")  # Habilita Change Data Feed\n",
    "    .saveAsTable(\"gold.dim_drivers\"))"
   ]
  },
  {
   "cell_type": "code",
   "execution_count": 0,
   "metadata": {
    "application/vnd.databricks.v1+cell": {
     "cellMetadata": {
      "byteLimit": 2048000,
      "rowLimit": 10000
     },
     "inputWidgets": {},
     "nuid": "49f9493f-67d4-4a8f-af0b-935e17b0ab33",
     "showTitle": false,
     "tableResultSettingsMap": {},
     "title": ""
    }
   },
   "outputs": [],
   "source": [
    "from pyspark.sql.functions import monotonically_increasing_id\n",
    "\n",
    "dim_races = silver_races_df.select(\n",
    "    \"raceId\",\"year\",\"round\", \"name\", \"date\",).dropDuplicates()\n",
    "\n",
    "# Adicionar chave substituta (surrogate keys)\n",
    "dim_races = dim_races.withColumn(\"sk_races\", monotonically_increasing_id()+1)\n",
    "\n",
    "(dim_races.write\n",
    "    .format(\"delta\")\n",
    "    .mode(\"overwrite\")  # Ou \"append\" para cargas incrementais\n",
    "    .option(\"overwriteSchema\", \"true\")  # Permite evolução do schema\n",
    "    .option(\"delta.enableChangeDataFeed\", \"true\")  # Habilita Change Data Feed\n",
    "    .saveAsTable(\"gold.dim_races\"))"
   ]
  },
  {
   "cell_type": "code",
   "execution_count": 0,
   "metadata": {
    "application/vnd.databricks.v1+cell": {
     "cellMetadata": {
      "byteLimit": 2048000,
      "rowLimit": 10000
     },
     "inputWidgets": {},
     "nuid": "fa485a64-4fa8-45c8-9451-dfa6981974f2",
     "showTitle": false,
     "tableResultSettingsMap": {},
     "title": ""
    }
   },
   "outputs": [],
   "source": [
    "from pyspark.sql.functions import broadcast,year, month\n",
    "\n",
    "fato_results = (silver_results_df.alias(\"s\")\n",
    "    .join(\n",
    "        broadcast(dim_drivers.select(\"driverId\", \"sk_driver\").alias(\"ddriver\")),\n",
    "        \"driverId\"\n",
    "    )\n",
    "    .join(\n",
    "        broadcast(dim_races.select(\"raceId\", \"sk_races\").alias(\"drace\")),\n",
    "        \"raceId\"\n",
    "    )\n",
    "    .select(\n",
    "        \"sk_races\",\n",
    "        \"sk_driver\",\n",
    "        col(\"s.grid\"),\n",
    "        col(\"s.positionText\"),\n",
    "        col(\"s.positionOrder\"),\n",
    "        col(\"s.points\"),\n",
    "        col(\"s.laps\"),\n",
    "        col(\"s.time\"),\n",
    "        col(\"s.milliseconds\"), \n",
    "        col(\"s.fastestLap\"),  \n",
    "        col(\"s.rank\"),\n",
    "        col(\"s.fastestLapTime\"),\n",
    "        col(\"s.fastestLapSpeed\")  \n",
    "    )\n",
    ")\n",
    "(fato_results.write\n",
    "    .format(\"delta\")\n",
    "    .mode(\"overwrite\")  # Ou \"append\" para cargas incrementais\n",
    "    .option(\"overwriteSchema\", \"true\")  # Permite evolução do schema\n",
    "    .option(\"delta.enableChangeDataFeed\", \"true\")  # Habilita Change Data Feed\n",
    "    .saveAsTable(\"gold.fato_results\"))"
   ]
  },
  {
   "cell_type": "code",
   "execution_count": 0,
   "metadata": {
    "application/vnd.databricks.v1+cell": {
     "cellMetadata": {
      "byteLimit": 2048000,
      "implicitDf": true,
      "rowLimit": 10000
     },
     "inputWidgets": {},
     "nuid": "76a5933a-6240-447a-8218-1d96e4eced1e",
     "showTitle": false,
     "tableResultSettingsMap": {},
     "title": ""
    }
   },
   "outputs": [
    {
     "output_type": "stream",
     "name": "stdout",
     "output_type": "stream",
     "text": [
      "DataFrame[total_drivers_na_fato: bigint, drivers_com_match: bigint, drivers_orfaos: bigint, percentual_orfaos: decimal(27,2)]"
     ]
    }
   ],
   "source": [
    "%python\n",
    "df = spark.sql(\"\"\"\n",
    "    SELECT \n",
    "        COUNT(DISTINCT fr.sk_driver) AS total_drivers_na_fato,\n",
    "        COUNT(DISTINCT dd.sk_driver) AS drivers_com_match,\n",
    "        COUNT(DISTINCT CASE WHEN dd.sk_driver IS NULL THEN fr.sk_driver END) AS drivers_orfaos,\n",
    "        ROUND(100.0 * COUNT(DISTINCT CASE WHEN dd.sk_driver IS NULL THEN fr.sk_driver END) / \n",
    "              NULLIF(COUNT(DISTINCT fr.sk_driver), 0), 2) AS percentual_orfaos\n",
    "    FROM gold.fato_results fr\n",
    "    LEFT JOIN gold.dim_drivers dd ON fr.sk_driver = dd.sk_driver\n",
    "\"\"\")\n",
    "display(df)"
   ]
  },
  {
   "cell_type": "code",
   "execution_count": 0,
   "metadata": {
    "application/vnd.databricks.v1+cell": {
     "cellMetadata": {
      "byteLimit": 2048000,
      "implicitDf": true,
      "rowLimit": 10000
     },
     "inputWidgets": {},
     "nuid": "82ded6f1-32ee-437f-86fc-c0dc79674bdf",
     "showTitle": false,
     "tableResultSettingsMap": {},
     "title": ""
    }
   },
   "outputs": [
    {
     "output_type": "stream",
     "name": "stdout",
     "output_type": "stream",
     "text": [
      "DataFrame[voltaRapida: string, grandPrix: string, piloto: string]"
     ]
    }
   ],
   "source": [
    "%sql \n",
    "SELECT \n",
    "    t1.fastestLapTime as voltaRapida,\n",
    "    t3.name as grandPrix,\n",
    "    t2.name as piloto\n",
    "FROM gold.fato_results AS t1\n",
    "INNER JOIN gold.dim_drivers AS t2 ON t1.sk_driver = t2.sk_driver\n",
    "INNER JOIN gold.dim_races AS t3 ON t1.sk_races = t3.sk_races\n",
    "WHERE t3.year = 2024\n",
    "AND t1.fastestLapTime = (\n",
    "    SELECT MIN(t1_sub.fastestLapTime)\n",
    "    FROM gold.fato_results AS t1_sub\n",
    "    WHERE t1_sub.sk_races = t1.sk_races\n",
    ")\n",
    "ORDER BY t3.name"
   ]
  },
  {
   "cell_type": "code",
   "execution_count": 0,
   "metadata": {
    "application/vnd.databricks.v1+cell": {
     "cellMetadata": {
      "byteLimit": 2048000,
      "implicitDf": true,
      "rowLimit": 10000
     },
     "inputWidgets": {},
     "nuid": "f6e8dad8-c90d-4d83-b712-aef56d8c1e86",
     "showTitle": false,
     "tableResultSettingsMap": {},
     "title": ""
    }
   },
   "outputs": [
    {
     "output_type": "stream",
     "name": "stdout",
     "output_type": "stream",
     "text": [
      "DataFrame[voltaRapida: string, grandPrix: string, piloto: string, ano: bigint]"
     ]
    }
   ],
   "source": [
    "%sql \n",
    "SELECT \n",
    "    t1.fastestLapTime AS voltaRapida,\n",
    "    t3.name AS grandPrix,\n",
    "    t2.name AS piloto,\n",
    "    t3.year AS ano\n",
    "FROM gold.fato_results AS t1\n",
    "INNER JOIN gold.dim_drivers AS t2 ON t1.sk_driver = t2.sk_driver\n",
    "INNER JOIN gold.dim_races AS t3 ON t1.sk_races = t3.sk_races\n",
    "WHERE t3.year> 2000\n",
    " AND t1.fastestLapTime = (\n",
    "    SELECT MIN(t1_sub.fastestLapTime)\n",
    "    FROM gold.fato_results AS t1_sub\n",
    "    INNER JOIN gold.dim_races AS t3_sub ON t1_sub.sk_races = t3_sub.sk_races\n",
    "    WHERE t3_sub.name = t3.name  -- Compara o mesmo circuito\n",
    ")\n",
    "ORDER BY t3.year ASC"
   ]
  },
  {
   "cell_type": "code",
   "execution_count": 0,
   "metadata": {
    "application/vnd.databricks.v1+cell": {
     "cellMetadata": {
      "byteLimit": 2048000,
      "implicitDf": true,
      "rowLimit": 10000
     },
     "inputWidgets": {},
     "nuid": "e32701c2-f284-41de-a38c-6fa24ec670ad",
     "showTitle": false,
     "tableResultSettingsMap": {},
     "title": ""
    }
   },
   "outputs": [
    {
     "output_type": "stream",
     "name": "stdout",
     "output_type": "stream",
     "text": [
      "DataFrame[positionOrder: bigint, grandPrix: string, piloto: string]"
     ]
    }
   ],
   "source": [
    "%sql \n",
    "SELECT \n",
    "    t1.positionOrder,\n",
    "    t3.name as grandPrix,\n",
    "    t2.name as piloto\n",
    "FROM gold.fato_results AS t1\n",
    "INNER JOIN gold.dim_drivers AS t2 ON t1.sk_driver = t2.sk_driver\n",
    "INNER JOIN gold.dim_races AS t3 ON t1.sk_races = t3.sk_races\n",
    "WHERE t3.year = 2024\n",
    "AND t1.positionOrder = 1\n"
   ]
  },
  {
   "cell_type": "code",
   "execution_count": 0,
   "metadata": {
    "application/vnd.databricks.v1+cell": {
     "cellMetadata": {
      "byteLimit": 2048000,
      "implicitDf": true,
      "rowLimit": 10000
     },
     "inputWidgets": {},
     "nuid": "91753484-32a7-407b-a06f-b30c0409a56e",
     "showTitle": false,
     "tableResultSettingsMap": {},
     "title": ""
    }
   },
   "outputs": [
    {
     "output_type": "display_data",
     "data": {
      "text/plain": [
       ""
      ]
     },
     "metadata": {
      "application/vnd.databricks.v1+output": {
       "arguments": {},
       "data": "",
       "errorSummary": "Command skipped",
       "errorTraceType": "ansi",
       "metadata": {},
       "type": "ipynbError"
      }
     },
     "output_type": "display_data"
    }
   ],
   "source": [
    "%sql \n",
    "SELECT \n",
    "    count(t1.positionOrder),\n",
    "    t2.name as piloto\n",
    "FROM gold.fato_results AS t1\n",
    "INNER JOIN gold.dim_drivers AS t2 ON t1.sk_driver = t2.sk_driver\n",
    "INNER JOIN gold.dim_races AS t3 ON t1.sk_races = t3.sk_races\n",
    "WHERE t3.year = 2024\n",
    "AND t1.positionOrder = 1\n",
    "GROUP BY t2.name\n",
    "order by count(t1.positionOrder) desc\n"
   ]
  },
  {
   "cell_type": "code",
   "execution_count": 0,
   "metadata": {
    "application/vnd.databricks.v1+cell": {
     "cellMetadata": {
      "byteLimit": 2048000,
      "implicitDf": true,
      "rowLimit": 10000
     },
     "inputWidgets": {},
     "nuid": "6faf773d-2d4a-4f36-bb54-9bf865f1a533",
     "showTitle": false,
     "tableResultSettingsMap": {},
     "title": ""
    }
   },
   "outputs": [
    {
     "output_type": "display_data",
     "data": {
      "text/plain": [
       ""
      ]
     },
     "metadata": {
      "application/vnd.databricks.v1+output": {
       "arguments": {},
       "data": "",
       "errorSummary": "Command skipped",
       "errorTraceType": "ansi",
       "metadata": {},
       "type": "ipynbError"
      }
     },
     "output_type": "display_data"
    }
   ],
   "source": [
    "%sql \n",
    "SELECT \n",
    "    count(t1.positionOrder),\n",
    "    t2.name as piloto\n",
    "FROM gold.fato_results AS t1\n",
    "INNER JOIN gold.dim_drivers AS t2 ON t1.sk_driver = t2.sk_driver\n",
    "INNER JOIN gold.dim_races AS t3 ON t1.sk_races = t3.sk_races\n",
    "WHERE t2.name = \"Ayrton Senna\"\n",
    "AND t1.positionOrder = 1\n",
    "GROUP BY t2.name\n",
    "order by count(t1.positionOrder) desc\n"
   ]
  },
  {
   "cell_type": "code",
   "execution_count": 0,
   "metadata": {
    "application/vnd.databricks.v1+cell": {
     "cellMetadata": {
      "byteLimit": 2048000,
      "implicitDf": true,
      "rowLimit": 10000
     },
     "inputWidgets": {},
     "nuid": "b46c95a3-25df-48d2-9177-4b5c2dbe3bef",
     "showTitle": false,
     "tableResultSettingsMap": {},
     "title": ""
    }
   },
   "outputs": [
    {
     "output_type": "display_data",
     "data": {
      "text/plain": [
       ""
      ]
     },
     "metadata": {
      "application/vnd.databricks.v1+output": {
       "arguments": {},
       "data": "",
       "errorSummary": "Command skipped",
       "errorTraceType": "ansi",
       "metadata": {},
       "type": "ipynbError"
      }
     },
     "output_type": "display_data"
    }
   ],
   "source": [
    "%sql \n",
    "SELECT \n",
    "    count(t1.positionOrder),\n",
    "    t3.name as grandPrix,\n",
    "    t2.name as piloto\n",
    "FROM gold.fato_results AS t1\n",
    "INNER JOIN gold.dim_drivers AS t2 ON t1.sk_driver = t2.sk_driver\n",
    "INNER JOIN gold.dim_races AS t3 ON t1.sk_races = t3.sk_races\n",
    "WHERE t2.name = \"Ayrton Senna\"\n",
    "AND t1.positionOrder = 1\n",
    "GROUP BY t2.name,\n",
    "t3.name\n",
    "order by count(t1.positionOrder) desc\n"
   ]
  },
  {
   "cell_type": "code",
   "execution_count": 0,
   "metadata": {
    "application/vnd.databricks.v1+cell": {
     "cellMetadata": {
      "byteLimit": 2048000,
      "implicitDf": true,
      "rowLimit": 10000
     },
     "inputWidgets": {},
     "nuid": "5522cc5b-fed7-4ba3-959d-858ed9aa5053",
     "showTitle": false,
     "tableResultSettingsMap": {},
     "title": ""
    }
   },
   "outputs": [
    {
     "output_type": "display_data",
     "data": {
      "text/plain": [
       ""
      ]
     },
     "metadata": {
      "application/vnd.databricks.v1+output": {
       "arguments": {},
       "data": "",
       "errorSummary": "Command skipped",
       "errorTraceType": "ansi",
       "metadata": {},
       "type": "ipynbError"
      }
     },
     "output_type": "display_data"
    }
   ],
   "source": [
    "%sql\n",
    "SELECT \n",
    "    t2.name AS piloto,\n",
    "    COUNT(CASE WHEN t1.positionOrder <= 3 THEN 1 END) * 100.0 / COUNT(*) AS porcentagem_podio,\n",
    "    COUNT(*) AS corridas_top5_grid\n",
    "FROM gold.fato_results t1\n",
    "JOIN gold.dim_drivers t2 ON t1.sk_driver = t2.sk_driver\n",
    "JOIN gold.dim_races t3 ON t1.sk_races = t3.sk_races\n",
    "WHERE t1.grid <= 5\n",
    "GROUP BY t2.name\n",
    "HAVING COUNT(*) >= 20  -- Mínimo de 20 corridas para ser relevante\n",
    "ORDER BY porcentagem_podio DESC\n",
    "LIMIT 10"
   ]
  },
  {
   "cell_type": "code",
   "execution_count": 0,
   "metadata": {
    "application/vnd.databricks.v1+cell": {
     "cellMetadata": {
      "byteLimit": 2048000,
      "implicitDf": true,
      "rowLimit": 10000
     },
     "inputWidgets": {},
     "nuid": "f547e70a-4352-4580-85fe-6d30d46bc56d",
     "showTitle": false,
     "tableResultSettingsMap": {},
     "title": ""
    }
   },
   "outputs": [
    {
     "output_type": "display_data",
     "data": {
      "text/plain": [
       ""
      ]
     },
     "metadata": {
      "application/vnd.databricks.v1+output": {
       "arguments": {},
       "data": "",
       "errorSummary": "Command skipped",
       "errorTraceType": "ansi",
       "metadata": {},
       "type": "ipynbError"
      }
     },
     "output_type": "display_data"
    }
   ],
   "source": [
    "%sql\n",
    "SELECT \n",
    "    t2.nationality AS nacionalidade,\n",
    "    COUNT(*) AS vitorias\n",
    "FROM gold.fato_results t1\n",
    "JOIN gold.dim_drivers t2 ON t1.sk_driver = t2.sk_driver\n",
    "JOIN gold.dim_races t3 ON t1.sk_races = t3.sk_races\n",
    "WHERE t1.positionOrder = 1\n",
    "GROUP BY nacionalidade\n",
    "ORDER BY vitorias DESC\n",
    "limit 10"
   ]
  },
  {
   "cell_type": "code",
   "execution_count": 0,
   "metadata": {
    "application/vnd.databricks.v1+cell": {
     "cellMetadata": {
      "byteLimit": 2048000,
      "implicitDf": true,
      "rowLimit": 10000
     },
     "inputWidgets": {},
     "nuid": "4a256124-9dff-4297-aa6c-c45124e795be",
     "showTitle": false,
     "tableResultSettingsMap": {},
     "title": ""
    }
   },
   "outputs": [
    {
     "output_type": "display_data",
     "data": {
      "text/plain": [
       ""
      ]
     },
     "metadata": {
      "application/vnd.databricks.v1+output": {
       "arguments": {},
       "data": "",
       "errorSummary": "Command skipped",
       "errorTraceType": "ansi",
       "metadata": {},
       "type": "ipynbError"
      }
     },
     "output_type": "display_data"
    }
   ],
   "source": [
    "%sql\n",
    "SELECT \n",
    "    t2.name AS brazuca,\n",
    "    COUNT(*) AS vitorias\n",
    "FROM gold.fato_results t1\n",
    "JOIN gold.dim_drivers t2 ON t1.sk_driver = t2.sk_driver\n",
    "JOIN gold.dim_races t3 ON t1.sk_races = t3.sk_races\n",
    "WHERE t1.positionOrder = 1\n",
    "and t2.nationality = \"Brazilian\"\n",
    "GROUP BY brazuca\n",
    "ORDER BY vitorias DESC"
   ]
  },
  {
   "cell_type": "code",
   "execution_count": 0,
   "metadata": {
    "application/vnd.databricks.v1+cell": {
     "cellMetadata": {
      "byteLimit": 2048000,
      "implicitDf": true,
      "rowLimit": 10000
     },
     "inputWidgets": {},
     "nuid": "aeea7e3b-eebe-4c4f-8534-0936569ae16e",
     "showTitle": false,
     "tableResultSettingsMap": {},
     "title": ""
    }
   },
   "outputs": [
    {
     "output_type": "display_data",
     "data": {
      "text/plain": [
       ""
      ]
     },
     "metadata": {
      "application/vnd.databricks.v1+output": {
       "arguments": {},
       "data": "",
       "errorSummary": "Command skipped",
       "errorTraceType": "ansi",
       "metadata": {},
       "type": "ipynbError"
      }
     },
     "output_type": "display_data"
    }
   ],
   "source": [
    "%sql\n",
    "SELECT \n",
    "    t2.name,\n",
    "    COUNT(*) AS vitorias\n",
    "FROM gold.fato_results t1\n",
    "JOIN gold.dim_drivers t2 ON t1.sk_driver = t2.sk_driver\n",
    "JOIN gold.dim_races t3 ON t1.sk_races = t3.sk_races\n",
    "WHERE t1.positionOrder = 1\n",
    "GROUP BY t2.name\n",
    "ORDER BY vitorias DESC\n",
    "limit 10"
   ]
  },
  {
   "cell_type": "code",
   "execution_count": 0,
   "metadata": {
    "application/vnd.databricks.v1+cell": {
     "cellMetadata": {
      "byteLimit": 2048000,
      "implicitDf": true,
      "rowLimit": 10000
     },
     "inputWidgets": {},
     "nuid": "3d745842-efce-49ee-b1a9-a9db1bb84e65",
     "showTitle": false,
     "tableResultSettingsMap": {},
     "title": ""
    }
   },
   "outputs": [
    {
     "output_type": "display_data",
     "data": {
      "text/plain": [
       ""
      ]
     },
     "metadata": {
      "application/vnd.databricks.v1+output": {
       "arguments": {},
       "data": "",
       "errorSummary": "Command skipped",
       "errorTraceType": "ansi",
       "metadata": {},
       "type": "ipynbError"
      }
     },
     "output_type": "display_data"
    }
   ],
   "source": [
    "%sql\n",
    "SELECT \n",
    "    t2.name AS piloto,\n",
    "    AVG(t1.grid - t1.positionOrder) AS media_ultrapassagem,\n",
    "    COUNT(*) AS corridas,\n",
    "    MAX(t1.grid - t1.positionOrder) AS maior_ganho_unico\n",
    "FROM gold.fato_results t1\n",
    "JOIN gold.dim_drivers t2 ON t1.sk_driver = t2.sk_driver\n",
    "WHERE t1.positionOrder > 0  -- Exclui DNFs\n",
    "GROUP BY t2.name\n",
    "HAVING COUNT(*) >= 50\n",
    "ORDER BY  media_ultrapassagem DESC\n",
    "LIMIT 10"
   ]
  },
  {
   "cell_type": "code",
   "execution_count": 0,
   "metadata": {
    "application/vnd.databricks.v1+cell": {
     "cellMetadata": {
      "byteLimit": 2048000,
      "implicitDf": true,
      "rowLimit": 10000
     },
     "inputWidgets": {},
     "nuid": "e091e5a8-0d2e-493b-b9d4-6acd54677b64",
     "showTitle": false,
     "tableResultSettingsMap": {},
     "title": ""
    }
   },
   "outputs": [
    {
     "output_type": "display_data",
     "data": {
      "text/plain": [
       ""
      ]
     },
     "metadata": {
      "application/vnd.databricks.v1+output": {
       "arguments": {},
       "data": "",
       "errorSummary": "Command skipped",
       "errorTraceType": "ansi",
       "metadata": {},
       "type": "ipynbError"
      }
     },
     "output_type": "display_data"
    }
   ],
   "source": [
    "%sql\n",
    "SELECT \n",
    "    t1.name AS piloto,\n",
    "    MIN(t2.year) AS primeiro_ano,\n",
    "    MAX(t2.year) AS ultimo_ano,\n",
    "    MAX(t2.year) - MIN(t2.year) AS anos_de_carreira\n",
    "FROM gold.dim_drivers t1\n",
    "JOIN gold.fato_results f ON t1.sk_driver = f.sk_driver\n",
    "JOIN gold.dim_races t2 ON f.sk_races = t2.sk_races\n",
    "GROUP BY t1.name\n",
    "ORDER BY anos_de_carreira DESC\n",
    "LIMIT 10"
   ]
  },
  {
   "cell_type": "code",
   "execution_count": 0,
   "metadata": {
    "application/vnd.databricks.v1+cell": {
     "cellMetadata": {
      "byteLimit": 2048000,
      "implicitDf": true,
      "rowLimit": 10000
     },
     "inputWidgets": {},
     "nuid": "56acb3bc-6d4b-474d-879e-a69ae564eeef",
     "showTitle": false,
     "tableResultSettingsMap": {},
     "title": ""
    }
   },
   "outputs": [
    {
     "output_type": "display_data",
     "data": {
      "text/plain": [
       ""
      ]
     },
     "metadata": {
      "application/vnd.databricks.v1+output": {
       "arguments": {},
       "data": "",
       "errorSummary": "Command skipped",
       "errorTraceType": "ansi",
       "metadata": {},
       "type": "ipynbError"
      }
     },
     "output_type": "display_data"
    }
   ],
   "source": [
    "%sql\n",
    "SELECT \n",
    "    t2.nationality AS nacionalidade,\n",
    "    ROUND(AVG(t1.fastestLapSpeed), 2) AS velocidade_media_kmh,\n",
    "    COUNT(DISTINCT t2.name) AS pilotos\n",
    "FROM gold.fato_results t1\n",
    "JOIN gold.dim_drivers t2 ON t1.sk_driver = t2.sk_driver\n",
    "GROUP BY t2.nationality\n",
    "HAVING COUNT(*) >= 30\n",
    "ORDER BY velocidade_media_kmh DESC"
   ]
  },
  {
   "cell_type": "code",
   "execution_count": 0,
   "metadata": {
    "application/vnd.databricks.v1+cell": {
     "cellMetadata": {
      "byteLimit": 2048000,
      "implicitDf": true,
      "rowLimit": 10000
     },
     "inputWidgets": {},
     "nuid": "0aa2b566-21c9-4aad-96a4-42aac1e2b033",
     "showTitle": false,
     "tableResultSettingsMap": {},
     "title": ""
    }
   },
   "outputs": [
    {
     "output_type": "display_data",
     "data": {
      "text/plain": [
       ""
      ]
     },
     "metadata": {
      "application/vnd.databricks.v1+output": {
       "arguments": {},
       "data": "",
       "errorSummary": "Command skipped",
       "errorTraceType": "ansi",
       "metadata": {},
       "type": "ipynbError"
      }
     },
     "output_type": "display_data"
    }
   ],
   "source": [
    "%sql\n",
    "SELECT \n",
    "    t3.year,\n",
    "    t3.name AS circuito,\n",
    "    t2.name AS piloto,\n",
    "    t1.grid AS posicao_largada,\n",
    "    t1.positionOrder AS posicao_chegada,\n",
    "    t1.grid - t1.positionOrder AS posicoes_ganhas,\n",
    "    t1.time AS tempo_total\n",
    "FROM gold.fato_results t1\n",
    "JOIN gold.dim_drivers t2 ON t1.sk_driver = t2.sk_driver\n",
    "JOIN gold.dim_races t3 ON t1.sk_races = t3.sk_races\n",
    "WHERE t1.positionOrder = 1  \n",
    "AND t1.grid >= 15\n",
    "ORDER BY posicoes_ganhas DESC\n",
    "LIMIT 20"
   ]
  }
 ],
 "metadata": {
  "application/vnd.databricks.v1+notebook": {
   "computePreferences": null,
   "dashboards": [],
   "environmentMetadata": {
    "base_environment": "",
    "environment_version": "1"
   },
   "inputWidgetPreferences": null,
   "language": "python",
   "notebookMetadata": {
    "mostRecentlyExecutedCommandWithImplicitDF": {
     "commandId": 418558465519796,
     "dataframes": [
      "_sqldf"
     ]
    },
    "pythonIndentUnit": 4
   },
   "notebookName": "MVP_Engenharia de Dados",
   "widgets": {}
  }
 },
 "nbformat": 4,
 "nbformat_minor": 0
}